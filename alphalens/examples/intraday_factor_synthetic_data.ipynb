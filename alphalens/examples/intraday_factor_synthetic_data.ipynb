{
 "cells": [
  {
   "cell_type": "markdown",
   "metadata": {},
   "source": [
    "# Synthetic data examples"
   ]
  },
  {
   "cell_type": "markdown",
   "metadata": {},
   "source": [
    "In this Notebook we will build synthetic data suitable to Alphalens analysis. This is useful to understand how Alphalens expects the input to be formatted and also it is a good testing environment to experiment with Alphalens."
   ]
  },
  {
   "cell_type": "code",
   "execution_count": 1,
   "metadata": {
    "ExecuteTime": {
     "end_time": "2020-07-24T00:03:57.932063Z",
     "start_time": "2020-07-24T00:03:56.701071Z"
    }
   },
   "outputs": [
    {
     "output_type": "display_data",
     "data": {
      "text/html": "        <script type=\"text/javascript\">\n        window.PlotlyConfig = {MathJaxConfig: 'local'};\n        if (window.MathJax) {MathJax.Hub.Config({SVG: {font: \"STIX-Web\"}});}\n        if (typeof require !== 'undefined') {\n        require.undef(\"plotly\");\n        requirejs.config({\n            paths: {\n                'plotly': ['https://cdn.plot.ly/plotly-latest.min']\n            }\n        });\n        require(['plotly'], function(Plotly) {\n            window._Plotly = Plotly;\n        });\n        }\n        </script>\n        "
     },
     "metadata": {}
    }
   ],
   "source": [
    "import matplotlib.pyplot as plt\n",
    "import pandas as pd\n",
    "from numpy import nan\n",
    "from pandas import (DataFrame, date_range)\n",
    "\n",
    "from alphalens.tears import (create_returns_tear_sheet,\n",
    "                      create_information_tear_sheet,\n",
    "                      create_turnover_tear_sheet,\n",
    "                      create_summary_tear_sheet,\n",
    "                      create_full_tear_sheet,\n",
    "                      create_event_returns_tear_sheet,\n",
    "                      create_event_study_tear_sheet)\n",
    "\n",
    "from alphalens.utils import get_clean_factor_and_forward_returns"
   ]
  },
  {
   "cell_type": "code",
   "execution_count": 2,
   "metadata": {
    "ExecuteTime": {
     "end_time": "2020-07-24T00:03:57.948037Z",
     "start_time": "2020-07-24T00:03:57.933067Z"
    }
   },
   "outputs": [],
   "source": [
    "import alphalens as al"
   ]
  },
  {
   "cell_type": "code",
   "execution_count": 3,
   "metadata": {
    "ExecuteTime": {
     "end_time": "2020-07-24T00:03:57.964083Z",
     "start_time": "2020-07-24T00:03:57.950038Z"
    }
   },
   "outputs": [],
   "source": [
    "#\n",
    "# build price\n",
    "#\n",
    "price_index = date_range(start='2015-1-10', end='2015-2-28')\n",
    "price_index.name = 'date'\n",
    "tickers = ['A', 'B', 'C', 'D', 'E', 'F']\n",
    "data = [[1.0025**i, 1.005**i, 1.00**i, 0.995**i, 1.005**i, 1.00**i]\n",
    "        for i in range(1, 51)]\n",
    "base_prices = DataFrame(index=price_index, columns=tickers, data=data)\n",
    "\n",
    "#\n",
    "# build factor\n",
    "#\n",
    "factor_index = date_range(start='2015-1-15', end='2015-2-13')\n",
    "factor_index.name = 'date'\n",
    "factor = DataFrame(index=factor_index, columns=tickers,\n",
    "                   data=[[3, 4, 2, 1, nan, nan], [3, nan, nan, 1, 4, 2],\n",
    "                         [3, 4, 2, 1, nan, nan], [3, 4, 2, 1, nan, nan],\n",
    "                         [3, 4, 2, 1, nan, nan], [3, 4, 2, 1, nan, nan],\n",
    "                         [3, nan, nan, 1, 4, 2], [3, nan, nan, 1, 4, 2],\n",
    "                         [3, 4, 2, 1, nan, nan], [3, 4, 2, 1, nan, nan],\n",
    "                         [3, nan, nan, 1, 4, 2], [3, nan, nan, 1, 4, 2],\n",
    "                         [3, nan, nan, 1, 4, 2], [3, nan, nan, 1, 4, 2],\n",
    "                         [3, nan, nan, 1, 4, 2], [3, nan, nan, 1, 4, 2],\n",
    "                         [3, nan, nan, 1, 4, 2], [3, nan, nan, 1, 4, 2],\n",
    "                         [3, nan, nan, 1, 4, 2], [3, nan, nan, 1, 4, 2],\n",
    "                         [3, 4, 2, 1, nan, nan], [3, 4, 2, 1, nan, nan],\n",
    "                         [3, 4, 2, 1, nan, nan], [3, 4, 2, 1, nan, nan],\n",
    "                         [3, 4, 2, 1, nan, nan], [3, 4, 2, 1, nan, nan],\n",
    "                         [3, 4, 2, 1, nan, nan], [3, 4, 2, 1, nan, nan],\n",
    "                         [3, nan, nan, 1, 4, 2], [3, nan, nan, 1, 4, 2]])\n",
    "factor_groups = {'A': 'Group1', 'B': 'Group2', 'C': 'Group1', 'D': 'Group2', 'E': 'Group1', 'F': 'Group2'}"
   ]
  },
  {
   "cell_type": "code",
   "execution_count": 4,
   "metadata": {
    "ExecuteTime": {
     "end_time": "2020-07-24T00:03:58.185037Z",
     "start_time": "2020-07-24T00:03:57.965037Z"
    }
   },
   "outputs": [
    {
     "output_type": "display_data",
     "data": {
      "text/plain": "<Figure size 432x288 with 1 Axes>",
      "image/svg+xml": "<?xml version=\"1.0\" encoding=\"utf-8\" standalone=\"no\"?>\r\n<!DOCTYPE svg PUBLIC \"-//W3C//DTD SVG 1.1//EN\"\r\n  \"http://www.w3.org/Graphics/SVG/1.1/DTD/svg11.dtd\">\r\n<!-- Created with matplotlib (https://matplotlib.org/) -->\r\n<svg height=\"296.272336pt\" version=\"1.1\" viewBox=\"0 0 372.103125 296.272336\" width=\"372.103125pt\" xmlns=\"http://www.w3.org/2000/svg\" xmlns:xlink=\"http://www.w3.org/1999/xlink\">\r\n <metadata>\r\n  <rdf:RDF xmlns:cc=\"http://creativecommons.org/ns#\" xmlns:dc=\"http://purl.org/dc/elements/1.1/\" xmlns:rdf=\"http://www.w3.org/1999/02/22-rdf-syntax-ns#\">\r\n   <cc:Work>\r\n    <dc:type rdf:resource=\"http://purl.org/dc/dcmitype/StillImage\"/>\r\n    <dc:date>2020-07-25T09:49:15.080341</dc:date>\r\n    <dc:format>image/svg+xml</dc:format>\r\n    <dc:creator>\r\n     <cc:Agent>\r\n      <dc:title>Matplotlib v3.3.0, https://matplotlib.org/</dc:title>\r\n     </cc:Agent>\r\n    </dc:creator>\r\n   </cc:Work>\r\n  </rdf:RDF>\r\n </metadata>\r\n <defs>\r\n  <style type=\"text/css\">*{stroke-linecap:butt;stroke-linejoin:round;}</style>\r\n </defs>\r\n <g id=\"figure_1\">\r\n  <g id=\"patch_1\">\r\n   <path d=\"M 0 296.272336 \r\nL 372.103125 296.272336 \r\nL 372.103125 0 \r\nL 0 0 \r\nz\r\n\" style=\"fill:none;\"/>\r\n  </g>\r\n  <g id=\"axes_1\">\r\n   <g id=\"patch_2\">\r\n    <path d=\"M 30.103125 225.122649 \r\nL 364.903125 225.122649 \r\nL 364.903125 7.682649 \r\nL 30.103125 7.682649 \r\nz\r\n\" style=\"fill:#ffffff;\"/>\r\n   </g>\r\n   <g id=\"matplotlib.axis_1\">\r\n    <g id=\"xtick_1\">\r\n     <g id=\"line2d_1\">\r\n      <defs>\r\n       <path d=\"M 0 0 \r\nL 0 3.5 \r\n\" id=\"mb9e6959a24\" style=\"stroke:#000000;stroke-width:0.8;\"/>\r\n      </defs>\r\n      <g>\r\n       <use style=\"stroke:#000000;stroke-width:0.8;\" x=\"30.103125\" xlink:href=\"#mb9e6959a24\" y=\"225.122649\"/>\r\n      </g>\r\n     </g>\r\n    </g>\r\n    <g id=\"xtick_2\">\r\n     <g id=\"line2d_2\">\r\n      <g>\r\n       <use style=\"stroke:#000000;stroke-width:0.8;\" x=\"180.421492\" xlink:href=\"#mb9e6959a24\" y=\"225.122649\"/>\r\n      </g>\r\n     </g>\r\n     <g id=\"text_1\">\r\n      <!--  -->\r\n      <g transform=\"translate(180.421492 239.721086)scale(0.1 -0.1)\"/>\r\n      <!--  -->\r\n      <g transform=\"translate(180.421492 250.918899)scale(0.1 -0.1)\"/>\r\n      <!-- Feb -->\r\n      <g transform=\"translate(171.56993 262.116711)scale(0.1 -0.1)\">\r\n       <defs>\r\n        <path d=\"M 9.8125 72.90625 \r\nL 51.703125 72.90625 \r\nL 51.703125 64.59375 \r\nL 19.671875 64.59375 \r\nL 19.671875 43.109375 \r\nL 48.578125 43.109375 \r\nL 48.578125 34.8125 \r\nL 19.671875 34.8125 \r\nL 19.671875 0 \r\nL 9.8125 0 \r\nz\r\n\" id=\"DejaVuSans-70\"/>\r\n        <path d=\"M 56.203125 29.59375 \r\nL 56.203125 25.203125 \r\nL 14.890625 25.203125 \r\nQ 15.484375 15.921875 20.484375 11.0625 \r\nQ 25.484375 6.203125 34.421875 6.203125 \r\nQ 39.59375 6.203125 44.453125 7.46875 \r\nQ 49.3125 8.734375 54.109375 11.28125 \r\nL 54.109375 2.78125 \r\nQ 49.265625 0.734375 44.1875 -0.34375 \r\nQ 39.109375 -1.421875 33.890625 -1.421875 \r\nQ 20.796875 -1.421875 13.15625 6.1875 \r\nQ 5.515625 13.8125 5.515625 26.8125 \r\nQ 5.515625 40.234375 12.765625 48.109375 \r\nQ 20.015625 56 32.328125 56 \r\nQ 43.359375 56 49.78125 48.890625 \r\nQ 56.203125 41.796875 56.203125 29.59375 \r\nz\r\nM 47.21875 32.234375 \r\nQ 47.125 39.59375 43.09375 43.984375 \r\nQ 39.0625 48.390625 32.421875 48.390625 \r\nQ 24.90625 48.390625 20.390625 44.140625 \r\nQ 15.875 39.890625 15.1875 32.171875 \r\nz\r\n\" id=\"DejaVuSans-101\"/>\r\n        <path d=\"M 48.6875 27.296875 \r\nQ 48.6875 37.203125 44.609375 42.84375 \r\nQ 40.53125 48.484375 33.40625 48.484375 \r\nQ 26.265625 48.484375 22.1875 42.84375 \r\nQ 18.109375 37.203125 18.109375 27.296875 \r\nQ 18.109375 17.390625 22.1875 11.75 \r\nQ 26.265625 6.109375 33.40625 6.109375 \r\nQ 40.53125 6.109375 44.609375 11.75 \r\nQ 48.6875 17.390625 48.6875 27.296875 \r\nz\r\nM 18.109375 46.390625 \r\nQ 20.953125 51.265625 25.265625 53.625 \r\nQ 29.59375 56 35.59375 56 \r\nQ 45.5625 56 51.78125 48.09375 \r\nQ 58.015625 40.1875 58.015625 27.296875 \r\nQ 58.015625 14.40625 51.78125 6.484375 \r\nQ 45.5625 -1.421875 35.59375 -1.421875 \r\nQ 29.59375 -1.421875 25.265625 0.953125 \r\nQ 20.953125 3.328125 18.109375 8.203125 \r\nL 18.109375 0 \r\nL 9.078125 0 \r\nL 9.078125 75.984375 \r\nL 18.109375 75.984375 \r\nz\r\n\" id=\"DejaVuSans-98\"/>\r\n       </defs>\r\n       <use xlink:href=\"#DejaVuSans-70\"/>\r\n       <use x=\"52.019531\" xlink:href=\"#DejaVuSans-101\"/>\r\n       <use x=\"113.542969\" xlink:href=\"#DejaVuSans-98\"/>\r\n      </g>\r\n      <!-- 2015 -->\r\n      <g transform=\"translate(167.696492 273.314524)scale(0.1 -0.1)\">\r\n       <defs>\r\n        <path d=\"M 19.1875 8.296875 \r\nL 53.609375 8.296875 \r\nL 53.609375 0 \r\nL 7.328125 0 \r\nL 7.328125 8.296875 \r\nQ 12.9375 14.109375 22.625 23.890625 \r\nQ 32.328125 33.6875 34.8125 36.53125 \r\nQ 39.546875 41.84375 41.421875 45.53125 \r\nQ 43.3125 49.21875 43.3125 52.78125 \r\nQ 43.3125 58.59375 39.234375 62.25 \r\nQ 35.15625 65.921875 28.609375 65.921875 \r\nQ 23.96875 65.921875 18.8125 64.3125 \r\nQ 13.671875 62.703125 7.8125 59.421875 \r\nL 7.8125 69.390625 \r\nQ 13.765625 71.78125 18.9375 73 \r\nQ 24.125 74.21875 28.421875 74.21875 \r\nQ 39.75 74.21875 46.484375 68.546875 \r\nQ 53.21875 62.890625 53.21875 53.421875 \r\nQ 53.21875 48.921875 51.53125 44.890625 \r\nQ 49.859375 40.875 45.40625 35.40625 \r\nQ 44.1875 33.984375 37.640625 27.21875 \r\nQ 31.109375 20.453125 19.1875 8.296875 \r\nz\r\n\" id=\"DejaVuSans-50\"/>\r\n        <path d=\"M 31.78125 66.40625 \r\nQ 24.171875 66.40625 20.328125 58.90625 \r\nQ 16.5 51.421875 16.5 36.375 \r\nQ 16.5 21.390625 20.328125 13.890625 \r\nQ 24.171875 6.390625 31.78125 6.390625 \r\nQ 39.453125 6.390625 43.28125 13.890625 \r\nQ 47.125 21.390625 47.125 36.375 \r\nQ 47.125 51.421875 43.28125 58.90625 \r\nQ 39.453125 66.40625 31.78125 66.40625 \r\nz\r\nM 31.78125 74.21875 \r\nQ 44.046875 74.21875 50.515625 64.515625 \r\nQ 56.984375 54.828125 56.984375 36.375 \r\nQ 56.984375 17.96875 50.515625 8.265625 \r\nQ 44.046875 -1.421875 31.78125 -1.421875 \r\nQ 19.53125 -1.421875 13.0625 8.265625 \r\nQ 6.59375 17.96875 6.59375 36.375 \r\nQ 6.59375 54.828125 13.0625 64.515625 \r\nQ 19.53125 74.21875 31.78125 74.21875 \r\nz\r\n\" id=\"DejaVuSans-48\"/>\r\n        <path d=\"M 12.40625 8.296875 \r\nL 28.515625 8.296875 \r\nL 28.515625 63.921875 \r\nL 10.984375 60.40625 \r\nL 10.984375 69.390625 \r\nL 28.421875 72.90625 \r\nL 38.28125 72.90625 \r\nL 38.28125 8.296875 \r\nL 54.390625 8.296875 \r\nL 54.390625 0 \r\nL 12.40625 0 \r\nz\r\n\" id=\"DejaVuSans-49\"/>\r\n        <path d=\"M 10.796875 72.90625 \r\nL 49.515625 72.90625 \r\nL 49.515625 64.59375 \r\nL 19.828125 64.59375 \r\nL 19.828125 46.734375 \r\nQ 21.96875 47.46875 24.109375 47.828125 \r\nQ 26.265625 48.1875 28.421875 48.1875 \r\nQ 40.625 48.1875 47.75 41.5 \r\nQ 54.890625 34.8125 54.890625 23.390625 \r\nQ 54.890625 11.625 47.5625 5.09375 \r\nQ 40.234375 -1.421875 26.90625 -1.421875 \r\nQ 22.3125 -1.421875 17.546875 -0.640625 \r\nQ 12.796875 0.140625 7.71875 1.703125 \r\nL 7.71875 11.625 \r\nQ 12.109375 9.234375 16.796875 8.0625 \r\nQ 21.484375 6.890625 26.703125 6.890625 \r\nQ 35.15625 6.890625 40.078125 11.328125 \r\nQ 45.015625 15.765625 45.015625 23.390625 \r\nQ 45.015625 31 40.078125 35.4375 \r\nQ 35.15625 39.890625 26.703125 39.890625 \r\nQ 22.75 39.890625 18.8125 39.015625 \r\nQ 14.890625 38.140625 10.796875 36.28125 \r\nz\r\n\" id=\"DejaVuSans-53\"/>\r\n       </defs>\r\n       <use xlink:href=\"#DejaVuSans-50\"/>\r\n       <use x=\"63.623047\" xlink:href=\"#DejaVuSans-48\"/>\r\n       <use x=\"127.246094\" xlink:href=\"#DejaVuSans-49\"/>\r\n       <use x=\"190.869141\" xlink:href=\"#DejaVuSans-53\"/>\r\n      </g>\r\n     </g>\r\n    </g>\r\n    <g id=\"xtick_3\">\r\n     <g id=\"line2d_3\">\r\n      <g>\r\n       <use style=\"stroke:#000000;stroke-width:0.8;\" x=\"364.903125\" xlink:href=\"#mb9e6959a24\" y=\"225.122649\"/>\r\n      </g>\r\n     </g>\r\n    </g>\r\n    <g id=\"xtick_4\">\r\n     <g id=\"line2d_4\">\r\n      <defs>\r\n       <path d=\"M 0 0 \r\nL 0 2 \r\n\" id=\"mf51d4c7f2f\" style=\"stroke:#000000;stroke-width:0.6;\"/>\r\n      </defs>\r\n      <g>\r\n       <use style=\"stroke:#000000;stroke-width:0.6;\" x=\"36.935778\" xlink:href=\"#mf51d4c7f2f\" y=\"225.122649\"/>\r\n      </g>\r\n     </g>\r\n    </g>\r\n    <g id=\"xtick_5\">\r\n     <g id=\"line2d_5\">\r\n      <g>\r\n       <use style=\"stroke:#000000;stroke-width:0.6;\" x=\"43.768431\" xlink:href=\"#mf51d4c7f2f\" y=\"225.122649\"/>\r\n      </g>\r\n     </g>\r\n     <g id=\"text_2\">\r\n      <!-- 12 -->\r\n      <g transform=\"translate(37.405931 238.121086)scale(0.1 -0.1)\">\r\n       <use xlink:href=\"#DejaVuSans-49\"/>\r\n       <use x=\"63.623047\" xlink:href=\"#DejaVuSans-50\"/>\r\n      </g>\r\n     </g>\r\n    </g>\r\n    <g id=\"xtick_6\">\r\n     <g id=\"line2d_6\">\r\n      <g>\r\n       <use style=\"stroke:#000000;stroke-width:0.6;\" x=\"50.601084\" xlink:href=\"#mf51d4c7f2f\" y=\"225.122649\"/>\r\n      </g>\r\n     </g>\r\n    </g>\r\n    <g id=\"xtick_7\">\r\n     <g id=\"line2d_7\">\r\n      <g>\r\n       <use style=\"stroke:#000000;stroke-width:0.6;\" x=\"57.433737\" xlink:href=\"#mf51d4c7f2f\" y=\"225.122649\"/>\r\n      </g>\r\n     </g>\r\n    </g>\r\n    <g id=\"xtick_8\">\r\n     <g id=\"line2d_8\">\r\n      <g>\r\n       <use style=\"stroke:#000000;stroke-width:0.6;\" x=\"64.26639\" xlink:href=\"#mf51d4c7f2f\" y=\"225.122649\"/>\r\n      </g>\r\n     </g>\r\n    </g>\r\n    <g id=\"xtick_9\">\r\n     <g id=\"line2d_9\">\r\n      <g>\r\n       <use style=\"stroke:#000000;stroke-width:0.6;\" x=\"71.099043\" xlink:href=\"#mf51d4c7f2f\" y=\"225.122649\"/>\r\n      </g>\r\n     </g>\r\n    </g>\r\n    <g id=\"xtick_10\">\r\n     <g id=\"line2d_10\">\r\n      <g>\r\n       <use style=\"stroke:#000000;stroke-width:0.6;\" x=\"77.931696\" xlink:href=\"#mf51d4c7f2f\" y=\"225.122649\"/>\r\n      </g>\r\n     </g>\r\n    </g>\r\n    <g id=\"xtick_11\">\r\n     <g id=\"line2d_11\">\r\n      <g>\r\n       <use style=\"stroke:#000000;stroke-width:0.6;\" x=\"84.764349\" xlink:href=\"#mf51d4c7f2f\" y=\"225.122649\"/>\r\n      </g>\r\n     </g>\r\n    </g>\r\n    <g id=\"xtick_12\">\r\n     <g id=\"line2d_12\">\r\n      <g>\r\n       <use style=\"stroke:#000000;stroke-width:0.6;\" x=\"91.597003\" xlink:href=\"#mf51d4c7f2f\" y=\"225.122649\"/>\r\n      </g>\r\n     </g>\r\n     <g id=\"text_3\">\r\n      <!-- 19 -->\r\n      <g transform=\"translate(85.234503 238.121086)scale(0.1 -0.1)\">\r\n       <defs>\r\n        <path d=\"M 10.984375 1.515625 \r\nL 10.984375 10.5 \r\nQ 14.703125 8.734375 18.5 7.8125 \r\nQ 22.3125 6.890625 25.984375 6.890625 \r\nQ 35.75 6.890625 40.890625 13.453125 \r\nQ 46.046875 20.015625 46.78125 33.40625 \r\nQ 43.953125 29.203125 39.59375 26.953125 \r\nQ 35.25 24.703125 29.984375 24.703125 \r\nQ 19.046875 24.703125 12.671875 31.3125 \r\nQ 6.296875 37.9375 6.296875 49.421875 \r\nQ 6.296875 60.640625 12.9375 67.421875 \r\nQ 19.578125 74.21875 30.609375 74.21875 \r\nQ 43.265625 74.21875 49.921875 64.515625 \r\nQ 56.59375 54.828125 56.59375 36.375 \r\nQ 56.59375 19.140625 48.40625 8.859375 \r\nQ 40.234375 -1.421875 26.421875 -1.421875 \r\nQ 22.703125 -1.421875 18.890625 -0.6875 \r\nQ 15.09375 0.046875 10.984375 1.515625 \r\nz\r\nM 30.609375 32.421875 \r\nQ 37.25 32.421875 41.125 36.953125 \r\nQ 45.015625 41.5 45.015625 49.421875 \r\nQ 45.015625 57.28125 41.125 61.84375 \r\nQ 37.25 66.40625 30.609375 66.40625 \r\nQ 23.96875 66.40625 20.09375 61.84375 \r\nQ 16.21875 57.28125 16.21875 49.421875 \r\nQ 16.21875 41.5 20.09375 36.953125 \r\nQ 23.96875 32.421875 30.609375 32.421875 \r\nz\r\n\" id=\"DejaVuSans-57\"/>\r\n       </defs>\r\n       <use xlink:href=\"#DejaVuSans-49\"/>\r\n       <use x=\"63.623047\" xlink:href=\"#DejaVuSans-57\"/>\r\n      </g>\r\n     </g>\r\n    </g>\r\n    <g id=\"xtick_13\">\r\n     <g id=\"line2d_13\">\r\n      <g>\r\n       <use style=\"stroke:#000000;stroke-width:0.6;\" x=\"98.429656\" xlink:href=\"#mf51d4c7f2f\" y=\"225.122649\"/>\r\n      </g>\r\n     </g>\r\n    </g>\r\n    <g id=\"xtick_14\">\r\n     <g id=\"line2d_14\">\r\n      <g>\r\n       <use style=\"stroke:#000000;stroke-width:0.6;\" x=\"105.262309\" xlink:href=\"#mf51d4c7f2f\" y=\"225.122649\"/>\r\n      </g>\r\n     </g>\r\n    </g>\r\n    <g id=\"xtick_15\">\r\n     <g id=\"line2d_15\">\r\n      <g>\r\n       <use style=\"stroke:#000000;stroke-width:0.6;\" x=\"112.094962\" xlink:href=\"#mf51d4c7f2f\" y=\"225.122649\"/>\r\n      </g>\r\n     </g>\r\n    </g>\r\n    <g id=\"xtick_16\">\r\n     <g id=\"line2d_16\">\r\n      <g>\r\n       <use style=\"stroke:#000000;stroke-width:0.6;\" x=\"118.927615\" xlink:href=\"#mf51d4c7f2f\" y=\"225.122649\"/>\r\n      </g>\r\n     </g>\r\n    </g>\r\n    <g id=\"xtick_17\">\r\n     <g id=\"line2d_17\">\r\n      <g>\r\n       <use style=\"stroke:#000000;stroke-width:0.6;\" x=\"125.760268\" xlink:href=\"#mf51d4c7f2f\" y=\"225.122649\"/>\r\n      </g>\r\n     </g>\r\n    </g>\r\n    <g id=\"xtick_18\">\r\n     <g id=\"line2d_18\">\r\n      <g>\r\n       <use style=\"stroke:#000000;stroke-width:0.6;\" x=\"132.592921\" xlink:href=\"#mf51d4c7f2f\" y=\"225.122649\"/>\r\n      </g>\r\n     </g>\r\n    </g>\r\n    <g id=\"xtick_19\">\r\n     <g id=\"line2d_19\">\r\n      <g>\r\n       <use style=\"stroke:#000000;stroke-width:0.6;\" x=\"139.425574\" xlink:href=\"#mf51d4c7f2f\" y=\"225.122649\"/>\r\n      </g>\r\n     </g>\r\n     <g id=\"text_4\">\r\n      <!-- 26 -->\r\n      <g transform=\"translate(133.063074 238.121086)scale(0.1 -0.1)\">\r\n       <defs>\r\n        <path d=\"M 33.015625 40.375 \r\nQ 26.375 40.375 22.484375 35.828125 \r\nQ 18.609375 31.296875 18.609375 23.390625 \r\nQ 18.609375 15.53125 22.484375 10.953125 \r\nQ 26.375 6.390625 33.015625 6.390625 \r\nQ 39.65625 6.390625 43.53125 10.953125 \r\nQ 47.40625 15.53125 47.40625 23.390625 \r\nQ 47.40625 31.296875 43.53125 35.828125 \r\nQ 39.65625 40.375 33.015625 40.375 \r\nz\r\nM 52.59375 71.296875 \r\nL 52.59375 62.3125 \r\nQ 48.875 64.0625 45.09375 64.984375 \r\nQ 41.3125 65.921875 37.59375 65.921875 \r\nQ 27.828125 65.921875 22.671875 59.328125 \r\nQ 17.53125 52.734375 16.796875 39.40625 \r\nQ 19.671875 43.65625 24.015625 45.921875 \r\nQ 28.375 48.1875 33.59375 48.1875 \r\nQ 44.578125 48.1875 50.953125 41.515625 \r\nQ 57.328125 34.859375 57.328125 23.390625 \r\nQ 57.328125 12.15625 50.6875 5.359375 \r\nQ 44.046875 -1.421875 33.015625 -1.421875 \r\nQ 20.359375 -1.421875 13.671875 8.265625 \r\nQ 6.984375 17.96875 6.984375 36.375 \r\nQ 6.984375 53.65625 15.1875 63.9375 \r\nQ 23.390625 74.21875 37.203125 74.21875 \r\nQ 40.921875 74.21875 44.703125 73.484375 \r\nQ 48.484375 72.75 52.59375 71.296875 \r\nz\r\n\" id=\"DejaVuSans-54\"/>\r\n       </defs>\r\n       <use xlink:href=\"#DejaVuSans-50\"/>\r\n       <use x=\"63.623047\" xlink:href=\"#DejaVuSans-54\"/>\r\n      </g>\r\n     </g>\r\n    </g>\r\n    <g id=\"xtick_20\">\r\n     <g id=\"line2d_20\">\r\n      <g>\r\n       <use style=\"stroke:#000000;stroke-width:0.6;\" x=\"146.258227\" xlink:href=\"#mf51d4c7f2f\" y=\"225.122649\"/>\r\n      </g>\r\n     </g>\r\n    </g>\r\n    <g id=\"xtick_21\">\r\n     <g id=\"line2d_21\">\r\n      <g>\r\n       <use style=\"stroke:#000000;stroke-width:0.6;\" x=\"153.09088\" xlink:href=\"#mf51d4c7f2f\" y=\"225.122649\"/>\r\n      </g>\r\n     </g>\r\n    </g>\r\n    <g id=\"xtick_22\">\r\n     <g id=\"line2d_22\">\r\n      <g>\r\n       <use style=\"stroke:#000000;stroke-width:0.6;\" x=\"159.923533\" xlink:href=\"#mf51d4c7f2f\" y=\"225.122649\"/>\r\n      </g>\r\n     </g>\r\n    </g>\r\n    <g id=\"xtick_23\">\r\n     <g id=\"line2d_23\">\r\n      <g>\r\n       <use style=\"stroke:#000000;stroke-width:0.6;\" x=\"166.756186\" xlink:href=\"#mf51d4c7f2f\" y=\"225.122649\"/>\r\n      </g>\r\n     </g>\r\n    </g>\r\n    <g id=\"xtick_24\">\r\n     <g id=\"line2d_24\">\r\n      <g>\r\n       <use style=\"stroke:#000000;stroke-width:0.6;\" x=\"173.588839\" xlink:href=\"#mf51d4c7f2f\" y=\"225.122649\"/>\r\n      </g>\r\n     </g>\r\n    </g>\r\n    <g id=\"xtick_25\">\r\n     <g id=\"line2d_25\">\r\n      <g>\r\n       <use style=\"stroke:#000000;stroke-width:0.6;\" x=\"187.254145\" xlink:href=\"#mf51d4c7f2f\" y=\"225.122649\"/>\r\n      </g>\r\n     </g>\r\n     <g id=\"text_5\">\r\n      <!-- 02 -->\r\n      <g transform=\"translate(180.891645 238.121086)scale(0.1 -0.1)\">\r\n       <use xlink:href=\"#DejaVuSans-48\"/>\r\n       <use x=\"63.623047\" xlink:href=\"#DejaVuSans-50\"/>\r\n      </g>\r\n     </g>\r\n    </g>\r\n    <g id=\"xtick_26\">\r\n     <g id=\"line2d_26\">\r\n      <g>\r\n       <use style=\"stroke:#000000;stroke-width:0.6;\" x=\"194.086798\" xlink:href=\"#mf51d4c7f2f\" y=\"225.122649\"/>\r\n      </g>\r\n     </g>\r\n    </g>\r\n    <g id=\"xtick_27\">\r\n     <g id=\"line2d_27\">\r\n      <g>\r\n       <use style=\"stroke:#000000;stroke-width:0.6;\" x=\"200.919452\" xlink:href=\"#mf51d4c7f2f\" y=\"225.122649\"/>\r\n      </g>\r\n     </g>\r\n    </g>\r\n    <g id=\"xtick_28\">\r\n     <g id=\"line2d_28\">\r\n      <g>\r\n       <use style=\"stroke:#000000;stroke-width:0.6;\" x=\"207.752105\" xlink:href=\"#mf51d4c7f2f\" y=\"225.122649\"/>\r\n      </g>\r\n     </g>\r\n    </g>\r\n    <g id=\"xtick_29\">\r\n     <g id=\"line2d_29\">\r\n      <g>\r\n       <use style=\"stroke:#000000;stroke-width:0.6;\" x=\"214.584758\" xlink:href=\"#mf51d4c7f2f\" y=\"225.122649\"/>\r\n      </g>\r\n     </g>\r\n    </g>\r\n    <g id=\"xtick_30\">\r\n     <g id=\"line2d_30\">\r\n      <g>\r\n       <use style=\"stroke:#000000;stroke-width:0.6;\" x=\"221.417411\" xlink:href=\"#mf51d4c7f2f\" y=\"225.122649\"/>\r\n      </g>\r\n     </g>\r\n    </g>\r\n    <g id=\"xtick_31\">\r\n     <g id=\"line2d_31\">\r\n      <g>\r\n       <use style=\"stroke:#000000;stroke-width:0.6;\" x=\"228.250064\" xlink:href=\"#mf51d4c7f2f\" y=\"225.122649\"/>\r\n      </g>\r\n     </g>\r\n    </g>\r\n    <g id=\"xtick_32\">\r\n     <g id=\"line2d_32\">\r\n      <g>\r\n       <use style=\"stroke:#000000;stroke-width:0.6;\" x=\"235.082717\" xlink:href=\"#mf51d4c7f2f\" y=\"225.122649\"/>\r\n      </g>\r\n     </g>\r\n     <g id=\"text_6\">\r\n      <!-- 09 -->\r\n      <g transform=\"translate(228.720217 238.121086)scale(0.1 -0.1)\">\r\n       <use xlink:href=\"#DejaVuSans-48\"/>\r\n       <use x=\"63.623047\" xlink:href=\"#DejaVuSans-57\"/>\r\n      </g>\r\n     </g>\r\n    </g>\r\n    <g id=\"xtick_33\">\r\n     <g id=\"line2d_33\">\r\n      <g>\r\n       <use style=\"stroke:#000000;stroke-width:0.6;\" x=\"241.91537\" xlink:href=\"#mf51d4c7f2f\" y=\"225.122649\"/>\r\n      </g>\r\n     </g>\r\n    </g>\r\n    <g id=\"xtick_34\">\r\n     <g id=\"line2d_34\">\r\n      <g>\r\n       <use style=\"stroke:#000000;stroke-width:0.6;\" x=\"248.748023\" xlink:href=\"#mf51d4c7f2f\" y=\"225.122649\"/>\r\n      </g>\r\n     </g>\r\n    </g>\r\n    <g id=\"xtick_35\">\r\n     <g id=\"line2d_35\">\r\n      <g>\r\n       <use style=\"stroke:#000000;stroke-width:0.6;\" x=\"255.580676\" xlink:href=\"#mf51d4c7f2f\" y=\"225.122649\"/>\r\n      </g>\r\n     </g>\r\n    </g>\r\n    <g id=\"xtick_36\">\r\n     <g id=\"line2d_36\">\r\n      <g>\r\n       <use style=\"stroke:#000000;stroke-width:0.6;\" x=\"262.413329\" xlink:href=\"#mf51d4c7f2f\" y=\"225.122649\"/>\r\n      </g>\r\n     </g>\r\n    </g>\r\n    <g id=\"xtick_37\">\r\n     <g id=\"line2d_37\">\r\n      <g>\r\n       <use style=\"stroke:#000000;stroke-width:0.6;\" x=\"269.245982\" xlink:href=\"#mf51d4c7f2f\" y=\"225.122649\"/>\r\n      </g>\r\n     </g>\r\n    </g>\r\n    <g id=\"xtick_38\">\r\n     <g id=\"line2d_38\">\r\n      <g>\r\n       <use style=\"stroke:#000000;stroke-width:0.6;\" x=\"276.078635\" xlink:href=\"#mf51d4c7f2f\" y=\"225.122649\"/>\r\n      </g>\r\n     </g>\r\n    </g>\r\n    <g id=\"xtick_39\">\r\n     <g id=\"line2d_39\">\r\n      <g>\r\n       <use style=\"stroke:#000000;stroke-width:0.6;\" x=\"282.911288\" xlink:href=\"#mf51d4c7f2f\" y=\"225.122649\"/>\r\n      </g>\r\n     </g>\r\n     <g id=\"text_7\">\r\n      <!-- 16 -->\r\n      <g transform=\"translate(276.548788 238.121086)scale(0.1 -0.1)\">\r\n       <use xlink:href=\"#DejaVuSans-49\"/>\r\n       <use x=\"63.623047\" xlink:href=\"#DejaVuSans-54\"/>\r\n      </g>\r\n     </g>\r\n    </g>\r\n    <g id=\"xtick_40\">\r\n     <g id=\"line2d_40\">\r\n      <g>\r\n       <use style=\"stroke:#000000;stroke-width:0.6;\" x=\"289.743941\" xlink:href=\"#mf51d4c7f2f\" y=\"225.122649\"/>\r\n      </g>\r\n     </g>\r\n    </g>\r\n    <g id=\"xtick_41\">\r\n     <g id=\"line2d_41\">\r\n      <g>\r\n       <use style=\"stroke:#000000;stroke-width:0.6;\" x=\"296.576594\" xlink:href=\"#mf51d4c7f2f\" y=\"225.122649\"/>\r\n      </g>\r\n     </g>\r\n    </g>\r\n    <g id=\"xtick_42\">\r\n     <g id=\"line2d_42\">\r\n      <g>\r\n       <use style=\"stroke:#000000;stroke-width:0.6;\" x=\"303.409247\" xlink:href=\"#mf51d4c7f2f\" y=\"225.122649\"/>\r\n      </g>\r\n     </g>\r\n    </g>\r\n    <g id=\"xtick_43\">\r\n     <g id=\"line2d_43\">\r\n      <g>\r\n       <use style=\"stroke:#000000;stroke-width:0.6;\" x=\"310.241901\" xlink:href=\"#mf51d4c7f2f\" y=\"225.122649\"/>\r\n      </g>\r\n     </g>\r\n    </g>\r\n    <g id=\"xtick_44\">\r\n     <g id=\"line2d_44\">\r\n      <g>\r\n       <use style=\"stroke:#000000;stroke-width:0.6;\" x=\"317.074554\" xlink:href=\"#mf51d4c7f2f\" y=\"225.122649\"/>\r\n      </g>\r\n     </g>\r\n    </g>\r\n    <g id=\"xtick_45\">\r\n     <g id=\"line2d_45\">\r\n      <g>\r\n       <use style=\"stroke:#000000;stroke-width:0.6;\" x=\"323.907207\" xlink:href=\"#mf51d4c7f2f\" y=\"225.122649\"/>\r\n      </g>\r\n     </g>\r\n    </g>\r\n    <g id=\"xtick_46\">\r\n     <g id=\"line2d_46\">\r\n      <g>\r\n       <use style=\"stroke:#000000;stroke-width:0.6;\" x=\"330.73986\" xlink:href=\"#mf51d4c7f2f\" y=\"225.122649\"/>\r\n      </g>\r\n     </g>\r\n     <g id=\"text_8\">\r\n      <!-- 23 -->\r\n      <g transform=\"translate(324.37736 238.121086)scale(0.1 -0.1)\">\r\n       <defs>\r\n        <path d=\"M 40.578125 39.3125 \r\nQ 47.65625 37.796875 51.625 33 \r\nQ 55.609375 28.21875 55.609375 21.1875 \r\nQ 55.609375 10.40625 48.1875 4.484375 \r\nQ 40.765625 -1.421875 27.09375 -1.421875 \r\nQ 22.515625 -1.421875 17.65625 -0.515625 \r\nQ 12.796875 0.390625 7.625 2.203125 \r\nL 7.625 11.71875 \r\nQ 11.71875 9.328125 16.59375 8.109375 \r\nQ 21.484375 6.890625 26.8125 6.890625 \r\nQ 36.078125 6.890625 40.9375 10.546875 \r\nQ 45.796875 14.203125 45.796875 21.1875 \r\nQ 45.796875 27.640625 41.28125 31.265625 \r\nQ 36.765625 34.90625 28.71875 34.90625 \r\nL 20.21875 34.90625 \r\nL 20.21875 43.015625 \r\nL 29.109375 43.015625 \r\nQ 36.375 43.015625 40.234375 45.921875 \r\nQ 44.09375 48.828125 44.09375 54.296875 \r\nQ 44.09375 59.90625 40.109375 62.90625 \r\nQ 36.140625 65.921875 28.71875 65.921875 \r\nQ 24.65625 65.921875 20.015625 65.03125 \r\nQ 15.375 64.15625 9.8125 62.3125 \r\nL 9.8125 71.09375 \r\nQ 15.4375 72.65625 20.34375 73.4375 \r\nQ 25.25 74.21875 29.59375 74.21875 \r\nQ 40.828125 74.21875 47.359375 69.109375 \r\nQ 53.90625 64.015625 53.90625 55.328125 \r\nQ 53.90625 49.265625 50.4375 45.09375 \r\nQ 46.96875 40.921875 40.578125 39.3125 \r\nz\r\n\" id=\"DejaVuSans-51\"/>\r\n       </defs>\r\n       <use xlink:href=\"#DejaVuSans-50\"/>\r\n       <use x=\"63.623047\" xlink:href=\"#DejaVuSans-51\"/>\r\n      </g>\r\n     </g>\r\n    </g>\r\n    <g id=\"xtick_47\">\r\n     <g id=\"line2d_47\">\r\n      <g>\r\n       <use style=\"stroke:#000000;stroke-width:0.6;\" x=\"337.572513\" xlink:href=\"#mf51d4c7f2f\" y=\"225.122649\"/>\r\n      </g>\r\n     </g>\r\n    </g>\r\n    <g id=\"xtick_48\">\r\n     <g id=\"line2d_48\">\r\n      <g>\r\n       <use style=\"stroke:#000000;stroke-width:0.6;\" x=\"344.405166\" xlink:href=\"#mf51d4c7f2f\" y=\"225.122649\"/>\r\n      </g>\r\n     </g>\r\n    </g>\r\n    <g id=\"xtick_49\">\r\n     <g id=\"line2d_49\">\r\n      <g>\r\n       <use style=\"stroke:#000000;stroke-width:0.6;\" x=\"351.237819\" xlink:href=\"#mf51d4c7f2f\" y=\"225.122649\"/>\r\n      </g>\r\n     </g>\r\n    </g>\r\n    <g id=\"xtick_50\">\r\n     <g id=\"line2d_50\">\r\n      <g>\r\n       <use style=\"stroke:#000000;stroke-width:0.6;\" x=\"358.070472\" xlink:href=\"#mf51d4c7f2f\" y=\"225.122649\"/>\r\n      </g>\r\n     </g>\r\n    </g>\r\n    <g id=\"text_9\">\r\n     <!-- date -->\r\n     <g transform=\"translate(186.228125 286.992649)scale(0.1 -0.1)\">\r\n      <defs>\r\n       <path d=\"M 45.40625 46.390625 \r\nL 45.40625 75.984375 \r\nL 54.390625 75.984375 \r\nL 54.390625 0 \r\nL 45.40625 0 \r\nL 45.40625 8.203125 \r\nQ 42.578125 3.328125 38.25 0.953125 \r\nQ 33.9375 -1.421875 27.875 -1.421875 \r\nQ 17.96875 -1.421875 11.734375 6.484375 \r\nQ 5.515625 14.40625 5.515625 27.296875 \r\nQ 5.515625 40.1875 11.734375 48.09375 \r\nQ 17.96875 56 27.875 56 \r\nQ 33.9375 56 38.25 53.625 \r\nQ 42.578125 51.265625 45.40625 46.390625 \r\nz\r\nM 14.796875 27.296875 \r\nQ 14.796875 17.390625 18.875 11.75 \r\nQ 22.953125 6.109375 30.078125 6.109375 \r\nQ 37.203125 6.109375 41.296875 11.75 \r\nQ 45.40625 17.390625 45.40625 27.296875 \r\nQ 45.40625 37.203125 41.296875 42.84375 \r\nQ 37.203125 48.484375 30.078125 48.484375 \r\nQ 22.953125 48.484375 18.875 42.84375 \r\nQ 14.796875 37.203125 14.796875 27.296875 \r\nz\r\n\" id=\"DejaVuSans-100\"/>\r\n       <path d=\"M 34.28125 27.484375 \r\nQ 23.390625 27.484375 19.1875 25 \r\nQ 14.984375 22.515625 14.984375 16.5 \r\nQ 14.984375 11.71875 18.140625 8.90625 \r\nQ 21.296875 6.109375 26.703125 6.109375 \r\nQ 34.1875 6.109375 38.703125 11.40625 \r\nQ 43.21875 16.703125 43.21875 25.484375 \r\nL 43.21875 27.484375 \r\nz\r\nM 52.203125 31.203125 \r\nL 52.203125 0 \r\nL 43.21875 0 \r\nL 43.21875 8.296875 \r\nQ 40.140625 3.328125 35.546875 0.953125 \r\nQ 30.953125 -1.421875 24.3125 -1.421875 \r\nQ 15.921875 -1.421875 10.953125 3.296875 \r\nQ 6 8.015625 6 15.921875 \r\nQ 6 25.140625 12.171875 29.828125 \r\nQ 18.359375 34.515625 30.609375 34.515625 \r\nL 43.21875 34.515625 \r\nL 43.21875 35.40625 \r\nQ 43.21875 41.609375 39.140625 45 \r\nQ 35.0625 48.390625 27.6875 48.390625 \r\nQ 23 48.390625 18.546875 47.265625 \r\nQ 14.109375 46.140625 10.015625 43.890625 \r\nL 10.015625 52.203125 \r\nQ 14.9375 54.109375 19.578125 55.046875 \r\nQ 24.21875 56 28.609375 56 \r\nQ 40.484375 56 46.34375 49.84375 \r\nQ 52.203125 43.703125 52.203125 31.203125 \r\nz\r\n\" id=\"DejaVuSans-97\"/>\r\n       <path d=\"M 18.3125 70.21875 \r\nL 18.3125 54.6875 \r\nL 36.8125 54.6875 \r\nL 36.8125 47.703125 \r\nL 18.3125 47.703125 \r\nL 18.3125 18.015625 \r\nQ 18.3125 11.328125 20.140625 9.421875 \r\nQ 21.96875 7.515625 27.59375 7.515625 \r\nL 36.8125 7.515625 \r\nL 36.8125 0 \r\nL 27.59375 0 \r\nQ 17.1875 0 13.234375 3.875 \r\nQ 9.28125 7.765625 9.28125 18.015625 \r\nL 9.28125 47.703125 \r\nL 2.6875 47.703125 \r\nL 2.6875 54.6875 \r\nL 9.28125 54.6875 \r\nL 9.28125 70.21875 \r\nz\r\n\" id=\"DejaVuSans-116\"/>\r\n      </defs>\r\n      <use xlink:href=\"#DejaVuSans-100\"/>\r\n      <use x=\"63.476562\" xlink:href=\"#DejaVuSans-97\"/>\r\n      <use x=\"124.755859\" xlink:href=\"#DejaVuSans-116\"/>\r\n      <use x=\"163.964844\" xlink:href=\"#DejaVuSans-101\"/>\r\n     </g>\r\n    </g>\r\n   </g>\r\n   <g id=\"matplotlib.axis_2\">\r\n    <g id=\"ytick_1\">\r\n     <g id=\"line2d_51\">\r\n      <defs>\r\n       <path d=\"M 0 0 \r\nL -3.5 0 \r\n\" id=\"m30974dc44e\" style=\"stroke:#000000;stroke-width:0.8;\"/>\r\n      </defs>\r\n      <g>\r\n       <use style=\"stroke:#000000;stroke-width:0.8;\" x=\"30.103125\" xlink:href=\"#m30974dc44e\" y=\"206.748413\"/>\r\n      </g>\r\n     </g>\r\n     <g id=\"text_10\">\r\n      <!-- 0.8 -->\r\n      <g transform=\"translate(7.2 210.547632)scale(0.1 -0.1)\">\r\n       <defs>\r\n        <path d=\"M 10.6875 12.40625 \r\nL 21 12.40625 \r\nL 21 0 \r\nL 10.6875 0 \r\nz\r\n\" id=\"DejaVuSans-46\"/>\r\n        <path d=\"M 31.78125 34.625 \r\nQ 24.75 34.625 20.71875 30.859375 \r\nQ 16.703125 27.09375 16.703125 20.515625 \r\nQ 16.703125 13.921875 20.71875 10.15625 \r\nQ 24.75 6.390625 31.78125 6.390625 \r\nQ 38.8125 6.390625 42.859375 10.171875 \r\nQ 46.921875 13.96875 46.921875 20.515625 \r\nQ 46.921875 27.09375 42.890625 30.859375 \r\nQ 38.875 34.625 31.78125 34.625 \r\nz\r\nM 21.921875 38.8125 \r\nQ 15.578125 40.375 12.03125 44.71875 \r\nQ 8.5 49.078125 8.5 55.328125 \r\nQ 8.5 64.0625 14.71875 69.140625 \r\nQ 20.953125 74.21875 31.78125 74.21875 \r\nQ 42.671875 74.21875 48.875 69.140625 \r\nQ 55.078125 64.0625 55.078125 55.328125 \r\nQ 55.078125 49.078125 51.53125 44.71875 \r\nQ 48 40.375 41.703125 38.8125 \r\nQ 48.828125 37.15625 52.796875 32.3125 \r\nQ 56.78125 27.484375 56.78125 20.515625 \r\nQ 56.78125 9.90625 50.3125 4.234375 \r\nQ 43.84375 -1.421875 31.78125 -1.421875 \r\nQ 19.734375 -1.421875 13.25 4.234375 \r\nQ 6.78125 9.90625 6.78125 20.515625 \r\nQ 6.78125 27.484375 10.78125 32.3125 \r\nQ 14.796875 37.15625 21.921875 38.8125 \r\nz\r\nM 18.3125 54.390625 \r\nQ 18.3125 48.734375 21.84375 45.5625 \r\nQ 25.390625 42.390625 31.78125 42.390625 \r\nQ 38.140625 42.390625 41.71875 45.5625 \r\nQ 45.3125 48.734375 45.3125 54.390625 \r\nQ 45.3125 60.0625 41.71875 63.234375 \r\nQ 38.140625 66.40625 31.78125 66.40625 \r\nQ 25.390625 66.40625 21.84375 63.234375 \r\nQ 18.3125 60.0625 18.3125 54.390625 \r\nz\r\n\" id=\"DejaVuSans-56\"/>\r\n       </defs>\r\n       <use xlink:href=\"#DejaVuSans-48\"/>\r\n       <use x=\"63.623047\" xlink:href=\"#DejaVuSans-46\"/>\r\n       <use x=\"95.410156\" xlink:href=\"#DejaVuSans-56\"/>\r\n      </g>\r\n     </g>\r\n    </g>\r\n    <g id=\"ytick_2\">\r\n     <g id=\"line2d_52\">\r\n      <g>\r\n       <use style=\"stroke:#000000;stroke-width:0.8;\" x=\"30.103125\" xlink:href=\"#m30974dc44e\" y=\"167.598575\"/>\r\n      </g>\r\n     </g>\r\n     <g id=\"text_11\">\r\n      <!-- 0.9 -->\r\n      <g transform=\"translate(7.2 171.397793)scale(0.1 -0.1)\">\r\n       <use xlink:href=\"#DejaVuSans-48\"/>\r\n       <use x=\"63.623047\" xlink:href=\"#DejaVuSans-46\"/>\r\n       <use x=\"95.410156\" xlink:href=\"#DejaVuSans-57\"/>\r\n      </g>\r\n     </g>\r\n    </g>\r\n    <g id=\"ytick_3\">\r\n     <g id=\"line2d_53\">\r\n      <g>\r\n       <use style=\"stroke:#000000;stroke-width:0.8;\" x=\"30.103125\" xlink:href=\"#m30974dc44e\" y=\"128.448736\"/>\r\n      </g>\r\n     </g>\r\n     <g id=\"text_12\">\r\n      <!-- 1.0 -->\r\n      <g transform=\"translate(7.2 132.247954)scale(0.1 -0.1)\">\r\n       <use xlink:href=\"#DejaVuSans-49\"/>\r\n       <use x=\"63.623047\" xlink:href=\"#DejaVuSans-46\"/>\r\n       <use x=\"95.410156\" xlink:href=\"#DejaVuSans-48\"/>\r\n      </g>\r\n     </g>\r\n    </g>\r\n    <g id=\"ytick_4\">\r\n     <g id=\"line2d_54\">\r\n      <g>\r\n       <use style=\"stroke:#000000;stroke-width:0.8;\" x=\"30.103125\" xlink:href=\"#m30974dc44e\" y=\"89.298897\"/>\r\n      </g>\r\n     </g>\r\n     <g id=\"text_13\">\r\n      <!-- 1.1 -->\r\n      <g transform=\"translate(7.2 93.098115)scale(0.1 -0.1)\">\r\n       <use xlink:href=\"#DejaVuSans-49\"/>\r\n       <use x=\"63.623047\" xlink:href=\"#DejaVuSans-46\"/>\r\n       <use x=\"95.410156\" xlink:href=\"#DejaVuSans-49\"/>\r\n      </g>\r\n     </g>\r\n    </g>\r\n    <g id=\"ytick_5\">\r\n     <g id=\"line2d_55\">\r\n      <g>\r\n       <use style=\"stroke:#000000;stroke-width:0.8;\" x=\"30.103125\" xlink:href=\"#m30974dc44e\" y=\"50.149058\"/>\r\n      </g>\r\n     </g>\r\n     <g id=\"text_14\">\r\n      <!-- 1.2 -->\r\n      <g transform=\"translate(7.2 53.948276)scale(0.1 -0.1)\">\r\n       <use xlink:href=\"#DejaVuSans-49\"/>\r\n       <use x=\"63.623047\" xlink:href=\"#DejaVuSans-46\"/>\r\n       <use x=\"95.410156\" xlink:href=\"#DejaVuSans-50\"/>\r\n      </g>\r\n     </g>\r\n    </g>\r\n    <g id=\"ytick_6\">\r\n     <g id=\"line2d_56\">\r\n      <g>\r\n       <use style=\"stroke:#000000;stroke-width:0.8;\" x=\"30.103125\" xlink:href=\"#m30974dc44e\" y=\"10.999219\"/>\r\n      </g>\r\n     </g>\r\n     <g id=\"text_15\">\r\n      <!-- 1.3 -->\r\n      <g transform=\"translate(7.2 14.798437)scale(0.1 -0.1)\">\r\n       <use xlink:href=\"#DejaVuSans-49\"/>\r\n       <use x=\"63.623047\" xlink:href=\"#DejaVuSans-46\"/>\r\n       <use x=\"95.410156\" xlink:href=\"#DejaVuSans-51\"/>\r\n      </g>\r\n     </g>\r\n    </g>\r\n   </g>\r\n   <g id=\"line2d_57\">\r\n    <path clip-path=\"url(#p769f081013)\" d=\"M 30.103125 127.46999 \r\nL 36.935778 126.488797 \r\nL 43.768431 125.505151 \r\nL 50.601084 124.519046 \r\nL 57.433737 123.530476 \r\nL 64.26639 122.539434 \r\nL 71.099043 121.545915 \r\nL 77.931696 120.549912 \r\nL 84.764349 119.551419 \r\nL 91.597003 118.55043 \r\nL 98.429656 117.546938 \r\nL 105.262309 116.540937 \r\nL 112.094962 115.532422 \r\nL 118.927615 114.521385 \r\nL 125.760268 113.507821 \r\nL 132.592921 112.491723 \r\nL 139.425574 111.473084 \r\nL 146.258227 110.451899 \r\nL 153.09088 109.428161 \r\nL 159.923533 108.401864 \r\nL 166.756186 107.373 \r\nL 173.588839 106.341565 \r\nL 180.421492 105.307551 \r\nL 187.254145 104.270952 \r\nL 194.086798 103.231762 \r\nL 200.919452 102.189973 \r\nL 207.752105 101.145581 \r\nL 214.584758 100.098577 \r\nL 221.417411 99.048955 \r\nL 228.250064 97.99671 \r\nL 235.082717 96.941834 \r\nL 241.91537 95.884321 \r\nL 248.748023 94.824164 \r\nL 255.580676 93.761356 \r\nL 262.413329 92.695892 \r\nL 269.245982 91.627764 \r\nL 276.078635 90.556965 \r\nL 282.911288 89.48349 \r\nL 289.743941 88.407331 \r\nL 296.576594 87.328481 \r\nL 303.409247 86.246935 \r\nL 310.241901 85.162684 \r\nL 317.074554 84.075723 \r\nL 323.907207 82.986045 \r\nL 330.73986 81.893642 \r\nL 337.572513 80.798508 \r\nL 344.405166 79.700637 \r\nL 351.237819 78.60002 \r\nL 358.070472 77.496653 \r\nL 364.903125 76.390526 \r\n\" style=\"fill:none;stroke:#1f77b4;stroke-linecap:square;stroke-width:1.5;\"/>\r\n   </g>\r\n   <g id=\"line2d_58\">\r\n    <path clip-path=\"url(#p769f081013)\" d=\"M 30.103125 126.491244 \r\nL 36.935778 124.523964 \r\nL 43.768431 122.546848 \r\nL 50.601084 120.559847 \r\nL 57.433737 118.562911 \r\nL 64.26639 116.55599 \r\nL 71.099043 114.539034 \r\nL 77.931696 112.511993 \r\nL 84.764349 110.474818 \r\nL 91.597003 108.427456 \r\nL 98.429656 106.369858 \r\nL 105.262309 104.301972 \r\nL 112.094962 102.223746 \r\nL 118.927615 100.135129 \r\nL 125.760268 98.036069 \r\nL 132.592921 95.926514 \r\nL 139.425574 93.806411 \r\nL 146.258227 91.675707 \r\nL 153.09088 89.53435 \r\nL 159.923533 87.382286 \r\nL 166.756186 85.219462 \r\nL 173.588839 83.045824 \r\nL 180.421492 80.861317 \r\nL 187.254145 78.665888 \r\nL 194.086798 76.459482 \r\nL 200.919452 74.242044 \r\nL 207.752105 72.013518 \r\nL 214.584758 69.77385 \r\nL 221.417411 67.522984 \r\nL 228.250064 65.260863 \r\nL 235.082717 62.987432 \r\nL 241.91537 60.702633 \r\nL 248.748023 58.406411 \r\nL 255.580676 56.098707 \r\nL 262.413329 53.779465 \r\nL 269.245982 51.448627 \r\nL 276.078635 49.106134 \r\nL 282.911288 46.751929 \r\nL 289.743941 44.385953 \r\nL 296.576594 42.008148 \r\nL 303.409247 39.618453 \r\nL 310.241901 37.216809 \r\nL 317.074554 34.803158 \r\nL 323.907207 32.377438 \r\nL 330.73986 29.93959 \r\nL 337.572513 27.489552 \r\nL 344.405166 25.027264 \r\nL 351.237819 22.552665 \r\nL 358.070472 20.065692 \r\nL 364.903125 17.566285 \r\n\" style=\"fill:none;stroke:#ff7f0e;stroke-linecap:square;stroke-width:1.5;\"/>\r\n   </g>\r\n   <g id=\"line2d_59\">\r\n    <path clip-path=\"url(#p769f081013)\" d=\"M 30.103125 128.448736 \r\nL 36.935778 128.448736 \r\nL 43.768431 128.448736 \r\nL 50.601084 128.448736 \r\nL 57.433737 128.448736 \r\nL 64.26639 128.448736 \r\nL 71.099043 128.448736 \r\nL 77.931696 128.448736 \r\nL 84.764349 128.448736 \r\nL 91.597003 128.448736 \r\nL 98.429656 128.448736 \r\nL 105.262309 128.448736 \r\nL 112.094962 128.448736 \r\nL 118.927615 128.448736 \r\nL 125.760268 128.448736 \r\nL 132.592921 128.448736 \r\nL 139.425574 128.448736 \r\nL 146.258227 128.448736 \r\nL 153.09088 128.448736 \r\nL 159.923533 128.448736 \r\nL 166.756186 128.448736 \r\nL 173.588839 128.448736 \r\nL 180.421492 128.448736 \r\nL 187.254145 128.448736 \r\nL 194.086798 128.448736 \r\nL 200.919452 128.448736 \r\nL 207.752105 128.448736 \r\nL 214.584758 128.448736 \r\nL 221.417411 128.448736 \r\nL 228.250064 128.448736 \r\nL 235.082717 128.448736 \r\nL 241.91537 128.448736 \r\nL 248.748023 128.448736 \r\nL 255.580676 128.448736 \r\nL 262.413329 128.448736 \r\nL 269.245982 128.448736 \r\nL 276.078635 128.448736 \r\nL 282.911288 128.448736 \r\nL 289.743941 128.448736 \r\nL 296.576594 128.448736 \r\nL 303.409247 128.448736 \r\nL 310.241901 128.448736 \r\nL 317.074554 128.448736 \r\nL 323.907207 128.448736 \r\nL 330.73986 128.448736 \r\nL 337.572513 128.448736 \r\nL 344.405166 128.448736 \r\nL 351.237819 128.448736 \r\nL 358.070472 128.448736 \r\nL 364.903125 128.448736 \r\n\" style=\"fill:none;stroke:#2ca02c;stroke-linecap:square;stroke-width:1.5;\"/>\r\n   </g>\r\n   <g id=\"line2d_60\">\r\n    <path clip-path=\"url(#p769f081013)\" d=\"M 30.103125 130.406228 \r\nL 36.935778 132.353932 \r\nL 43.768431 134.291898 \r\nL 50.601084 136.220174 \r\nL 57.433737 138.138809 \r\nL 64.26639 140.04785 \r\nL 71.099043 141.947347 \r\nL 77.931696 143.837346 \r\nL 84.764349 145.717895 \r\nL 91.597003 147.589041 \r\nL 98.429656 149.450831 \r\nL 105.262309 151.303313 \r\nL 112.094962 153.146532 \r\nL 118.927615 154.980535 \r\nL 125.760268 156.805368 \r\nL 132.592921 158.621076 \r\nL 139.425574 160.427707 \r\nL 146.258227 162.225304 \r\nL 153.09088 164.013913 \r\nL 159.923533 165.793579 \r\nL 166.756186 167.564347 \r\nL 173.588839 169.326261 \r\nL 180.421492 171.079365 \r\nL 187.254145 172.823704 \r\nL 194.086798 174.559321 \r\nL 200.919452 176.28626 \r\nL 207.752105 178.004564 \r\nL 214.584758 179.714277 \r\nL 221.417411 181.415441 \r\nL 228.250064 183.1081 \r\nL 235.082717 184.792295 \r\nL 241.91537 186.468069 \r\nL 248.748023 188.135464 \r\nL 255.580676 189.794522 \r\nL 262.413329 191.445285 \r\nL 269.245982 193.087795 \r\nL 276.078635 194.722091 \r\nL 282.911288 196.348216 \r\nL 289.743941 197.966211 \r\nL 296.576594 199.576116 \r\nL 303.409247 201.177971 \r\nL 310.241901 202.771816 \r\nL 317.074554 204.357693 \r\nL 323.907207 205.93564 \r\nL 330.73986 207.505698 \r\nL 337.572513 209.067905 \r\nL 344.405166 210.622301 \r\nL 351.237819 212.168925 \r\nL 358.070472 213.707816 \r\nL 364.903125 215.239012 \r\n\" style=\"fill:none;stroke:#d62728;stroke-linecap:square;stroke-width:1.5;\"/>\r\n   </g>\r\n   <g id=\"line2d_61\">\r\n    <path clip-path=\"url(#p769f081013)\" d=\"M 30.103125 126.491244 \r\nL 36.935778 124.523964 \r\nL 43.768431 122.546848 \r\nL 50.601084 120.559847 \r\nL 57.433737 118.562911 \r\nL 64.26639 116.55599 \r\nL 71.099043 114.539034 \r\nL 77.931696 112.511993 \r\nL 84.764349 110.474818 \r\nL 91.597003 108.427456 \r\nL 98.429656 106.369858 \r\nL 105.262309 104.301972 \r\nL 112.094962 102.223746 \r\nL 118.927615 100.135129 \r\nL 125.760268 98.036069 \r\nL 132.592921 95.926514 \r\nL 139.425574 93.806411 \r\nL 146.258227 91.675707 \r\nL 153.09088 89.53435 \r\nL 159.923533 87.382286 \r\nL 166.756186 85.219462 \r\nL 173.588839 83.045824 \r\nL 180.421492 80.861317 \r\nL 187.254145 78.665888 \r\nL 194.086798 76.459482 \r\nL 200.919452 74.242044 \r\nL 207.752105 72.013518 \r\nL 214.584758 69.77385 \r\nL 221.417411 67.522984 \r\nL 228.250064 65.260863 \r\nL 235.082717 62.987432 \r\nL 241.91537 60.702633 \r\nL 248.748023 58.406411 \r\nL 255.580676 56.098707 \r\nL 262.413329 53.779465 \r\nL 269.245982 51.448627 \r\nL 276.078635 49.106134 \r\nL 282.911288 46.751929 \r\nL 289.743941 44.385953 \r\nL 296.576594 42.008148 \r\nL 303.409247 39.618453 \r\nL 310.241901 37.216809 \r\nL 317.074554 34.803158 \r\nL 323.907207 32.377438 \r\nL 330.73986 29.93959 \r\nL 337.572513 27.489552 \r\nL 344.405166 25.027264 \r\nL 351.237819 22.552665 \r\nL 358.070472 20.065692 \r\nL 364.903125 17.566285 \r\n\" style=\"fill:none;stroke:#9467bd;stroke-linecap:square;stroke-width:1.5;\"/>\r\n   </g>\r\n   <g id=\"line2d_62\">\r\n    <path clip-path=\"url(#p769f081013)\" d=\"M 30.103125 128.448736 \r\nL 36.935778 128.448736 \r\nL 43.768431 128.448736 \r\nL 50.601084 128.448736 \r\nL 57.433737 128.448736 \r\nL 64.26639 128.448736 \r\nL 71.099043 128.448736 \r\nL 77.931696 128.448736 \r\nL 84.764349 128.448736 \r\nL 91.597003 128.448736 \r\nL 98.429656 128.448736 \r\nL 105.262309 128.448736 \r\nL 112.094962 128.448736 \r\nL 118.927615 128.448736 \r\nL 125.760268 128.448736 \r\nL 132.592921 128.448736 \r\nL 139.425574 128.448736 \r\nL 146.258227 128.448736 \r\nL 153.09088 128.448736 \r\nL 159.923533 128.448736 \r\nL 166.756186 128.448736 \r\nL 173.588839 128.448736 \r\nL 180.421492 128.448736 \r\nL 187.254145 128.448736 \r\nL 194.086798 128.448736 \r\nL 200.919452 128.448736 \r\nL 207.752105 128.448736 \r\nL 214.584758 128.448736 \r\nL 221.417411 128.448736 \r\nL 228.250064 128.448736 \r\nL 235.082717 128.448736 \r\nL 241.91537 128.448736 \r\nL 248.748023 128.448736 \r\nL 255.580676 128.448736 \r\nL 262.413329 128.448736 \r\nL 269.245982 128.448736 \r\nL 276.078635 128.448736 \r\nL 282.911288 128.448736 \r\nL 289.743941 128.448736 \r\nL 296.576594 128.448736 \r\nL 303.409247 128.448736 \r\nL 310.241901 128.448736 \r\nL 317.074554 128.448736 \r\nL 323.907207 128.448736 \r\nL 330.73986 128.448736 \r\nL 337.572513 128.448736 \r\nL 344.405166 128.448736 \r\nL 351.237819 128.448736 \r\nL 358.070472 128.448736 \r\nL 364.903125 128.448736 \r\n\" style=\"fill:none;stroke:#8c564b;stroke-linecap:square;stroke-width:1.5;\"/>\r\n   </g>\r\n   <g id=\"patch_3\">\r\n    <path d=\"M 30.103125 225.122649 \r\nL 30.103125 7.682649 \r\n\" style=\"fill:none;stroke:#000000;stroke-linecap:square;stroke-linejoin:miter;stroke-width:0.8;\"/>\r\n   </g>\r\n   <g id=\"patch_4\">\r\n    <path d=\"M 364.903125 225.122649 \r\nL 364.903125 7.682649 \r\n\" style=\"fill:none;stroke:#000000;stroke-linecap:square;stroke-linejoin:miter;stroke-width:0.8;\"/>\r\n   </g>\r\n   <g id=\"patch_5\">\r\n    <path d=\"M 30.103125 225.122649 \r\nL 364.903125 225.122649 \r\n\" style=\"fill:none;stroke:#000000;stroke-linecap:square;stroke-linejoin:miter;stroke-width:0.8;\"/>\r\n   </g>\r\n   <g id=\"patch_6\">\r\n    <path d=\"M 30.103125 7.682649 \r\nL 364.903125 7.682649 \r\n\" style=\"fill:none;stroke:#000000;stroke-linecap:square;stroke-linejoin:miter;stroke-width:0.8;\"/>\r\n   </g>\r\n   <g id=\"legend_1\">\r\n    <g id=\"patch_7\">\r\n     <path d=\"M 37.103125 103.751399 \r\nL 76.803125 103.751399 \r\nQ 78.803125 103.751399 78.803125 101.751399 \r\nL 78.803125 14.682649 \r\nQ 78.803125 12.682649 76.803125 12.682649 \r\nL 37.103125 12.682649 \r\nQ 35.103125 12.682649 35.103125 14.682649 \r\nL 35.103125 101.751399 \r\nQ 35.103125 103.751399 37.103125 103.751399 \r\nz\r\n\" style=\"fill:#ffffff;opacity:0.8;stroke:#cccccc;stroke-linejoin:miter;\"/>\r\n    </g>\r\n    <g id=\"line2d_63\">\r\n     <path d=\"M 39.103125 20.781086 \r\nL 59.103125 20.781086 \r\n\" style=\"fill:none;stroke:#1f77b4;stroke-linecap:square;stroke-width:1.5;\"/>\r\n    </g>\r\n    <g id=\"line2d_64\"/>\r\n    <g id=\"text_16\">\r\n     <!-- A -->\r\n     <g transform=\"translate(67.103125 24.281086)scale(0.1 -0.1)\">\r\n      <defs>\r\n       <path d=\"M 34.1875 63.1875 \r\nL 20.796875 26.90625 \r\nL 47.609375 26.90625 \r\nz\r\nM 28.609375 72.90625 \r\nL 39.796875 72.90625 \r\nL 67.578125 0 \r\nL 57.328125 0 \r\nL 50.6875 18.703125 \r\nL 17.828125 18.703125 \r\nL 11.1875 0 \r\nL 0.78125 0 \r\nz\r\n\" id=\"DejaVuSans-65\"/>\r\n      </defs>\r\n      <use xlink:href=\"#DejaVuSans-65\"/>\r\n     </g>\r\n    </g>\r\n    <g id=\"line2d_65\">\r\n     <path d=\"M 39.103125 35.459211 \r\nL 59.103125 35.459211 \r\n\" style=\"fill:none;stroke:#ff7f0e;stroke-linecap:square;stroke-width:1.5;\"/>\r\n    </g>\r\n    <g id=\"line2d_66\"/>\r\n    <g id=\"text_17\">\r\n     <!-- B -->\r\n     <g transform=\"translate(67.103125 38.959211)scale(0.1 -0.1)\">\r\n      <defs>\r\n       <path d=\"M 19.671875 34.8125 \r\nL 19.671875 8.109375 \r\nL 35.5 8.109375 \r\nQ 43.453125 8.109375 47.28125 11.40625 \r\nQ 51.125 14.703125 51.125 21.484375 \r\nQ 51.125 28.328125 47.28125 31.5625 \r\nQ 43.453125 34.8125 35.5 34.8125 \r\nz\r\nM 19.671875 64.796875 \r\nL 19.671875 42.828125 \r\nL 34.28125 42.828125 \r\nQ 41.5 42.828125 45.03125 45.53125 \r\nQ 48.578125 48.25 48.578125 53.8125 \r\nQ 48.578125 59.328125 45.03125 62.0625 \r\nQ 41.5 64.796875 34.28125 64.796875 \r\nz\r\nM 9.8125 72.90625 \r\nL 35.015625 72.90625 \r\nQ 46.296875 72.90625 52.390625 68.21875 \r\nQ 58.5 63.53125 58.5 54.890625 \r\nQ 58.5 48.1875 55.375 44.234375 \r\nQ 52.25 40.28125 46.1875 39.3125 \r\nQ 53.46875 37.75 57.5 32.78125 \r\nQ 61.53125 27.828125 61.53125 20.40625 \r\nQ 61.53125 10.640625 54.890625 5.3125 \r\nQ 48.25 0 35.984375 0 \r\nL 9.8125 0 \r\nz\r\n\" id=\"DejaVuSans-66\"/>\r\n      </defs>\r\n      <use xlink:href=\"#DejaVuSans-66\"/>\r\n     </g>\r\n    </g>\r\n    <g id=\"line2d_67\">\r\n     <path d=\"M 39.103125 50.137336 \r\nL 59.103125 50.137336 \r\n\" style=\"fill:none;stroke:#2ca02c;stroke-linecap:square;stroke-width:1.5;\"/>\r\n    </g>\r\n    <g id=\"line2d_68\"/>\r\n    <g id=\"text_18\">\r\n     <!-- C -->\r\n     <g transform=\"translate(67.103125 53.637336)scale(0.1 -0.1)\">\r\n      <defs>\r\n       <path d=\"M 64.40625 67.28125 \r\nL 64.40625 56.890625 \r\nQ 59.421875 61.53125 53.78125 63.8125 \r\nQ 48.140625 66.109375 41.796875 66.109375 \r\nQ 29.296875 66.109375 22.65625 58.46875 \r\nQ 16.015625 50.828125 16.015625 36.375 \r\nQ 16.015625 21.96875 22.65625 14.328125 \r\nQ 29.296875 6.6875 41.796875 6.6875 \r\nQ 48.140625 6.6875 53.78125 8.984375 \r\nQ 59.421875 11.28125 64.40625 15.921875 \r\nL 64.40625 5.609375 \r\nQ 59.234375 2.09375 53.4375 0.328125 \r\nQ 47.65625 -1.421875 41.21875 -1.421875 \r\nQ 24.65625 -1.421875 15.125 8.703125 \r\nQ 5.609375 18.84375 5.609375 36.375 \r\nQ 5.609375 53.953125 15.125 64.078125 \r\nQ 24.65625 74.21875 41.21875 74.21875 \r\nQ 47.75 74.21875 53.53125 72.484375 \r\nQ 59.328125 70.75 64.40625 67.28125 \r\nz\r\n\" id=\"DejaVuSans-67\"/>\r\n      </defs>\r\n      <use xlink:href=\"#DejaVuSans-67\"/>\r\n     </g>\r\n    </g>\r\n    <g id=\"line2d_69\">\r\n     <path d=\"M 39.103125 64.815461 \r\nL 59.103125 64.815461 \r\n\" style=\"fill:none;stroke:#d62728;stroke-linecap:square;stroke-width:1.5;\"/>\r\n    </g>\r\n    <g id=\"line2d_70\"/>\r\n    <g id=\"text_19\">\r\n     <!-- D -->\r\n     <g transform=\"translate(67.103125 68.315461)scale(0.1 -0.1)\">\r\n      <defs>\r\n       <path d=\"M 19.671875 64.796875 \r\nL 19.671875 8.109375 \r\nL 31.59375 8.109375 \r\nQ 46.6875 8.109375 53.6875 14.9375 \r\nQ 60.6875 21.78125 60.6875 36.53125 \r\nQ 60.6875 51.171875 53.6875 57.984375 \r\nQ 46.6875 64.796875 31.59375 64.796875 \r\nz\r\nM 9.8125 72.90625 \r\nL 30.078125 72.90625 \r\nQ 51.265625 72.90625 61.171875 64.09375 \r\nQ 71.09375 55.28125 71.09375 36.53125 \r\nQ 71.09375 17.671875 61.125 8.828125 \r\nQ 51.171875 0 30.078125 0 \r\nL 9.8125 0 \r\nz\r\n\" id=\"DejaVuSans-68\"/>\r\n      </defs>\r\n      <use xlink:href=\"#DejaVuSans-68\"/>\r\n     </g>\r\n    </g>\r\n    <g id=\"line2d_71\">\r\n     <path d=\"M 39.103125 79.493586 \r\nL 59.103125 79.493586 \r\n\" style=\"fill:none;stroke:#9467bd;stroke-linecap:square;stroke-width:1.5;\"/>\r\n    </g>\r\n    <g id=\"line2d_72\"/>\r\n    <g id=\"text_20\">\r\n     <!-- E -->\r\n     <g transform=\"translate(67.103125 82.993586)scale(0.1 -0.1)\">\r\n      <defs>\r\n       <path d=\"M 9.8125 72.90625 \r\nL 55.90625 72.90625 \r\nL 55.90625 64.59375 \r\nL 19.671875 64.59375 \r\nL 19.671875 43.015625 \r\nL 54.390625 43.015625 \r\nL 54.390625 34.71875 \r\nL 19.671875 34.71875 \r\nL 19.671875 8.296875 \r\nL 56.78125 8.296875 \r\nL 56.78125 0 \r\nL 9.8125 0 \r\nz\r\n\" id=\"DejaVuSans-69\"/>\r\n      </defs>\r\n      <use xlink:href=\"#DejaVuSans-69\"/>\r\n     </g>\r\n    </g>\r\n    <g id=\"line2d_73\">\r\n     <path d=\"M 39.103125 94.171711 \r\nL 59.103125 94.171711 \r\n\" style=\"fill:none;stroke:#8c564b;stroke-linecap:square;stroke-width:1.5;\"/>\r\n    </g>\r\n    <g id=\"line2d_74\"/>\r\n    <g id=\"text_21\">\r\n     <!-- F -->\r\n     <g transform=\"translate(67.103125 97.671711)scale(0.1 -0.1)\">\r\n      <use xlink:href=\"#DejaVuSans-70\"/>\r\n     </g>\r\n    </g>\r\n   </g>\r\n  </g>\r\n </g>\r\n <defs>\r\n  <clipPath id=\"p769f081013\">\r\n   <rect height=\"217.44\" width=\"334.8\" x=\"30.103125\" y=\"7.682649\"/>\r\n  </clipPath>\r\n </defs>\r\n</svg>\r\n",
      "image/png": "[encoded data removed]"
     },
     "metadata": {
      "needs_background": "light"
     }
    }
   ],
   "source": [
    "base_prices.plot()\n",
    "plt.show()"
   ]
  },
  {
   "cell_type": "code",
   "execution_count": 5,
   "metadata": {
    "ExecuteTime": {
     "end_time": "2020-07-24T00:03:58.200087Z",
     "start_time": "2020-07-24T00:03:58.186036Z"
    }
   },
   "outputs": [
    {
     "output_type": "execute_result",
     "data": {
      "text/plain": "                   A         B    C         D         E    F\ndate                                                        \n2015-01-10  1.002500  1.005000  1.0  0.995000  1.005000  1.0\n2015-01-11  1.005006  1.010025  1.0  0.990025  1.010025  1.0\n2015-01-12  1.007519  1.015075  1.0  0.985075  1.015075  1.0\n2015-01-13  1.010038  1.020151  1.0  0.980150  1.020151  1.0\n2015-01-14  1.012563  1.025251  1.0  0.975249  1.025251  1.0",
      "text/html": "<div>\n<style scoped>\n    .dataframe tbody tr th:only-of-type {\n        vertical-align: middle;\n    }\n\n    .dataframe tbody tr th {\n        vertical-align: top;\n    }\n\n    .dataframe thead th {\n        text-align: right;\n    }\n</style>\n<table border=\"1\" class=\"dataframe\">\n  <thead>\n    <tr style=\"text-align: right;\">\n      <th></th>\n      <th>A</th>\n      <th>B</th>\n      <th>C</th>\n      <th>D</th>\n      <th>E</th>\n      <th>F</th>\n    </tr>\n    <tr>\n      <th>date</th>\n      <th></th>\n      <th></th>\n      <th></th>\n      <th></th>\n      <th></th>\n      <th></th>\n    </tr>\n  </thead>\n  <tbody>\n    <tr>\n      <th>2015-01-10</th>\n      <td>1.002500</td>\n      <td>1.005000</td>\n      <td>1.0</td>\n      <td>0.995000</td>\n      <td>1.005000</td>\n      <td>1.0</td>\n    </tr>\n    <tr>\n      <th>2015-01-11</th>\n      <td>1.005006</td>\n      <td>1.010025</td>\n      <td>1.0</td>\n      <td>0.990025</td>\n      <td>1.010025</td>\n      <td>1.0</td>\n    </tr>\n    <tr>\n      <th>2015-01-12</th>\n      <td>1.007519</td>\n      <td>1.015075</td>\n      <td>1.0</td>\n      <td>0.985075</td>\n      <td>1.015075</td>\n      <td>1.0</td>\n    </tr>\n    <tr>\n      <th>2015-01-13</th>\n      <td>1.010038</td>\n      <td>1.020151</td>\n      <td>1.0</td>\n      <td>0.980150</td>\n      <td>1.020151</td>\n      <td>1.0</td>\n    </tr>\n    <tr>\n      <th>2015-01-14</th>\n      <td>1.012563</td>\n      <td>1.025251</td>\n      <td>1.0</td>\n      <td>0.975249</td>\n      <td>1.025251</td>\n      <td>1.0</td>\n    </tr>\n  </tbody>\n</table>\n</div>"
     },
     "metadata": {},
     "execution_count": 5
    }
   ],
   "source": [
    "base_prices.head()"
   ]
  },
  {
   "cell_type": "code",
   "execution_count": 6,
   "metadata": {
    "ExecuteTime": {
     "end_time": "2020-07-24T00:03:58.216157Z",
     "start_time": "2020-07-24T00:03:58.201065Z"
    }
   },
   "outputs": [],
   "source": [
    "# create artificial intraday prices\n",
    "\n",
    "today_open = base_prices.copy()\n",
    "today_open.index += pd.Timedelta('9h30m')\n",
    "\n",
    "# every day, after 1 hour from open all stocks increase by 0.1%\n",
    "today_open_1h = today_open.copy()\n",
    "today_open_1h.index += pd.Timedelta('1h')\n",
    "today_open_1h += today_open_1h*0.001\n",
    "\n",
    "# every day, after 3 hours from open all stocks decrease by 0.2%\n",
    "today_open_3h = today_open.copy()\n",
    "today_open_3h.index += pd.Timedelta('3h')\n",
    "today_open_3h -= today_open_3h*0.002\n",
    "\n",
    "# prices DataFrame will contain all intraday prices\n",
    "prices = pd.concat([today_open, today_open_1h, today_open_3h]).sort_index()"
   ]
  },
  {
   "cell_type": "code",
   "execution_count": 7,
   "metadata": {
    "ExecuteTime": {
     "end_time": "2020-07-24T00:03:58.232062Z",
     "start_time": "2020-07-24T00:03:58.217062Z"
    }
   },
   "outputs": [
    {
     "output_type": "execute_result",
     "data": {
      "text/plain": "                            A         B      C         D         E      F\ndate                                                                     \n2015-01-10 09:30:00  1.002500  1.005000  1.000  0.995000  1.005000  1.000\n2015-01-10 10:30:00  1.003502  1.006005  1.001  0.995995  1.006005  1.001\n2015-01-10 12:30:00  1.000495  1.002990  0.998  0.993010  1.002990  0.998\n2015-01-11 09:30:00  1.005006  1.010025  1.000  0.990025  1.010025  1.000\n2015-01-11 10:30:00  1.006011  1.011035  1.001  0.991015  1.011035  1.001\n2015-01-11 12:30:00  1.002996  1.008005  0.998  0.988045  1.008005  0.998\n2015-01-12 09:30:00  1.007519  1.015075  1.000  0.985075  1.015075  1.000\n2015-01-12 10:30:00  1.008526  1.016090  1.001  0.986060  1.016090  1.001\n2015-01-12 12:30:00  1.005504  1.013045  0.998  0.983105  1.013045  0.998\n2015-01-13 09:30:00  1.010038  1.020151  1.000  0.980150  1.020151  1.000",
      "text/html": "<div>\n<style scoped>\n    .dataframe tbody tr th:only-of-type {\n        vertical-align: middle;\n    }\n\n    .dataframe tbody tr th {\n        vertical-align: top;\n    }\n\n    .dataframe thead th {\n        text-align: right;\n    }\n</style>\n<table border=\"1\" class=\"dataframe\">\n  <thead>\n    <tr style=\"text-align: right;\">\n      <th></th>\n      <th>A</th>\n      <th>B</th>\n      <th>C</th>\n      <th>D</th>\n      <th>E</th>\n      <th>F</th>\n    </tr>\n    <tr>\n      <th>date</th>\n      <th></th>\n      <th></th>\n      <th></th>\n      <th></th>\n      <th></th>\n      <th></th>\n    </tr>\n  </thead>\n  <tbody>\n    <tr>\n      <th>2015-01-10 09:30:00</th>\n      <td>1.002500</td>\n      <td>1.005000</td>\n      <td>1.000</td>\n      <td>0.995000</td>\n      <td>1.005000</td>\n      <td>1.000</td>\n    </tr>\n    <tr>\n      <th>2015-01-10 10:30:00</th>\n      <td>1.003502</td>\n      <td>1.006005</td>\n      <td>1.001</td>\n      <td>0.995995</td>\n      <td>1.006005</td>\n      <td>1.001</td>\n    </tr>\n    <tr>\n      <th>2015-01-10 12:30:00</th>\n      <td>1.000495</td>\n      <td>1.002990</td>\n      <td>0.998</td>\n      <td>0.993010</td>\n      <td>1.002990</td>\n      <td>0.998</td>\n    </tr>\n    <tr>\n      <th>2015-01-11 09:30:00</th>\n      <td>1.005006</td>\n      <td>1.010025</td>\n      <td>1.000</td>\n      <td>0.990025</td>\n      <td>1.010025</td>\n      <td>1.000</td>\n    </tr>\n    <tr>\n      <th>2015-01-11 10:30:00</th>\n      <td>1.006011</td>\n      <td>1.011035</td>\n      <td>1.001</td>\n      <td>0.991015</td>\n      <td>1.011035</td>\n      <td>1.001</td>\n    </tr>\n    <tr>\n      <th>2015-01-11 12:30:00</th>\n      <td>1.002996</td>\n      <td>1.008005</td>\n      <td>0.998</td>\n      <td>0.988045</td>\n      <td>1.008005</td>\n      <td>0.998</td>\n    </tr>\n    <tr>\n      <th>2015-01-12 09:30:00</th>\n      <td>1.007519</td>\n      <td>1.015075</td>\n      <td>1.000</td>\n      <td>0.985075</td>\n      <td>1.015075</td>\n      <td>1.000</td>\n    </tr>\n    <tr>\n      <th>2015-01-12 10:30:00</th>\n      <td>1.008526</td>\n      <td>1.016090</td>\n      <td>1.001</td>\n      <td>0.986060</td>\n      <td>1.016090</td>\n      <td>1.001</td>\n    </tr>\n    <tr>\n      <th>2015-01-12 12:30:00</th>\n      <td>1.005504</td>\n      <td>1.013045</td>\n      <td>0.998</td>\n      <td>0.983105</td>\n      <td>1.013045</td>\n      <td>0.998</td>\n    </tr>\n    <tr>\n      <th>2015-01-13 09:30:00</th>\n      <td>1.010038</td>\n      <td>1.020151</td>\n      <td>1.000</td>\n      <td>0.980150</td>\n      <td>1.020151</td>\n      <td>1.000</td>\n    </tr>\n  </tbody>\n</table>\n</div>"
     },
     "metadata": {},
     "execution_count": 7
    }
   ],
   "source": [
    "prices.head(10)"
   ]
  },
  {
   "cell_type": "code",
   "execution_count": 8,
   "metadata": {
    "ExecuteTime": {
     "end_time": "2020-07-24T00:03:58.357067Z",
     "start_time": "2020-07-24T00:03:58.234037Z"
    }
   },
   "outputs": [
    {
     "output_type": "display_data",
     "data": {
      "text/plain": "<Figure size 432x288 with 1 Axes>",
      "image/svg+xml": "<?xml version=\"1.0\" encoding=\"utf-8\" standalone=\"no\"?>\r\n<!DOCTYPE svg PUBLIC \"-//W3C//DTD SVG 1.1//EN\"\r\n  \"http://www.w3.org/Graphics/SVG/1.1/DTD/svg11.dtd\">\r\n<!-- Created with matplotlib (https://matplotlib.org/) -->\r\n<svg height=\"268.686523pt\" version=\"1.1\" viewBox=\"0 0 372.103125 268.686523\" width=\"372.103125pt\" xmlns=\"http://www.w3.org/2000/svg\" xmlns:xlink=\"http://www.w3.org/1999/xlink\">\r\n <metadata>\r\n  <rdf:RDF xmlns:cc=\"http://creativecommons.org/ns#\" xmlns:dc=\"http://purl.org/dc/elements/1.1/\" xmlns:rdf=\"http://www.w3.org/1999/02/22-rdf-syntax-ns#\">\r\n   <cc:Work>\r\n    <dc:type rdf:resource=\"http://purl.org/dc/dcmitype/StillImage\"/>\r\n    <dc:date>2020-07-25T09:49:16.030946</dc:date>\r\n    <dc:format>image/svg+xml</dc:format>\r\n    <dc:creator>\r\n     <cc:Agent>\r\n      <dc:title>Matplotlib v3.3.0, https://matplotlib.org/</dc:title>\r\n     </cc:Agent>\r\n    </dc:creator>\r\n   </cc:Work>\r\n  </rdf:RDF>\r\n </metadata>\r\n <defs>\r\n  <style type=\"text/css\">*{stroke-linecap:butt;stroke-linejoin:round;}</style>\r\n </defs>\r\n <g id=\"figure_1\">\r\n  <g id=\"patch_1\">\r\n   <path d=\"M 0 268.686523 \r\nL 372.103125 268.686523 \r\nL 372.103125 0 \r\nL 0 0 \r\nz\r\n\" style=\"fill:none;\"/>\r\n  </g>\r\n  <g id=\"axes_1\">\r\n   <g id=\"patch_2\">\r\n    <path d=\"M 30.103125 203.369084 \r\nL 364.903125 203.369084 \r\nL 364.903125 7.529084 \r\nL 30.103125 7.529084 \r\nz\r\n\" style=\"fill:#ffffff;\"/>\r\n   </g>\r\n   <g id=\"matplotlib.axis_1\">\r\n    <g id=\"xtick_1\">\r\n     <g id=\"line2d_1\">\r\n      <defs>\r\n       <path d=\"M 0 0 \r\nL 0 3.5 \r\n\" id=\"m74c487160e\" style=\"stroke:#000000;stroke-width:0.8;\"/>\r\n      </defs>\r\n      <g>\r\n       <use style=\"stroke:#000000;stroke-width:0.8;\" x=\"67.651633\" xlink:href=\"#m74c487160e\" y=\"203.369084\"/>\r\n      </g>\r\n     </g>\r\n     <g id=\"text_1\">\r\n      <!-- 3984-01-15 -->\r\n      <g transform=\"translate(16.282182 246.007336)rotate(-30)scale(0.1 -0.1)\">\r\n       <defs>\r\n        <path d=\"M 40.578125 39.3125 \r\nQ 47.65625 37.796875 51.625 33 \r\nQ 55.609375 28.21875 55.609375 21.1875 \r\nQ 55.609375 10.40625 48.1875 4.484375 \r\nQ 40.765625 -1.421875 27.09375 -1.421875 \r\nQ 22.515625 -1.421875 17.65625 -0.515625 \r\nQ 12.796875 0.390625 7.625 2.203125 \r\nL 7.625 11.71875 \r\nQ 11.71875 9.328125 16.59375 8.109375 \r\nQ 21.484375 6.890625 26.8125 6.890625 \r\nQ 36.078125 6.890625 40.9375 10.546875 \r\nQ 45.796875 14.203125 45.796875 21.1875 \r\nQ 45.796875 27.640625 41.28125 31.265625 \r\nQ 36.765625 34.90625 28.71875 34.90625 \r\nL 20.21875 34.90625 \r\nL 20.21875 43.015625 \r\nL 29.109375 43.015625 \r\nQ 36.375 43.015625 40.234375 45.921875 \r\nQ 44.09375 48.828125 44.09375 54.296875 \r\nQ 44.09375 59.90625 40.109375 62.90625 \r\nQ 36.140625 65.921875 28.71875 65.921875 \r\nQ 24.65625 65.921875 20.015625 65.03125 \r\nQ 15.375 64.15625 9.8125 62.3125 \r\nL 9.8125 71.09375 \r\nQ 15.4375 72.65625 20.34375 73.4375 \r\nQ 25.25 74.21875 29.59375 74.21875 \r\nQ 40.828125 74.21875 47.359375 69.109375 \r\nQ 53.90625 64.015625 53.90625 55.328125 \r\nQ 53.90625 49.265625 50.4375 45.09375 \r\nQ 46.96875 40.921875 40.578125 39.3125 \r\nz\r\n\" id=\"DejaVuSans-51\"/>\r\n        <path d=\"M 10.984375 1.515625 \r\nL 10.984375 10.5 \r\nQ 14.703125 8.734375 18.5 7.8125 \r\nQ 22.3125 6.890625 25.984375 6.890625 \r\nQ 35.75 6.890625 40.890625 13.453125 \r\nQ 46.046875 20.015625 46.78125 33.40625 \r\nQ 43.953125 29.203125 39.59375 26.953125 \r\nQ 35.25 24.703125 29.984375 24.703125 \r\nQ 19.046875 24.703125 12.671875 31.3125 \r\nQ 6.296875 37.9375 6.296875 49.421875 \r\nQ 6.296875 60.640625 12.9375 67.421875 \r\nQ 19.578125 74.21875 30.609375 74.21875 \r\nQ 43.265625 74.21875 49.921875 64.515625 \r\nQ 56.59375 54.828125 56.59375 36.375 \r\nQ 56.59375 19.140625 48.40625 8.859375 \r\nQ 40.234375 -1.421875 26.421875 -1.421875 \r\nQ 22.703125 -1.421875 18.890625 -0.6875 \r\nQ 15.09375 0.046875 10.984375 1.515625 \r\nz\r\nM 30.609375 32.421875 \r\nQ 37.25 32.421875 41.125 36.953125 \r\nQ 45.015625 41.5 45.015625 49.421875 \r\nQ 45.015625 57.28125 41.125 61.84375 \r\nQ 37.25 66.40625 30.609375 66.40625 \r\nQ 23.96875 66.40625 20.09375 61.84375 \r\nQ 16.21875 57.28125 16.21875 49.421875 \r\nQ 16.21875 41.5 20.09375 36.953125 \r\nQ 23.96875 32.421875 30.609375 32.421875 \r\nz\r\n\" id=\"DejaVuSans-57\"/>\r\n        <path d=\"M 31.78125 34.625 \r\nQ 24.75 34.625 20.71875 30.859375 \r\nQ 16.703125 27.09375 16.703125 20.515625 \r\nQ 16.703125 13.921875 20.71875 10.15625 \r\nQ 24.75 6.390625 31.78125 6.390625 \r\nQ 38.8125 6.390625 42.859375 10.171875 \r\nQ 46.921875 13.96875 46.921875 20.515625 \r\nQ 46.921875 27.09375 42.890625 30.859375 \r\nQ 38.875 34.625 31.78125 34.625 \r\nz\r\nM 21.921875 38.8125 \r\nQ 15.578125 40.375 12.03125 44.71875 \r\nQ 8.5 49.078125 8.5 55.328125 \r\nQ 8.5 64.0625 14.71875 69.140625 \r\nQ 20.953125 74.21875 31.78125 74.21875 \r\nQ 42.671875 74.21875 48.875 69.140625 \r\nQ 55.078125 64.0625 55.078125 55.328125 \r\nQ 55.078125 49.078125 51.53125 44.71875 \r\nQ 48 40.375 41.703125 38.8125 \r\nQ 48.828125 37.15625 52.796875 32.3125 \r\nQ 56.78125 27.484375 56.78125 20.515625 \r\nQ 56.78125 9.90625 50.3125 4.234375 \r\nQ 43.84375 -1.421875 31.78125 -1.421875 \r\nQ 19.734375 -1.421875 13.25 4.234375 \r\nQ 6.78125 9.90625 6.78125 20.515625 \r\nQ 6.78125 27.484375 10.78125 32.3125 \r\nQ 14.796875 37.15625 21.921875 38.8125 \r\nz\r\nM 18.3125 54.390625 \r\nQ 18.3125 48.734375 21.84375 45.5625 \r\nQ 25.390625 42.390625 31.78125 42.390625 \r\nQ 38.140625 42.390625 41.71875 45.5625 \r\nQ 45.3125 48.734375 45.3125 54.390625 \r\nQ 45.3125 60.0625 41.71875 63.234375 \r\nQ 38.140625 66.40625 31.78125 66.40625 \r\nQ 25.390625 66.40625 21.84375 63.234375 \r\nQ 18.3125 60.0625 18.3125 54.390625 \r\nz\r\n\" id=\"DejaVuSans-56\"/>\r\n        <path d=\"M 37.796875 64.3125 \r\nL 12.890625 25.390625 \r\nL 37.796875 25.390625 \r\nz\r\nM 35.203125 72.90625 \r\nL 47.609375 72.90625 \r\nL 47.609375 25.390625 \r\nL 58.015625 25.390625 \r\nL 58.015625 17.1875 \r\nL 47.609375 17.1875 \r\nL 47.609375 0 \r\nL 37.796875 0 \r\nL 37.796875 17.1875 \r\nL 4.890625 17.1875 \r\nL 4.890625 26.703125 \r\nz\r\n\" id=\"DejaVuSans-52\"/>\r\n        <path d=\"M 4.890625 31.390625 \r\nL 31.203125 31.390625 \r\nL 31.203125 23.390625 \r\nL 4.890625 23.390625 \r\nz\r\n\" id=\"DejaVuSans-45\"/>\r\n        <path d=\"M 31.78125 66.40625 \r\nQ 24.171875 66.40625 20.328125 58.90625 \r\nQ 16.5 51.421875 16.5 36.375 \r\nQ 16.5 21.390625 20.328125 13.890625 \r\nQ 24.171875 6.390625 31.78125 6.390625 \r\nQ 39.453125 6.390625 43.28125 13.890625 \r\nQ 47.125 21.390625 47.125 36.375 \r\nQ 47.125 51.421875 43.28125 58.90625 \r\nQ 39.453125 66.40625 31.78125 66.40625 \r\nz\r\nM 31.78125 74.21875 \r\nQ 44.046875 74.21875 50.515625 64.515625 \r\nQ 56.984375 54.828125 56.984375 36.375 \r\nQ 56.984375 17.96875 50.515625 8.265625 \r\nQ 44.046875 -1.421875 31.78125 -1.421875 \r\nQ 19.53125 -1.421875 13.0625 8.265625 \r\nQ 6.59375 17.96875 6.59375 36.375 \r\nQ 6.59375 54.828125 13.0625 64.515625 \r\nQ 19.53125 74.21875 31.78125 74.21875 \r\nz\r\n\" id=\"DejaVuSans-48\"/>\r\n        <path d=\"M 12.40625 8.296875 \r\nL 28.515625 8.296875 \r\nL 28.515625 63.921875 \r\nL 10.984375 60.40625 \r\nL 10.984375 69.390625 \r\nL 28.421875 72.90625 \r\nL 38.28125 72.90625 \r\nL 38.28125 8.296875 \r\nL 54.390625 8.296875 \r\nL 54.390625 0 \r\nL 12.40625 0 \r\nz\r\n\" id=\"DejaVuSans-49\"/>\r\n        <path d=\"M 10.796875 72.90625 \r\nL 49.515625 72.90625 \r\nL 49.515625 64.59375 \r\nL 19.828125 64.59375 \r\nL 19.828125 46.734375 \r\nQ 21.96875 47.46875 24.109375 47.828125 \r\nQ 26.265625 48.1875 28.421875 48.1875 \r\nQ 40.625 48.1875 47.75 41.5 \r\nQ 54.890625 34.8125 54.890625 23.390625 \r\nQ 54.890625 11.625 47.5625 5.09375 \r\nQ 40.234375 -1.421875 26.90625 -1.421875 \r\nQ 22.3125 -1.421875 17.546875 -0.640625 \r\nQ 12.796875 0.140625 7.71875 1.703125 \r\nL 7.71875 11.625 \r\nQ 12.109375 9.234375 16.796875 8.0625 \r\nQ 21.484375 6.890625 26.703125 6.890625 \r\nQ 35.15625 6.890625 40.078125 11.328125 \r\nQ 45.015625 15.765625 45.015625 23.390625 \r\nQ 45.015625 31 40.078125 35.4375 \r\nQ 35.15625 39.890625 26.703125 39.890625 \r\nQ 22.75 39.890625 18.8125 39.015625 \r\nQ 14.890625 38.140625 10.796875 36.28125 \r\nz\r\n\" id=\"DejaVuSans-53\"/>\r\n       </defs>\r\n       <use xlink:href=\"#DejaVuSans-51\"/>\r\n       <use x=\"63.623047\" xlink:href=\"#DejaVuSans-57\"/>\r\n       <use x=\"127.246094\" xlink:href=\"#DejaVuSans-56\"/>\r\n       <use x=\"190.869141\" xlink:href=\"#DejaVuSans-52\"/>\r\n       <use x=\"254.492188\" xlink:href=\"#DejaVuSans-45\"/>\r\n       <use x=\"290.576172\" xlink:href=\"#DejaVuSans-48\"/>\r\n       <use x=\"354.199219\" xlink:href=\"#DejaVuSans-49\"/>\r\n       <use x=\"417.822266\" xlink:href=\"#DejaVuSans-45\"/>\r\n       <use x=\"453.90625\" xlink:href=\"#DejaVuSans-49\"/>\r\n       <use x=\"517.529297\" xlink:href=\"#DejaVuSans-53\"/>\r\n      </g>\r\n     </g>\r\n    </g>\r\n    <g id=\"xtick_2\">\r\n     <g id=\"line2d_2\">\r\n      <g>\r\n       <use style=\"stroke:#000000;stroke-width:0.8;\" x=\"111.021515\" xlink:href=\"#m74c487160e\" y=\"203.369084\"/>\r\n      </g>\r\n     </g>\r\n     <g id=\"text_2\">\r\n      <!-- 3984-01-22 -->\r\n      <g transform=\"translate(59.652064 246.007336)rotate(-30)scale(0.1 -0.1)\">\r\n       <defs>\r\n        <path d=\"M 19.1875 8.296875 \r\nL 53.609375 8.296875 \r\nL 53.609375 0 \r\nL 7.328125 0 \r\nL 7.328125 8.296875 \r\nQ 12.9375 14.109375 22.625 23.890625 \r\nQ 32.328125 33.6875 34.8125 36.53125 \r\nQ 39.546875 41.84375 41.421875 45.53125 \r\nQ 43.3125 49.21875 43.3125 52.78125 \r\nQ 43.3125 58.59375 39.234375 62.25 \r\nQ 35.15625 65.921875 28.609375 65.921875 \r\nQ 23.96875 65.921875 18.8125 64.3125 \r\nQ 13.671875 62.703125 7.8125 59.421875 \r\nL 7.8125 69.390625 \r\nQ 13.765625 71.78125 18.9375 73 \r\nQ 24.125 74.21875 28.421875 74.21875 \r\nQ 39.75 74.21875 46.484375 68.546875 \r\nQ 53.21875 62.890625 53.21875 53.421875 \r\nQ 53.21875 48.921875 51.53125 44.890625 \r\nQ 49.859375 40.875 45.40625 35.40625 \r\nQ 44.1875 33.984375 37.640625 27.21875 \r\nQ 31.109375 20.453125 19.1875 8.296875 \r\nz\r\n\" id=\"DejaVuSans-50\"/>\r\n       </defs>\r\n       <use xlink:href=\"#DejaVuSans-51\"/>\r\n       <use x=\"63.623047\" xlink:href=\"#DejaVuSans-57\"/>\r\n       <use x=\"127.246094\" xlink:href=\"#DejaVuSans-56\"/>\r\n       <use x=\"190.869141\" xlink:href=\"#DejaVuSans-52\"/>\r\n       <use x=\"254.492188\" xlink:href=\"#DejaVuSans-45\"/>\r\n       <use x=\"290.576172\" xlink:href=\"#DejaVuSans-48\"/>\r\n       <use x=\"354.199219\" xlink:href=\"#DejaVuSans-49\"/>\r\n       <use x=\"417.822266\" xlink:href=\"#DejaVuSans-45\"/>\r\n       <use x=\"453.90625\" xlink:href=\"#DejaVuSans-50\"/>\r\n       <use x=\"517.529297\" xlink:href=\"#DejaVuSans-50\"/>\r\n      </g>\r\n     </g>\r\n    </g>\r\n    <g id=\"xtick_3\">\r\n     <g id=\"line2d_3\">\r\n      <g>\r\n       <use style=\"stroke:#000000;stroke-width:0.8;\" x=\"172.978489\" xlink:href=\"#m74c487160e\" y=\"203.369084\"/>\r\n      </g>\r\n     </g>\r\n     <g id=\"text_3\">\r\n      <!-- 3984-02-01 -->\r\n      <g transform=\"translate(121.609038 246.007336)rotate(-30)scale(0.1 -0.1)\">\r\n       <use xlink:href=\"#DejaVuSans-51\"/>\r\n       <use x=\"63.623047\" xlink:href=\"#DejaVuSans-57\"/>\r\n       <use x=\"127.246094\" xlink:href=\"#DejaVuSans-56\"/>\r\n       <use x=\"190.869141\" xlink:href=\"#DejaVuSans-52\"/>\r\n       <use x=\"254.492188\" xlink:href=\"#DejaVuSans-45\"/>\r\n       <use x=\"290.576172\" xlink:href=\"#DejaVuSans-48\"/>\r\n       <use x=\"354.199219\" xlink:href=\"#DejaVuSans-50\"/>\r\n       <use x=\"417.822266\" xlink:href=\"#DejaVuSans-45\"/>\r\n       <use x=\"453.90625\" xlink:href=\"#DejaVuSans-48\"/>\r\n       <use x=\"517.529297\" xlink:href=\"#DejaVuSans-49\"/>\r\n      </g>\r\n     </g>\r\n    </g>\r\n    <g id=\"xtick_4\">\r\n     <g id=\"line2d_4\">\r\n      <g>\r\n       <use style=\"stroke:#000000;stroke-width:0.8;\" x=\"216.348371\" xlink:href=\"#m74c487160e\" y=\"203.369084\"/>\r\n      </g>\r\n     </g>\r\n     <g id=\"text_4\">\r\n      <!-- 3984-02-08 -->\r\n      <g transform=\"translate(164.97892 246.007336)rotate(-30)scale(0.1 -0.1)\">\r\n       <use xlink:href=\"#DejaVuSans-51\"/>\r\n       <use x=\"63.623047\" xlink:href=\"#DejaVuSans-57\"/>\r\n       <use x=\"127.246094\" xlink:href=\"#DejaVuSans-56\"/>\r\n       <use x=\"190.869141\" xlink:href=\"#DejaVuSans-52\"/>\r\n       <use x=\"254.492188\" xlink:href=\"#DejaVuSans-45\"/>\r\n       <use x=\"290.576172\" xlink:href=\"#DejaVuSans-48\"/>\r\n       <use x=\"354.199219\" xlink:href=\"#DejaVuSans-50\"/>\r\n       <use x=\"417.822266\" xlink:href=\"#DejaVuSans-45\"/>\r\n       <use x=\"453.90625\" xlink:href=\"#DejaVuSans-48\"/>\r\n       <use x=\"517.529297\" xlink:href=\"#DejaVuSans-56\"/>\r\n      </g>\r\n     </g>\r\n    </g>\r\n    <g id=\"xtick_5\">\r\n     <g id=\"line2d_5\">\r\n      <g>\r\n       <use style=\"stroke:#000000;stroke-width:0.8;\" x=\"259.718253\" xlink:href=\"#m74c487160e\" y=\"203.369084\"/>\r\n      </g>\r\n     </g>\r\n     <g id=\"text_5\">\r\n      <!-- 3984-02-15 -->\r\n      <g transform=\"translate(208.348802 246.007336)rotate(-30)scale(0.1 -0.1)\">\r\n       <use xlink:href=\"#DejaVuSans-51\"/>\r\n       <use x=\"63.623047\" xlink:href=\"#DejaVuSans-57\"/>\r\n       <use x=\"127.246094\" xlink:href=\"#DejaVuSans-56\"/>\r\n       <use x=\"190.869141\" xlink:href=\"#DejaVuSans-52\"/>\r\n       <use x=\"254.492188\" xlink:href=\"#DejaVuSans-45\"/>\r\n       <use x=\"290.576172\" xlink:href=\"#DejaVuSans-48\"/>\r\n       <use x=\"354.199219\" xlink:href=\"#DejaVuSans-50\"/>\r\n       <use x=\"417.822266\" xlink:href=\"#DejaVuSans-45\"/>\r\n       <use x=\"453.90625\" xlink:href=\"#DejaVuSans-49\"/>\r\n       <use x=\"517.529297\" xlink:href=\"#DejaVuSans-53\"/>\r\n      </g>\r\n     </g>\r\n    </g>\r\n    <g id=\"xtick_6\">\r\n     <g id=\"line2d_6\">\r\n      <g>\r\n       <use style=\"stroke:#000000;stroke-width:0.8;\" x=\"303.088135\" xlink:href=\"#m74c487160e\" y=\"203.369084\"/>\r\n      </g>\r\n     </g>\r\n     <g id=\"text_6\">\r\n      <!-- 3984-02-22 -->\r\n      <g transform=\"translate(251.718684 246.007336)rotate(-30)scale(0.1 -0.1)\">\r\n       <use xlink:href=\"#DejaVuSans-51\"/>\r\n       <use x=\"63.623047\" xlink:href=\"#DejaVuSans-57\"/>\r\n       <use x=\"127.246094\" xlink:href=\"#DejaVuSans-56\"/>\r\n       <use x=\"190.869141\" xlink:href=\"#DejaVuSans-52\"/>\r\n       <use x=\"254.492188\" xlink:href=\"#DejaVuSans-45\"/>\r\n       <use x=\"290.576172\" xlink:href=\"#DejaVuSans-48\"/>\r\n       <use x=\"354.199219\" xlink:href=\"#DejaVuSans-50\"/>\r\n       <use x=\"417.822266\" xlink:href=\"#DejaVuSans-45\"/>\r\n       <use x=\"453.90625\" xlink:href=\"#DejaVuSans-50\"/>\r\n       <use x=\"517.529297\" xlink:href=\"#DejaVuSans-50\"/>\r\n      </g>\r\n     </g>\r\n    </g>\r\n    <g id=\"xtick_7\">\r\n     <g id=\"line2d_7\">\r\n      <g>\r\n       <use style=\"stroke:#000000;stroke-width:0.8;\" x=\"352.653715\" xlink:href=\"#m74c487160e\" y=\"203.369084\"/>\r\n      </g>\r\n     </g>\r\n     <g id=\"text_7\">\r\n      <!-- 3984-03-01 -->\r\n      <g transform=\"translate(301.284264 246.007336)rotate(-30)scale(0.1 -0.1)\">\r\n       <use xlink:href=\"#DejaVuSans-51\"/>\r\n       <use x=\"63.623047\" xlink:href=\"#DejaVuSans-57\"/>\r\n       <use x=\"127.246094\" xlink:href=\"#DejaVuSans-56\"/>\r\n       <use x=\"190.869141\" xlink:href=\"#DejaVuSans-52\"/>\r\n       <use x=\"254.492188\" xlink:href=\"#DejaVuSans-45\"/>\r\n       <use x=\"290.576172\" xlink:href=\"#DejaVuSans-48\"/>\r\n       <use x=\"354.199219\" xlink:href=\"#DejaVuSans-51\"/>\r\n       <use x=\"417.822266\" xlink:href=\"#DejaVuSans-45\"/>\r\n       <use x=\"453.90625\" xlink:href=\"#DejaVuSans-48\"/>\r\n       <use x=\"517.529297\" xlink:href=\"#DejaVuSans-49\"/>\r\n      </g>\r\n     </g>\r\n    </g>\r\n    <g id=\"text_8\">\r\n     <!-- date -->\r\n     <g transform=\"translate(186.228125 259.406836)scale(0.1 -0.1)\">\r\n      <defs>\r\n       <path d=\"M 45.40625 46.390625 \r\nL 45.40625 75.984375 \r\nL 54.390625 75.984375 \r\nL 54.390625 0 \r\nL 45.40625 0 \r\nL 45.40625 8.203125 \r\nQ 42.578125 3.328125 38.25 0.953125 \r\nQ 33.9375 -1.421875 27.875 -1.421875 \r\nQ 17.96875 -1.421875 11.734375 6.484375 \r\nQ 5.515625 14.40625 5.515625 27.296875 \r\nQ 5.515625 40.1875 11.734375 48.09375 \r\nQ 17.96875 56 27.875 56 \r\nQ 33.9375 56 38.25 53.625 \r\nQ 42.578125 51.265625 45.40625 46.390625 \r\nz\r\nM 14.796875 27.296875 \r\nQ 14.796875 17.390625 18.875 11.75 \r\nQ 22.953125 6.109375 30.078125 6.109375 \r\nQ 37.203125 6.109375 41.296875 11.75 \r\nQ 45.40625 17.390625 45.40625 27.296875 \r\nQ 45.40625 37.203125 41.296875 42.84375 \r\nQ 37.203125 48.484375 30.078125 48.484375 \r\nQ 22.953125 48.484375 18.875 42.84375 \r\nQ 14.796875 37.203125 14.796875 27.296875 \r\nz\r\n\" id=\"DejaVuSans-100\"/>\r\n       <path d=\"M 34.28125 27.484375 \r\nQ 23.390625 27.484375 19.1875 25 \r\nQ 14.984375 22.515625 14.984375 16.5 \r\nQ 14.984375 11.71875 18.140625 8.90625 \r\nQ 21.296875 6.109375 26.703125 6.109375 \r\nQ 34.1875 6.109375 38.703125 11.40625 \r\nQ 43.21875 16.703125 43.21875 25.484375 \r\nL 43.21875 27.484375 \r\nz\r\nM 52.203125 31.203125 \r\nL 52.203125 0 \r\nL 43.21875 0 \r\nL 43.21875 8.296875 \r\nQ 40.140625 3.328125 35.546875 0.953125 \r\nQ 30.953125 -1.421875 24.3125 -1.421875 \r\nQ 15.921875 -1.421875 10.953125 3.296875 \r\nQ 6 8.015625 6 15.921875 \r\nQ 6 25.140625 12.171875 29.828125 \r\nQ 18.359375 34.515625 30.609375 34.515625 \r\nL 43.21875 34.515625 \r\nL 43.21875 35.40625 \r\nQ 43.21875 41.609375 39.140625 45 \r\nQ 35.0625 48.390625 27.6875 48.390625 \r\nQ 23 48.390625 18.546875 47.265625 \r\nQ 14.109375 46.140625 10.015625 43.890625 \r\nL 10.015625 52.203125 \r\nQ 14.9375 54.109375 19.578125 55.046875 \r\nQ 24.21875 56 28.609375 56 \r\nQ 40.484375 56 46.34375 49.84375 \r\nQ 52.203125 43.703125 52.203125 31.203125 \r\nz\r\n\" id=\"DejaVuSans-97\"/>\r\n       <path d=\"M 18.3125 70.21875 \r\nL 18.3125 54.6875 \r\nL 36.8125 54.6875 \r\nL 36.8125 47.703125 \r\nL 18.3125 47.703125 \r\nL 18.3125 18.015625 \r\nQ 18.3125 11.328125 20.140625 9.421875 \r\nQ 21.96875 7.515625 27.59375 7.515625 \r\nL 36.8125 7.515625 \r\nL 36.8125 0 \r\nL 27.59375 0 \r\nQ 17.1875 0 13.234375 3.875 \r\nQ 9.28125 7.765625 9.28125 18.015625 \r\nL 9.28125 47.703125 \r\nL 2.6875 47.703125 \r\nL 2.6875 54.6875 \r\nL 9.28125 54.6875 \r\nL 9.28125 70.21875 \r\nz\r\n\" id=\"DejaVuSans-116\"/>\r\n       <path d=\"M 56.203125 29.59375 \r\nL 56.203125 25.203125 \r\nL 14.890625 25.203125 \r\nQ 15.484375 15.921875 20.484375 11.0625 \r\nQ 25.484375 6.203125 34.421875 6.203125 \r\nQ 39.59375 6.203125 44.453125 7.46875 \r\nQ 49.3125 8.734375 54.109375 11.28125 \r\nL 54.109375 2.78125 \r\nQ 49.265625 0.734375 44.1875 -0.34375 \r\nQ 39.109375 -1.421875 33.890625 -1.421875 \r\nQ 20.796875 -1.421875 13.15625 6.1875 \r\nQ 5.515625 13.8125 5.515625 26.8125 \r\nQ 5.515625 40.234375 12.765625 48.109375 \r\nQ 20.015625 56 32.328125 56 \r\nQ 43.359375 56 49.78125 48.890625 \r\nQ 56.203125 41.796875 56.203125 29.59375 \r\nz\r\nM 47.21875 32.234375 \r\nQ 47.125 39.59375 43.09375 43.984375 \r\nQ 39.0625 48.390625 32.421875 48.390625 \r\nQ 24.90625 48.390625 20.390625 44.140625 \r\nQ 15.875 39.890625 15.1875 32.171875 \r\nz\r\n\" id=\"DejaVuSans-101\"/>\r\n      </defs>\r\n      <use xlink:href=\"#DejaVuSans-100\"/>\r\n      <use x=\"63.476562\" xlink:href=\"#DejaVuSans-97\"/>\r\n      <use x=\"124.755859\" xlink:href=\"#DejaVuSans-116\"/>\r\n      <use x=\"163.964844\" xlink:href=\"#DejaVuSans-101\"/>\r\n     </g>\r\n    </g>\r\n   </g>\r\n   <g id=\"matplotlib.axis_2\">\r\n    <g id=\"ytick_1\">\r\n     <g id=\"line2d_8\">\r\n      <defs>\r\n       <path d=\"M 0 0 \r\nL -3.5 0 \r\n\" id=\"m378e8a70e2\" style=\"stroke:#000000;stroke-width:0.8;\"/>\r\n      </defs>\r\n      <g>\r\n       <use style=\"stroke:#000000;stroke-width:0.8;\" x=\"30.103125\" xlink:href=\"#m378e8a70e2\" y=\"186.317066\"/>\r\n      </g>\r\n     </g>\r\n     <g id=\"text_9\">\r\n      <!-- 0.8 -->\r\n      <g transform=\"translate(7.2 190.116284)scale(0.1 -0.1)\">\r\n       <defs>\r\n        <path d=\"M 10.6875 12.40625 \r\nL 21 12.40625 \r\nL 21 0 \r\nL 10.6875 0 \r\nz\r\n\" id=\"DejaVuSans-46\"/>\r\n       </defs>\r\n       <use xlink:href=\"#DejaVuSans-48\"/>\r\n       <use x=\"63.623047\" xlink:href=\"#DejaVuSans-46\"/>\r\n       <use x=\"95.410156\" xlink:href=\"#DejaVuSans-56\"/>\r\n      </g>\r\n     </g>\r\n    </g>\r\n    <g id=\"ytick_2\">\r\n     <g id=\"line2d_9\">\r\n      <g>\r\n       <use style=\"stroke:#000000;stroke-width:0.8;\" x=\"30.103125\" xlink:href=\"#m378e8a70e2\" y=\"151.253496\"/>\r\n      </g>\r\n     </g>\r\n     <g id=\"text_10\">\r\n      <!-- 0.9 -->\r\n      <g transform=\"translate(7.2 155.052715)scale(0.1 -0.1)\">\r\n       <use xlink:href=\"#DejaVuSans-48\"/>\r\n       <use x=\"63.623047\" xlink:href=\"#DejaVuSans-46\"/>\r\n       <use x=\"95.410156\" xlink:href=\"#DejaVuSans-57\"/>\r\n      </g>\r\n     </g>\r\n    </g>\r\n    <g id=\"ytick_3\">\r\n     <g id=\"line2d_10\">\r\n      <g>\r\n       <use style=\"stroke:#000000;stroke-width:0.8;\" x=\"30.103125\" xlink:href=\"#m378e8a70e2\" y=\"116.189927\"/>\r\n      </g>\r\n     </g>\r\n     <g id=\"text_11\">\r\n      <!-- 1.0 -->\r\n      <g transform=\"translate(7.2 119.989146)scale(0.1 -0.1)\">\r\n       <use xlink:href=\"#DejaVuSans-49\"/>\r\n       <use x=\"63.623047\" xlink:href=\"#DejaVuSans-46\"/>\r\n       <use x=\"95.410156\" xlink:href=\"#DejaVuSans-48\"/>\r\n      </g>\r\n     </g>\r\n    </g>\r\n    <g id=\"ytick_4\">\r\n     <g id=\"line2d_11\">\r\n      <g>\r\n       <use style=\"stroke:#000000;stroke-width:0.8;\" x=\"30.103125\" xlink:href=\"#m378e8a70e2\" y=\"81.126358\"/>\r\n      </g>\r\n     </g>\r\n     <g id=\"text_12\">\r\n      <!-- 1.1 -->\r\n      <g transform=\"translate(7.2 84.925576)scale(0.1 -0.1)\">\r\n       <use xlink:href=\"#DejaVuSans-49\"/>\r\n       <use x=\"63.623047\" xlink:href=\"#DejaVuSans-46\"/>\r\n       <use x=\"95.410156\" xlink:href=\"#DejaVuSans-49\"/>\r\n      </g>\r\n     </g>\r\n    </g>\r\n    <g id=\"ytick_5\">\r\n     <g id=\"line2d_12\">\r\n      <g>\r\n       <use style=\"stroke:#000000;stroke-width:0.8;\" x=\"30.103125\" xlink:href=\"#m378e8a70e2\" y=\"46.062788\"/>\r\n      </g>\r\n     </g>\r\n     <g id=\"text_13\">\r\n      <!-- 1.2 -->\r\n      <g transform=\"translate(7.2 49.862007)scale(0.1 -0.1)\">\r\n       <use xlink:href=\"#DejaVuSans-49\"/>\r\n       <use x=\"63.623047\" xlink:href=\"#DejaVuSans-46\"/>\r\n       <use x=\"95.410156\" xlink:href=\"#DejaVuSans-50\"/>\r\n      </g>\r\n     </g>\r\n    </g>\r\n    <g id=\"ytick_6\">\r\n     <g id=\"line2d_13\">\r\n      <g>\r\n       <use style=\"stroke:#000000;stroke-width:0.8;\" x=\"30.103125\" xlink:href=\"#m378e8a70e2\" y=\"10.999219\"/>\r\n      </g>\r\n     </g>\r\n     <g id=\"text_14\">\r\n      <!-- 1.3 -->\r\n      <g transform=\"translate(7.2 14.798438)scale(0.1 -0.1)\">\r\n       <use xlink:href=\"#DejaVuSans-49\"/>\r\n       <use x=\"63.623047\" xlink:href=\"#DejaVuSans-46\"/>\r\n       <use x=\"95.410156\" xlink:href=\"#DejaVuSans-51\"/>\r\n      </g>\r\n     </g>\r\n    </g>\r\n   </g>\r\n   <g id=\"line2d_14\">\r\n    <path clip-path=\"url(#p1658cf9011)\" d=\"M 45.321307 115.313338 \r\nL 45.579461 114.961825 \r\nL 46.095769 116.016362 \r\nL 51.517004 114.434557 \r\nL 51.775158 114.082166 \r\nL 52.291466 115.139339 \r\nL 57.712702 113.553579 \r\nL 57.970856 113.200307 \r\nL 58.487164 114.260123 \r\nL 63.908399 112.670399 \r\nL 64.166553 112.316244 \r\nL 64.682861 113.37871 \r\nL 70.104097 111.785011 \r\nL 70.362251 111.429971 \r\nL 70.878559 112.495092 \r\nL 76.299794 110.89741 \r\nL 76.557948 110.541481 \r\nL 77.074256 111.609266 \r\nL 82.495491 110.007589 \r\nL 82.753645 109.650771 \r\nL 83.269954 110.721225 \r\nL 88.691189 109.115544 \r\nL 88.949343 108.757834 \r\nL 89.465651 109.830964 \r\nL 94.886886 108.221269 \r\nL 95.14504 107.862664 \r\nL 95.661348 108.938478 \r\nL 101.082584 107.324758 \r\nL 101.340738 106.965257 \r\nL 101.857046 108.04376 \r\nL 107.278281 106.426006 \r\nL 107.536435 106.065606 \r\nL 108.052743 107.146805 \r\nL 113.473979 105.525007 \r\nL 113.732133 105.163706 \r\nL 114.248441 106.247608 \r\nL 119.669676 104.621755 \r\nL 119.92783 104.259551 \r\nL 120.444138 105.346163 \r\nL 125.865373 103.716246 \r\nL 126.123527 103.353136 \r\nL 126.639836 104.442464 \r\nL 132.061071 102.808472 \r\nL 132.319225 102.444455 \r\nL 132.835533 103.536506 \r\nL 138.256768 101.898429 \r\nL 138.514922 101.533502 \r\nL 139.03123 102.628284 \r\nL 144.452466 100.986111 \r\nL 144.71062 100.620272 \r\nL 145.226928 101.71779 \r\nL 150.648163 100.071513 \r\nL 150.906317 99.704758 \r\nL 151.422625 100.805021 \r\nL 156.843861 99.154627 \r\nL 157.102015 98.786956 \r\nL 157.618323 99.889969 \r\nL 163.039558 98.23545 \r\nL 163.297712 97.86686 \r\nL 163.81402 98.97263 \r\nL 169.235255 97.313974 \r\nL 169.49341 96.944463 \r\nL 170.009718 98.052998 \r\nL 175.430953 96.390195 \r\nL 175.689107 96.01976 \r\nL 176.205415 97.131066 \r\nL 181.62665 95.464107 \r\nL 181.884804 95.092745 \r\nL 182.401113 96.20683 \r\nL 187.822348 94.535703 \r\nL 188.080502 94.163413 \r\nL 188.59681 95.280283 \r\nL 194.018045 93.604978 \r\nL 194.276199 93.231757 \r\nL 194.792507 94.351419 \r\nL 200.213743 92.671926 \r\nL 200.471897 92.297773 \r\nL 200.988205 93.420234 \r\nL 206.40944 91.736542 \r\nL 206.667594 91.361453 \r\nL 207.183902 92.48672 \r\nL 212.605137 90.79882 \r\nL 212.863292 90.422793 \r\nL 213.3796 91.550873 \r\nL 218.800835 89.858753 \r\nL 219.058989 89.481786 \r\nL 219.575297 90.612686 \r\nL 224.996532 88.916335 \r\nL 225.254686 88.538426 \r\nL 225.770995 89.672154 \r\nL 231.19223 87.971562 \r\nL 231.450384 87.592708 \r\nL 231.966692 88.72927 \r\nL 237.387927 87.024427 \r\nL 237.646081 86.644626 \r\nL 238.162389 87.784029 \r\nL 243.583625 86.074924 \r\nL 243.841779 85.694173 \r\nL 244.358087 86.836425 \r\nL 249.779322 85.123047 \r\nL 250.037476 84.741345 \r\nL 250.553784 85.886452 \r\nL 255.97502 84.168791 \r\nL 256.233174 83.786134 \r\nL 256.749482 84.934104 \r\nL 262.170717 83.212149 \r\nL 262.428871 82.828535 \r\nL 262.945179 83.979376 \r\nL 268.366414 82.253115 \r\nL 268.624568 81.868543 \r\nL 269.140877 83.02226 \r\nL 274.562112 81.291684 \r\nL 274.820266 80.90615 \r\nL 275.336574 82.062752 \r\nL 280.757809 80.327849 \r\nL 281.015963 79.941351 \r\nL 281.532271 81.100845 \r\nL 286.953507 79.361605 \r\nL 287.211661 78.974141 \r\nL 287.727969 80.136533 \r\nL 293.149204 78.392944 \r\nL 293.407358 78.004512 \r\nL 293.923666 79.16981 \r\nL 299.344902 77.421863 \r\nL 299.603056 77.032459 \r\nL 300.119364 78.20067 \r\nL 305.540599 76.448353 \r\nL 305.798753 76.057976 \r\nL 306.315061 77.229108 \r\nL 311.736296 75.47241 \r\nL 311.99445 75.081057 \r\nL 312.510759 76.255117 \r\nL 317.931994 74.494027 \r\nL 318.190148 74.101696 \r\nL 318.706456 75.27869 \r\nL 324.127691 73.513198 \r\nL 324.385845 73.119886 \r\nL 324.902153 74.299823 \r\nL 330.323389 72.529917 \r\nL 330.581543 72.135621 \r\nL 331.097851 73.318509 \r\nL 336.519086 71.544178 \r\nL 336.77724 71.148896 \r\nL 337.293548 72.334741 \r\nL 342.714784 70.555974 \r\nL 342.972938 70.159705 \r\nL 343.489246 71.348514 \r\nL 348.910481 69.5653 \r\nL 349.168635 69.16804 \r\nL 349.684943 70.359821 \r\nL 349.684943 70.359821 \r\n\" style=\"fill:none;stroke:#1f77b4;stroke-linecap:square;stroke-width:1.5;\"/>\r\n   </g>\r\n   <g id=\"line2d_15\">\r\n    <path clip-path=\"url(#p1658cf9011)\" d=\"M 45.321307 114.436748 \r\nL 45.579461 114.08436 \r\nL 46.095769 115.141526 \r\nL 51.517004 112.674804 \r\nL 51.775158 112.320653 \r\nL 52.291466 113.383106 \r\nL 57.712702 110.90405 \r\nL 57.970856 110.548128 \r\nL 58.487164 111.615893 \r\nL 63.908399 109.124442 \r\nL 64.166553 108.766741 \r\nL 64.682861 109.839845 \r\nL 70.104097 107.335936 \r\nL 70.362251 106.976447 \r\nL 70.878559 108.054916 \r\nL 76.299794 105.538488 \r\nL 76.557948 105.177201 \r\nL 77.074256 106.261062 \r\nL 82.495491 103.732052 \r\nL 82.753645 103.368959 \r\nL 83.269954 104.458239 \r\nL 88.691189 101.916584 \r\nL 88.949343 101.551675 \r\nL 89.465651 102.646402 \r\nL 94.886886 100.092039 \r\nL 95.14504 99.725306 \r\nL 95.661348 100.825506 \r\nL 101.082584 98.258371 \r\nL 101.340738 97.889804 \r\nL 101.857046 98.995506 \r\nL 107.278281 96.415535 \r\nL 107.536435 96.045125 \r\nL 108.052743 97.156355 \r\nL 113.473979 94.563485 \r\nL 113.732133 94.191222 \r\nL 114.248441 95.308009 \r\nL 119.669676 92.702174 \r\nL 119.92783 92.32805 \r\nL 120.444138 93.450421 \r\nL 125.865373 90.831557 \r\nL 126.123527 90.455563 \r\nL 126.639836 91.583545 \r\nL 132.061071 88.951586 \r\nL 132.319225 88.573712 \r\nL 132.835533 89.707334 \r\nL 138.256768 87.062216 \r\nL 138.514922 86.682453 \r\nL 139.03123 87.821743 \r\nL 144.452466 85.163399 \r\nL 144.71062 84.781737 \r\nL 145.226928 85.926724 \r\nL 150.648163 83.255088 \r\nL 150.906317 82.871517 \r\nL 151.422625 84.022229 \r\nL 156.843861 81.337235 \r\nL 157.102015 80.951747 \r\nL 157.618323 82.108212 \r\nL 163.039558 79.409793 \r\nL 163.297712 79.022378 \r\nL 163.81402 80.184625 \r\nL 169.235255 77.472714 \r\nL 169.49341 77.083361 \r\nL 170.009718 78.25142 \r\nL 175.430953 75.52595 \r\nL 175.689107 75.13465 \r\nL 176.205415 76.308549 \r\nL 181.62665 73.569451 \r\nL 181.884804 73.176195 \r\nL 182.401113 74.355964 \r\nL 187.822348 71.603171 \r\nL 188.080502 71.207948 \r\nL 188.59681 72.393615 \r\nL 194.018045 69.627058 \r\nL 194.276199 69.22986 \r\nL 194.792507 70.421455 \r\nL 200.213743 67.641065 \r\nL 200.471897 67.241881 \r\nL 200.988205 68.439435 \r\nL 206.40944 65.645143 \r\nL 206.667594 65.243962 \r\nL 207.183902 66.447504 \r\nL 212.605137 63.63924 \r\nL 212.863292 63.236054 \r\nL 213.3796 64.445613 \r\nL 218.800835 61.623308 \r\nL 219.058989 61.218106 \r\nL 219.575297 62.433713 \r\nL 224.996532 59.597297 \r\nL 225.254686 59.190069 \r\nL 225.770995 60.411754 \r\nL 231.19223 57.561155 \r\nL 231.450384 57.151891 \r\nL 231.966692 58.379684 \r\nL 237.387927 55.514833 \r\nL 237.646081 55.103522 \r\nL 238.162389 56.337454 \r\nL 243.583625 53.458279 \r\nL 243.841779 53.044912 \r\nL 244.358087 54.285014 \r\nL 249.779322 51.391442 \r\nL 250.037476 50.976008 \r\nL 250.553784 52.222311 \r\nL 255.97502 49.314271 \r\nL 256.233174 48.89676 \r\nL 256.749482 50.149294 \r\nL 262.170717 47.226715 \r\nL 262.428871 46.807116 \r\nL 262.945179 48.065912 \r\nL 268.366414 45.12872 \r\nL 268.624568 44.707023 \r\nL 269.140877 45.972114 \r\nL 274.562112 43.020236 \r\nL 274.820266 42.59643 \r\nL 275.336574 43.867846 \r\nL 280.757809 40.901209 \r\nL 281.015963 40.475284 \r\nL 281.532271 41.753057 \r\nL 286.953507 38.771587 \r\nL 287.211661 38.343533 \r\nL 287.727969 39.627695 \r\nL 293.149204 36.631316 \r\nL 293.407358 36.201122 \r\nL 293.923666 37.491705 \r\nL 299.344902 34.480345 \r\nL 299.603056 34.048 \r\nL 300.119364 35.345035 \r\nL 305.540599 32.318619 \r\nL 305.798753 31.884112 \r\nL 306.315061 33.187633 \r\nL 311.736296 30.146084 \r\nL 311.99445 29.709404 \r\nL 312.510759 31.019443 \r\nL 317.931994 27.962686 \r\nL 318.190148 27.523823 \r\nL 318.706456 28.840412 \r\nL 324.127691 25.768371 \r\nL 324.385845 25.327314 \r\nL 324.902153 26.650486 \r\nL 330.323389 23.563085 \r\nL 330.581543 23.119822 \r\nL 331.097851 24.44961 \r\nL 336.519086 21.346772 \r\nL 336.77724 20.901293 \r\nL 337.293548 22.23773 \r\nL 342.714784 19.119378 \r\nL 342.972938 18.671672 \r\nL 343.489246 20.01479 \r\nL 348.910481 16.880847 \r\nL 349.168635 16.430902 \r\nL 349.684943 17.780736 \r\nL 349.684943 17.780736 \r\n\" style=\"fill:none;stroke:#ff7f0e;stroke-linecap:square;stroke-width:1.5;\"/>\r\n   </g>\r\n   <g id=\"line2d_16\">\r\n    <path clip-path=\"url(#p1658cf9011)\" d=\"M 45.321307 116.189927 \r\nL 45.579461 115.839291 \r\nL 46.095769 116.891198 \r\nL 51.517004 116.189927 \r\nL 51.775158 115.839291 \r\nL 52.291466 116.891198 \r\nL 57.712702 116.189927 \r\nL 57.970856 115.839291 \r\nL 58.487164 116.891198 \r\nL 63.908399 116.189927 \r\nL 64.166553 115.839291 \r\nL 64.682861 116.891198 \r\nL 70.104097 116.189927 \r\nL 70.362251 115.839291 \r\nL 70.878559 116.891198 \r\nL 76.299794 116.189927 \r\nL 76.557948 115.839291 \r\nL 77.074256 116.891198 \r\nL 82.495491 116.189927 \r\nL 82.753645 115.839291 \r\nL 83.269954 116.891198 \r\nL 88.691189 116.189927 \r\nL 88.949343 115.839291 \r\nL 89.465651 116.891198 \r\nL 94.886886 116.189927 \r\nL 95.14504 115.839291 \r\nL 95.661348 116.891198 \r\nL 101.082584 116.189927 \r\nL 101.340738 115.839291 \r\nL 101.857046 116.891198 \r\nL 107.278281 116.189927 \r\nL 107.536435 115.839291 \r\nL 108.052743 116.891198 \r\nL 113.473979 116.189927 \r\nL 113.732133 115.839291 \r\nL 114.248441 116.891198 \r\nL 119.669676 116.189927 \r\nL 119.92783 115.839291 \r\nL 120.444138 116.891198 \r\nL 125.865373 116.189927 \r\nL 126.123527 115.839291 \r\nL 126.639836 116.891198 \r\nL 132.061071 116.189927 \r\nL 132.319225 115.839291 \r\nL 132.835533 116.891198 \r\nL 138.256768 116.189927 \r\nL 138.514922 115.839291 \r\nL 139.03123 116.891198 \r\nL 144.452466 116.189927 \r\nL 144.71062 115.839291 \r\nL 145.226928 116.891198 \r\nL 150.648163 116.189927 \r\nL 150.906317 115.839291 \r\nL 151.422625 116.891198 \r\nL 156.843861 116.189927 \r\nL 157.102015 115.839291 \r\nL 157.618323 116.891198 \r\nL 163.039558 116.189927 \r\nL 163.297712 115.839291 \r\nL 163.81402 116.891198 \r\nL 169.235255 116.189927 \r\nL 169.49341 115.839291 \r\nL 170.009718 116.891198 \r\nL 175.430953 116.189927 \r\nL 175.689107 115.839291 \r\nL 176.205415 116.891198 \r\nL 181.62665 116.189927 \r\nL 181.884804 115.839291 \r\nL 182.401113 116.891198 \r\nL 187.822348 116.189927 \r\nL 188.080502 115.839291 \r\nL 188.59681 116.891198 \r\nL 194.018045 116.189927 \r\nL 194.276199 115.839291 \r\nL 194.792507 116.891198 \r\nL 200.213743 116.189927 \r\nL 200.471897 115.839291 \r\nL 200.988205 116.891198 \r\nL 206.40944 116.189927 \r\nL 206.667594 115.839291 \r\nL 207.183902 116.891198 \r\nL 212.605137 116.189927 \r\nL 212.863292 115.839291 \r\nL 213.3796 116.891198 \r\nL 218.800835 116.189927 \r\nL 219.058989 115.839291 \r\nL 219.575297 116.891198 \r\nL 224.996532 116.189927 \r\nL 225.254686 115.839291 \r\nL 225.770995 116.891198 \r\nL 231.19223 116.189927 \r\nL 231.450384 115.839291 \r\nL 231.966692 116.891198 \r\nL 237.387927 116.189927 \r\nL 237.646081 115.839291 \r\nL 238.162389 116.891198 \r\nL 243.583625 116.189927 \r\nL 243.841779 115.839291 \r\nL 244.358087 116.891198 \r\nL 249.779322 116.189927 \r\nL 250.037476 115.839291 \r\nL 250.553784 116.891198 \r\nL 255.97502 116.189927 \r\nL 256.233174 115.839291 \r\nL 256.749482 116.891198 \r\nL 262.170717 116.189927 \r\nL 262.428871 115.839291 \r\nL 262.945179 116.891198 \r\nL 268.366414 116.189927 \r\nL 268.624568 115.839291 \r\nL 269.140877 116.891198 \r\nL 274.562112 116.189927 \r\nL 274.820266 115.839291 \r\nL 275.336574 116.891198 \r\nL 280.757809 116.189927 \r\nL 281.015963 115.839291 \r\nL 281.532271 116.891198 \r\nL 286.953507 116.189927 \r\nL 287.211661 115.839291 \r\nL 287.727969 116.891198 \r\nL 293.149204 116.189927 \r\nL 293.407358 115.839291 \r\nL 293.923666 116.891198 \r\nL 299.344902 116.189927 \r\nL 299.603056 115.839291 \r\nL 300.119364 116.891198 \r\nL 305.540599 116.189927 \r\nL 305.798753 115.839291 \r\nL 306.315061 116.891198 \r\nL 311.736296 116.189927 \r\nL 311.99445 115.839291 \r\nL 312.510759 116.891198 \r\nL 317.931994 116.189927 \r\nL 318.190148 115.839291 \r\nL 318.706456 116.891198 \r\nL 324.127691 116.189927 \r\nL 324.385845 115.839291 \r\nL 324.902153 116.891198 \r\nL 330.323389 116.189927 \r\nL 330.581543 115.839291 \r\nL 331.097851 116.891198 \r\nL 336.519086 116.189927 \r\nL 336.77724 115.839291 \r\nL 337.293548 116.891198 \r\nL 342.714784 116.189927 \r\nL 342.972938 115.839291 \r\nL 343.489246 116.891198 \r\nL 348.910481 116.189927 \r\nL 349.168635 115.839291 \r\nL 349.684943 116.891198 \r\nL 349.684943 116.891198 \r\n\" style=\"fill:none;stroke:#2ca02c;stroke-linecap:square;stroke-width:1.5;\"/>\r\n   </g>\r\n   <g id=\"line2d_17\">\r\n    <path clip-path=\"url(#p1658cf9011)\" d=\"M 45.321307 117.943105 \r\nL 45.579461 117.594223 \r\nL 46.095769 118.64087 \r\nL 51.517004 119.687518 \r\nL 51.775158 119.34038 \r\nL 52.291466 120.381794 \r\nL 57.712702 121.423208 \r\nL 57.970856 121.077806 \r\nL 58.487164 122.114013 \r\nL 63.908399 123.150221 \r\nL 64.166553 122.806545 \r\nL 64.682861 123.837571 \r\nL 70.104097 124.868598 \r\nL 70.362251 124.526641 \r\nL 70.878559 125.552512 \r\nL 76.299794 126.578383 \r\nL 76.557948 126.238135 \r\nL 77.074256 127.258877 \r\nL 82.495491 128.279619 \r\nL 82.753645 127.941073 \r\nL 83.269954 128.956711 \r\nL 88.691189 129.972349 \r\nL 88.949343 129.635496 \r\nL 89.465651 130.646055 \r\nL 94.886886 131.656615 \r\nL 95.14504 131.321446 \r\nL 95.661348 132.326953 \r\nL 101.082584 133.33246 \r\nL 101.340738 132.998967 \r\nL 101.857046 133.999447 \r\nL 107.278281 134.999926 \r\nL 107.536435 134.6681 \r\nL 108.052743 135.663577 \r\nL 113.473979 136.659055 \r\nL 113.732133 136.328888 \r\nL 114.248441 137.319388 \r\nL 119.669676 138.309887 \r\nL 119.92783 137.981372 \r\nL 120.444138 138.966919 \r\nL 125.865373 139.952466 \r\nL 126.123527 139.625593 \r\nL 126.639836 140.606212 \r\nL 132.061071 141.586832 \r\nL 132.319225 141.261593 \r\nL 132.835533 142.237309 \r\nL 138.256768 143.213026 \r\nL 138.514922 142.889413 \r\nL 139.03123 143.860251 \r\nL 144.452466 144.831089 \r\nL 144.71062 144.509094 \r\nL 145.226928 145.475078 \r\nL 150.648163 146.441061 \r\nL 150.906317 146.120677 \r\nL 151.422625 147.081831 \r\nL 156.843861 148.042984 \r\nL 157.102015 147.724202 \r\nL 157.618323 148.680549 \r\nL 163.039558 149.636897 \r\nL 163.297712 149.319709 \r\nL 163.81402 150.271275 \r\nL 169.235255 151.222841 \r\nL 169.49341 150.907238 \r\nL 170.009718 151.854047 \r\nL 175.430953 152.800855 \r\nL 175.689107 152.48683 \r\nL 176.205415 153.428904 \r\nL 181.62665 154.370979 \r\nL 181.884804 154.058524 \r\nL 182.401113 154.995888 \r\nL 187.822348 155.933252 \r\nL 188.080502 155.62236 \r\nL 188.59681 156.555037 \r\nL 194.018045 157.487714 \r\nL 194.276199 157.178376 \r\nL 194.792507 158.10639 \r\nL 200.213743 159.034403 \r\nL 200.471897 158.726612 \r\nL 200.988205 159.649986 \r\nL 206.40944 160.573359 \r\nL 206.667594 160.267107 \r\nL 207.183902 161.185864 \r\nL 212.605137 162.104621 \r\nL 212.863292 161.7999 \r\nL 213.3796 162.714063 \r\nL 218.800835 163.628226 \r\nL 219.058989 163.325028 \r\nL 219.575297 164.23462 \r\nL 224.996532 165.144213 \r\nL 225.254686 164.842531 \r\nL 225.770995 165.747575 \r\nL 231.19223 166.65262 \r\nL 231.450384 166.352447 \r\nL 231.966692 167.252966 \r\nL 237.387927 168.153485 \r\nL 237.646081 167.854813 \r\nL 238.162389 168.750829 \r\nL 243.583625 169.646845 \r\nL 243.841779 169.349667 \r\nL 244.358087 170.241203 \r\nL 249.779322 171.132739 \r\nL 250.037476 170.837046 \r\nL 250.553784 171.724125 \r\nL 255.97502 172.611204 \r\nL 256.233174 172.316989 \r\nL 256.749482 173.199633 \r\nL 262.170717 174.082276 \r\nL 262.428871 173.789532 \r\nL 262.945179 174.667762 \r\nL 268.366414 175.545992 \r\nL 268.624568 175.254713 \r\nL 269.140877 176.128552 \r\nL 274.562112 177.002391 \r\nL 274.820266 176.712567 \r\nL 275.336574 177.582037 \r\nL 280.757809 178.451507 \r\nL 281.015963 178.163133 \r\nL 281.532271 179.028255 \r\nL 286.953507 179.893377 \r\nL 287.211661 179.606445 \r\nL 287.727969 180.467242 \r\nL 293.149204 181.328039 \r\nL 293.407358 181.042541 \r\nL 293.923666 181.899034 \r\nL 299.344902 182.755526 \r\nL 299.603056 182.471456 \r\nL 300.119364 183.323667 \r\nL 305.540599 184.175877 \r\nL 305.798753 183.893227 \r\nL 306.315061 184.741176 \r\nL 311.736296 185.589126 \r\nL 311.99445 185.307889 \r\nL 312.510759 186.151599 \r\nL 317.931994 186.995308 \r\nL 318.190148 186.715478 \r\nL 318.706456 187.554969 \r\nL 324.127691 188.39446 \r\nL 324.385845 188.116029 \r\nL 324.902153 188.951322 \r\nL 330.323389 189.786616 \r\nL 330.581543 189.509577 \r\nL 331.097851 190.340694 \r\nL 336.519086 191.171811 \r\nL 336.77724 190.896157 \r\nL 337.293548 191.723118 \r\nL 342.714784 192.55008 \r\nL 342.972938 192.275804 \r\nL 343.489246 193.098631 \r\nL 348.910481 193.921457 \r\nL 349.168635 193.648553 \r\nL 349.684943 194.467266 \r\nL 349.684943 194.467266 \r\n\" style=\"fill:none;stroke:#d62728;stroke-linecap:square;stroke-width:1.5;\"/>\r\n   </g>\r\n   <g id=\"line2d_18\">\r\n    <path clip-path=\"url(#p1658cf9011)\" d=\"M 45.321307 114.436748 \r\nL 45.579461 114.08436 \r\nL 46.095769 115.141526 \r\nL 51.517004 112.674804 \r\nL 51.775158 112.320653 \r\nL 52.291466 113.383106 \r\nL 57.712702 110.90405 \r\nL 57.970856 110.548128 \r\nL 58.487164 111.615893 \r\nL 63.908399 109.124442 \r\nL 64.166553 108.766741 \r\nL 64.682861 109.839845 \r\nL 70.104097 107.335936 \r\nL 70.362251 106.976447 \r\nL 70.878559 108.054916 \r\nL 76.299794 105.538488 \r\nL 76.557948 105.177201 \r\nL 77.074256 106.261062 \r\nL 82.495491 103.732052 \r\nL 82.753645 103.368959 \r\nL 83.269954 104.458239 \r\nL 88.691189 101.916584 \r\nL 88.949343 101.551675 \r\nL 89.465651 102.646402 \r\nL 94.886886 100.092039 \r\nL 95.14504 99.725306 \r\nL 95.661348 100.825506 \r\nL 101.082584 98.258371 \r\nL 101.340738 97.889804 \r\nL 101.857046 98.995506 \r\nL 107.278281 96.415535 \r\nL 107.536435 96.045125 \r\nL 108.052743 97.156355 \r\nL 113.473979 94.563485 \r\nL 113.732133 94.191222 \r\nL 114.248441 95.308009 \r\nL 119.669676 92.702174 \r\nL 119.92783 92.32805 \r\nL 120.444138 93.450421 \r\nL 125.865373 90.831557 \r\nL 126.123527 90.455563 \r\nL 126.639836 91.583545 \r\nL 132.061071 88.951586 \r\nL 132.319225 88.573712 \r\nL 132.835533 89.707334 \r\nL 138.256768 87.062216 \r\nL 138.514922 86.682453 \r\nL 139.03123 87.821743 \r\nL 144.452466 85.163399 \r\nL 144.71062 84.781737 \r\nL 145.226928 85.926724 \r\nL 150.648163 83.255088 \r\nL 150.906317 82.871517 \r\nL 151.422625 84.022229 \r\nL 156.843861 81.337235 \r\nL 157.102015 80.951747 \r\nL 157.618323 82.108212 \r\nL 163.039558 79.409793 \r\nL 163.297712 79.022378 \r\nL 163.81402 80.184625 \r\nL 169.235255 77.472714 \r\nL 169.49341 77.083361 \r\nL 170.009718 78.25142 \r\nL 175.430953 75.52595 \r\nL 175.689107 75.13465 \r\nL 176.205415 76.308549 \r\nL 181.62665 73.569451 \r\nL 181.884804 73.176195 \r\nL 182.401113 74.355964 \r\nL 187.822348 71.603171 \r\nL 188.080502 71.207948 \r\nL 188.59681 72.393615 \r\nL 194.018045 69.627058 \r\nL 194.276199 69.22986 \r\nL 194.792507 70.421455 \r\nL 200.213743 67.641065 \r\nL 200.471897 67.241881 \r\nL 200.988205 68.439435 \r\nL 206.40944 65.645143 \r\nL 206.667594 65.243962 \r\nL 207.183902 66.447504 \r\nL 212.605137 63.63924 \r\nL 212.863292 63.236054 \r\nL 213.3796 64.445613 \r\nL 218.800835 61.623308 \r\nL 219.058989 61.218106 \r\nL 219.575297 62.433713 \r\nL 224.996532 59.597297 \r\nL 225.254686 59.190069 \r\nL 225.770995 60.411754 \r\nL 231.19223 57.561155 \r\nL 231.450384 57.151891 \r\nL 231.966692 58.379684 \r\nL 237.387927 55.514833 \r\nL 237.646081 55.103522 \r\nL 238.162389 56.337454 \r\nL 243.583625 53.458279 \r\nL 243.841779 53.044912 \r\nL 244.358087 54.285014 \r\nL 249.779322 51.391442 \r\nL 250.037476 50.976008 \r\nL 250.553784 52.222311 \r\nL 255.97502 49.314271 \r\nL 256.233174 48.89676 \r\nL 256.749482 50.149294 \r\nL 262.170717 47.226715 \r\nL 262.428871 46.807116 \r\nL 262.945179 48.065912 \r\nL 268.366414 45.12872 \r\nL 268.624568 44.707023 \r\nL 269.140877 45.972114 \r\nL 274.562112 43.020236 \r\nL 274.820266 42.59643 \r\nL 275.336574 43.867846 \r\nL 280.757809 40.901209 \r\nL 281.015963 40.475284 \r\nL 281.532271 41.753057 \r\nL 286.953507 38.771587 \r\nL 287.211661 38.343533 \r\nL 287.727969 39.627695 \r\nL 293.149204 36.631316 \r\nL 293.407358 36.201122 \r\nL 293.923666 37.491705 \r\nL 299.344902 34.480345 \r\nL 299.603056 34.048 \r\nL 300.119364 35.345035 \r\nL 305.540599 32.318619 \r\nL 305.798753 31.884112 \r\nL 306.315061 33.187633 \r\nL 311.736296 30.146084 \r\nL 311.99445 29.709404 \r\nL 312.510759 31.019443 \r\nL 317.931994 27.962686 \r\nL 318.190148 27.523823 \r\nL 318.706456 28.840412 \r\nL 324.127691 25.768371 \r\nL 324.385845 25.327314 \r\nL 324.902153 26.650486 \r\nL 330.323389 23.563085 \r\nL 330.581543 23.119822 \r\nL 331.097851 24.44961 \r\nL 336.519086 21.346772 \r\nL 336.77724 20.901293 \r\nL 337.293548 22.23773 \r\nL 342.714784 19.119378 \r\nL 342.972938 18.671672 \r\nL 343.489246 20.01479 \r\nL 348.910481 16.880847 \r\nL 349.168635 16.430902 \r\nL 349.684943 17.780736 \r\nL 349.684943 17.780736 \r\n\" style=\"fill:none;stroke:#9467bd;stroke-linecap:square;stroke-width:1.5;\"/>\r\n   </g>\r\n   <g id=\"line2d_19\">\r\n    <path clip-path=\"url(#p1658cf9011)\" d=\"M 45.321307 116.189927 \r\nL 45.579461 115.839291 \r\nL 46.095769 116.891198 \r\nL 51.517004 116.189927 \r\nL 51.775158 115.839291 \r\nL 52.291466 116.891198 \r\nL 57.712702 116.189927 \r\nL 57.970856 115.839291 \r\nL 58.487164 116.891198 \r\nL 63.908399 116.189927 \r\nL 64.166553 115.839291 \r\nL 64.682861 116.891198 \r\nL 70.104097 116.189927 \r\nL 70.362251 115.839291 \r\nL 70.878559 116.891198 \r\nL 76.299794 116.189927 \r\nL 76.557948 115.839291 \r\nL 77.074256 116.891198 \r\nL 82.495491 116.189927 \r\nL 82.753645 115.839291 \r\nL 83.269954 116.891198 \r\nL 88.691189 116.189927 \r\nL 88.949343 115.839291 \r\nL 89.465651 116.891198 \r\nL 94.886886 116.189927 \r\nL 95.14504 115.839291 \r\nL 95.661348 116.891198 \r\nL 101.082584 116.189927 \r\nL 101.340738 115.839291 \r\nL 101.857046 116.891198 \r\nL 107.278281 116.189927 \r\nL 107.536435 115.839291 \r\nL 108.052743 116.891198 \r\nL 113.473979 116.189927 \r\nL 113.732133 115.839291 \r\nL 114.248441 116.891198 \r\nL 119.669676 116.189927 \r\nL 119.92783 115.839291 \r\nL 120.444138 116.891198 \r\nL 125.865373 116.189927 \r\nL 126.123527 115.839291 \r\nL 126.639836 116.891198 \r\nL 132.061071 116.189927 \r\nL 132.319225 115.839291 \r\nL 132.835533 116.891198 \r\nL 138.256768 116.189927 \r\nL 138.514922 115.839291 \r\nL 139.03123 116.891198 \r\nL 144.452466 116.189927 \r\nL 144.71062 115.839291 \r\nL 145.226928 116.891198 \r\nL 150.648163 116.189927 \r\nL 150.906317 115.839291 \r\nL 151.422625 116.891198 \r\nL 156.843861 116.189927 \r\nL 157.102015 115.839291 \r\nL 157.618323 116.891198 \r\nL 163.039558 116.189927 \r\nL 163.297712 115.839291 \r\nL 163.81402 116.891198 \r\nL 169.235255 116.189927 \r\nL 169.49341 115.839291 \r\nL 170.009718 116.891198 \r\nL 175.430953 116.189927 \r\nL 175.689107 115.839291 \r\nL 176.205415 116.891198 \r\nL 181.62665 116.189927 \r\nL 181.884804 115.839291 \r\nL 182.401113 116.891198 \r\nL 187.822348 116.189927 \r\nL 188.080502 115.839291 \r\nL 188.59681 116.891198 \r\nL 194.018045 116.189927 \r\nL 194.276199 115.839291 \r\nL 194.792507 116.891198 \r\nL 200.213743 116.189927 \r\nL 200.471897 115.839291 \r\nL 200.988205 116.891198 \r\nL 206.40944 116.189927 \r\nL 206.667594 115.839291 \r\nL 207.183902 116.891198 \r\nL 212.605137 116.189927 \r\nL 212.863292 115.839291 \r\nL 213.3796 116.891198 \r\nL 218.800835 116.189927 \r\nL 219.058989 115.839291 \r\nL 219.575297 116.891198 \r\nL 224.996532 116.189927 \r\nL 225.254686 115.839291 \r\nL 225.770995 116.891198 \r\nL 231.19223 116.189927 \r\nL 231.450384 115.839291 \r\nL 231.966692 116.891198 \r\nL 237.387927 116.189927 \r\nL 237.646081 115.839291 \r\nL 238.162389 116.891198 \r\nL 243.583625 116.189927 \r\nL 243.841779 115.839291 \r\nL 244.358087 116.891198 \r\nL 249.779322 116.189927 \r\nL 250.037476 115.839291 \r\nL 250.553784 116.891198 \r\nL 255.97502 116.189927 \r\nL 256.233174 115.839291 \r\nL 256.749482 116.891198 \r\nL 262.170717 116.189927 \r\nL 262.428871 115.839291 \r\nL 262.945179 116.891198 \r\nL 268.366414 116.189927 \r\nL 268.624568 115.839291 \r\nL 269.140877 116.891198 \r\nL 274.562112 116.189927 \r\nL 274.820266 115.839291 \r\nL 275.336574 116.891198 \r\nL 280.757809 116.189927 \r\nL 281.015963 115.839291 \r\nL 281.532271 116.891198 \r\nL 286.953507 116.189927 \r\nL 287.211661 115.839291 \r\nL 287.727969 116.891198 \r\nL 293.149204 116.189927 \r\nL 293.407358 115.839291 \r\nL 293.923666 116.891198 \r\nL 299.344902 116.189927 \r\nL 299.603056 115.839291 \r\nL 300.119364 116.891198 \r\nL 305.540599 116.189927 \r\nL 305.798753 115.839291 \r\nL 306.315061 116.891198 \r\nL 311.736296 116.189927 \r\nL 311.99445 115.839291 \r\nL 312.510759 116.891198 \r\nL 317.931994 116.189927 \r\nL 318.190148 115.839291 \r\nL 318.706456 116.891198 \r\nL 324.127691 116.189927 \r\nL 324.385845 115.839291 \r\nL 324.902153 116.891198 \r\nL 330.323389 116.189927 \r\nL 330.581543 115.839291 \r\nL 331.097851 116.891198 \r\nL 336.519086 116.189927 \r\nL 336.77724 115.839291 \r\nL 337.293548 116.891198 \r\nL 342.714784 116.189927 \r\nL 342.972938 115.839291 \r\nL 343.489246 116.891198 \r\nL 348.910481 116.189927 \r\nL 349.168635 115.839291 \r\nL 349.684943 116.891198 \r\nL 349.684943 116.891198 \r\n\" style=\"fill:none;stroke:#8c564b;stroke-linecap:square;stroke-width:1.5;\"/>\r\n   </g>\r\n   <g id=\"patch_3\">\r\n    <path d=\"M 30.103125 203.369084 \r\nL 30.103125 7.529084 \r\n\" style=\"fill:none;stroke:#000000;stroke-linecap:square;stroke-linejoin:miter;stroke-width:0.8;\"/>\r\n   </g>\r\n   <g id=\"patch_4\">\r\n    <path d=\"M 364.903125 203.369084 \r\nL 364.903125 7.529084 \r\n\" style=\"fill:none;stroke:#000000;stroke-linecap:square;stroke-linejoin:miter;stroke-width:0.8;\"/>\r\n   </g>\r\n   <g id=\"patch_5\">\r\n    <path d=\"M 30.103125 203.369084 \r\nL 364.903125 203.369084 \r\n\" style=\"fill:none;stroke:#000000;stroke-linecap:square;stroke-linejoin:miter;stroke-width:0.8;\"/>\r\n   </g>\r\n   <g id=\"patch_6\">\r\n    <path d=\"M 30.103125 7.529084 \r\nL 364.903125 7.529084 \r\n\" style=\"fill:none;stroke:#000000;stroke-linecap:square;stroke-linejoin:miter;stroke-width:0.8;\"/>\r\n   </g>\r\n   <g id=\"legend_1\">\r\n    <g id=\"patch_7\">\r\n     <path d=\"M 37.103125 103.597834 \r\nL 76.803125 103.597834 \r\nQ 78.803125 103.597834 78.803125 101.597834 \r\nL 78.803125 14.529084 \r\nQ 78.803125 12.529084 76.803125 12.529084 \r\nL 37.103125 12.529084 \r\nQ 35.103125 12.529084 35.103125 14.529084 \r\nL 35.103125 101.597834 \r\nQ 35.103125 103.597834 37.103125 103.597834 \r\nz\r\n\" style=\"fill:#ffffff;opacity:0.8;stroke:#cccccc;stroke-linejoin:miter;\"/>\r\n    </g>\r\n    <g id=\"line2d_20\">\r\n     <path d=\"M 39.103125 20.627521 \r\nL 59.103125 20.627521 \r\n\" style=\"fill:none;stroke:#1f77b4;stroke-linecap:square;stroke-width:1.5;\"/>\r\n    </g>\r\n    <g id=\"line2d_21\"/>\r\n    <g id=\"text_15\">\r\n     <!-- A -->\r\n     <g transform=\"translate(67.103125 24.127521)scale(0.1 -0.1)\">\r\n      <defs>\r\n       <path d=\"M 34.1875 63.1875 \r\nL 20.796875 26.90625 \r\nL 47.609375 26.90625 \r\nz\r\nM 28.609375 72.90625 \r\nL 39.796875 72.90625 \r\nL 67.578125 0 \r\nL 57.328125 0 \r\nL 50.6875 18.703125 \r\nL 17.828125 18.703125 \r\nL 11.1875 0 \r\nL 0.78125 0 \r\nz\r\n\" id=\"DejaVuSans-65\"/>\r\n      </defs>\r\n      <use xlink:href=\"#DejaVuSans-65\"/>\r\n     </g>\r\n    </g>\r\n    <g id=\"line2d_22\">\r\n     <path d=\"M 39.103125 35.305646 \r\nL 59.103125 35.305646 \r\n\" style=\"fill:none;stroke:#ff7f0e;stroke-linecap:square;stroke-width:1.5;\"/>\r\n    </g>\r\n    <g id=\"line2d_23\"/>\r\n    <g id=\"text_16\">\r\n     <!-- B -->\r\n     <g transform=\"translate(67.103125 38.805646)scale(0.1 -0.1)\">\r\n      <defs>\r\n       <path d=\"M 19.671875 34.8125 \r\nL 19.671875 8.109375 \r\nL 35.5 8.109375 \r\nQ 43.453125 8.109375 47.28125 11.40625 \r\nQ 51.125 14.703125 51.125 21.484375 \r\nQ 51.125 28.328125 47.28125 31.5625 \r\nQ 43.453125 34.8125 35.5 34.8125 \r\nz\r\nM 19.671875 64.796875 \r\nL 19.671875 42.828125 \r\nL 34.28125 42.828125 \r\nQ 41.5 42.828125 45.03125 45.53125 \r\nQ 48.578125 48.25 48.578125 53.8125 \r\nQ 48.578125 59.328125 45.03125 62.0625 \r\nQ 41.5 64.796875 34.28125 64.796875 \r\nz\r\nM 9.8125 72.90625 \r\nL 35.015625 72.90625 \r\nQ 46.296875 72.90625 52.390625 68.21875 \r\nQ 58.5 63.53125 58.5 54.890625 \r\nQ 58.5 48.1875 55.375 44.234375 \r\nQ 52.25 40.28125 46.1875 39.3125 \r\nQ 53.46875 37.75 57.5 32.78125 \r\nQ 61.53125 27.828125 61.53125 20.40625 \r\nQ 61.53125 10.640625 54.890625 5.3125 \r\nQ 48.25 0 35.984375 0 \r\nL 9.8125 0 \r\nz\r\n\" id=\"DejaVuSans-66\"/>\r\n      </defs>\r\n      <use xlink:href=\"#DejaVuSans-66\"/>\r\n     </g>\r\n    </g>\r\n    <g id=\"line2d_24\">\r\n     <path d=\"M 39.103125 49.983771 \r\nL 59.103125 49.983771 \r\n\" style=\"fill:none;stroke:#2ca02c;stroke-linecap:square;stroke-width:1.5;\"/>\r\n    </g>\r\n    <g id=\"line2d_25\"/>\r\n    <g id=\"text_17\">\r\n     <!-- C -->\r\n     <g transform=\"translate(67.103125 53.483771)scale(0.1 -0.1)\">\r\n      <defs>\r\n       <path d=\"M 64.40625 67.28125 \r\nL 64.40625 56.890625 \r\nQ 59.421875 61.53125 53.78125 63.8125 \r\nQ 48.140625 66.109375 41.796875 66.109375 \r\nQ 29.296875 66.109375 22.65625 58.46875 \r\nQ 16.015625 50.828125 16.015625 36.375 \r\nQ 16.015625 21.96875 22.65625 14.328125 \r\nQ 29.296875 6.6875 41.796875 6.6875 \r\nQ 48.140625 6.6875 53.78125 8.984375 \r\nQ 59.421875 11.28125 64.40625 15.921875 \r\nL 64.40625 5.609375 \r\nQ 59.234375 2.09375 53.4375 0.328125 \r\nQ 47.65625 -1.421875 41.21875 -1.421875 \r\nQ 24.65625 -1.421875 15.125 8.703125 \r\nQ 5.609375 18.84375 5.609375 36.375 \r\nQ 5.609375 53.953125 15.125 64.078125 \r\nQ 24.65625 74.21875 41.21875 74.21875 \r\nQ 47.75 74.21875 53.53125 72.484375 \r\nQ 59.328125 70.75 64.40625 67.28125 \r\nz\r\n\" id=\"DejaVuSans-67\"/>\r\n      </defs>\r\n      <use xlink:href=\"#DejaVuSans-67\"/>\r\n     </g>\r\n    </g>\r\n    <g id=\"line2d_26\">\r\n     <path d=\"M 39.103125 64.661896 \r\nL 59.103125 64.661896 \r\n\" style=\"fill:none;stroke:#d62728;stroke-linecap:square;stroke-width:1.5;\"/>\r\n    </g>\r\n    <g id=\"line2d_27\"/>\r\n    <g id=\"text_18\">\r\n     <!-- D -->\r\n     <g transform=\"translate(67.103125 68.161896)scale(0.1 -0.1)\">\r\n      <defs>\r\n       <path d=\"M 19.671875 64.796875 \r\nL 19.671875 8.109375 \r\nL 31.59375 8.109375 \r\nQ 46.6875 8.109375 53.6875 14.9375 \r\nQ 60.6875 21.78125 60.6875 36.53125 \r\nQ 60.6875 51.171875 53.6875 57.984375 \r\nQ 46.6875 64.796875 31.59375 64.796875 \r\nz\r\nM 9.8125 72.90625 \r\nL 30.078125 72.90625 \r\nQ 51.265625 72.90625 61.171875 64.09375 \r\nQ 71.09375 55.28125 71.09375 36.53125 \r\nQ 71.09375 17.671875 61.125 8.828125 \r\nQ 51.171875 0 30.078125 0 \r\nL 9.8125 0 \r\nz\r\n\" id=\"DejaVuSans-68\"/>\r\n      </defs>\r\n      <use xlink:href=\"#DejaVuSans-68\"/>\r\n     </g>\r\n    </g>\r\n    <g id=\"line2d_28\">\r\n     <path d=\"M 39.103125 79.340021 \r\nL 59.103125 79.340021 \r\n\" style=\"fill:none;stroke:#9467bd;stroke-linecap:square;stroke-width:1.5;\"/>\r\n    </g>\r\n    <g id=\"line2d_29\"/>\r\n    <g id=\"text_19\">\r\n     <!-- E -->\r\n     <g transform=\"translate(67.103125 82.840021)scale(0.1 -0.1)\">\r\n      <defs>\r\n       <path d=\"M 9.8125 72.90625 \r\nL 55.90625 72.90625 \r\nL 55.90625 64.59375 \r\nL 19.671875 64.59375 \r\nL 19.671875 43.015625 \r\nL 54.390625 43.015625 \r\nL 54.390625 34.71875 \r\nL 19.671875 34.71875 \r\nL 19.671875 8.296875 \r\nL 56.78125 8.296875 \r\nL 56.78125 0 \r\nL 9.8125 0 \r\nz\r\n\" id=\"DejaVuSans-69\"/>\r\n      </defs>\r\n      <use xlink:href=\"#DejaVuSans-69\"/>\r\n     </g>\r\n    </g>\r\n    <g id=\"line2d_30\">\r\n     <path d=\"M 39.103125 94.018146 \r\nL 59.103125 94.018146 \r\n\" style=\"fill:none;stroke:#8c564b;stroke-linecap:square;stroke-width:1.5;\"/>\r\n    </g>\r\n    <g id=\"line2d_31\"/>\r\n    <g id=\"text_20\">\r\n     <!-- F -->\r\n     <g transform=\"translate(67.103125 97.518146)scale(0.1 -0.1)\">\r\n      <defs>\r\n       <path d=\"M 9.8125 72.90625 \r\nL 51.703125 72.90625 \r\nL 51.703125 64.59375 \r\nL 19.671875 64.59375 \r\nL 19.671875 43.109375 \r\nL 48.578125 43.109375 \r\nL 48.578125 34.8125 \r\nL 19.671875 34.8125 \r\nL 19.671875 0 \r\nL 9.8125 0 \r\nz\r\n\" id=\"DejaVuSans-70\"/>\r\n      </defs>\r\n      <use xlink:href=\"#DejaVuSans-70\"/>\r\n     </g>\r\n    </g>\r\n   </g>\r\n  </g>\r\n </g>\r\n <defs>\r\n  <clipPath id=\"p1658cf9011\">\r\n   <rect height=\"195.84\" width=\"334.8\" x=\"30.103125\" y=\"7.529084\"/>\r\n  </clipPath>\r\n </defs>\r\n</svg>\r\n",
      "image/png": "[encoded data removed]"
     },
     "metadata": {
      "needs_background": "light"
     }
    }
   ],
   "source": [
    "prices.plot()\n",
    "plt.show()"
   ]
  },
  {
   "cell_type": "code",
   "execution_count": 9,
   "metadata": {
    "ExecuteTime": {
     "end_time": "2020-07-24T00:03:58.373110Z",
     "start_time": "2020-07-24T00:03:58.358071Z"
    }
   },
   "outputs": [],
   "source": [
    "# Align factor to open price\n",
    "factor.index += pd.Timedelta('9h30m')\n",
    "factor = factor.stack()\n",
    "factor.index = factor.index.set_names(['date', 'asset'])"
   ]
  },
  {
   "cell_type": "code",
   "execution_count": 10,
   "metadata": {
    "ExecuteTime": {
     "end_time": "2020-07-24T00:03:58.405076Z",
     "start_time": "2020-07-24T00:03:58.377086Z"
    }
   },
   "outputs": [
    {
     "output_type": "execute_result",
     "data": {
      "text/plain": "date                 asset\n2015-01-15 09:30:00  A        3.0\n                     B        4.0\n                     C        2.0\n                     D        1.0\n2015-01-16 09:30:00  A        3.0\n                     D        1.0\n                     E        4.0\n                     F        2.0\n2015-01-17 09:30:00  A        3.0\n                     B        4.0\ndtype: float64"
     },
     "metadata": {},
     "execution_count": 10
    }
   ],
   "source": [
    "factor.head(10)"
   ]
  },
  {
   "cell_type": "code",
   "execution_count": 11,
   "metadata": {
    "ExecuteTime": {
     "end_time": "2020-07-24T00:03:58.501067Z",
     "start_time": "2020-07-24T00:03:58.408040Z"
    },
    "tags": []
   },
   "outputs": [
    {
     "output_type": "stream",
     "name": "stdout",
     "text": "Dropped 0.0% entries from factor data: 0.0% in forward returns computation and 0.0% in binning phase (set max_loss=0 to see potentially suppressed Exceptions).\nmax_loss is 35.0%, not exceeded: OK!\n"
    }
   ],
   "source": [
    "# Period 1: today open to open + 1 hour\n",
    "# Period 2: today open to open + 3 hours\n",
    "# Period 3: today open to next day open\n",
    "# Period 6: today open to 2 days open\n",
    "\n",
    "factor_data = get_clean_factor_and_forward_returns(\n",
    "    factor,\n",
    "    prices,\n",
    "    groupby=factor_groups,\n",
    "    quantiles=4,\n",
    "    periods=(1, 2, 3, 6), \n",
    "    filter_zscore=None)"
   ]
  },
  {
   "cell_type": "code",
   "execution_count": 12,
   "metadata": {
    "ExecuteTime": {
     "end_time": "2020-07-24T00:03:58.517068Z",
     "start_time": "2020-07-24T00:03:58.502066Z"
    }
   },
   "outputs": [
    {
     "output_type": "execute_result",
     "data": {
      "text/plain": "                              1h     3h      1D        2D  factor   group  \\\ndate                asset                                                   \n2015-01-15 09:30:00 A      0.001 -0.002  0.0025  0.005006     3.0  Group1   \n                    B      0.001 -0.002  0.0050  0.010025     4.0  Group2   \n                    C      0.001 -0.002  0.0000  0.000000     2.0  Group1   \n                    D      0.001 -0.002 -0.0050 -0.009975     1.0  Group2   \n2015-01-16 09:30:00 A      0.001 -0.002  0.0025  0.005006     3.0  Group1   \n                    D      0.001 -0.002 -0.0050 -0.009975     1.0  Group2   \n                    E      0.001 -0.002  0.0050  0.010025     4.0  Group1   \n                    F      0.001 -0.002  0.0000  0.000000     2.0  Group2   \n2015-01-17 09:30:00 A      0.001 -0.002  0.0025  0.005006     3.0  Group1   \n                    B      0.001 -0.002  0.0050  0.010025     4.0  Group2   \n\n                           factor_quantile  \ndate                asset                   \n2015-01-15 09:30:00 A                    3  \n                    B                    4  \n                    C                    2  \n                    D                    1  \n2015-01-16 09:30:00 A                    3  \n                    D                    1  \n                    E                    4  \n                    F                    2  \n2015-01-17 09:30:00 A                    3  \n                    B                    4  ",
      "text/html": "<div>\n<style scoped>\n    .dataframe tbody tr th:only-of-type {\n        vertical-align: middle;\n    }\n\n    .dataframe tbody tr th {\n        vertical-align: top;\n    }\n\n    .dataframe thead th {\n        text-align: right;\n    }\n</style>\n<table border=\"1\" class=\"dataframe\">\n  <thead>\n    <tr style=\"text-align: right;\">\n      <th></th>\n      <th></th>\n      <th>1h</th>\n      <th>3h</th>\n      <th>1D</th>\n      <th>2D</th>\n      <th>factor</th>\n      <th>group</th>\n      <th>factor_quantile</th>\n    </tr>\n    <tr>\n      <th>date</th>\n      <th>asset</th>\n      <th></th>\n      <th></th>\n      <th></th>\n      <th></th>\n      <th></th>\n      <th></th>\n      <th></th>\n    </tr>\n  </thead>\n  <tbody>\n    <tr>\n      <th rowspan=\"4\" valign=\"top\">2015-01-15 09:30:00</th>\n      <th>A</th>\n      <td>0.001</td>\n      <td>-0.002</td>\n      <td>0.0025</td>\n      <td>0.005006</td>\n      <td>3.0</td>\n      <td>Group1</td>\n      <td>3</td>\n    </tr>\n    <tr>\n      <th>B</th>\n      <td>0.001</td>\n      <td>-0.002</td>\n      <td>0.0050</td>\n      <td>0.010025</td>\n      <td>4.0</td>\n      <td>Group2</td>\n      <td>4</td>\n    </tr>\n    <tr>\n      <th>C</th>\n      <td>0.001</td>\n      <td>-0.002</td>\n      <td>0.0000</td>\n      <td>0.000000</td>\n      <td>2.0</td>\n      <td>Group1</td>\n      <td>2</td>\n    </tr>\n    <tr>\n      <th>D</th>\n      <td>0.001</td>\n      <td>-0.002</td>\n      <td>-0.0050</td>\n      <td>-0.009975</td>\n      <td>1.0</td>\n      <td>Group2</td>\n      <td>1</td>\n    </tr>\n    <tr>\n      <th rowspan=\"4\" valign=\"top\">2015-01-16 09:30:00</th>\n      <th>A</th>\n      <td>0.001</td>\n      <td>-0.002</td>\n      <td>0.0025</td>\n      <td>0.005006</td>\n      <td>3.0</td>\n      <td>Group1</td>\n      <td>3</td>\n    </tr>\n    <tr>\n      <th>D</th>\n      <td>0.001</td>\n      <td>-0.002</td>\n      <td>-0.0050</td>\n      <td>-0.009975</td>\n      <td>1.0</td>\n      <td>Group2</td>\n      <td>1</td>\n    </tr>\n    <tr>\n      <th>E</th>\n      <td>0.001</td>\n      <td>-0.002</td>\n      <td>0.0050</td>\n      <td>0.010025</td>\n      <td>4.0</td>\n      <td>Group1</td>\n      <td>4</td>\n    </tr>\n    <tr>\n      <th>F</th>\n      <td>0.001</td>\n      <td>-0.002</td>\n      <td>0.0000</td>\n      <td>0.000000</td>\n      <td>2.0</td>\n      <td>Group2</td>\n      <td>2</td>\n    </tr>\n    <tr>\n      <th rowspan=\"2\" valign=\"top\">2015-01-17 09:30:00</th>\n      <th>A</th>\n      <td>0.001</td>\n      <td>-0.002</td>\n      <td>0.0025</td>\n      <td>0.005006</td>\n      <td>3.0</td>\n      <td>Group1</td>\n      <td>3</td>\n    </tr>\n    <tr>\n      <th>B</th>\n      <td>0.001</td>\n      <td>-0.002</td>\n      <td>0.0050</td>\n      <td>0.010025</td>\n      <td>4.0</td>\n      <td>Group2</td>\n      <td>4</td>\n    </tr>\n  </tbody>\n</table>\n</div>"
     },
     "metadata": {},
     "execution_count": 12
    }
   ],
   "source": [
    "factor_data.head(10)"
   ]
  },
  {
   "cell_type": "markdown",
   "metadata": {},
   "source": [
    "# IC"
   ]
  },
  {
   "cell_type": "code",
   "execution_count": 13,
   "metadata": {
    "ExecuteTime": {
     "end_time": "2020-07-24T00:03:58.612084Z",
     "start_time": "2020-07-24T00:03:58.518052Z"
    }
   },
   "outputs": [],
   "source": [
    "ic = al.performance.factor_information_coefficient(factor_data)"
   ]
  },
  {
   "cell_type": "code",
   "execution_count": 14,
   "metadata": {
    "ExecuteTime": {
     "end_time": "2020-07-24T00:08:37.553268Z",
     "start_time": "2020-07-24T00:08:37.323014Z"
    }
   },
   "outputs": [],
   "source": [
    "import statsmodels.api as sm\n",
    "from scipy import stats"
   ]
  },
  {
   "cell_type": "code",
   "execution_count": 15,
   "metadata": {
    "ExecuteTime": {
     "end_time": "2020-07-24T00:34:20.567164Z",
     "start_time": "2020-07-24T00:34:20.559132Z"
    }
   },
   "outputs": [],
   "source": [
    "import plotly.graph_objects as go"
   ]
  },
  {
   "cell_type": "code",
   "execution_count": 16,
   "metadata": {
    "ExecuteTime": {
     "end_time": "2020-07-24T00:09:25.495767Z",
     "start_time": "2020-07-24T00:09:25.478790Z"
    }
   },
   "outputs": [],
   "source": [
    "theoretical_dist=stats.norm\n",
    "ic = ic['1h']"
   ]
  },
  {
   "cell_type": "markdown",
   "metadata": {},
   "source": [
    "## scipy"
   ]
  },
  {
   "cell_type": "code",
   "execution_count": 17,
   "metadata": {
    "ExecuteTime": {
     "end_time": "2020-07-24T00:21:45.304690Z",
     "start_time": "2020-07-24T00:21:45.298686Z"
    }
   },
   "outputs": [],
   "source": [
    "from scipy.stats import probplot"
   ]
  },
  {
   "cell_type": "code",
   "execution_count": 18,
   "metadata": {},
   "outputs": [],
   "source": [
    "import numpy as np"
   ]
  },
  {
   "cell_type": "code",
   "execution_count": 19,
   "metadata": {
    "ExecuteTime": {
     "end_time": "2020-07-24T00:40:58.283329Z",
     "start_time": "2020-07-24T00:40:58.264359Z"
    }
   },
   "outputs": [],
   "source": [
    "s = probplot(ic.replace(np.nan, 0.).values, dist=theoretical_dist, fit=True)"
   ]
  },
  {
   "cell_type": "code",
   "execution_count": 20,
   "metadata": {
    "ExecuteTime": {
     "end_time": "2020-07-24T01:08:00.375771Z",
     "start_time": "2020-07-24T01:08:00.352742Z"
    }
   },
   "outputs": [
    {
     "output_type": "display_data",
     "data": {
      "application/vnd.plotly.v1+json": {
       "config": {
        "plotlyServerURL": "https://plot.ly"
       },
       "data": [
        {
         "mode": "markers",
         "type": "scatter",
         "x": [
          -1.9983376793275958,
          -1.5945255337722446,
          -1.351036683971554,
          -1.1686392999985924,
          -1.018554967082019,
          -0.8884856002610938,
          -0.7719485449466916,
          -0.6650629838276675,
          -0.5652914921546426,
          -0.4708598518787342,
          -0.380457113851787,
          -0.2930663577816485,
          -0.20786197991189398,
          -0.12414301334911515,
          -0.04128668572275918,
          0.04128668572275918,
          0.12414301334911529,
          0.20786197991189398,
          0.2930663577816488,
          0.3804571138517872,
          0.4708598518787343,
          0.5652914921546429,
          0.6650629838276678,
          0.7719485449466921,
          0.8884856002610938,
          1.0185549670820198,
          1.1686392999985924,
          1.3510366839715544,
          1.594525533772246,
          1.9983376793275958
         ],
         "y": [
          -0.7745966692414834,
          -0.4472135954999579,
          -0.4472135954999579,
          -0.4472135954999579,
          -0.4472135954999579,
          -0.4472135954999579,
          -0.4472135954999579,
          -0.4472135954999579,
          -0.4472135954999579,
          0,
          0,
          0,
          0,
          0,
          0,
          0,
          0,
          0,
          0,
          0,
          0.2581988897471611,
          0.2581988897471611,
          0.2581988897471611,
          0.2581988897471611,
          0.2581988897471611,
          0.2581988897471611,
          0.2581988897471611,
          0.8944271909999159,
          0.8944271909999159,
          0.8944271909999159
         ]
        }
       ],
       "layout": {
        "shapes": [
         {
          "line": {
           "color": "red"
          },
          "type": "line",
          "x0": 0,
          "x1": 1,
          "xref": "paper",
          "y0": 0,
          "y1": 1,
          "yref": "paper"
         }
        ],
        "template": {
         "data": {
          "bar": [
           {
            "error_x": {
             "color": "#2a3f5f"
            },
            "error_y": {
             "color": "#2a3f5f"
            },
            "marker": {
             "line": {
              "color": "#E5ECF6",
              "width": 0.5
             }
            },
            "type": "bar"
           }
          ],
          "barpolar": [
           {
            "marker": {
             "line": {
              "color": "#E5ECF6",
              "width": 0.5
             }
            },
            "type": "barpolar"
           }
          ],
          "carpet": [
           {
            "aaxis": {
             "endlinecolor": "#2a3f5f",
             "gridcolor": "white",
             "linecolor": "white",
             "minorgridcolor": "white",
             "startlinecolor": "#2a3f5f"
            },
            "baxis": {
             "endlinecolor": "#2a3f5f",
             "gridcolor": "white",
             "linecolor": "white",
             "minorgridcolor": "white",
             "startlinecolor": "#2a3f5f"
            },
            "type": "carpet"
           }
          ],
          "choropleth": [
           {
            "colorbar": {
             "outlinewidth": 0,
             "ticks": ""
            },
            "type": "choropleth"
           }
          ],
          "contour": [
           {
            "colorbar": {
             "outlinewidth": 0,
             "ticks": ""
            },
            "colorscale": [
             [
              0,
              "#0d0887"
             ],
             [
              0.1111111111111111,
              "#46039f"
             ],
             [
              0.2222222222222222,
              "#7201a8"
             ],
             [
              0.3333333333333333,
              "#9c179e"
             ],
             [
              0.4444444444444444,
              "#bd3786"
             ],
             [
              0.5555555555555556,
              "#d8576b"
             ],
             [
              0.6666666666666666,
              "#ed7953"
             ],
             [
              0.7777777777777778,
              "#fb9f3a"
             ],
             [
              0.8888888888888888,
              "#fdca26"
             ],
             [
              1,
              "#f0f921"
             ]
            ],
            "type": "contour"
           }
          ],
          "contourcarpet": [
           {
            "colorbar": {
             "outlinewidth": 0,
             "ticks": ""
            },
            "type": "contourcarpet"
           }
          ],
          "heatmap": [
           {
            "colorbar": {
             "outlinewidth": 0,
             "ticks": ""
            },
            "colorscale": [
             [
              0,
              "#0d0887"
             ],
             [
              0.1111111111111111,
              "#46039f"
             ],
             [
              0.2222222222222222,
              "#7201a8"
             ],
             [
              0.3333333333333333,
              "#9c179e"
             ],
             [
              0.4444444444444444,
              "#bd3786"
             ],
             [
              0.5555555555555556,
              "#d8576b"
             ],
             [
              0.6666666666666666,
              "#ed7953"
             ],
             [
              0.7777777777777778,
              "#fb9f3a"
             ],
             [
              0.8888888888888888,
              "#fdca26"
             ],
             [
              1,
              "#f0f921"
             ]
            ],
            "type": "heatmap"
           }
          ],
          "heatmapgl": [
           {
            "colorbar": {
             "outlinewidth": 0,
             "ticks": ""
            },
            "colorscale": [
             [
              0,
              "#0d0887"
             ],
             [
              0.1111111111111111,
              "#46039f"
             ],
             [
              0.2222222222222222,
              "#7201a8"
             ],
             [
              0.3333333333333333,
              "#9c179e"
             ],
             [
              0.4444444444444444,
              "#bd3786"
             ],
             [
              0.5555555555555556,
              "#d8576b"
             ],
             [
              0.6666666666666666,
              "#ed7953"
             ],
             [
              0.7777777777777778,
              "#fb9f3a"
             ],
             [
              0.8888888888888888,
              "#fdca26"
             ],
             [
              1,
              "#f0f921"
             ]
            ],
            "type": "heatmapgl"
           }
          ],
          "histogram": [
           {
            "marker": {
             "colorbar": {
              "outlinewidth": 0,
              "ticks": ""
             }
            },
            "type": "histogram"
           }
          ],
          "histogram2d": [
           {
            "colorbar": {
             "outlinewidth": 0,
             "ticks": ""
            },
            "colorscale": [
             [
              0,
              "#0d0887"
             ],
             [
              0.1111111111111111,
              "#46039f"
             ],
             [
              0.2222222222222222,
              "#7201a8"
             ],
             [
              0.3333333333333333,
              "#9c179e"
             ],
             [
              0.4444444444444444,
              "#bd3786"
             ],
             [
              0.5555555555555556,
              "#d8576b"
             ],
             [
              0.6666666666666666,
              "#ed7953"
             ],
             [
              0.7777777777777778,
              "#fb9f3a"
             ],
             [
              0.8888888888888888,
              "#fdca26"
             ],
             [
              1,
              "#f0f921"
             ]
            ],
            "type": "histogram2d"
           }
          ],
          "histogram2dcontour": [
           {
            "colorbar": {
             "outlinewidth": 0,
             "ticks": ""
            },
            "colorscale": [
             [
              0,
              "#0d0887"
             ],
             [
              0.1111111111111111,
              "#46039f"
             ],
             [
              0.2222222222222222,
              "#7201a8"
             ],
             [
              0.3333333333333333,
              "#9c179e"
             ],
             [
              0.4444444444444444,
              "#bd3786"
             ],
             [
              0.5555555555555556,
              "#d8576b"
             ],
             [
              0.6666666666666666,
              "#ed7953"
             ],
             [
              0.7777777777777778,
              "#fb9f3a"
             ],
             [
              0.8888888888888888,
              "#fdca26"
             ],
             [
              1,
              "#f0f921"
             ]
            ],
            "type": "histogram2dcontour"
           }
          ],
          "mesh3d": [
           {
            "colorbar": {
             "outlinewidth": 0,
             "ticks": ""
            },
            "type": "mesh3d"
           }
          ],
          "parcoords": [
           {
            "line": {
             "colorbar": {
              "outlinewidth": 0,
              "ticks": ""
             }
            },
            "type": "parcoords"
           }
          ],
          "pie": [
           {
            "automargin": true,
            "type": "pie"
           }
          ],
          "scatter": [
           {
            "marker": {
             "colorbar": {
              "outlinewidth": 0,
              "ticks": ""
             }
            },
            "type": "scatter"
           }
          ],
          "scatter3d": [
           {
            "line": {
             "colorbar": {
              "outlinewidth": 0,
              "ticks": ""
             }
            },
            "marker": {
             "colorbar": {
              "outlinewidth": 0,
              "ticks": ""
             }
            },
            "type": "scatter3d"
           }
          ],
          "scattercarpet": [
           {
            "marker": {
             "colorbar": {
              "outlinewidth": 0,
              "ticks": ""
             }
            },
            "type": "scattercarpet"
           }
          ],
          "scattergeo": [
           {
            "marker": {
             "colorbar": {
              "outlinewidth": 0,
              "ticks": ""
             }
            },
            "type": "scattergeo"
           }
          ],
          "scattergl": [
           {
            "marker": {
             "colorbar": {
              "outlinewidth": 0,
              "ticks": ""
             }
            },
            "type": "scattergl"
           }
          ],
          "scattermapbox": [
           {
            "marker": {
             "colorbar": {
              "outlinewidth": 0,
              "ticks": ""
             }
            },
            "type": "scattermapbox"
           }
          ],
          "scatterpolar": [
           {
            "marker": {
             "colorbar": {
              "outlinewidth": 0,
              "ticks": ""
             }
            },
            "type": "scatterpolar"
           }
          ],
          "scatterpolargl": [
           {
            "marker": {
             "colorbar": {
              "outlinewidth": 0,
              "ticks": ""
             }
            },
            "type": "scatterpolargl"
           }
          ],
          "scatterternary": [
           {
            "marker": {
             "colorbar": {
              "outlinewidth": 0,
              "ticks": ""
             }
            },
            "type": "scatterternary"
           }
          ],
          "surface": [
           {
            "colorbar": {
             "outlinewidth": 0,
             "ticks": ""
            },
            "colorscale": [
             [
              0,
              "#0d0887"
             ],
             [
              0.1111111111111111,
              "#46039f"
             ],
             [
              0.2222222222222222,
              "#7201a8"
             ],
             [
              0.3333333333333333,
              "#9c179e"
             ],
             [
              0.4444444444444444,
              "#bd3786"
             ],
             [
              0.5555555555555556,
              "#d8576b"
             ],
             [
              0.6666666666666666,
              "#ed7953"
             ],
             [
              0.7777777777777778,
              "#fb9f3a"
             ],
             [
              0.8888888888888888,
              "#fdca26"
             ],
             [
              1,
              "#f0f921"
             ]
            ],
            "type": "surface"
           }
          ],
          "table": [
           {
            "cells": {
             "fill": {
              "color": "#EBF0F8"
             },
             "line": {
              "color": "white"
             }
            },
            "header": {
             "fill": {
              "color": "#C8D4E3"
             },
             "line": {
              "color": "white"
             }
            },
            "type": "table"
           }
          ]
         },
         "layout": {
          "annotationdefaults": {
           "arrowcolor": "#2a3f5f",
           "arrowhead": 0,
           "arrowwidth": 1
          },
          "coloraxis": {
           "colorbar": {
            "outlinewidth": 0,
            "ticks": ""
           }
          },
          "colorscale": {
           "diverging": [
            [
             0,
             "#8e0152"
            ],
            [
             0.1,
             "#c51b7d"
            ],
            [
             0.2,
             "#de77ae"
            ],
            [
             0.3,
             "#f1b6da"
            ],
            [
             0.4,
             "#fde0ef"
            ],
            [
             0.5,
             "#f7f7f7"
            ],
            [
             0.6,
             "#e6f5d0"
            ],
            [
             0.7,
             "#b8e186"
            ],
            [
             0.8,
             "#7fbc41"
            ],
            [
             0.9,
             "#4d9221"
            ],
            [
             1,
             "#276419"
            ]
           ],
           "sequential": [
            [
             0,
             "#0d0887"
            ],
            [
             0.1111111111111111,
             "#46039f"
            ],
            [
             0.2222222222222222,
             "#7201a8"
            ],
            [
             0.3333333333333333,
             "#9c179e"
            ],
            [
             0.4444444444444444,
             "#bd3786"
            ],
            [
             0.5555555555555556,
             "#d8576b"
            ],
            [
             0.6666666666666666,
             "#ed7953"
            ],
            [
             0.7777777777777778,
             "#fb9f3a"
            ],
            [
             0.8888888888888888,
             "#fdca26"
            ],
            [
             1,
             "#f0f921"
            ]
           ],
           "sequentialminus": [
            [
             0,
             "#0d0887"
            ],
            [
             0.1111111111111111,
             "#46039f"
            ],
            [
             0.2222222222222222,
             "#7201a8"
            ],
            [
             0.3333333333333333,
             "#9c179e"
            ],
            [
             0.4444444444444444,
             "#bd3786"
            ],
            [
             0.5555555555555556,
             "#d8576b"
            ],
            [
             0.6666666666666666,
             "#ed7953"
            ],
            [
             0.7777777777777778,
             "#fb9f3a"
            ],
            [
             0.8888888888888888,
             "#fdca26"
            ],
            [
             1,
             "#f0f921"
            ]
           ]
          },
          "colorway": [
           "#636efa",
           "#EF553B",
           "#00cc96",
           "#ab63fa",
           "#FFA15A",
           "#19d3f3",
           "#FF6692",
           "#B6E880",
           "#FF97FF",
           "#FECB52"
          ],
          "font": {
           "color": "#2a3f5f"
          },
          "geo": {
           "bgcolor": "white",
           "lakecolor": "white",
           "landcolor": "#E5ECF6",
           "showlakes": true,
           "showland": true,
           "subunitcolor": "white"
          },
          "hoverlabel": {
           "align": "left"
          },
          "hovermode": "closest",
          "mapbox": {
           "style": "light"
          },
          "paper_bgcolor": "white",
          "plot_bgcolor": "#E5ECF6",
          "polar": {
           "angularaxis": {
            "gridcolor": "white",
            "linecolor": "white",
            "ticks": ""
           },
           "bgcolor": "#E5ECF6",
           "radialaxis": {
            "gridcolor": "white",
            "linecolor": "white",
            "ticks": ""
           }
          },
          "scene": {
           "xaxis": {
            "backgroundcolor": "#E5ECF6",
            "gridcolor": "white",
            "gridwidth": 2,
            "linecolor": "white",
            "showbackground": true,
            "ticks": "",
            "zerolinecolor": "white"
           },
           "yaxis": {
            "backgroundcolor": "#E5ECF6",
            "gridcolor": "white",
            "gridwidth": 2,
            "linecolor": "white",
            "showbackground": true,
            "ticks": "",
            "zerolinecolor": "white"
           },
           "zaxis": {
            "backgroundcolor": "#E5ECF6",
            "gridcolor": "white",
            "gridwidth": 2,
            "linecolor": "white",
            "showbackground": true,
            "ticks": "",
            "zerolinecolor": "white"
           }
          },
          "shapedefaults": {
           "line": {
            "color": "#2a3f5f"
           }
          },
          "ternary": {
           "aaxis": {
            "gridcolor": "white",
            "linecolor": "white",
            "ticks": ""
           },
           "baxis": {
            "gridcolor": "white",
            "linecolor": "white",
            "ticks": ""
           },
           "bgcolor": "#E5ECF6",
           "caxis": {
            "gridcolor": "white",
            "linecolor": "white",
            "ticks": ""
           }
          },
          "title": {
           "x": 0.05
          },
          "xaxis": {
           "automargin": true,
           "gridcolor": "white",
           "linecolor": "white",
           "ticks": "",
           "title": {
            "standoff": 15
           },
           "zerolinecolor": "white",
           "zerolinewidth": 2
          },
          "yaxis": {
           "automargin": true,
           "gridcolor": "white",
           "linecolor": "white",
           "ticks": "",
           "title": {
            "standoff": 15
           },
           "zerolinecolor": "white",
           "zerolinewidth": 2
          }
         }
        },
        "xaxis": {
         "range": [
          -2.098337679327596,
          2.098337679327596
         ],
         "title": {
          "text": "IC"
         }
        },
        "yaxis": {
         "range": [
          -2.098337679327596,
          2.098337679327596
         ]
        }
       }
      },
      "text/html": "<div>\n        \n        \n            <div id=\"aac2eddc-c7e5-4f0c-9098-86bb894e3deb\" class=\"plotly-graph-div\" style=\"height:525px; width:100%;\"></div>\n            <script type=\"text/javascript\">\n                require([\"plotly\"], function(Plotly) {\n                    window.PLOTLYENV=window.PLOTLYENV || {};\n                    \n                if (document.getElementById(\"aac2eddc-c7e5-4f0c-9098-86bb894e3deb\")) {\n                    Plotly.newPlot(\n                        'aac2eddc-c7e5-4f0c-9098-86bb894e3deb',\n                        [{\"mode\": \"markers\", \"type\": \"scatter\", \"x\": [-1.9983376793275958, -1.5945255337722446, -1.351036683971554, -1.1686392999985924, -1.018554967082019, -0.8884856002610938, -0.7719485449466916, -0.6650629838276675, -0.5652914921546426, -0.4708598518787342, -0.380457113851787, -0.2930663577816485, -0.20786197991189398, -0.12414301334911515, -0.04128668572275918, 0.04128668572275918, 0.12414301334911529, 0.20786197991189398, 0.2930663577816488, 0.3804571138517872, 0.4708598518787343, 0.5652914921546429, 0.6650629838276678, 0.7719485449466921, 0.8884856002610938, 1.0185549670820198, 1.1686392999985924, 1.3510366839715544, 1.594525533772246, 1.9983376793275958], \"y\": [-0.7745966692414834, -0.4472135954999579, -0.4472135954999579, -0.4472135954999579, -0.4472135954999579, -0.4472135954999579, -0.4472135954999579, -0.4472135954999579, -0.4472135954999579, 0.0, 0.0, 0.0, 0.0, 0.0, 0.0, 0.0, 0.0, 0.0, 0.0, 0.0, 0.2581988897471611, 0.2581988897471611, 0.2581988897471611, 0.2581988897471611, 0.2581988897471611, 0.2581988897471611, 0.2581988897471611, 0.8944271909999159, 0.8944271909999159, 0.8944271909999159]}],\n                        {\"shapes\": [{\"line\": {\"color\": \"red\"}, \"type\": \"line\", \"x0\": 0, \"x1\": 1, \"xref\": \"paper\", \"y0\": 0, \"y1\": 1, \"yref\": \"paper\"}], \"template\": {\"data\": {\"bar\": [{\"error_x\": {\"color\": \"#2a3f5f\"}, \"error_y\": {\"color\": \"#2a3f5f\"}, \"marker\": {\"line\": {\"color\": \"#E5ECF6\", \"width\": 0.5}}, \"type\": \"bar\"}], \"barpolar\": [{\"marker\": {\"line\": {\"color\": \"#E5ECF6\", \"width\": 0.5}}, \"type\": \"barpolar\"}], \"carpet\": [{\"aaxis\": {\"endlinecolor\": \"#2a3f5f\", \"gridcolor\": \"white\", \"linecolor\": \"white\", \"minorgridcolor\": \"white\", \"startlinecolor\": \"#2a3f5f\"}, \"baxis\": {\"endlinecolor\": \"#2a3f5f\", \"gridcolor\": \"white\", \"linecolor\": \"white\", \"minorgridcolor\": \"white\", \"startlinecolor\": \"#2a3f5f\"}, \"type\": \"carpet\"}], \"choropleth\": [{\"colorbar\": {\"outlinewidth\": 0, \"ticks\": \"\"}, \"type\": \"choropleth\"}], \"contour\": [{\"colorbar\": {\"outlinewidth\": 0, \"ticks\": \"\"}, \"colorscale\": [[0.0, \"#0d0887\"], [0.1111111111111111, \"#46039f\"], [0.2222222222222222, \"#7201a8\"], [0.3333333333333333, \"#9c179e\"], [0.4444444444444444, \"#bd3786\"], [0.5555555555555556, \"#d8576b\"], [0.6666666666666666, \"#ed7953\"], [0.7777777777777778, \"#fb9f3a\"], [0.8888888888888888, \"#fdca26\"], [1.0, \"#f0f921\"]], \"type\": \"contour\"}], \"contourcarpet\": [{\"colorbar\": {\"outlinewidth\": 0, \"ticks\": \"\"}, \"type\": \"contourcarpet\"}], \"heatmap\": [{\"colorbar\": {\"outlinewidth\": 0, \"ticks\": \"\"}, \"colorscale\": [[0.0, \"#0d0887\"], [0.1111111111111111, \"#46039f\"], [0.2222222222222222, \"#7201a8\"], [0.3333333333333333, \"#9c179e\"], [0.4444444444444444, \"#bd3786\"], [0.5555555555555556, \"#d8576b\"], [0.6666666666666666, \"#ed7953\"], [0.7777777777777778, \"#fb9f3a\"], [0.8888888888888888, \"#fdca26\"], [1.0, \"#f0f921\"]], \"type\": \"heatmap\"}], \"heatmapgl\": [{\"colorbar\": {\"outlinewidth\": 0, \"ticks\": \"\"}, \"colorscale\": [[0.0, \"#0d0887\"], [0.1111111111111111, \"#46039f\"], [0.2222222222222222, \"#7201a8\"], [0.3333333333333333, \"#9c179e\"], [0.4444444444444444, \"#bd3786\"], [0.5555555555555556, \"#d8576b\"], [0.6666666666666666, \"#ed7953\"], [0.7777777777777778, \"#fb9f3a\"], [0.8888888888888888, \"#fdca26\"], [1.0, \"#f0f921\"]], \"type\": \"heatmapgl\"}], \"histogram\": [{\"marker\": {\"colorbar\": {\"outlinewidth\": 0, \"ticks\": \"\"}}, \"type\": \"histogram\"}], \"histogram2d\": [{\"colorbar\": {\"outlinewidth\": 0, \"ticks\": \"\"}, \"colorscale\": [[0.0, \"#0d0887\"], [0.1111111111111111, \"#46039f\"], [0.2222222222222222, \"#7201a8\"], [0.3333333333333333, \"#9c179e\"], [0.4444444444444444, \"#bd3786\"], [0.5555555555555556, \"#d8576b\"], [0.6666666666666666, \"#ed7953\"], [0.7777777777777778, \"#fb9f3a\"], [0.8888888888888888, \"#fdca26\"], [1.0, \"#f0f921\"]], \"type\": \"histogram2d\"}], \"histogram2dcontour\": [{\"colorbar\": {\"outlinewidth\": 0, \"ticks\": \"\"}, \"colorscale\": [[0.0, \"#0d0887\"], [0.1111111111111111, \"#46039f\"], [0.2222222222222222, \"#7201a8\"], [0.3333333333333333, \"#9c179e\"], [0.4444444444444444, \"#bd3786\"], [0.5555555555555556, \"#d8576b\"], [0.6666666666666666, \"#ed7953\"], [0.7777777777777778, \"#fb9f3a\"], [0.8888888888888888, \"#fdca26\"], [1.0, \"#f0f921\"]], \"type\": \"histogram2dcontour\"}], \"mesh3d\": [{\"colorbar\": {\"outlinewidth\": 0, \"ticks\": \"\"}, \"type\": \"mesh3d\"}], \"parcoords\": [{\"line\": {\"colorbar\": {\"outlinewidth\": 0, \"ticks\": \"\"}}, \"type\": \"parcoords\"}], \"pie\": [{\"automargin\": true, \"type\": \"pie\"}], \"scatter\": [{\"marker\": {\"colorbar\": {\"outlinewidth\": 0, \"ticks\": \"\"}}, \"type\": \"scatter\"}], \"scatter3d\": [{\"line\": {\"colorbar\": {\"outlinewidth\": 0, \"ticks\": \"\"}}, \"marker\": {\"colorbar\": {\"outlinewidth\": 0, \"ticks\": \"\"}}, \"type\": \"scatter3d\"}], \"scattercarpet\": [{\"marker\": {\"colorbar\": {\"outlinewidth\": 0, \"ticks\": \"\"}}, \"type\": \"scattercarpet\"}], \"scattergeo\": [{\"marker\": {\"colorbar\": {\"outlinewidth\": 0, \"ticks\": \"\"}}, \"type\": \"scattergeo\"}], \"scattergl\": [{\"marker\": {\"colorbar\": {\"outlinewidth\": 0, \"ticks\": \"\"}}, \"type\": \"scattergl\"}], \"scattermapbox\": [{\"marker\": {\"colorbar\": {\"outlinewidth\": 0, \"ticks\": \"\"}}, \"type\": \"scattermapbox\"}], \"scatterpolar\": [{\"marker\": {\"colorbar\": {\"outlinewidth\": 0, \"ticks\": \"\"}}, \"type\": \"scatterpolar\"}], \"scatterpolargl\": [{\"marker\": {\"colorbar\": {\"outlinewidth\": 0, \"ticks\": \"\"}}, \"type\": \"scatterpolargl\"}], \"scatterternary\": [{\"marker\": {\"colorbar\": {\"outlinewidth\": 0, \"ticks\": \"\"}}, \"type\": \"scatterternary\"}], \"surface\": [{\"colorbar\": {\"outlinewidth\": 0, \"ticks\": \"\"}, \"colorscale\": [[0.0, \"#0d0887\"], [0.1111111111111111, \"#46039f\"], [0.2222222222222222, \"#7201a8\"], [0.3333333333333333, \"#9c179e\"], [0.4444444444444444, \"#bd3786\"], [0.5555555555555556, \"#d8576b\"], [0.6666666666666666, \"#ed7953\"], [0.7777777777777778, \"#fb9f3a\"], [0.8888888888888888, \"#fdca26\"], [1.0, \"#f0f921\"]], \"type\": \"surface\"}], \"table\": [{\"cells\": {\"fill\": {\"color\": \"#EBF0F8\"}, \"line\": {\"color\": \"white\"}}, \"header\": {\"fill\": {\"color\": \"#C8D4E3\"}, \"line\": {\"color\": \"white\"}}, \"type\": \"table\"}]}, \"layout\": {\"annotationdefaults\": {\"arrowcolor\": \"#2a3f5f\", \"arrowhead\": 0, \"arrowwidth\": 1}, \"coloraxis\": {\"colorbar\": {\"outlinewidth\": 0, \"ticks\": \"\"}}, \"colorscale\": {\"diverging\": [[0, \"#8e0152\"], [0.1, \"#c51b7d\"], [0.2, \"#de77ae\"], [0.3, \"#f1b6da\"], [0.4, \"#fde0ef\"], [0.5, \"#f7f7f7\"], [0.6, \"#e6f5d0\"], [0.7, \"#b8e186\"], [0.8, \"#7fbc41\"], [0.9, \"#4d9221\"], [1, \"#276419\"]], \"sequential\": [[0.0, \"#0d0887\"], [0.1111111111111111, \"#46039f\"], [0.2222222222222222, \"#7201a8\"], [0.3333333333333333, \"#9c179e\"], [0.4444444444444444, \"#bd3786\"], [0.5555555555555556, \"#d8576b\"], [0.6666666666666666, \"#ed7953\"], [0.7777777777777778, \"#fb9f3a\"], [0.8888888888888888, \"#fdca26\"], [1.0, \"#f0f921\"]], \"sequentialminus\": [[0.0, \"#0d0887\"], [0.1111111111111111, \"#46039f\"], [0.2222222222222222, \"#7201a8\"], [0.3333333333333333, \"#9c179e\"], [0.4444444444444444, \"#bd3786\"], [0.5555555555555556, \"#d8576b\"], [0.6666666666666666, \"#ed7953\"], [0.7777777777777778, \"#fb9f3a\"], [0.8888888888888888, \"#fdca26\"], [1.0, \"#f0f921\"]]}, \"colorway\": [\"#636efa\", \"#EF553B\", \"#00cc96\", \"#ab63fa\", \"#FFA15A\", \"#19d3f3\", \"#FF6692\", \"#B6E880\", \"#FF97FF\", \"#FECB52\"], \"font\": {\"color\": \"#2a3f5f\"}, \"geo\": {\"bgcolor\": \"white\", \"lakecolor\": \"white\", \"landcolor\": \"#E5ECF6\", \"showlakes\": true, \"showland\": true, \"subunitcolor\": \"white\"}, \"hoverlabel\": {\"align\": \"left\"}, \"hovermode\": \"closest\", \"mapbox\": {\"style\": \"light\"}, \"paper_bgcolor\": \"white\", \"plot_bgcolor\": \"#E5ECF6\", \"polar\": {\"angularaxis\": {\"gridcolor\": \"white\", \"linecolor\": \"white\", \"ticks\": \"\"}, \"bgcolor\": \"#E5ECF6\", \"radialaxis\": {\"gridcolor\": \"white\", \"linecolor\": \"white\", \"ticks\": \"\"}}, \"scene\": {\"xaxis\": {\"backgroundcolor\": \"#E5ECF6\", \"gridcolor\": \"white\", \"gridwidth\": 2, \"linecolor\": \"white\", \"showbackground\": true, \"ticks\": \"\", \"zerolinecolor\": \"white\"}, \"yaxis\": {\"backgroundcolor\": \"#E5ECF6\", \"gridcolor\": \"white\", \"gridwidth\": 2, \"linecolor\": \"white\", \"showbackground\": true, \"ticks\": \"\", \"zerolinecolor\": \"white\"}, \"zaxis\": {\"backgroundcolor\": \"#E5ECF6\", \"gridcolor\": \"white\", \"gridwidth\": 2, \"linecolor\": \"white\", \"showbackground\": true, \"ticks\": \"\", \"zerolinecolor\": \"white\"}}, \"shapedefaults\": {\"line\": {\"color\": \"#2a3f5f\"}}, \"ternary\": {\"aaxis\": {\"gridcolor\": \"white\", \"linecolor\": \"white\", \"ticks\": \"\"}, \"baxis\": {\"gridcolor\": \"white\", \"linecolor\": \"white\", \"ticks\": \"\"}, \"bgcolor\": \"#E5ECF6\", \"caxis\": {\"gridcolor\": \"white\", \"linecolor\": \"white\", \"ticks\": \"\"}}, \"title\": {\"x\": 0.05}, \"xaxis\": {\"automargin\": true, \"gridcolor\": \"white\", \"linecolor\": \"white\", \"ticks\": \"\", \"title\": {\"standoff\": 15}, \"zerolinecolor\": \"white\", \"zerolinewidth\": 2}, \"yaxis\": {\"automargin\": true, \"gridcolor\": \"white\", \"linecolor\": \"white\", \"ticks\": \"\", \"title\": {\"standoff\": 15}, \"zerolinecolor\": \"white\", \"zerolinewidth\": 2}}}, \"xaxis\": {\"range\": [-2.098337679327596, 2.098337679327596], \"title\": {\"text\": \"IC\"}}, \"yaxis\": {\"range\": [-2.098337679327596, 2.098337679327596]}},\n                        {\"responsive\": true}\n                    ).then(function(){\n                            \nvar gd = document.getElementById('aac2eddc-c7e5-4f0c-9098-86bb894e3deb');\nvar x = new MutationObserver(function (mutations, observer) {{\n        var display = window.getComputedStyle(gd).display;\n        if (!display || display === 'none') {{\n            console.log([gd, 'removed!']);\n            Plotly.purge(gd);\n            observer.disconnect();\n        }}\n}});\n\n// Listen for the removal of the full notebook cells\nvar notebookContainer = gd.closest('#notebook-container');\nif (notebookContainer) {{\n    x.observe(notebookContainer, {childList: true});\n}}\n\n// Listen for the clearing of the current output cell\nvar outputEl = gd.closest('.output');\nif (outputEl) {{\n    x.observe(outputEl, {childList: true});\n}}\n\n                        })\n                };\n                });\n            </script>\n        </div>"
     },
     "metadata": {}
    }
   ],
   "source": [
    "fig = go.Figure()\n",
    "m_min, m_max = min(min(s[0][0]), min(s[0][1])), max(max(s[0][0]), max(s[0][1]))\n",
    "fig.add_trace(\n",
    "    go.Scatter(\n",
    "        x=s[0][0],\n",
    "        y=s[0][1],\n",
    "        mode='markers',\n",
    "    ))\n",
    "fig.add_shape(\n",
    "    dict(\n",
    "        type=\"line\",\n",
    "        xref='paper',\n",
    "        yref='paper',\n",
    "        x0=0,\n",
    "        y0=0,\n",
    "        x1=1,\n",
    "        y1=1,\n",
    "        line=dict(\n",
    "            color=\"red\",\n",
    "        )\n",
    "    ))\n",
    "range = [m_min-0.1, m_max+0.1]\n",
    "fig.update_xaxes(title_text=\"IC\", range=range)\n",
    "fig.update_yaxes(range=range)\n",
    "# fig.update_layout(\n",
    "#     width=600, height=600\n",
    "# )\n",
    "fig.show()"
   ]
  },
  {
   "cell_type": "markdown",
   "metadata": {},
   "source": [
    "## 使用 statsmodels"
   ]
  },
  {
   "cell_type": "code",
   "execution_count": 21,
   "metadata": {},
   "outputs": [],
   "source": [
    "probplot = sm.ProbPlot(ic.replace(np.nan, 0.).values,theoretical_dist,fit=True)"
   ]
  },
  {
   "cell_type": "code",
   "execution_count": 22,
   "metadata": {},
   "outputs": [],
   "source": [
    "x=probplot.theoretical_quantiles\n",
    "y=probplot.sample_quantiles"
   ]
  },
  {
   "cell_type": "code",
   "execution_count": 23,
   "metadata": {},
   "outputs": [
    {
     "output_type": "display_data",
     "data": {
      "application/vnd.plotly.v1+json": {
       "config": {
        "plotlyServerURL": "https://plot.ly"
       },
       "data": [
        {
         "mode": "markers",
         "type": "scatter",
         "x": [
          -1.8485962885014091,
          -1.5179291595942785,
          -1.3001534333634237,
          -1.1309776082451584,
          -0.9891686273406353,
          -0.8648943586852831,
          -0.7527287942581697,
          -0.6493239131864658,
          -0.5524425846467742,
          -0.4604945391031163,
          -0.37228936046519107,
          -0.2868939169230392,
          -0.2035442315324862,
          -0.12158738275048304,
          -0.04044050856564621,
          0.04044050856564621,
          0.1215873827504829,
          0.20354423153248632,
          0.2868939169230392,
          0.37228936046519107,
          0.46049453910311605,
          0.5524425846467744,
          0.6493239131864658,
          0.7527287942581697,
          0.8648943586852829,
          0.9891686273406353,
          1.1309776082451584,
          1.300153433363423,
          1.517929159594278,
          1.8485962885014091
         ],
         "y": [
          -1.896185168746992,
          -1.0995067805150975,
          -1.0995067805150975,
          -1.0995067805150975,
          -1.0995067805150975,
          -1.0995067805150975,
          -1.0995067805150975,
          -1.0995067805150975,
          -1.0995067805150975,
          -0.011223863544288401,
          -0.011223863544288401,
          -0.011223863544288401,
          -0.011223863544288401,
          -0.011223863544288401,
          -0.011223863544288401,
          -0.011223863544288401,
          -0.011223863544288401,
          -0.011223863544288401,
          -0.011223863544288401,
          -0.011223863544288401,
          0.6170965715232793,
          0.6170965715232793,
          0.6170965715232793,
          0.6170965715232793,
          0.6170965715232793,
          0.6170965715232793,
          0.6170965715232793,
          2.16534197039733,
          2.16534197039733,
          2.16534197039733
         ]
        }
       ],
       "layout": {
        "shapes": [
         {
          "line": {
           "color": "red"
          },
          "type": "line",
          "x0": 0,
          "x1": 1,
          "xref": "paper",
          "y0": 0,
          "y1": 1,
          "yref": "paper"
         }
        ],
        "template": {
         "data": {
          "bar": [
           {
            "error_x": {
             "color": "#2a3f5f"
            },
            "error_y": {
             "color": "#2a3f5f"
            },
            "marker": {
             "line": {
              "color": "#E5ECF6",
              "width": 0.5
             }
            },
            "type": "bar"
           }
          ],
          "barpolar": [
           {
            "marker": {
             "line": {
              "color": "#E5ECF6",
              "width": 0.5
             }
            },
            "type": "barpolar"
           }
          ],
          "carpet": [
           {
            "aaxis": {
             "endlinecolor": "#2a3f5f",
             "gridcolor": "white",
             "linecolor": "white",
             "minorgridcolor": "white",
             "startlinecolor": "#2a3f5f"
            },
            "baxis": {
             "endlinecolor": "#2a3f5f",
             "gridcolor": "white",
             "linecolor": "white",
             "minorgridcolor": "white",
             "startlinecolor": "#2a3f5f"
            },
            "type": "carpet"
           }
          ],
          "choropleth": [
           {
            "colorbar": {
             "outlinewidth": 0,
             "ticks": ""
            },
            "type": "choropleth"
           }
          ],
          "contour": [
           {
            "colorbar": {
             "outlinewidth": 0,
             "ticks": ""
            },
            "colorscale": [
             [
              0,
              "#0d0887"
             ],
             [
              0.1111111111111111,
              "#46039f"
             ],
             [
              0.2222222222222222,
              "#7201a8"
             ],
             [
              0.3333333333333333,
              "#9c179e"
             ],
             [
              0.4444444444444444,
              "#bd3786"
             ],
             [
              0.5555555555555556,
              "#d8576b"
             ],
             [
              0.6666666666666666,
              "#ed7953"
             ],
             [
              0.7777777777777778,
              "#fb9f3a"
             ],
             [
              0.8888888888888888,
              "#fdca26"
             ],
             [
              1,
              "#f0f921"
             ]
            ],
            "type": "contour"
           }
          ],
          "contourcarpet": [
           {
            "colorbar": {
             "outlinewidth": 0,
             "ticks": ""
            },
            "type": "contourcarpet"
           }
          ],
          "heatmap": [
           {
            "colorbar": {
             "outlinewidth": 0,
             "ticks": ""
            },
            "colorscale": [
             [
              0,
              "#0d0887"
             ],
             [
              0.1111111111111111,
              "#46039f"
             ],
             [
              0.2222222222222222,
              "#7201a8"
             ],
             [
              0.3333333333333333,
              "#9c179e"
             ],
             [
              0.4444444444444444,
              "#bd3786"
             ],
             [
              0.5555555555555556,
              "#d8576b"
             ],
             [
              0.6666666666666666,
              "#ed7953"
             ],
             [
              0.7777777777777778,
              "#fb9f3a"
             ],
             [
              0.8888888888888888,
              "#fdca26"
             ],
             [
              1,
              "#f0f921"
             ]
            ],
            "type": "heatmap"
           }
          ],
          "heatmapgl": [
           {
            "colorbar": {
             "outlinewidth": 0,
             "ticks": ""
            },
            "colorscale": [
             [
              0,
              "#0d0887"
             ],
             [
              0.1111111111111111,
              "#46039f"
             ],
             [
              0.2222222222222222,
              "#7201a8"
             ],
             [
              0.3333333333333333,
              "#9c179e"
             ],
             [
              0.4444444444444444,
              "#bd3786"
             ],
             [
              0.5555555555555556,
              "#d8576b"
             ],
             [
              0.6666666666666666,
              "#ed7953"
             ],
             [
              0.7777777777777778,
              "#fb9f3a"
             ],
             [
              0.8888888888888888,
              "#fdca26"
             ],
             [
              1,
              "#f0f921"
             ]
            ],
            "type": "heatmapgl"
           }
          ],
          "histogram": [
           {
            "marker": {
             "colorbar": {
              "outlinewidth": 0,
              "ticks": ""
             }
            },
            "type": "histogram"
           }
          ],
          "histogram2d": [
           {
            "colorbar": {
             "outlinewidth": 0,
             "ticks": ""
            },
            "colorscale": [
             [
              0,
              "#0d0887"
             ],
             [
              0.1111111111111111,
              "#46039f"
             ],
             [
              0.2222222222222222,
              "#7201a8"
             ],
             [
              0.3333333333333333,
              "#9c179e"
             ],
             [
              0.4444444444444444,
              "#bd3786"
             ],
             [
              0.5555555555555556,
              "#d8576b"
             ],
             [
              0.6666666666666666,
              "#ed7953"
             ],
             [
              0.7777777777777778,
              "#fb9f3a"
             ],
             [
              0.8888888888888888,
              "#fdca26"
             ],
             [
              1,
              "#f0f921"
             ]
            ],
            "type": "histogram2d"
           }
          ],
          "histogram2dcontour": [
           {
            "colorbar": {
             "outlinewidth": 0,
             "ticks": ""
            },
            "colorscale": [
             [
              0,
              "#0d0887"
             ],
             [
              0.1111111111111111,
              "#46039f"
             ],
             [
              0.2222222222222222,
              "#7201a8"
             ],
             [
              0.3333333333333333,
              "#9c179e"
             ],
             [
              0.4444444444444444,
              "#bd3786"
             ],
             [
              0.5555555555555556,
              "#d8576b"
             ],
             [
              0.6666666666666666,
              "#ed7953"
             ],
             [
              0.7777777777777778,
              "#fb9f3a"
             ],
             [
              0.8888888888888888,
              "#fdca26"
             ],
             [
              1,
              "#f0f921"
             ]
            ],
            "type": "histogram2dcontour"
           }
          ],
          "mesh3d": [
           {
            "colorbar": {
             "outlinewidth": 0,
             "ticks": ""
            },
            "type": "mesh3d"
           }
          ],
          "parcoords": [
           {
            "line": {
             "colorbar": {
              "outlinewidth": 0,
              "ticks": ""
             }
            },
            "type": "parcoords"
           }
          ],
          "pie": [
           {
            "automargin": true,
            "type": "pie"
           }
          ],
          "scatter": [
           {
            "marker": {
             "colorbar": {
              "outlinewidth": 0,
              "ticks": ""
             }
            },
            "type": "scatter"
           }
          ],
          "scatter3d": [
           {
            "line": {
             "colorbar": {
              "outlinewidth": 0,
              "ticks": ""
             }
            },
            "marker": {
             "colorbar": {
              "outlinewidth": 0,
              "ticks": ""
             }
            },
            "type": "scatter3d"
           }
          ],
          "scattercarpet": [
           {
            "marker": {
             "colorbar": {
              "outlinewidth": 0,
              "ticks": ""
             }
            },
            "type": "scattercarpet"
           }
          ],
          "scattergeo": [
           {
            "marker": {
             "colorbar": {
              "outlinewidth": 0,
              "ticks": ""
             }
            },
            "type": "scattergeo"
           }
          ],
          "scattergl": [
           {
            "marker": {
             "colorbar": {
              "outlinewidth": 0,
              "ticks": ""
             }
            },
            "type": "scattergl"
           }
          ],
          "scattermapbox": [
           {
            "marker": {
             "colorbar": {
              "outlinewidth": 0,
              "ticks": ""
             }
            },
            "type": "scattermapbox"
           }
          ],
          "scatterpolar": [
           {
            "marker": {
             "colorbar": {
              "outlinewidth": 0,
              "ticks": ""
             }
            },
            "type": "scatterpolar"
           }
          ],
          "scatterpolargl": [
           {
            "marker": {
             "colorbar": {
              "outlinewidth": 0,
              "ticks": ""
             }
            },
            "type": "scatterpolargl"
           }
          ],
          "scatterternary": [
           {
            "marker": {
             "colorbar": {
              "outlinewidth": 0,
              "ticks": ""
             }
            },
            "type": "scatterternary"
           }
          ],
          "surface": [
           {
            "colorbar": {
             "outlinewidth": 0,
             "ticks": ""
            },
            "colorscale": [
             [
              0,
              "#0d0887"
             ],
             [
              0.1111111111111111,
              "#46039f"
             ],
             [
              0.2222222222222222,
              "#7201a8"
             ],
             [
              0.3333333333333333,
              "#9c179e"
             ],
             [
              0.4444444444444444,
              "#bd3786"
             ],
             [
              0.5555555555555556,
              "#d8576b"
             ],
             [
              0.6666666666666666,
              "#ed7953"
             ],
             [
              0.7777777777777778,
              "#fb9f3a"
             ],
             [
              0.8888888888888888,
              "#fdca26"
             ],
             [
              1,
              "#f0f921"
             ]
            ],
            "type": "surface"
           }
          ],
          "table": [
           {
            "cells": {
             "fill": {
              "color": "#EBF0F8"
             },
             "line": {
              "color": "white"
             }
            },
            "header": {
             "fill": {
              "color": "#C8D4E3"
             },
             "line": {
              "color": "white"
             }
            },
            "type": "table"
           }
          ]
         },
         "layout": {
          "annotationdefaults": {
           "arrowcolor": "#2a3f5f",
           "arrowhead": 0,
           "arrowwidth": 1
          },
          "coloraxis": {
           "colorbar": {
            "outlinewidth": 0,
            "ticks": ""
           }
          },
          "colorscale": {
           "diverging": [
            [
             0,
             "#8e0152"
            ],
            [
             0.1,
             "#c51b7d"
            ],
            [
             0.2,
             "#de77ae"
            ],
            [
             0.3,
             "#f1b6da"
            ],
            [
             0.4,
             "#fde0ef"
            ],
            [
             0.5,
             "#f7f7f7"
            ],
            [
             0.6,
             "#e6f5d0"
            ],
            [
             0.7,
             "#b8e186"
            ],
            [
             0.8,
             "#7fbc41"
            ],
            [
             0.9,
             "#4d9221"
            ],
            [
             1,
             "#276419"
            ]
           ],
           "sequential": [
            [
             0,
             "#0d0887"
            ],
            [
             0.1111111111111111,
             "#46039f"
            ],
            [
             0.2222222222222222,
             "#7201a8"
            ],
            [
             0.3333333333333333,
             "#9c179e"
            ],
            [
             0.4444444444444444,
             "#bd3786"
            ],
            [
             0.5555555555555556,
             "#d8576b"
            ],
            [
             0.6666666666666666,
             "#ed7953"
            ],
            [
             0.7777777777777778,
             "#fb9f3a"
            ],
            [
             0.8888888888888888,
             "#fdca26"
            ],
            [
             1,
             "#f0f921"
            ]
           ],
           "sequentialminus": [
            [
             0,
             "#0d0887"
            ],
            [
             0.1111111111111111,
             "#46039f"
            ],
            [
             0.2222222222222222,
             "#7201a8"
            ],
            [
             0.3333333333333333,
             "#9c179e"
            ],
            [
             0.4444444444444444,
             "#bd3786"
            ],
            [
             0.5555555555555556,
             "#d8576b"
            ],
            [
             0.6666666666666666,
             "#ed7953"
            ],
            [
             0.7777777777777778,
             "#fb9f3a"
            ],
            [
             0.8888888888888888,
             "#fdca26"
            ],
            [
             1,
             "#f0f921"
            ]
           ]
          },
          "colorway": [
           "#636efa",
           "#EF553B",
           "#00cc96",
           "#ab63fa",
           "#FFA15A",
           "#19d3f3",
           "#FF6692",
           "#B6E880",
           "#FF97FF",
           "#FECB52"
          ],
          "font": {
           "color": "#2a3f5f"
          },
          "geo": {
           "bgcolor": "white",
           "lakecolor": "white",
           "landcolor": "#E5ECF6",
           "showlakes": true,
           "showland": true,
           "subunitcolor": "white"
          },
          "hoverlabel": {
           "align": "left"
          },
          "hovermode": "closest",
          "mapbox": {
           "style": "light"
          },
          "paper_bgcolor": "white",
          "plot_bgcolor": "#E5ECF6",
          "polar": {
           "angularaxis": {
            "gridcolor": "white",
            "linecolor": "white",
            "ticks": ""
           },
           "bgcolor": "#E5ECF6",
           "radialaxis": {
            "gridcolor": "white",
            "linecolor": "white",
            "ticks": ""
           }
          },
          "scene": {
           "xaxis": {
            "backgroundcolor": "#E5ECF6",
            "gridcolor": "white",
            "gridwidth": 2,
            "linecolor": "white",
            "showbackground": true,
            "ticks": "",
            "zerolinecolor": "white"
           },
           "yaxis": {
            "backgroundcolor": "#E5ECF6",
            "gridcolor": "white",
            "gridwidth": 2,
            "linecolor": "white",
            "showbackground": true,
            "ticks": "",
            "zerolinecolor": "white"
           },
           "zaxis": {
            "backgroundcolor": "#E5ECF6",
            "gridcolor": "white",
            "gridwidth": 2,
            "linecolor": "white",
            "showbackground": true,
            "ticks": "",
            "zerolinecolor": "white"
           }
          },
          "shapedefaults": {
           "line": {
            "color": "#2a3f5f"
           }
          },
          "ternary": {
           "aaxis": {
            "gridcolor": "white",
            "linecolor": "white",
            "ticks": ""
           },
           "baxis": {
            "gridcolor": "white",
            "linecolor": "white",
            "ticks": ""
           },
           "bgcolor": "#E5ECF6",
           "caxis": {
            "gridcolor": "white",
            "linecolor": "white",
            "ticks": ""
           }
          },
          "title": {
           "x": 0.05
          },
          "xaxis": {
           "automargin": true,
           "gridcolor": "white",
           "linecolor": "white",
           "ticks": "",
           "title": {
            "standoff": 15
           },
           "zerolinecolor": "white",
           "zerolinewidth": 2
          },
          "yaxis": {
           "automargin": true,
           "gridcolor": "white",
           "linecolor": "white",
           "ticks": "",
           "title": {
            "standoff": 15
           },
           "zerolinecolor": "white",
           "zerolinewidth": 2
          }
         }
        },
        "xaxis": {
         "range": [
          -1.996185168746992,
          2.26534197039733
         ],
         "title": {
          "text": "IC"
         }
        },
        "yaxis": {
         "range": [
          -1.996185168746992,
          2.26534197039733
         ]
        }
       }
      },
      "text/html": "<div>\n        \n        \n            <div id=\"2717da89-e627-4328-8c2e-e044d5f19c60\" class=\"plotly-graph-div\" style=\"height:525px; width:100%;\"></div>\n            <script type=\"text/javascript\">\n                require([\"plotly\"], function(Plotly) {\n                    window.PLOTLYENV=window.PLOTLYENV || {};\n                    \n                if (document.getElementById(\"2717da89-e627-4328-8c2e-e044d5f19c60\")) {\n                    Plotly.newPlot(\n                        '2717da89-e627-4328-8c2e-e044d5f19c60',\n                        [{\"mode\": \"markers\", \"type\": \"scatter\", \"x\": [-1.8485962885014091, -1.5179291595942785, -1.3001534333634237, -1.1309776082451584, -0.9891686273406353, -0.8648943586852831, -0.7527287942581697, -0.6493239131864658, -0.5524425846467742, -0.4604945391031163, -0.37228936046519107, -0.2868939169230392, -0.2035442315324862, -0.12158738275048304, -0.04044050856564621, 0.04044050856564621, 0.1215873827504829, 0.20354423153248632, 0.2868939169230392, 0.37228936046519107, 0.46049453910311605, 0.5524425846467744, 0.6493239131864658, 0.7527287942581697, 0.8648943586852829, 0.9891686273406353, 1.1309776082451584, 1.300153433363423, 1.517929159594278, 1.8485962885014091], \"y\": [-1.896185168746992, -1.0995067805150975, -1.0995067805150975, -1.0995067805150975, -1.0995067805150975, -1.0995067805150975, -1.0995067805150975, -1.0995067805150975, -1.0995067805150975, -0.011223863544288401, -0.011223863544288401, -0.011223863544288401, -0.011223863544288401, -0.011223863544288401, -0.011223863544288401, -0.011223863544288401, -0.011223863544288401, -0.011223863544288401, -0.011223863544288401, -0.011223863544288401, 0.6170965715232793, 0.6170965715232793, 0.6170965715232793, 0.6170965715232793, 0.6170965715232793, 0.6170965715232793, 0.6170965715232793, 2.16534197039733, 2.16534197039733, 2.16534197039733]}],\n                        {\"shapes\": [{\"line\": {\"color\": \"red\"}, \"type\": \"line\", \"x0\": 0, \"x1\": 1, \"xref\": \"paper\", \"y0\": 0, \"y1\": 1, \"yref\": \"paper\"}], \"template\": {\"data\": {\"bar\": [{\"error_x\": {\"color\": \"#2a3f5f\"}, \"error_y\": {\"color\": \"#2a3f5f\"}, \"marker\": {\"line\": {\"color\": \"#E5ECF6\", \"width\": 0.5}}, \"type\": \"bar\"}], \"barpolar\": [{\"marker\": {\"line\": {\"color\": \"#E5ECF6\", \"width\": 0.5}}, \"type\": \"barpolar\"}], \"carpet\": [{\"aaxis\": {\"endlinecolor\": \"#2a3f5f\", \"gridcolor\": \"white\", \"linecolor\": \"white\", \"minorgridcolor\": \"white\", \"startlinecolor\": \"#2a3f5f\"}, \"baxis\": {\"endlinecolor\": \"#2a3f5f\", \"gridcolor\": \"white\", \"linecolor\": \"white\", \"minorgridcolor\": \"white\", \"startlinecolor\": \"#2a3f5f\"}, \"type\": \"carpet\"}], \"choropleth\": [{\"colorbar\": {\"outlinewidth\": 0, \"ticks\": \"\"}, \"type\": \"choropleth\"}], \"contour\": [{\"colorbar\": {\"outlinewidth\": 0, \"ticks\": \"\"}, \"colorscale\": [[0.0, \"#0d0887\"], [0.1111111111111111, \"#46039f\"], [0.2222222222222222, \"#7201a8\"], [0.3333333333333333, \"#9c179e\"], [0.4444444444444444, \"#bd3786\"], [0.5555555555555556, \"#d8576b\"], [0.6666666666666666, \"#ed7953\"], [0.7777777777777778, \"#fb9f3a\"], [0.8888888888888888, \"#fdca26\"], [1.0, \"#f0f921\"]], \"type\": \"contour\"}], \"contourcarpet\": [{\"colorbar\": {\"outlinewidth\": 0, \"ticks\": \"\"}, \"type\": \"contourcarpet\"}], \"heatmap\": [{\"colorbar\": {\"outlinewidth\": 0, \"ticks\": \"\"}, \"colorscale\": [[0.0, \"#0d0887\"], [0.1111111111111111, \"#46039f\"], [0.2222222222222222, \"#7201a8\"], [0.3333333333333333, \"#9c179e\"], [0.4444444444444444, \"#bd3786\"], [0.5555555555555556, \"#d8576b\"], [0.6666666666666666, \"#ed7953\"], [0.7777777777777778, \"#fb9f3a\"], [0.8888888888888888, \"#fdca26\"], [1.0, \"#f0f921\"]], \"type\": \"heatmap\"}], \"heatmapgl\": [{\"colorbar\": {\"outlinewidth\": 0, \"ticks\": \"\"}, \"colorscale\": [[0.0, \"#0d0887\"], [0.1111111111111111, \"#46039f\"], [0.2222222222222222, \"#7201a8\"], [0.3333333333333333, \"#9c179e\"], [0.4444444444444444, \"#bd3786\"], [0.5555555555555556, \"#d8576b\"], [0.6666666666666666, \"#ed7953\"], [0.7777777777777778, \"#fb9f3a\"], [0.8888888888888888, \"#fdca26\"], [1.0, \"#f0f921\"]], \"type\": \"heatmapgl\"}], \"histogram\": [{\"marker\": {\"colorbar\": {\"outlinewidth\": 0, \"ticks\": \"\"}}, \"type\": \"histogram\"}], \"histogram2d\": [{\"colorbar\": {\"outlinewidth\": 0, \"ticks\": \"\"}, \"colorscale\": [[0.0, \"#0d0887\"], [0.1111111111111111, \"#46039f\"], [0.2222222222222222, \"#7201a8\"], [0.3333333333333333, \"#9c179e\"], [0.4444444444444444, \"#bd3786\"], [0.5555555555555556, \"#d8576b\"], [0.6666666666666666, \"#ed7953\"], [0.7777777777777778, \"#fb9f3a\"], [0.8888888888888888, \"#fdca26\"], [1.0, \"#f0f921\"]], \"type\": \"histogram2d\"}], \"histogram2dcontour\": [{\"colorbar\": {\"outlinewidth\": 0, \"ticks\": \"\"}, \"colorscale\": [[0.0, \"#0d0887\"], [0.1111111111111111, \"#46039f\"], [0.2222222222222222, \"#7201a8\"], [0.3333333333333333, \"#9c179e\"], [0.4444444444444444, \"#bd3786\"], [0.5555555555555556, \"#d8576b\"], [0.6666666666666666, \"#ed7953\"], [0.7777777777777778, \"#fb9f3a\"], [0.8888888888888888, \"#fdca26\"], [1.0, \"#f0f921\"]], \"type\": \"histogram2dcontour\"}], \"mesh3d\": [{\"colorbar\": {\"outlinewidth\": 0, \"ticks\": \"\"}, \"type\": \"mesh3d\"}], \"parcoords\": [{\"line\": {\"colorbar\": {\"outlinewidth\": 0, \"ticks\": \"\"}}, \"type\": \"parcoords\"}], \"pie\": [{\"automargin\": true, \"type\": \"pie\"}], \"scatter\": [{\"marker\": {\"colorbar\": {\"outlinewidth\": 0, \"ticks\": \"\"}}, \"type\": \"scatter\"}], \"scatter3d\": [{\"line\": {\"colorbar\": {\"outlinewidth\": 0, \"ticks\": \"\"}}, \"marker\": {\"colorbar\": {\"outlinewidth\": 0, \"ticks\": \"\"}}, \"type\": \"scatter3d\"}], \"scattercarpet\": [{\"marker\": {\"colorbar\": {\"outlinewidth\": 0, \"ticks\": \"\"}}, \"type\": \"scattercarpet\"}], \"scattergeo\": [{\"marker\": {\"colorbar\": {\"outlinewidth\": 0, \"ticks\": \"\"}}, \"type\": \"scattergeo\"}], \"scattergl\": [{\"marker\": {\"colorbar\": {\"outlinewidth\": 0, \"ticks\": \"\"}}, \"type\": \"scattergl\"}], \"scattermapbox\": [{\"marker\": {\"colorbar\": {\"outlinewidth\": 0, \"ticks\": \"\"}}, \"type\": \"scattermapbox\"}], \"scatterpolar\": [{\"marker\": {\"colorbar\": {\"outlinewidth\": 0, \"ticks\": \"\"}}, \"type\": \"scatterpolar\"}], \"scatterpolargl\": [{\"marker\": {\"colorbar\": {\"outlinewidth\": 0, \"ticks\": \"\"}}, \"type\": \"scatterpolargl\"}], \"scatterternary\": [{\"marker\": {\"colorbar\": {\"outlinewidth\": 0, \"ticks\": \"\"}}, \"type\": \"scatterternary\"}], \"surface\": [{\"colorbar\": {\"outlinewidth\": 0, \"ticks\": \"\"}, \"colorscale\": [[0.0, \"#0d0887\"], [0.1111111111111111, \"#46039f\"], [0.2222222222222222, \"#7201a8\"], [0.3333333333333333, \"#9c179e\"], [0.4444444444444444, \"#bd3786\"], [0.5555555555555556, \"#d8576b\"], [0.6666666666666666, \"#ed7953\"], [0.7777777777777778, \"#fb9f3a\"], [0.8888888888888888, \"#fdca26\"], [1.0, \"#f0f921\"]], \"type\": \"surface\"}], \"table\": [{\"cells\": {\"fill\": {\"color\": \"#EBF0F8\"}, \"line\": {\"color\": \"white\"}}, \"header\": {\"fill\": {\"color\": \"#C8D4E3\"}, \"line\": {\"color\": \"white\"}}, \"type\": \"table\"}]}, \"layout\": {\"annotationdefaults\": {\"arrowcolor\": \"#2a3f5f\", \"arrowhead\": 0, \"arrowwidth\": 1}, \"coloraxis\": {\"colorbar\": {\"outlinewidth\": 0, \"ticks\": \"\"}}, \"colorscale\": {\"diverging\": [[0, \"#8e0152\"], [0.1, \"#c51b7d\"], [0.2, \"#de77ae\"], [0.3, \"#f1b6da\"], [0.4, \"#fde0ef\"], [0.5, \"#f7f7f7\"], [0.6, \"#e6f5d0\"], [0.7, \"#b8e186\"], [0.8, \"#7fbc41\"], [0.9, \"#4d9221\"], [1, \"#276419\"]], \"sequential\": [[0.0, \"#0d0887\"], [0.1111111111111111, \"#46039f\"], [0.2222222222222222, \"#7201a8\"], [0.3333333333333333, \"#9c179e\"], [0.4444444444444444, \"#bd3786\"], [0.5555555555555556, \"#d8576b\"], [0.6666666666666666, \"#ed7953\"], [0.7777777777777778, \"#fb9f3a\"], [0.8888888888888888, \"#fdca26\"], [1.0, \"#f0f921\"]], \"sequentialminus\": [[0.0, \"#0d0887\"], [0.1111111111111111, \"#46039f\"], [0.2222222222222222, \"#7201a8\"], [0.3333333333333333, \"#9c179e\"], [0.4444444444444444, \"#bd3786\"], [0.5555555555555556, \"#d8576b\"], [0.6666666666666666, \"#ed7953\"], [0.7777777777777778, \"#fb9f3a\"], [0.8888888888888888, \"#fdca26\"], [1.0, \"#f0f921\"]]}, \"colorway\": [\"#636efa\", \"#EF553B\", \"#00cc96\", \"#ab63fa\", \"#FFA15A\", \"#19d3f3\", \"#FF6692\", \"#B6E880\", \"#FF97FF\", \"#FECB52\"], \"font\": {\"color\": \"#2a3f5f\"}, \"geo\": {\"bgcolor\": \"white\", \"lakecolor\": \"white\", \"landcolor\": \"#E5ECF6\", \"showlakes\": true, \"showland\": true, \"subunitcolor\": \"white\"}, \"hoverlabel\": {\"align\": \"left\"}, \"hovermode\": \"closest\", \"mapbox\": {\"style\": \"light\"}, \"paper_bgcolor\": \"white\", \"plot_bgcolor\": \"#E5ECF6\", \"polar\": {\"angularaxis\": {\"gridcolor\": \"white\", \"linecolor\": \"white\", \"ticks\": \"\"}, \"bgcolor\": \"#E5ECF6\", \"radialaxis\": {\"gridcolor\": \"white\", \"linecolor\": \"white\", \"ticks\": \"\"}}, \"scene\": {\"xaxis\": {\"backgroundcolor\": \"#E5ECF6\", \"gridcolor\": \"white\", \"gridwidth\": 2, \"linecolor\": \"white\", \"showbackground\": true, \"ticks\": \"\", \"zerolinecolor\": \"white\"}, \"yaxis\": {\"backgroundcolor\": \"#E5ECF6\", \"gridcolor\": \"white\", \"gridwidth\": 2, \"linecolor\": \"white\", \"showbackground\": true, \"ticks\": \"\", \"zerolinecolor\": \"white\"}, \"zaxis\": {\"backgroundcolor\": \"#E5ECF6\", \"gridcolor\": \"white\", \"gridwidth\": 2, \"linecolor\": \"white\", \"showbackground\": true, \"ticks\": \"\", \"zerolinecolor\": \"white\"}}, \"shapedefaults\": {\"line\": {\"color\": \"#2a3f5f\"}}, \"ternary\": {\"aaxis\": {\"gridcolor\": \"white\", \"linecolor\": \"white\", \"ticks\": \"\"}, \"baxis\": {\"gridcolor\": \"white\", \"linecolor\": \"white\", \"ticks\": \"\"}, \"bgcolor\": \"#E5ECF6\", \"caxis\": {\"gridcolor\": \"white\", \"linecolor\": \"white\", \"ticks\": \"\"}}, \"title\": {\"x\": 0.05}, \"xaxis\": {\"automargin\": true, \"gridcolor\": \"white\", \"linecolor\": \"white\", \"ticks\": \"\", \"title\": {\"standoff\": 15}, \"zerolinecolor\": \"white\", \"zerolinewidth\": 2}, \"yaxis\": {\"automargin\": true, \"gridcolor\": \"white\", \"linecolor\": \"white\", \"ticks\": \"\", \"title\": {\"standoff\": 15}, \"zerolinecolor\": \"white\", \"zerolinewidth\": 2}}}, \"xaxis\": {\"range\": [-1.996185168746992, 2.26534197039733], \"title\": {\"text\": \"IC\"}}, \"yaxis\": {\"range\": [-1.996185168746992, 2.26534197039733]}},\n                        {\"responsive\": true}\n                    ).then(function(){\n                            \nvar gd = document.getElementById('2717da89-e627-4328-8c2e-e044d5f19c60');\nvar x = new MutationObserver(function (mutations, observer) {{\n        var display = window.getComputedStyle(gd).display;\n        if (!display || display === 'none') {{\n            console.log([gd, 'removed!']);\n            Plotly.purge(gd);\n            observer.disconnect();\n        }}\n}});\n\n// Listen for the removal of the full notebook cells\nvar notebookContainer = gd.closest('#notebook-container');\nif (notebookContainer) {{\n    x.observe(notebookContainer, {childList: true});\n}}\n\n// Listen for the clearing of the current output cell\nvar outputEl = gd.closest('.output');\nif (outputEl) {{\n    x.observe(outputEl, {childList: true});\n}}\n\n                        })\n                };\n                });\n            </script>\n        </div>"
     },
     "metadata": {}
    }
   ],
   "source": [
    "fig = go.Figure()\n",
    "m_min, m_max = min(min(x), min(y)), max(max(x), max(y))\n",
    "fig.add_trace(\n",
    "    go.Scatter(\n",
    "        x=x,\n",
    "        y=y,\n",
    "        mode='markers',\n",
    "    ))\n",
    "fig.add_shape(\n",
    "    dict(\n",
    "        type=\"line\",\n",
    "        xref='paper',\n",
    "        yref='paper',\n",
    "        x0=0,\n",
    "        y0=0,\n",
    "        x1=1,\n",
    "        y1=1,\n",
    "        line=dict(\n",
    "            color=\"red\",\n",
    "        )\n",
    "    ))\n",
    "range = [m_min-0.1, m_max+0.1]\n",
    "fig.update_xaxes(title_text=\"IC\", range=range)\n",
    "fig.update_yaxes(range=range)\n",
    "fig.show()"
   ]
  },
  {
   "cell_type": "markdown",
   "metadata": {},
   "source": [
    "## 比较"
   ]
  },
  {
   "cell_type": "code",
   "execution_count": 24,
   "metadata": {
    "ExecuteTime": {
     "end_time": "2020-07-24T00:23:12.522741Z",
     "start_time": "2020-07-24T00:23:12.416516Z"
    }
   },
   "outputs": [
    {
     "output_type": "display_data",
     "data": {
      "text/plain": "<Figure size 432x288 with 1 Axes>",
      "image/svg+xml": "<?xml version=\"1.0\" encoding=\"utf-8\" standalone=\"no\"?>\r\n<!DOCTYPE svg PUBLIC \"-//W3C//DTD SVG 1.1//EN\"\r\n  \"http://www.w3.org/Graphics/SVG/1.1/DTD/svg11.dtd\">\r\n<!-- Created with matplotlib (https://matplotlib.org/) -->\r\n<svg height=\"262.19625pt\" version=\"1.1\" viewBox=\"0 0 394.160937 262.19625\" width=\"394.160937pt\" xmlns=\"http://www.w3.org/2000/svg\" xmlns:xlink=\"http://www.w3.org/1999/xlink\">\r\n <metadata>\r\n  <rdf:RDF xmlns:cc=\"http://creativecommons.org/ns#\" xmlns:dc=\"http://purl.org/dc/elements/1.1/\" xmlns:rdf=\"http://www.w3.org/1999/02/22-rdf-syntax-ns#\">\r\n   <cc:Work>\r\n    <dc:type rdf:resource=\"http://purl.org/dc/dcmitype/StillImage\"/>\r\n    <dc:date>2020-07-25T09:49:17.707736</dc:date>\r\n    <dc:format>image/svg+xml</dc:format>\r\n    <dc:creator>\r\n     <cc:Agent>\r\n      <dc:title>Matplotlib v3.3.0, https://matplotlib.org/</dc:title>\r\n     </cc:Agent>\r\n    </dc:creator>\r\n   </cc:Work>\r\n  </rdf:RDF>\r\n </metadata>\r\n <defs>\r\n  <style type=\"text/css\">*{stroke-linecap:butt;stroke-linejoin:round;}</style>\r\n </defs>\r\n <g id=\"figure_1\">\r\n  <g id=\"patch_1\">\r\n   <path d=\"M 0 262.19625 \r\nL 394.160937 262.19625 \r\nL 394.160937 0 \r\nL 0 0 \r\nz\r\n\" style=\"fill:none;\"/>\r\n  </g>\r\n  <g id=\"axes_1\">\r\n   <g id=\"patch_2\">\r\n    <path d=\"M 52.160938 224.64 \r\nL 386.960938 224.64 \r\nL 386.960938 7.2 \r\nL 52.160938 7.2 \r\nz\r\n\" style=\"fill:#ffffff;\"/>\r\n   </g>\r\n   <g id=\"matplotlib.axis_1\">\r\n    <g id=\"xtick_1\">\r\n     <g id=\"line2d_1\">\r\n      <defs>\r\n       <path d=\"M 0 0 \r\nL 0 3.5 \r\n\" id=\"m9b669aa9f4\" style=\"stroke:#000000;stroke-width:0.8;\"/>\r\n      </defs>\r\n      <g>\r\n       <use style=\"stroke:#000000;stroke-width:0.8;\" x=\"59.59942\" xlink:href=\"#m9b669aa9f4\" y=\"224.64\"/>\r\n      </g>\r\n     </g>\r\n     <g id=\"text_1\">\r\n      <!-- −2.0 -->\r\n      <g transform=\"translate(47.458014 239.238437)scale(0.1 -0.1)\">\r\n       <defs>\r\n        <path d=\"M 10.59375 35.5 \r\nL 73.1875 35.5 \r\nL 73.1875 27.203125 \r\nL 10.59375 27.203125 \r\nz\r\n\" id=\"DejaVuSans-8722\"/>\r\n        <path d=\"M 19.1875 8.296875 \r\nL 53.609375 8.296875 \r\nL 53.609375 0 \r\nL 7.328125 0 \r\nL 7.328125 8.296875 \r\nQ 12.9375 14.109375 22.625 23.890625 \r\nQ 32.328125 33.6875 34.8125 36.53125 \r\nQ 39.546875 41.84375 41.421875 45.53125 \r\nQ 43.3125 49.21875 43.3125 52.78125 \r\nQ 43.3125 58.59375 39.234375 62.25 \r\nQ 35.15625 65.921875 28.609375 65.921875 \r\nQ 23.96875 65.921875 18.8125 64.3125 \r\nQ 13.671875 62.703125 7.8125 59.421875 \r\nL 7.8125 69.390625 \r\nQ 13.765625 71.78125 18.9375 73 \r\nQ 24.125 74.21875 28.421875 74.21875 \r\nQ 39.75 74.21875 46.484375 68.546875 \r\nQ 53.21875 62.890625 53.21875 53.421875 \r\nQ 53.21875 48.921875 51.53125 44.890625 \r\nQ 49.859375 40.875 45.40625 35.40625 \r\nQ 44.1875 33.984375 37.640625 27.21875 \r\nQ 31.109375 20.453125 19.1875 8.296875 \r\nz\r\n\" id=\"DejaVuSans-50\"/>\r\n        <path d=\"M 10.6875 12.40625 \r\nL 21 12.40625 \r\nL 21 0 \r\nL 10.6875 0 \r\nz\r\n\" id=\"DejaVuSans-46\"/>\r\n        <path d=\"M 31.78125 66.40625 \r\nQ 24.171875 66.40625 20.328125 58.90625 \r\nQ 16.5 51.421875 16.5 36.375 \r\nQ 16.5 21.390625 20.328125 13.890625 \r\nQ 24.171875 6.390625 31.78125 6.390625 \r\nQ 39.453125 6.390625 43.28125 13.890625 \r\nQ 47.125 21.390625 47.125 36.375 \r\nQ 47.125 51.421875 43.28125 58.90625 \r\nQ 39.453125 66.40625 31.78125 66.40625 \r\nz\r\nM 31.78125 74.21875 \r\nQ 44.046875 74.21875 50.515625 64.515625 \r\nQ 56.984375 54.828125 56.984375 36.375 \r\nQ 56.984375 17.96875 50.515625 8.265625 \r\nQ 44.046875 -1.421875 31.78125 -1.421875 \r\nQ 19.53125 -1.421875 13.0625 8.265625 \r\nQ 6.59375 17.96875 6.59375 36.375 \r\nQ 6.59375 54.828125 13.0625 64.515625 \r\nQ 19.53125 74.21875 31.78125 74.21875 \r\nz\r\n\" id=\"DejaVuSans-48\"/>\r\n       </defs>\r\n       <use xlink:href=\"#DejaVuSans-8722\"/>\r\n       <use x=\"83.789062\" xlink:href=\"#DejaVuSans-50\"/>\r\n       <use x=\"147.412109\" xlink:href=\"#DejaVuSans-46\"/>\r\n       <use x=\"179.199219\" xlink:href=\"#DejaVuSans-48\"/>\r\n      </g>\r\n     </g>\r\n    </g>\r\n    <g id=\"xtick_2\">\r\n     <g id=\"line2d_2\">\r\n      <g>\r\n       <use style=\"stroke:#000000;stroke-width:0.8;\" x=\"97.068533\" xlink:href=\"#m9b669aa9f4\" y=\"224.64\"/>\r\n      </g>\r\n     </g>\r\n     <g id=\"text_2\">\r\n      <!-- −1.5 -->\r\n      <g transform=\"translate(84.927127 239.238437)scale(0.1 -0.1)\">\r\n       <defs>\r\n        <path d=\"M 12.40625 8.296875 \r\nL 28.515625 8.296875 \r\nL 28.515625 63.921875 \r\nL 10.984375 60.40625 \r\nL 10.984375 69.390625 \r\nL 28.421875 72.90625 \r\nL 38.28125 72.90625 \r\nL 38.28125 8.296875 \r\nL 54.390625 8.296875 \r\nL 54.390625 0 \r\nL 12.40625 0 \r\nz\r\n\" id=\"DejaVuSans-49\"/>\r\n        <path d=\"M 10.796875 72.90625 \r\nL 49.515625 72.90625 \r\nL 49.515625 64.59375 \r\nL 19.828125 64.59375 \r\nL 19.828125 46.734375 \r\nQ 21.96875 47.46875 24.109375 47.828125 \r\nQ 26.265625 48.1875 28.421875 48.1875 \r\nQ 40.625 48.1875 47.75 41.5 \r\nQ 54.890625 34.8125 54.890625 23.390625 \r\nQ 54.890625 11.625 47.5625 5.09375 \r\nQ 40.234375 -1.421875 26.90625 -1.421875 \r\nQ 22.3125 -1.421875 17.546875 -0.640625 \r\nQ 12.796875 0.140625 7.71875 1.703125 \r\nL 7.71875 11.625 \r\nQ 12.109375 9.234375 16.796875 8.0625 \r\nQ 21.484375 6.890625 26.703125 6.890625 \r\nQ 35.15625 6.890625 40.078125 11.328125 \r\nQ 45.015625 15.765625 45.015625 23.390625 \r\nQ 45.015625 31 40.078125 35.4375 \r\nQ 35.15625 39.890625 26.703125 39.890625 \r\nQ 22.75 39.890625 18.8125 39.015625 \r\nQ 14.890625 38.140625 10.796875 36.28125 \r\nz\r\n\" id=\"DejaVuSans-53\"/>\r\n       </defs>\r\n       <use xlink:href=\"#DejaVuSans-8722\"/>\r\n       <use x=\"83.789062\" xlink:href=\"#DejaVuSans-49\"/>\r\n       <use x=\"147.412109\" xlink:href=\"#DejaVuSans-46\"/>\r\n       <use x=\"179.199219\" xlink:href=\"#DejaVuSans-53\"/>\r\n      </g>\r\n     </g>\r\n    </g>\r\n    <g id=\"xtick_3\">\r\n     <g id=\"line2d_3\">\r\n      <g>\r\n       <use style=\"stroke:#000000;stroke-width:0.8;\" x=\"134.537646\" xlink:href=\"#m9b669aa9f4\" y=\"224.64\"/>\r\n      </g>\r\n     </g>\r\n     <g id=\"text_3\">\r\n      <!-- −1.0 -->\r\n      <g transform=\"translate(122.396239 239.238437)scale(0.1 -0.1)\">\r\n       <use xlink:href=\"#DejaVuSans-8722\"/>\r\n       <use x=\"83.789062\" xlink:href=\"#DejaVuSans-49\"/>\r\n       <use x=\"147.412109\" xlink:href=\"#DejaVuSans-46\"/>\r\n       <use x=\"179.199219\" xlink:href=\"#DejaVuSans-48\"/>\r\n      </g>\r\n     </g>\r\n    </g>\r\n    <g id=\"xtick_4\">\r\n     <g id=\"line2d_4\">\r\n      <g>\r\n       <use style=\"stroke:#000000;stroke-width:0.8;\" x=\"172.006758\" xlink:href=\"#m9b669aa9f4\" y=\"224.64\"/>\r\n      </g>\r\n     </g>\r\n     <g id=\"text_4\">\r\n      <!-- −0.5 -->\r\n      <g transform=\"translate(159.865352 239.238437)scale(0.1 -0.1)\">\r\n       <use xlink:href=\"#DejaVuSans-8722\"/>\r\n       <use x=\"83.789062\" xlink:href=\"#DejaVuSans-48\"/>\r\n       <use x=\"147.412109\" xlink:href=\"#DejaVuSans-46\"/>\r\n       <use x=\"179.199219\" xlink:href=\"#DejaVuSans-53\"/>\r\n      </g>\r\n     </g>\r\n    </g>\r\n    <g id=\"xtick_5\">\r\n     <g id=\"line2d_5\">\r\n      <g>\r\n       <use style=\"stroke:#000000;stroke-width:0.8;\" x=\"209.475871\" xlink:href=\"#m9b669aa9f4\" y=\"224.64\"/>\r\n      </g>\r\n     </g>\r\n     <g id=\"text_5\">\r\n      <!-- 0.0 -->\r\n      <g transform=\"translate(201.524308 239.238437)scale(0.1 -0.1)\">\r\n       <use xlink:href=\"#DejaVuSans-48\"/>\r\n       <use x=\"63.623047\" xlink:href=\"#DejaVuSans-46\"/>\r\n       <use x=\"95.410156\" xlink:href=\"#DejaVuSans-48\"/>\r\n      </g>\r\n     </g>\r\n    </g>\r\n    <g id=\"xtick_6\">\r\n     <g id=\"line2d_6\">\r\n      <g>\r\n       <use style=\"stroke:#000000;stroke-width:0.8;\" x=\"246.944984\" xlink:href=\"#m9b669aa9f4\" y=\"224.64\"/>\r\n      </g>\r\n     </g>\r\n     <g id=\"text_6\">\r\n      <!-- 0.5 -->\r\n      <g transform=\"translate(238.993421 239.238437)scale(0.1 -0.1)\">\r\n       <use xlink:href=\"#DejaVuSans-48\"/>\r\n       <use x=\"63.623047\" xlink:href=\"#DejaVuSans-46\"/>\r\n       <use x=\"95.410156\" xlink:href=\"#DejaVuSans-53\"/>\r\n      </g>\r\n     </g>\r\n    </g>\r\n    <g id=\"xtick_7\">\r\n     <g id=\"line2d_7\">\r\n      <g>\r\n       <use style=\"stroke:#000000;stroke-width:0.8;\" x=\"284.414096\" xlink:href=\"#m9b669aa9f4\" y=\"224.64\"/>\r\n      </g>\r\n     </g>\r\n     <g id=\"text_7\">\r\n      <!-- 1.0 -->\r\n      <g transform=\"translate(276.462534 239.238437)scale(0.1 -0.1)\">\r\n       <use xlink:href=\"#DejaVuSans-49\"/>\r\n       <use x=\"63.623047\" xlink:href=\"#DejaVuSans-46\"/>\r\n       <use x=\"95.410156\" xlink:href=\"#DejaVuSans-48\"/>\r\n      </g>\r\n     </g>\r\n    </g>\r\n    <g id=\"xtick_8\">\r\n     <g id=\"line2d_8\">\r\n      <g>\r\n       <use style=\"stroke:#000000;stroke-width:0.8;\" x=\"321.883209\" xlink:href=\"#m9b669aa9f4\" y=\"224.64\"/>\r\n      </g>\r\n     </g>\r\n     <g id=\"text_8\">\r\n      <!-- 1.5 -->\r\n      <g transform=\"translate(313.931647 239.238437)scale(0.1 -0.1)\">\r\n       <use xlink:href=\"#DejaVuSans-49\"/>\r\n       <use x=\"63.623047\" xlink:href=\"#DejaVuSans-46\"/>\r\n       <use x=\"95.410156\" xlink:href=\"#DejaVuSans-53\"/>\r\n      </g>\r\n     </g>\r\n    </g>\r\n    <g id=\"xtick_9\">\r\n     <g id=\"line2d_9\">\r\n      <g>\r\n       <use style=\"stroke:#000000;stroke-width:0.8;\" x=\"359.352322\" xlink:href=\"#m9b669aa9f4\" y=\"224.64\"/>\r\n      </g>\r\n     </g>\r\n     <g id=\"text_9\">\r\n      <!-- 2.0 -->\r\n      <g transform=\"translate(351.400759 239.238437)scale(0.1 -0.1)\">\r\n       <use xlink:href=\"#DejaVuSans-50\"/>\r\n       <use x=\"63.623047\" xlink:href=\"#DejaVuSans-46\"/>\r\n       <use x=\"95.410156\" xlink:href=\"#DejaVuSans-48\"/>\r\n      </g>\r\n     </g>\r\n    </g>\r\n    <g id=\"text_10\">\r\n     <!-- Theoretical Quantiles -->\r\n     <g transform=\"translate(166.285156 252.916562)scale(0.1 -0.1)\">\r\n      <defs>\r\n       <path d=\"M -0.296875 72.90625 \r\nL 61.375 72.90625 \r\nL 61.375 64.59375 \r\nL 35.5 64.59375 \r\nL 35.5 0 \r\nL 25.59375 0 \r\nL 25.59375 64.59375 \r\nL -0.296875 64.59375 \r\nz\r\n\" id=\"DejaVuSans-84\"/>\r\n       <path d=\"M 54.890625 33.015625 \r\nL 54.890625 0 \r\nL 45.90625 0 \r\nL 45.90625 32.71875 \r\nQ 45.90625 40.484375 42.875 44.328125 \r\nQ 39.84375 48.1875 33.796875 48.1875 \r\nQ 26.515625 48.1875 22.3125 43.546875 \r\nQ 18.109375 38.921875 18.109375 30.90625 \r\nL 18.109375 0 \r\nL 9.078125 0 \r\nL 9.078125 75.984375 \r\nL 18.109375 75.984375 \r\nL 18.109375 46.1875 \r\nQ 21.34375 51.125 25.703125 53.5625 \r\nQ 30.078125 56 35.796875 56 \r\nQ 45.21875 56 50.046875 50.171875 \r\nQ 54.890625 44.34375 54.890625 33.015625 \r\nz\r\n\" id=\"DejaVuSans-104\"/>\r\n       <path d=\"M 56.203125 29.59375 \r\nL 56.203125 25.203125 \r\nL 14.890625 25.203125 \r\nQ 15.484375 15.921875 20.484375 11.0625 \r\nQ 25.484375 6.203125 34.421875 6.203125 \r\nQ 39.59375 6.203125 44.453125 7.46875 \r\nQ 49.3125 8.734375 54.109375 11.28125 \r\nL 54.109375 2.78125 \r\nQ 49.265625 0.734375 44.1875 -0.34375 \r\nQ 39.109375 -1.421875 33.890625 -1.421875 \r\nQ 20.796875 -1.421875 13.15625 6.1875 \r\nQ 5.515625 13.8125 5.515625 26.8125 \r\nQ 5.515625 40.234375 12.765625 48.109375 \r\nQ 20.015625 56 32.328125 56 \r\nQ 43.359375 56 49.78125 48.890625 \r\nQ 56.203125 41.796875 56.203125 29.59375 \r\nz\r\nM 47.21875 32.234375 \r\nQ 47.125 39.59375 43.09375 43.984375 \r\nQ 39.0625 48.390625 32.421875 48.390625 \r\nQ 24.90625 48.390625 20.390625 44.140625 \r\nQ 15.875 39.890625 15.1875 32.171875 \r\nz\r\n\" id=\"DejaVuSans-101\"/>\r\n       <path d=\"M 30.609375 48.390625 \r\nQ 23.390625 48.390625 19.1875 42.75 \r\nQ 14.984375 37.109375 14.984375 27.296875 \r\nQ 14.984375 17.484375 19.15625 11.84375 \r\nQ 23.34375 6.203125 30.609375 6.203125 \r\nQ 37.796875 6.203125 41.984375 11.859375 \r\nQ 46.1875 17.53125 46.1875 27.296875 \r\nQ 46.1875 37.015625 41.984375 42.703125 \r\nQ 37.796875 48.390625 30.609375 48.390625 \r\nz\r\nM 30.609375 56 \r\nQ 42.328125 56 49.015625 48.375 \r\nQ 55.71875 40.765625 55.71875 27.296875 \r\nQ 55.71875 13.875 49.015625 6.21875 \r\nQ 42.328125 -1.421875 30.609375 -1.421875 \r\nQ 18.84375 -1.421875 12.171875 6.21875 \r\nQ 5.515625 13.875 5.515625 27.296875 \r\nQ 5.515625 40.765625 12.171875 48.375 \r\nQ 18.84375 56 30.609375 56 \r\nz\r\n\" id=\"DejaVuSans-111\"/>\r\n       <path d=\"M 41.109375 46.296875 \r\nQ 39.59375 47.171875 37.8125 47.578125 \r\nQ 36.03125 48 33.890625 48 \r\nQ 26.265625 48 22.1875 43.046875 \r\nQ 18.109375 38.09375 18.109375 28.8125 \r\nL 18.109375 0 \r\nL 9.078125 0 \r\nL 9.078125 54.6875 \r\nL 18.109375 54.6875 \r\nL 18.109375 46.1875 \r\nQ 20.953125 51.171875 25.484375 53.578125 \r\nQ 30.03125 56 36.53125 56 \r\nQ 37.453125 56 38.578125 55.875 \r\nQ 39.703125 55.765625 41.0625 55.515625 \r\nz\r\n\" id=\"DejaVuSans-114\"/>\r\n       <path d=\"M 18.3125 70.21875 \r\nL 18.3125 54.6875 \r\nL 36.8125 54.6875 \r\nL 36.8125 47.703125 \r\nL 18.3125 47.703125 \r\nL 18.3125 18.015625 \r\nQ 18.3125 11.328125 20.140625 9.421875 \r\nQ 21.96875 7.515625 27.59375 7.515625 \r\nL 36.8125 7.515625 \r\nL 36.8125 0 \r\nL 27.59375 0 \r\nQ 17.1875 0 13.234375 3.875 \r\nQ 9.28125 7.765625 9.28125 18.015625 \r\nL 9.28125 47.703125 \r\nL 2.6875 47.703125 \r\nL 2.6875 54.6875 \r\nL 9.28125 54.6875 \r\nL 9.28125 70.21875 \r\nz\r\n\" id=\"DejaVuSans-116\"/>\r\n       <path d=\"M 9.421875 54.6875 \r\nL 18.40625 54.6875 \r\nL 18.40625 0 \r\nL 9.421875 0 \r\nz\r\nM 9.421875 75.984375 \r\nL 18.40625 75.984375 \r\nL 18.40625 64.59375 \r\nL 9.421875 64.59375 \r\nz\r\n\" id=\"DejaVuSans-105\"/>\r\n       <path d=\"M 48.78125 52.59375 \r\nL 48.78125 44.1875 \r\nQ 44.96875 46.296875 41.140625 47.34375 \r\nQ 37.3125 48.390625 33.40625 48.390625 \r\nQ 24.65625 48.390625 19.8125 42.84375 \r\nQ 14.984375 37.3125 14.984375 27.296875 \r\nQ 14.984375 17.28125 19.8125 11.734375 \r\nQ 24.65625 6.203125 33.40625 6.203125 \r\nQ 37.3125 6.203125 41.140625 7.25 \r\nQ 44.96875 8.296875 48.78125 10.40625 \r\nL 48.78125 2.09375 \r\nQ 45.015625 0.34375 40.984375 -0.53125 \r\nQ 36.96875 -1.421875 32.421875 -1.421875 \r\nQ 20.0625 -1.421875 12.78125 6.34375 \r\nQ 5.515625 14.109375 5.515625 27.296875 \r\nQ 5.515625 40.671875 12.859375 48.328125 \r\nQ 20.21875 56 33.015625 56 \r\nQ 37.15625 56 41.109375 55.140625 \r\nQ 45.0625 54.296875 48.78125 52.59375 \r\nz\r\n\" id=\"DejaVuSans-99\"/>\r\n       <path d=\"M 34.28125 27.484375 \r\nQ 23.390625 27.484375 19.1875 25 \r\nQ 14.984375 22.515625 14.984375 16.5 \r\nQ 14.984375 11.71875 18.140625 8.90625 \r\nQ 21.296875 6.109375 26.703125 6.109375 \r\nQ 34.1875 6.109375 38.703125 11.40625 \r\nQ 43.21875 16.703125 43.21875 25.484375 \r\nL 43.21875 27.484375 \r\nz\r\nM 52.203125 31.203125 \r\nL 52.203125 0 \r\nL 43.21875 0 \r\nL 43.21875 8.296875 \r\nQ 40.140625 3.328125 35.546875 0.953125 \r\nQ 30.953125 -1.421875 24.3125 -1.421875 \r\nQ 15.921875 -1.421875 10.953125 3.296875 \r\nQ 6 8.015625 6 15.921875 \r\nQ 6 25.140625 12.171875 29.828125 \r\nQ 18.359375 34.515625 30.609375 34.515625 \r\nL 43.21875 34.515625 \r\nL 43.21875 35.40625 \r\nQ 43.21875 41.609375 39.140625 45 \r\nQ 35.0625 48.390625 27.6875 48.390625 \r\nQ 23 48.390625 18.546875 47.265625 \r\nQ 14.109375 46.140625 10.015625 43.890625 \r\nL 10.015625 52.203125 \r\nQ 14.9375 54.109375 19.578125 55.046875 \r\nQ 24.21875 56 28.609375 56 \r\nQ 40.484375 56 46.34375 49.84375 \r\nQ 52.203125 43.703125 52.203125 31.203125 \r\nz\r\n\" id=\"DejaVuSans-97\"/>\r\n       <path d=\"M 9.421875 75.984375 \r\nL 18.40625 75.984375 \r\nL 18.40625 0 \r\nL 9.421875 0 \r\nz\r\n\" id=\"DejaVuSans-108\"/>\r\n       <path id=\"DejaVuSans-32\"/>\r\n       <path d=\"M 39.40625 66.21875 \r\nQ 28.65625 66.21875 22.328125 58.203125 \r\nQ 16.015625 50.203125 16.015625 36.375 \r\nQ 16.015625 22.609375 22.328125 14.59375 \r\nQ 28.65625 6.59375 39.40625 6.59375 \r\nQ 50.140625 6.59375 56.421875 14.59375 \r\nQ 62.703125 22.609375 62.703125 36.375 \r\nQ 62.703125 50.203125 56.421875 58.203125 \r\nQ 50.140625 66.21875 39.40625 66.21875 \r\nz\r\nM 53.21875 1.3125 \r\nL 66.21875 -12.890625 \r\nL 54.296875 -12.890625 \r\nL 43.5 -1.21875 \r\nQ 41.890625 -1.3125 41.03125 -1.359375 \r\nQ 40.1875 -1.421875 39.40625 -1.421875 \r\nQ 24.03125 -1.421875 14.8125 8.859375 \r\nQ 5.609375 19.140625 5.609375 36.375 \r\nQ 5.609375 53.65625 14.8125 63.9375 \r\nQ 24.03125 74.21875 39.40625 74.21875 \r\nQ 54.734375 74.21875 63.90625 63.9375 \r\nQ 73.09375 53.65625 73.09375 36.375 \r\nQ 73.09375 23.6875 67.984375 14.640625 \r\nQ 62.890625 5.609375 53.21875 1.3125 \r\nz\r\n\" id=\"DejaVuSans-81\"/>\r\n       <path d=\"M 8.5 21.578125 \r\nL 8.5 54.6875 \r\nL 17.484375 54.6875 \r\nL 17.484375 21.921875 \r\nQ 17.484375 14.15625 20.5 10.265625 \r\nQ 23.53125 6.390625 29.59375 6.390625 \r\nQ 36.859375 6.390625 41.078125 11.03125 \r\nQ 45.3125 15.671875 45.3125 23.6875 \r\nL 45.3125 54.6875 \r\nL 54.296875 54.6875 \r\nL 54.296875 0 \r\nL 45.3125 0 \r\nL 45.3125 8.40625 \r\nQ 42.046875 3.421875 37.71875 1 \r\nQ 33.40625 -1.421875 27.6875 -1.421875 \r\nQ 18.265625 -1.421875 13.375 4.4375 \r\nQ 8.5 10.296875 8.5 21.578125 \r\nz\r\nM 31.109375 56 \r\nz\r\n\" id=\"DejaVuSans-117\"/>\r\n       <path d=\"M 54.890625 33.015625 \r\nL 54.890625 0 \r\nL 45.90625 0 \r\nL 45.90625 32.71875 \r\nQ 45.90625 40.484375 42.875 44.328125 \r\nQ 39.84375 48.1875 33.796875 48.1875 \r\nQ 26.515625 48.1875 22.3125 43.546875 \r\nQ 18.109375 38.921875 18.109375 30.90625 \r\nL 18.109375 0 \r\nL 9.078125 0 \r\nL 9.078125 54.6875 \r\nL 18.109375 54.6875 \r\nL 18.109375 46.1875 \r\nQ 21.34375 51.125 25.703125 53.5625 \r\nQ 30.078125 56 35.796875 56 \r\nQ 45.21875 56 50.046875 50.171875 \r\nQ 54.890625 44.34375 54.890625 33.015625 \r\nz\r\n\" id=\"DejaVuSans-110\"/>\r\n       <path d=\"M 44.28125 53.078125 \r\nL 44.28125 44.578125 \r\nQ 40.484375 46.53125 36.375 47.5 \r\nQ 32.28125 48.484375 27.875 48.484375 \r\nQ 21.1875 48.484375 17.84375 46.4375 \r\nQ 14.5 44.390625 14.5 40.28125 \r\nQ 14.5 37.15625 16.890625 35.375 \r\nQ 19.28125 33.59375 26.515625 31.984375 \r\nL 29.59375 31.296875 \r\nQ 39.15625 29.25 43.1875 25.515625 \r\nQ 47.21875 21.78125 47.21875 15.09375 \r\nQ 47.21875 7.46875 41.1875 3.015625 \r\nQ 35.15625 -1.421875 24.609375 -1.421875 \r\nQ 20.21875 -1.421875 15.453125 -0.5625 \r\nQ 10.6875 0.296875 5.421875 2 \r\nL 5.421875 11.28125 \r\nQ 10.40625 8.6875 15.234375 7.390625 \r\nQ 20.0625 6.109375 24.8125 6.109375 \r\nQ 31.15625 6.109375 34.5625 8.28125 \r\nQ 37.984375 10.453125 37.984375 14.40625 \r\nQ 37.984375 18.0625 35.515625 20.015625 \r\nQ 33.0625 21.96875 24.703125 23.78125 \r\nL 21.578125 24.515625 \r\nQ 13.234375 26.265625 9.515625 29.90625 \r\nQ 5.8125 33.546875 5.8125 39.890625 \r\nQ 5.8125 47.609375 11.28125 51.796875 \r\nQ 16.75 56 26.8125 56 \r\nQ 31.78125 56 36.171875 55.265625 \r\nQ 40.578125 54.546875 44.28125 53.078125 \r\nz\r\n\" id=\"DejaVuSans-115\"/>\r\n      </defs>\r\n      <use xlink:href=\"#DejaVuSans-84\"/>\r\n      <use x=\"61.083984\" xlink:href=\"#DejaVuSans-104\"/>\r\n      <use x=\"124.462891\" xlink:href=\"#DejaVuSans-101\"/>\r\n      <use x=\"185.986328\" xlink:href=\"#DejaVuSans-111\"/>\r\n      <use x=\"247.167969\" xlink:href=\"#DejaVuSans-114\"/>\r\n      <use x=\"286.03125\" xlink:href=\"#DejaVuSans-101\"/>\r\n      <use x=\"347.554688\" xlink:href=\"#DejaVuSans-116\"/>\r\n      <use x=\"386.763672\" xlink:href=\"#DejaVuSans-105\"/>\r\n      <use x=\"414.546875\" xlink:href=\"#DejaVuSans-99\"/>\r\n      <use x=\"469.527344\" xlink:href=\"#DejaVuSans-97\"/>\r\n      <use x=\"530.806641\" xlink:href=\"#DejaVuSans-108\"/>\r\n      <use x=\"558.589844\" xlink:href=\"#DejaVuSans-32\"/>\r\n      <use x=\"590.376953\" xlink:href=\"#DejaVuSans-81\"/>\r\n      <use x=\"669.087891\" xlink:href=\"#DejaVuSans-117\"/>\r\n      <use x=\"732.466797\" xlink:href=\"#DejaVuSans-97\"/>\r\n      <use x=\"793.746094\" xlink:href=\"#DejaVuSans-110\"/>\r\n      <use x=\"857.125\" xlink:href=\"#DejaVuSans-116\"/>\r\n      <use x=\"896.333984\" xlink:href=\"#DejaVuSans-105\"/>\r\n      <use x=\"924.117188\" xlink:href=\"#DejaVuSans-108\"/>\r\n      <use x=\"951.900391\" xlink:href=\"#DejaVuSans-101\"/>\r\n      <use x=\"1013.423828\" xlink:href=\"#DejaVuSans-115\"/>\r\n     </g>\r\n    </g>\r\n   </g>\r\n   <g id=\"matplotlib.axis_2\">\r\n    <g id=\"ytick_1\">\r\n     <g id=\"line2d_10\">\r\n      <defs>\r\n       <path d=\"M 0 0 \r\nL -3.5 0 \r\n\" id=\"m57f9283075\" style=\"stroke:#000000;stroke-width:0.8;\"/>\r\n      </defs>\r\n      <g>\r\n       <use style=\"stroke:#000000;stroke-width:0.8;\" x=\"52.160938\" xlink:href=\"#m57f9283075\" y=\"219.808986\"/>\r\n      </g>\r\n     </g>\r\n     <g id=\"text_11\">\r\n      <!-- −2.0 -->\r\n      <g transform=\"translate(20.878125 223.608204)scale(0.1 -0.1)\">\r\n       <use xlink:href=\"#DejaVuSans-8722\"/>\r\n       <use x=\"83.789062\" xlink:href=\"#DejaVuSans-50\"/>\r\n       <use x=\"147.412109\" xlink:href=\"#DejaVuSans-46\"/>\r\n       <use x=\"179.199219\" xlink:href=\"#DejaVuSans-48\"/>\r\n      </g>\r\n     </g>\r\n    </g>\r\n    <g id=\"ytick_2\">\r\n     <g id=\"line2d_11\">\r\n      <g>\r\n       <use style=\"stroke:#000000;stroke-width:0.8;\" x=\"52.160938\" xlink:href=\"#m57f9283075\" y=\"195.474207\"/>\r\n      </g>\r\n     </g>\r\n     <g id=\"text_12\">\r\n      <!-- −1.5 -->\r\n      <g transform=\"translate(20.878125 199.273426)scale(0.1 -0.1)\">\r\n       <use xlink:href=\"#DejaVuSans-8722\"/>\r\n       <use x=\"83.789062\" xlink:href=\"#DejaVuSans-49\"/>\r\n       <use x=\"147.412109\" xlink:href=\"#DejaVuSans-46\"/>\r\n       <use x=\"179.199219\" xlink:href=\"#DejaVuSans-53\"/>\r\n      </g>\r\n     </g>\r\n    </g>\r\n    <g id=\"ytick_3\">\r\n     <g id=\"line2d_12\">\r\n      <g>\r\n       <use style=\"stroke:#000000;stroke-width:0.8;\" x=\"52.160938\" xlink:href=\"#m57f9283075\" y=\"171.139428\"/>\r\n      </g>\r\n     </g>\r\n     <g id=\"text_13\">\r\n      <!-- −1.0 -->\r\n      <g transform=\"translate(20.878125 174.938647)scale(0.1 -0.1)\">\r\n       <use xlink:href=\"#DejaVuSans-8722\"/>\r\n       <use x=\"83.789062\" xlink:href=\"#DejaVuSans-49\"/>\r\n       <use x=\"147.412109\" xlink:href=\"#DejaVuSans-46\"/>\r\n       <use x=\"179.199219\" xlink:href=\"#DejaVuSans-48\"/>\r\n      </g>\r\n     </g>\r\n    </g>\r\n    <g id=\"ytick_4\">\r\n     <g id=\"line2d_13\">\r\n      <g>\r\n       <use style=\"stroke:#000000;stroke-width:0.8;\" x=\"52.160938\" xlink:href=\"#m57f9283075\" y=\"146.80465\"/>\r\n      </g>\r\n     </g>\r\n     <g id=\"text_14\">\r\n      <!-- −0.5 -->\r\n      <g transform=\"translate(20.878125 150.603869)scale(0.1 -0.1)\">\r\n       <use xlink:href=\"#DejaVuSans-8722\"/>\r\n       <use x=\"83.789062\" xlink:href=\"#DejaVuSans-48\"/>\r\n       <use x=\"147.412109\" xlink:href=\"#DejaVuSans-46\"/>\r\n       <use x=\"179.199219\" xlink:href=\"#DejaVuSans-53\"/>\r\n      </g>\r\n     </g>\r\n    </g>\r\n    <g id=\"ytick_5\">\r\n     <g id=\"line2d_14\">\r\n      <g>\r\n       <use style=\"stroke:#000000;stroke-width:0.8;\" x=\"52.160938\" xlink:href=\"#m57f9283075\" y=\"122.469871\"/>\r\n      </g>\r\n     </g>\r\n     <g id=\"text_15\">\r\n      <!-- 0.0 -->\r\n      <g transform=\"translate(29.257813 126.26909)scale(0.1 -0.1)\">\r\n       <use xlink:href=\"#DejaVuSans-48\"/>\r\n       <use x=\"63.623047\" xlink:href=\"#DejaVuSans-46\"/>\r\n       <use x=\"95.410156\" xlink:href=\"#DejaVuSans-48\"/>\r\n      </g>\r\n     </g>\r\n    </g>\r\n    <g id=\"ytick_6\">\r\n     <g id=\"line2d_15\">\r\n      <g>\r\n       <use style=\"stroke:#000000;stroke-width:0.8;\" x=\"52.160938\" xlink:href=\"#m57f9283075\" y=\"98.135093\"/>\r\n      </g>\r\n     </g>\r\n     <g id=\"text_16\">\r\n      <!-- 0.5 -->\r\n      <g transform=\"translate(29.257813 101.934311)scale(0.1 -0.1)\">\r\n       <use xlink:href=\"#DejaVuSans-48\"/>\r\n       <use x=\"63.623047\" xlink:href=\"#DejaVuSans-46\"/>\r\n       <use x=\"95.410156\" xlink:href=\"#DejaVuSans-53\"/>\r\n      </g>\r\n     </g>\r\n    </g>\r\n    <g id=\"ytick_7\">\r\n     <g id=\"line2d_16\">\r\n      <g>\r\n       <use style=\"stroke:#000000;stroke-width:0.8;\" x=\"52.160938\" xlink:href=\"#m57f9283075\" y=\"73.800314\"/>\r\n      </g>\r\n     </g>\r\n     <g id=\"text_17\">\r\n      <!-- 1.0 -->\r\n      <g transform=\"translate(29.257813 77.599533)scale(0.1 -0.1)\">\r\n       <use xlink:href=\"#DejaVuSans-49\"/>\r\n       <use x=\"63.623047\" xlink:href=\"#DejaVuSans-46\"/>\r\n       <use x=\"95.410156\" xlink:href=\"#DejaVuSans-48\"/>\r\n      </g>\r\n     </g>\r\n    </g>\r\n    <g id=\"ytick_8\">\r\n     <g id=\"line2d_17\">\r\n      <g>\r\n       <use style=\"stroke:#000000;stroke-width:0.8;\" x=\"52.160938\" xlink:href=\"#m57f9283075\" y=\"49.465535\"/>\r\n      </g>\r\n     </g>\r\n     <g id=\"text_18\">\r\n      <!-- 1.5 -->\r\n      <g transform=\"translate(29.257813 53.264754)scale(0.1 -0.1)\">\r\n       <use xlink:href=\"#DejaVuSans-49\"/>\r\n       <use x=\"63.623047\" xlink:href=\"#DejaVuSans-46\"/>\r\n       <use x=\"95.410156\" xlink:href=\"#DejaVuSans-53\"/>\r\n      </g>\r\n     </g>\r\n    </g>\r\n    <g id=\"ytick_9\">\r\n     <g id=\"line2d_18\">\r\n      <g>\r\n       <use style=\"stroke:#000000;stroke-width:0.8;\" x=\"52.160938\" xlink:href=\"#m57f9283075\" y=\"25.130757\"/>\r\n      </g>\r\n     </g>\r\n     <g id=\"text_19\">\r\n      <!-- 2.0 -->\r\n      <g transform=\"translate(29.257813 28.929976)scale(0.1 -0.1)\">\r\n       <use xlink:href=\"#DejaVuSans-50\"/>\r\n       <use x=\"63.623047\" xlink:href=\"#DejaVuSans-46\"/>\r\n       <use x=\"95.410156\" xlink:href=\"#DejaVuSans-48\"/>\r\n      </g>\r\n     </g>\r\n    </g>\r\n    <g id=\"text_20\">\r\n     <!-- Sample Quantiles -->\r\n     <g transform=\"translate(14.798438 160.014531)rotate(-90)scale(0.1 -0.1)\">\r\n      <defs>\r\n       <path d=\"M 53.515625 70.515625 \r\nL 53.515625 60.890625 \r\nQ 47.90625 63.578125 42.921875 64.890625 \r\nQ 37.9375 66.21875 33.296875 66.21875 \r\nQ 25.25 66.21875 20.875 63.09375 \r\nQ 16.5 59.96875 16.5 54.203125 \r\nQ 16.5 49.359375 19.40625 46.890625 \r\nQ 22.3125 44.4375 30.421875 42.921875 \r\nL 36.375 41.703125 \r\nQ 47.40625 39.59375 52.65625 34.296875 \r\nQ 57.90625 29 57.90625 20.125 \r\nQ 57.90625 9.515625 50.796875 4.046875 \r\nQ 43.703125 -1.421875 29.984375 -1.421875 \r\nQ 24.8125 -1.421875 18.96875 -0.25 \r\nQ 13.140625 0.921875 6.890625 3.21875 \r\nL 6.890625 13.375 \r\nQ 12.890625 10.015625 18.65625 8.296875 \r\nQ 24.421875 6.59375 29.984375 6.59375 \r\nQ 38.421875 6.59375 43.015625 9.90625 \r\nQ 47.609375 13.234375 47.609375 19.390625 \r\nQ 47.609375 24.75 44.3125 27.78125 \r\nQ 41.015625 30.8125 33.5 32.328125 \r\nL 27.484375 33.5 \r\nQ 16.453125 35.6875 11.515625 40.375 \r\nQ 6.59375 45.0625 6.59375 53.421875 \r\nQ 6.59375 63.09375 13.40625 68.65625 \r\nQ 20.21875 74.21875 32.171875 74.21875 \r\nQ 37.3125 74.21875 42.625 73.28125 \r\nQ 47.953125 72.359375 53.515625 70.515625 \r\nz\r\n\" id=\"DejaVuSans-83\"/>\r\n       <path d=\"M 52 44.1875 \r\nQ 55.375 50.25 60.0625 53.125 \r\nQ 64.75 56 71.09375 56 \r\nQ 79.640625 56 84.28125 50.015625 \r\nQ 88.921875 44.046875 88.921875 33.015625 \r\nL 88.921875 0 \r\nL 79.890625 0 \r\nL 79.890625 32.71875 \r\nQ 79.890625 40.578125 77.09375 44.375 \r\nQ 74.3125 48.1875 68.609375 48.1875 \r\nQ 61.625 48.1875 57.5625 43.546875 \r\nQ 53.515625 38.921875 53.515625 30.90625 \r\nL 53.515625 0 \r\nL 44.484375 0 \r\nL 44.484375 32.71875 \r\nQ 44.484375 40.625 41.703125 44.40625 \r\nQ 38.921875 48.1875 33.109375 48.1875 \r\nQ 26.21875 48.1875 22.15625 43.53125 \r\nQ 18.109375 38.875 18.109375 30.90625 \r\nL 18.109375 0 \r\nL 9.078125 0 \r\nL 9.078125 54.6875 \r\nL 18.109375 54.6875 \r\nL 18.109375 46.1875 \r\nQ 21.1875 51.21875 25.484375 53.609375 \r\nQ 29.78125 56 35.6875 56 \r\nQ 41.65625 56 45.828125 52.96875 \r\nQ 50 49.953125 52 44.1875 \r\nz\r\n\" id=\"DejaVuSans-109\"/>\r\n       <path d=\"M 18.109375 8.203125 \r\nL 18.109375 -20.796875 \r\nL 9.078125 -20.796875 \r\nL 9.078125 54.6875 \r\nL 18.109375 54.6875 \r\nL 18.109375 46.390625 \r\nQ 20.953125 51.265625 25.265625 53.625 \r\nQ 29.59375 56 35.59375 56 \r\nQ 45.5625 56 51.78125 48.09375 \r\nQ 58.015625 40.1875 58.015625 27.296875 \r\nQ 58.015625 14.40625 51.78125 6.484375 \r\nQ 45.5625 -1.421875 35.59375 -1.421875 \r\nQ 29.59375 -1.421875 25.265625 0.953125 \r\nQ 20.953125 3.328125 18.109375 8.203125 \r\nz\r\nM 48.6875 27.296875 \r\nQ 48.6875 37.203125 44.609375 42.84375 \r\nQ 40.53125 48.484375 33.40625 48.484375 \r\nQ 26.265625 48.484375 22.1875 42.84375 \r\nQ 18.109375 37.203125 18.109375 27.296875 \r\nQ 18.109375 17.390625 22.1875 11.75 \r\nQ 26.265625 6.109375 33.40625 6.109375 \r\nQ 40.53125 6.109375 44.609375 11.75 \r\nQ 48.6875 17.390625 48.6875 27.296875 \r\nz\r\n\" id=\"DejaVuSans-112\"/>\r\n      </defs>\r\n      <use xlink:href=\"#DejaVuSans-83\"/>\r\n      <use x=\"63.476562\" xlink:href=\"#DejaVuSans-97\"/>\r\n      <use x=\"124.755859\" xlink:href=\"#DejaVuSans-109\"/>\r\n      <use x=\"222.167969\" xlink:href=\"#DejaVuSans-112\"/>\r\n      <use x=\"285.644531\" xlink:href=\"#DejaVuSans-108\"/>\r\n      <use x=\"313.427734\" xlink:href=\"#DejaVuSans-101\"/>\r\n      <use x=\"374.951172\" xlink:href=\"#DejaVuSans-32\"/>\r\n      <use x=\"406.738281\" xlink:href=\"#DejaVuSans-81\"/>\r\n      <use x=\"485.449219\" xlink:href=\"#DejaVuSans-117\"/>\r\n      <use x=\"548.828125\" xlink:href=\"#DejaVuSans-97\"/>\r\n      <use x=\"610.107422\" xlink:href=\"#DejaVuSans-110\"/>\r\n      <use x=\"673.486328\" xlink:href=\"#DejaVuSans-116\"/>\r\n      <use x=\"712.695312\" xlink:href=\"#DejaVuSans-105\"/>\r\n      <use x=\"740.478516\" xlink:href=\"#DejaVuSans-108\"/>\r\n      <use x=\"768.261719\" xlink:href=\"#DejaVuSans-101\"/>\r\n      <use x=\"829.785156\" xlink:href=\"#DejaVuSans-115\"/>\r\n     </g>\r\n    </g>\r\n   </g>\r\n   <g id=\"line2d_19\">\r\n    <defs>\r\n     <path d=\"M 0 3 \r\nC 0.795609 3 1.55874 2.683901 2.12132 2.12132 \r\nC 2.683901 1.55874 3 0.795609 3 0 \r\nC 3 -0.795609 2.683901 -1.55874 2.12132 -2.12132 \r\nC 1.55874 -2.683901 0.795609 -3 0 -3 \r\nC -0.795609 -3 -1.55874 -2.683901 -2.12132 -2.12132 \r\nC -2.683901 -1.55874 -3 -0.795609 -3 0 \r\nC -3 0.795609 -2.683901 1.55874 -2.12132 2.12132 \r\nC -1.55874 2.683901 -0.795609 3 0 3 \r\nz\r\n\" id=\"me1e71a4e99\" style=\"stroke:#0000ff;\"/>\r\n    </defs>\r\n    <g clip-path=\"url(#p69e592cb2a)\">\r\n     <use style=\"fill:#0000ff;stroke:#0000ff;\" x=\"70.945346\" xlink:href=\"#me1e71a4e99\" y=\"214.756364\"/>\r\n     <use style=\"fill:#0000ff;stroke:#0000ff;\" x=\"95.724953\" xlink:href=\"#me1e71a4e99\" y=\"175.982379\"/>\r\n     <use style=\"fill:#0000ff;stroke:#0000ff;\" x=\"112.04468\" xlink:href=\"#me1e71a4e99\" y=\"175.982379\"/>\r\n     <use style=\"fill:#0000ff;stroke:#0000ff;\" x=\"124.722416\" xlink:href=\"#me1e71a4e99\" y=\"175.982379\"/>\r\n     <use style=\"fill:#0000ff;stroke:#0000ff;\" x=\"135.349329\" xlink:href=\"#me1e71a4e99\" y=\"175.982379\"/>\r\n     <use style=\"fill:#0000ff;stroke:#0000ff;\" x=\"144.662223\" xlink:href=\"#me1e71a4e99\" y=\"175.982379\"/>\r\n     <use style=\"fill:#0000ff;stroke:#0000ff;\" x=\"153.067711\" xlink:href=\"#me1e71a4e99\" y=\"175.982379\"/>\r\n     <use style=\"fill:#0000ff;stroke:#0000ff;\" x=\"160.816689\" xlink:href=\"#me1e71a4e99\" y=\"175.982379\"/>\r\n     <use style=\"fill:#0000ff;stroke:#0000ff;\" x=\"168.076804\" xlink:href=\"#me1e71a4e99\" y=\"175.982379\"/>\r\n     <use style=\"fill:#0000ff;stroke:#0000ff;\" x=\"174.967227\" xlink:href=\"#me1e71a4e99\" y=\"123.016132\"/>\r\n     <use style=\"fill:#0000ff;stroke:#0000ff;\" x=\"181.577167\" xlink:href=\"#me1e71a4e99\" y=\"123.016132\"/>\r\n     <use style=\"fill:#0000ff;stroke:#0000ff;\" x=\"187.97655\" xlink:href=\"#me1e71a4e99\" y=\"123.016132\"/>\r\n     <use style=\"fill:#0000ff;stroke:#0000ff;\" x=\"194.222627\" xlink:href=\"#me1e71a4e99\" y=\"123.016132\"/>\r\n     <use style=\"fill:#0000ff;stroke:#0000ff;\" x=\"200.364328\" xlink:href=\"#me1e71a4e99\" y=\"123.016132\"/>\r\n     <use style=\"fill:#0000ff;stroke:#0000ff;\" x=\"206.445331\" xlink:href=\"#me1e71a4e99\" y=\"123.016132\"/>\r\n     <use style=\"fill:#0000ff;stroke:#0000ff;\" x=\"212.506411\" xlink:href=\"#me1e71a4e99\" y=\"123.016132\"/>\r\n     <use style=\"fill:#0000ff;stroke:#0000ff;\" x=\"218.587414\" xlink:href=\"#me1e71a4e99\" y=\"123.016132\"/>\r\n     <use style=\"fill:#0000ff;stroke:#0000ff;\" x=\"224.729114\" xlink:href=\"#me1e71a4e99\" y=\"123.016132\"/>\r\n     <use style=\"fill:#0000ff;stroke:#0000ff;\" x=\"230.975192\" xlink:href=\"#me1e71a4e99\" y=\"123.016132\"/>\r\n     <use style=\"fill:#0000ff;stroke:#0000ff;\" x=\"237.374575\" xlink:href=\"#me1e71a4e99\" y=\"123.016132\"/>\r\n     <use style=\"fill:#0000ff;stroke:#0000ff;\" x=\"243.984515\" xlink:href=\"#me1e71a4e99\" y=\"92.436054\"/>\r\n     <use style=\"fill:#0000ff;stroke:#0000ff;\" x=\"250.874938\" xlink:href=\"#me1e71a4e99\" y=\"92.436054\"/>\r\n     <use style=\"fill:#0000ff;stroke:#0000ff;\" x=\"258.135053\" xlink:href=\"#me1e71a4e99\" y=\"92.436054\"/>\r\n     <use style=\"fill:#0000ff;stroke:#0000ff;\" x=\"265.884031\" xlink:href=\"#me1e71a4e99\" y=\"92.436054\"/>\r\n     <use style=\"fill:#0000ff;stroke:#0000ff;\" x=\"274.289519\" xlink:href=\"#me1e71a4e99\" y=\"92.436054\"/>\r\n     <use style=\"fill:#0000ff;stroke:#0000ff;\" x=\"283.602413\" xlink:href=\"#me1e71a4e99\" y=\"92.436054\"/>\r\n     <use style=\"fill:#0000ff;stroke:#0000ff;\" x=\"294.229326\" xlink:href=\"#me1e71a4e99\" y=\"92.436054\"/>\r\n     <use style=\"fill:#0000ff;stroke:#0000ff;\" x=\"306.907062\" xlink:href=\"#me1e71a4e99\" y=\"17.083636\"/>\r\n     <use style=\"fill:#0000ff;stroke:#0000ff;\" x=\"323.226789\" xlink:href=\"#me1e71a4e99\" y=\"17.083636\"/>\r\n     <use style=\"fill:#0000ff;stroke:#0000ff;\" x=\"348.006396\" xlink:href=\"#me1e71a4e99\" y=\"17.083636\"/>\r\n    </g>\r\n   </g>\r\n   <g id=\"line2d_20\">\r\n    <path clip-path=\"url(#p69e592cb2a)\" d=\"M 52.160938 224.64 \r\nL 386.960938 7.2 \r\n\" style=\"fill:none;stroke:#ff0000;stroke-linecap:square;stroke-width:1.5;\"/>\r\n   </g>\r\n   <g id=\"patch_3\">\r\n    <path d=\"M 52.160938 224.64 \r\nL 52.160938 7.2 \r\n\" style=\"fill:none;stroke:#000000;stroke-linecap:square;stroke-linejoin:miter;stroke-width:0.8;\"/>\r\n   </g>\r\n   <g id=\"patch_4\">\r\n    <path d=\"M 386.960938 224.64 \r\nL 386.960938 7.2 \r\n\" style=\"fill:none;stroke:#000000;stroke-linecap:square;stroke-linejoin:miter;stroke-width:0.8;\"/>\r\n   </g>\r\n   <g id=\"patch_5\">\r\n    <path d=\"M 52.160938 224.64 \r\nL 386.960938 224.64 \r\n\" style=\"fill:none;stroke:#000000;stroke-linecap:square;stroke-linejoin:miter;stroke-width:0.8;\"/>\r\n   </g>\r\n   <g id=\"patch_6\">\r\n    <path d=\"M 52.160938 7.2 \r\nL 386.960938 7.2 \r\n\" style=\"fill:none;stroke:#000000;stroke-linecap:square;stroke-linejoin:miter;stroke-width:0.8;\"/>\r\n   </g>\r\n  </g>\r\n </g>\r\n <defs>\r\n  <clipPath id=\"p69e592cb2a\">\r\n   <rect height=\"217.44\" width=\"334.8\" x=\"52.160938\" y=\"7.2\"/>\r\n  </clipPath>\r\n </defs>\r\n</svg>\r\n",
      "image/png": "[encoded data removed]"
     },
     "metadata": {
      "needs_background": "light"
     }
    }
   ],
   "source": [
    "qq = sm.qqplot(ic.replace(np.nan, 0.).values, theoretical_dist, fit=True, line='45')"
   ]
  },
  {
   "cell_type": "code",
   "execution_count": 26,
   "metadata": {},
   "outputs": [],
   "source": [
    "ic = al.performance.factor_information_coefficient(factor_data)"
   ]
  },
  {
   "cell_type": "code",
   "execution_count": 28,
   "metadata": {},
   "outputs": [],
   "source": [
    "fig = al.plotting._ic_hist_fig(ic,'1h')"
   ]
  },
  {
   "cell_type": "code",
   "execution_count": 32,
   "metadata": {},
   "outputs": [
    {
     "output_type": "display_data",
     "data": {
      "application/vnd.plotly.v1+json": {
       "config": {
        "plotlyServerURL": "https://plot.ly"
       },
       "data": [
        {
         "autobinx": false,
         "histnorm": "probability density",
         "legendgroup": "1h",
         "marker": {
          "color": "rgb(31, 119, 180)"
         },
         "name": "1h",
         "opacity": 0.7,
         "type": "histogram",
         "x": [
          0,
          0,
          -0.4472135954999579,
          0.2581988897471611,
          -0.4472135954999579,
          0.8944271909999159,
          0,
          0,
          -0.4472135954999579,
          0.2581988897471611,
          0,
          0,
          -0.4472135954999579,
          0.2581988897471611,
          0.2581988897471611,
          0,
          -0.4472135954999579,
          0.2581988897471611,
          0,
          -0.7745966692414834,
          -0.4472135954999579,
          0,
          0.2581988897471611,
          0,
          0,
          -0.4472135954999579,
          0.8944271909999159,
          0.8944271909999159,
          0.2581988897471611,
          -0.4472135954999579
         ],
         "xaxis": "x",
         "xbins": {
          "end": 0.8944271909999159,
          "size": 0.25,
          "start": -0.7745966692414834
         },
         "yaxis": "y"
        },
        {
         "legendgroup": "1h",
         "marker": {
          "color": "rgb(31, 119, 180)"
         },
         "mode": "lines",
         "name": "1h",
         "showlegend": false,
         "type": "scatter",
         "x": [
          -0.7745966692414834,
          -0.7712586215210006,
          -0.7679205738005178,
          -0.764582526080035,
          -0.7612444783595522,
          -0.7579064306390694,
          -0.7545683829185866,
          -0.7512303351981038,
          -0.747892287477621,
          -0.7445542397571382,
          -0.7412161920366555,
          -0.7378781443161726,
          -0.7345400965956899,
          -0.731202048875207,
          -0.7278640011547243,
          -0.7245259534342414,
          -0.7211879057137587,
          -0.7178498579932758,
          -0.714511810272793,
          -0.7111737625523102,
          -0.7078357148318275,
          -0.7044976671113446,
          -0.7011596193908618,
          -0.6978215716703791,
          -0.6944835239498962,
          -0.6911454762294135,
          -0.6878074285089306,
          -0.6844693807884479,
          -0.681131333067965,
          -0.6777932853474823,
          -0.6744552376269994,
          -0.6711171899065167,
          -0.6677791421860338,
          -0.6644410944655511,
          -0.6611030467450683,
          -0.6577649990245855,
          -0.6544269513041027,
          -0.6510889035836198,
          -0.6477508558631371,
          -0.6444128081426542,
          -0.6410747604221715,
          -0.6377367127016886,
          -0.6343986649812059,
          -0.631060617260723,
          -0.6277225695402403,
          -0.6243845218197575,
          -0.6210464740992747,
          -0.6177084263787919,
          -0.6143703786583091,
          -0.6110323309378263,
          -0.6076942832173435,
          -0.6043562354968607,
          -0.6010181877763778,
          -0.5976801400558951,
          -0.5943420923354122,
          -0.5910040446149295,
          -0.5876659968944467,
          -0.5843279491739639,
          -0.5809899014534812,
          -0.5776518537329983,
          -0.5743138060125155,
          -0.5709757582920327,
          -0.5676377105715499,
          -0.5642996628510671,
          -0.5609616151305843,
          -0.5576235674101016,
          -0.5542855196896187,
          -0.5509474719691358,
          -0.5476094242486531,
          -0.5442713765281704,
          -0.5409333288076875,
          -0.5375952810872047,
          -0.5342572333667219,
          -0.5309191856462392,
          -0.5275811379257563,
          -0.5242430902052735,
          -0.5209050424847907,
          -0.5175669947643079,
          -0.514228947043825,
          -0.5108908993233423,
          -0.5075528516028596,
          -0.5042148038823768,
          -0.500876756161894,
          -0.4975387084414112,
          -0.4942006607209284,
          -0.49086261300044554,
          -0.48752456527996274,
          -0.48418651755947995,
          -0.48084846983899715,
          -0.47751042211851435,
          -0.47417237439803156,
          -0.47083432667754876,
          -0.4674962789570659,
          -0.4641582312365831,
          -0.4608201835161003,
          -0.4574821357956176,
          -0.4541440880751348,
          -0.450806040354652,
          -0.4474679926341692,
          -0.4441299449136864,
          -0.4407918971932036,
          -0.43745384947272076,
          -0.43411580175223796,
          -0.43077775403175517,
          -0.42743970631127237,
          -0.4241016585907896,
          -0.4207636108703068,
          -0.417425563149824,
          -0.41408751542934114,
          -0.4107494677088584,
          -0.4074114199883756,
          -0.4040733722678928,
          -0.40073532454741,
          -0.3973972768269272,
          -0.3940592291064444,
          -0.3907211813859616,
          -0.38738313366547883,
          -0.384045085944996,
          -0.3807070382245132,
          -0.3773689905040304,
          -0.3740309427835476,
          -0.3706928950630648,
          -0.367354847342582,
          -0.3640167996220992,
          -0.3606787519016164,
          -0.3573407041811336,
          -0.3540026564606508,
          -0.350664608740168,
          -0.34732656101968523,
          -0.34398851329920244,
          -0.34065046557871964,
          -0.33731241785823685,
          -0.33397437013775405,
          -0.3306363224172712,
          -0.3272982746967884,
          -0.3239602269763056,
          -0.3206221792558228,
          -0.31728413153534,
          -0.3139460838148573,
          -0.3106080360943745,
          -0.30726998837389163,
          -0.30393194065340884,
          -0.30059389293292604,
          -0.29725584521244325,
          -0.29391779749196045,
          -0.29057974977147766,
          -0.28724170205099486,
          -0.28390365433051207,
          -0.2805656066100293,
          -0.2772275588895464,
          -0.2738895111690637,
          -0.27055146344858083,
          -0.2672134157280981,
          -0.26387536800761524,
          -0.2605373202871324,
          -0.25719927256664965,
          -0.2538612248461668,
          -0.25052317712568406,
          -0.2471851294052012,
          -0.24384708168471847,
          -0.24050903396423573,
          -0.23717098624375288,
          -0.23383293852327014,
          -0.2304948908027873,
          -0.22715684308230455,
          -0.2238187953618217,
          -0.22048074764133896,
          -0.2171426999208561,
          -0.21380465220037337,
          -0.2104666044798904,
          -0.20712855675940767,
          -0.20379050903892482,
          -0.20045246131844208,
          -0.19711441359795923,
          -0.1937763658774765,
          -0.19043831815699375,
          -0.1871002704365109,
          -0.18376222271602816,
          -0.1804241749955453,
          -0.17708612727506257,
          -0.17374807955457972,
          -0.17041003183409698,
          -0.16707198411361412,
          -0.16373393639313139,
          -0.16039588867264842,
          -0.15705784095216568,
          -0.15371979323168283,
          -0.1503817455112001,
          -0.14704369779071724,
          -0.1437056500702345,
          -0.14036760234975176,
          -0.1370295546292689,
          -0.13369150690878617,
          -0.13035345918830332,
          -0.12701541146782058,
          -0.12367736374733773,
          -0.12033931602685499,
          -0.11700126830637214,
          -0.1136632205858894,
          -0.11032517286540655,
          -0.10698712514492381,
          -0.10364907742444085,
          -0.10031102970395811,
          -0.09697298198347526,
          -0.09363493426299252,
          -0.09029688654250978,
          -0.08695883882202693,
          -0.08362079110154419,
          -0.08028274338106134,
          -0.0769446956605786,
          -0.07360664794009575,
          -0.07026860021961301,
          -0.06693055249913016,
          -0.06359250477864742,
          -0.06025445705816457,
          -0.05691640933768183,
          -0.053578361617198866,
          -0.05024031389671613,
          -0.04690226617623339,
          -0.043564218455750536,
          -0.0402261707352678,
          -0.036888123014784946,
          -0.033550075294302206,
          -0.030212027573819356,
          -0.026873979853336616,
          -0.023535932132853765,
          -0.020197884412371025,
          -0.016859836691888175,
          -0.013521788971405435,
          -0.010183741250922584,
          -0.006845693530439845,
          -0.003507645809956994,
          -0.00016959808947425437,
          0.0031684496310085963,
          0.006506497351491447,
          0.009844545071974187,
          0.013182592792457037,
          0.016520640512939777,
          0.019858688233422628,
          0.023196735953905367,
          0.026534783674388218,
          0.029872831394870958,
          0.03321087911535381,
          0.03654892683583655,
          0.0398869745563194,
          0.04322502227680214,
          0.04656306999728499,
          0.04990111771776773,
          0.05323916543825058,
          0.05657721315873343,
          0.05991526087921617,
          0.06325330859969902,
          0.06659135632018176,
          0.06992940404066461,
          0.07326745176114735,
          0.0766054994816302,
          0.07994354720211294,
          0.08328159492259579,
          0.08661964264307853,
          0.08995769036356138,
          0.09329573808404412,
          0.09663378580452686,
          0.09997183352500971,
          0.10330988124549245,
          0.1066479289659753,
          0.10998597668645815,
          0.113324024406941,
          0.11666207212742374,
          0.1200001198479066,
          0.12333816756838933,
          0.12667621528887218,
          0.13001426300935492,
          0.13335231072983778,
          0.13669035845032051,
          0.14002840617080337,
          0.1433664538912861,
          0.14670450161176884,
          0.1500425493322517,
          0.15338059705273444,
          0.15671864477321729,
          0.16005669249370014,
          0.163394740214183,
          0.16673278793466573,
          0.17007083565514858,
          0.17340888337563132,
          0.17674693109611417,
          0.1800849788165969,
          0.18342302653707976,
          0.1867610742575625,
          0.19009912197804535,
          0.1934371696985281,
          0.19677521741901083,
          0.20011326513949368,
          0.20345131285997642,
          0.20678936058045927,
          0.210127408300942,
          0.21346545602142486,
          0.2168035037419077,
          0.22014155146239056,
          0.2234795991828733,
          0.22681764690335604,
          0.230155694623839,
          0.23349374234432174,
          0.23683179006480448,
          0.24016983778528722,
          0.24350788550576996,
          0.24684593322625292,
          0.25018398094673566,
          0.2535220286672186,
          0.25686007638770136,
          0.2601981241081841,
          0.26353617182866684,
          0.2668742195491498,
          0.27021226726963254,
          0.2735503149901153,
          0.276888362710598,
          0.280226410431081,
          0.2835644581515637,
          0.28690250587204646,
          0.2902405535925292,
          0.29357860131301194,
          0.2969166490334949,
          0.30025469675397765,
          0.3035927444744604,
          0.3069307921949431,
          0.3102688399154261,
          0.3136068876359088,
          0.31694493535639157,
          0.3202829830768743,
          0.32362103079735727,
          0.32695907851784,
          0.33029712623832275,
          0.3336351739588055,
          0.3369732216792882,
          0.3403112693997712,
          0.3436493171202539,
          0.34698736484073667,
          0.35032541256121963,
          0.3536634602817026,
          0.35700150800218533,
          0.36033955572266807,
          0.3636776034431508,
          0.36701565116363377,
          0.3703536988841165,
          0.37369174660459925,
          0.377029794325082,
          0.38036784204556495,
          0.3837058897660477,
          0.38704393748653043,
          0.39038198520701317,
          0.3937200329274959,
          0.3970580806479789,
          0.4003961283684616,
          0.40373417608894435,
          0.4070722238094271,
          0.41041027152991005,
          0.4137483192503928,
          0.41708636697087553,
          0.4204244146913583,
          0.42376246241184123,
          0.427100510132324,
          0.4304385578528067,
          0.43377660557328945,
          0.4371146532937722,
          0.44045270101425515,
          0.4437907487347379,
          0.44712879645522063,
          0.4504668441757034,
          0.45380489189618656,
          0.4571429396166693,
          0.46048098733715204,
          0.4638190350576348,
          0.46715708277811774,
          0.4704951304986005,
          0.4738331782190832,
          0.47717122593956596,
          0.4805092736600489,
          0.48384732138053166,
          0.4871853691010144,
          0.49052341682149714,
          0.4938614645419799,
          0.49719951226246284,
          0.5005375599829456,
          0.5038756077034283,
          0.5072136554239111,
          0.510551703144394,
          0.5138897508648768,
          0.5172277985853595,
          0.5205658463058422,
          0.5239038940263252,
          0.5272419417468079,
          0.5305799894672907,
          0.5339180371877734,
          0.5372560849082562,
          0.5405941326287391,
          0.5439321803492219,
          0.5472702280697046,
          0.5506082757901873,
          0.5539463235106703,
          0.557284371231153,
          0.5606224189516358,
          0.5639604666721187,
          0.5672985143926017,
          0.5706365621130844,
          0.5739746098335672,
          0.5773126575540499,
          0.5806507052745329,
          0.5839887529950156,
          0.5873268007154984,
          0.5906648484359811,
          0.5940028961564638,
          0.5973409438769468,
          0.6006789915974295,
          0.6040170393179123,
          0.607355087038395,
          0.610693134758878,
          0.6140311824793607,
          0.6173692301998435,
          0.6207072779203262,
          0.6240453256408092,
          0.6273833733612919,
          0.6307214210817746,
          0.6340594688022574,
          0.6373975165227401,
          0.6407355642432231,
          0.6440736119637058,
          0.6474116596841886,
          0.6507497074046713,
          0.6540877551251543,
          0.657425802845637,
          0.6607638505661197,
          0.6641018982866025,
          0.6674399460070857,
          0.6707779937275684,
          0.6741160414480512,
          0.6774540891685339,
          0.6807921368890166,
          0.6841301846094996,
          0.6874682323299823,
          0.6908062800504651,
          0.6941443277709478,
          0.6974823754914308,
          0.7008204232119135,
          0.7041584709323963,
          0.707496518652879,
          0.710834566373362,
          0.7141726140938447,
          0.7175106618143274,
          0.7208487095348102,
          0.7241867572552931,
          0.7275248049757759,
          0.7308628526962586,
          0.7342009004167414,
          0.7375389481372241,
          0.740876995857707,
          0.7442150435781898,
          0.7475530912986725,
          0.7508911390191553,
          0.7542291867396382,
          0.757567234460121,
          0.7609052821806037,
          0.7642433299010865,
          0.7675813776215694,
          0.7709194253420522,
          0.7742574730625349,
          0.7775955207830179,
          0.7809335685035006,
          0.7842716162239836,
          0.7876096639444663,
          0.790947711664949,
          0.7942857593854318,
          0.7976238071059147,
          0.8009618548263975,
          0.8042999025468802,
          0.807637950267363,
          0.8109759979878459,
          0.8143140457083287,
          0.8176520934288114,
          0.8209901411492941,
          0.8243281888697769,
          0.8276662365902598,
          0.8310042843107426,
          0.8343423320312253,
          0.8376803797517081,
          0.841018427472191,
          0.8443564751926738,
          0.8476945229131565,
          0.8510325706336392,
          0.8543706183541222,
          0.8577086660746049,
          0.8610467137950877,
          0.8643847615155704,
          0.8677228092360534,
          0.8710608569565361,
          0.8743989046770189,
          0.8777369523975016,
          0.8810750001179846,
          0.8844130478384675,
          0.8877510955589503,
          0.891089143279433
         ],
         "xaxis": "x",
         "y": [
          0.16083480036629286,
          0.16332589760938865,
          0.16584463487210954,
          0.1683911034614641,
          0.17096539055808577,
          0.1735675791296912,
          0.17619774784461187,
          0.17885597098543718,
          0.18154231836280235,
          0.184256855229361,
          0.18699964219397636,
          0.18977073513617054,
          0.19257018512086946,
          0.19539803831348154,
          0.19825433589534872,
          0.2011391139796104,
          0.20405240352751772,
          0.2069942302652404,
          0.20996461460120466,
          0.21296357154400403,
          0.21599111062092374,
          0.21904723579711943,
          0.22213194539549272,
          0.22524523201730412,
          0.22838708246356806,
          0.23155747765726767,
          0.2347563925664381,
          0.23798379612815412,
          0.24123965117347218,
          0.24452391435336251,
          0.24783653606568215,
          0.25117746038322436,
          0.2545466249828956,
          0.25794396107605577,
          0.2613693933400729,
          0.26482283985112837,
          0.26830421201832333,
          0.2718134145191228,
          0.275350345236187,
          0.27891489519563023,
          0.28250694850674896,
          0.28612638230326753,
          0.28977306668613834,
          0.29344686466794473,
          0.2971476321189441,
          0.3008752177147999,
          0.3046294628860374,
          0.30841020176927225,
          0.3122172611602469,
          0.31605046046872326,
          0.3199096116752643,
          0.3237945192899539,
          0.3277049803130874,
          0.33164078419787824,
          0.33560171281521656,
          0.33958754042052025,
          0.34359803362271724,
          0.3476329513553933,
          0.35169204485014877,
          0.3557750576121949,
          0.3598817253982285,
          0.36401177619662045,
          0.3681649302099539,
          0.37234089983994134,
          0.3765393896747614,
          0.3807600964788399,
          0.3850027091851144,
          0.3892669088898077,
          0.3935523688497432,
          0.397858754482232,
          0.4021857233675578,
          0.4065329252540892,
          0.41090000206604604,
          0.4152865879139447,
          0.41969230910774774,
          0.42411678417274096,
          0.42855962386816177,
          0.4330204312086004,
          0.4374988014881937,
          0.44199432230763147,
          0.44650657360399604,
          0.45103512768344833,
          0.45557954925678107,
          0.46013939547784977,
          0.4647142159849012,
          0.46930355294480525,
          0.4739069411002074,
          0.47852390781960874,
          0.48315397315038405,
          0.48779664987474464,
          0.4924514435686536,
          0.4971178526636971,
          0.5017953685119176,
          0.5064834754536082,
          0.511181650888073,
          0.515889365347351,
          0.5206060825729022,
          0.5253312595952522,
          0.5300643468165932,
          0.5348047880963329,
          0.5395520208395861,
          0.5443054760885988,
          0.549064578617095,
          0.553828747027536,
          0.5585973938512775,
          0.5633699256516105,
          0.5681457431296697,
          0.5729242412331946,
          0.5777048092681195,
          0.5824868310129763,
          0.5872696848360873,
          0.5920527438155225,
          0.5968353758618002,
          0.6016169438433012,
          0.606396805714371,
          0.6111743146460807,
          0.6159488191596144,
          0.620719663262252,
          0.6254861865859153,
          0.6302477245282392,
          0.6350036083961335,
          0.6397531655517966,
          0.6444957195611444,
          0.6492305903446073,
          0.6539570943302622,
          0.6586745446092458,
          0.6633822510934133,
          0.66807952067519,
          0.6727656573895718,
          0.6774399625782229,
          0.6821017350556223,
          0.6867502712772074,
          0.691384865509459,
          0.6960048100018782,
          0.700609395160796,
          0.7051979097249599,
          0.7097696409428406,
          0.7143238747515988,
          0.7188598959576515,
          0.723376988418779,
          0.7278744352277051,
          0.7323515188970936,
          0.7368075215458905,
          0.74124172508695,
          0.7456534114158763,
          0.7500418626010134,
          0.7544063610745159,
          0.7587461898244288,
          0.7630606325877081,
          0.7673489740441108,
          0.7716105000108816,
          0.7758444976381629,
          0.7800502556050575,
          0.7842270643162657,
          0.788374216099226,
          0.7924910054016792,
          0.7965767289895863,
          0.8006306861453159,
          0.8046521788660297,
          0.8086405120621853,
          0.8125949937560806,
          0.8165149352803575,
          0.8203996514763894,
          0.8242484608924725,
          0.8280606859817393,
          0.8318356532997173,
          0.8355726937014496,
          0.8392711425381012,
          0.8429303398529665,
          0.8465496305768013,
          0.8501283647223945,
          0.8536658975783044,
          0.8571615899016736,
          0.8606148081100468,
          0.8640249244721072,
          0.8673913172972559,
          0.8707133711239494,
          0.873990476906719,
          0.8772220322017938,
          0.8804074413512426,
          0.8835461156655636,
          0.886637473604638,
          0.8896809409569724,
          0.8926759510171521,
          0.8956219447614296,
          0.8985183710213697,
          0.9013646866554803,
          0.9041603567187488,
          0.906904854630015,
          0.9095976623371029,
          0.9122382704796437,
          0.9148261785495139,
          0.9173608950488198,
          0.9198419376453612,
          0.922268833325499,
          0.9246411185443669,
          0.926958339373353,
          0.9292200516447918,
          0.9314258210937975,
          0.9335752234971781,
          0.9356678448093666,
          0.9377032812953096,
          0.9396811396602511,
          0.9416010371763577,
          0.9434626018061218,
          0.9452654723224939,
          0.9470092984256843,
          0.9486937408565842,
          0.9503184715067539,
          0.9518831735249282,
          0.9533875414199919,
          0.9548312811603746,
          0.956214110269826,
          0.9575357579195205,
          0.9587959650164573,
          0.959994484288106,
          0.9611310803632692,
          0.9622055298491164,
          0.9632176214043601,
          0.9641671558085355,
          0.9650539460273577,
          0.9658778172741204,
          0.9666386070671115,
          0.9673361652830195,
          0.9679703542063035,
          0.968541048574507,
          0.9690481356194918,
          0.9694915151045757,
          0.9698710993575536,
          0.9701868132995927,
          0.970438594469979,
          0.9706263930467146,
          0.9707501718629474,
          0.9708099064192296,
          0.970805584891601,
          0.9707372081354881,
          0.9706047896854235,
          0.9704083557505792,
          0.9701479452061221,
          0.9698236095803919,
          0.9694354130379065,
          0.9689834323582077,
          0.9684677569105513,
          0.9678884886244555,
          0.9672457419561241,
          0.966539643850754,
          0.9657703337007498,
          0.9649379632998624,
          0.9640426967932716,
          0.9630847106236385,
          0.9620641934731508,
          0.9609813462015868,
          0.9598363817804294,
          0.958629525223057,
          0.957361013511046,
          0.9560310955166171,
          0.9546400319212619,
          0.953188095130586,
          0.9516755691854089,
          0.9501027496691599,
          0.9484699436116134,
          0.9467774693890071,
          0.9450256566205878,
          0.9432148460616336,
          0.9413453894929991,
          0.9394176496072354,
          0.9374319998913355,
          0.9353888245061585,
          0.9332885181625866,
          0.9311314859944725,
          0.9289181434284315,
          0.9266489160505398,
          0.9243242394699969,
          0.921944559179814,
          0.9195103304145914,
          0.9170220180054465,
          0.9144800962321591,
          0.9118850486725987,
          0.9092373680495013,
          0.9065375560746628,
          0.9037861232906186,
          0.9009835889098797,
          0.8981304806517943,
          0.8952273345771087,
          0.892274694920299,
          0.8892731139197468,
          0.8862231516458335,
          0.8831253758270278,
          0.8799803616740407,
          0.8767886917021275,
          0.8735509555516093,
          0.8702677498066935,
          0.8669396778126716,
          0.8635673494915713,
          0.8601513811563417,
          0.856692395323651,
          0.8531910205253761,
          0.8496478911188636,
          0.8460636470960418,
          0.8424389338914645,
          0.8387744021893664,
          0.8350707077298098,
          0.8313285111140056,
          0.8275484776088853,
          0.8237312769510079,
          0.8198775831498799,
          0.8159880742907702,
          0.8120634323371008,
          0.8081043429324876,
          0.8041114952025222,
          0.8000855815563608,
          0.7960272974882118,
          0.7919373413787919,
          0.7878164142968361,
          0.7836652198007326,
          0.7794844637403671,
          0.7752748540592498,
          0.7710371005970036,
          0.7667719148922858,
          0.762480009986225,
          0.758162100226442,
          0.7538189010717332,
          0.7494511288974873,
          0.745059500801908,
          0.7406447344131165,
          0.7362075476972035,
          0.7317486587673011,
          0.7272687856937423,
          0.7227686463153807,
          0.7182489580521332,
          0.7137104377188159,
          0.7091538013403353,
          0.7045797639683021,
          0.6999890394991289,
          0.6953823404936764,
          0.6907603779985078,
          0.686123861368809,
          0.6814734980930396,
          0.6768099936193674,
          0.6721340511839436,
          0.6674463716410757,
          0.6627476532953506,
          0.658038591735762,
          0.6533198796718933,
          0.6485922067722029,
          0.6438562595044658,
          0.6391127209784164,
          0.6343622707906403,
          0.6296055848717529,
          0.6248433353359214,
          0.6200761903327591,
          0.6153048139016395,
          0.6105298658284699,
          0.6057520015049566,
          0.6009718717904047,
          0.5961901228760815,
          0.5914073961521848,
          0.5866243280774356,
          0.5818415500513383,
          0.5770596882891311,
          0.5722793636994551,
          0.5675011917647661,
          0.5627257824245191,
          0.5579537399611424,
          0.5531856628888289,
          0.5484221438451596,
          0.5436637694855789,
          0.5389111203807437,
          0.5341647709167551,
          0.5294252891982945,
          0.5246932369546657,
          0.5199691694487699,
          0.515253635389008,
          0.5105471768441313,
          0.5058503291610378,
          0.5011636208855265,
          0.4964875736860106,
          0.491822702280195,
          0.4871695143647147,
          0.48252851054773993,
          0.47790018428454345,
          0.4732850218160282,
          0.4686835021102114,
          0.4640960968066575,
          0.45952327016385874,
          0.4549654790095499,
          0.45042317269395193,
          0.4458967930459299,
          0.44138677433205853,
          0.4368935432185788,
          0.4324175187362348,
          0.4279591122479694,
          0.4235187274194705,
          0.41909676019254466,
          0.4146935987613003,
          0.4103096235511238,
          0.40594520720042165,
          0.40160071454511426,
          0.39727650260585096,
          0.39297292057792993,
          0.38869030982388914,
          0.3844290038687516,
          0.3801893283978922,
          0.37597160125749934,
          0.3717761324576042,
          0.36760322417764685,
          0.3634531707745503,
          0.35932625879326946,
          0.35522276697978417,
          0.35114296629650316,
          0.34708711994004665,
          0.3430554833613713,
          0.3390483042882063,
          0.3350658227497584,
          0.33110827110365854,
          0.3271758740651062,
          0.32326884873817857,
          0.31938740464926296,
          0.3155317437825775,
          0.31170206061773886,
          0.30789854216934076,
          0.30412136802849665,
          0.30037071040631613,
          0.2966467341792651,
          0.29294959693637534,
          0.2892794490282585,
          0.2856364336178838,
          0.2820206867330779,
          0.27843233732070444,
          0.2748715073024813,
          0.2713383116323907,
          0.2678328583556427,
          0.26435524866914606,
          0.26090557698344663,
          0.2574839309860838,
          0.2540903917063302,
          0.2507250335812636,
          0.24738792452313213,
          0.2440791259879676,
          0.24079869304540297,
          0.23754667444965094,
          0.23432311271160197,
          0.23112804417199506,
          0.2279614990756204,
          0.22482350164650977,
          0.22171407016407244,
          0.21863321704013297,
          0.21558094889682777,
          0.21255726664531913,
          0.209562165565284,
          0.20659563538513562,
          0.2036576603629338,
          0.20074821936794704,
          0.19786728596282138,
          0.19501482848631563,
          0.1921908101365649,
          0.18939518905482727,
          0.1866279184096799,
          0.1838889464816189,
          0.1811782167480295,
          0.17849566796848176,
          0.17584123427031934,
          0.17321484523449907,
          0.170616425981647,
          0.16804589725829014,
          0.16550317552323182,
          0.16298817303403218,
          0.16050079793355632,
          0.1580409543365604,
          0.15560854241627503,
          0.15320345849095712,
          0.15082559511037258,
          0.1484748411421807,
          0.14615108185818387,
          0.1438541990204144,
          0.14158407096702486,
          0.13934057269795305,
          0.13712357596032876,
          0.13493294933359642,
          0.1327685583143217,
          0.13063026540065542,
          0.12851793017642746,
          0.12643140939484046,
          0.12437055706174166,
          0.12233522451844318,
          0.12032526052406775,
          0.11834051133739293,
          0.1163808207981732,
          0.11444603040791362,
          0.1125359794100745,
          0.11065050486968256,
          0.10878944175233018,
          0.10695262300253978,
          0.10513987962147445,
          0.10335104074397346,
          0.10158593371489648,
          0.09984438416475606,
          0.0981262160846228,
          0.09643125190028294,
          0.09475931254563602
         ],
         "yaxis": "y"
        }
       ],
       "layout": {
        "annotations": [
         {
          "showarrow": false,
          "text": "均值 0.005 \n 标准差 0.441",
          "x": 0.05,
          "xref": "paper",
          "y": 0.95,
          "yref": "paper"
         }
        ],
        "barmode": "overlay",
        "hovermode": "closest",
        "legend": {
         "traceorder": "reversed"
        },
        "shapes": [
         {
          "line": {
           "color": "black",
           "dash": "dash",
           "width": 2
          },
          "type": "line",
          "x0": 0.0051247543699529064,
          "x1": 0.0051247543699529064,
          "y0": 0,
          "y1": 1,
          "yref": "paper"
         }
        ],
        "showlegend": false,
        "template": {
         "data": {
          "bar": [
           {
            "error_x": {
             "color": "#2a3f5f"
            },
            "error_y": {
             "color": "#2a3f5f"
            },
            "marker": {
             "line": {
              "color": "#E5ECF6",
              "width": 0.5
             }
            },
            "type": "bar"
           }
          ],
          "barpolar": [
           {
            "marker": {
             "line": {
              "color": "#E5ECF6",
              "width": 0.5
             }
            },
            "type": "barpolar"
           }
          ],
          "carpet": [
           {
            "aaxis": {
             "endlinecolor": "#2a3f5f",
             "gridcolor": "white",
             "linecolor": "white",
             "minorgridcolor": "white",
             "startlinecolor": "#2a3f5f"
            },
            "baxis": {
             "endlinecolor": "#2a3f5f",
             "gridcolor": "white",
             "linecolor": "white",
             "minorgridcolor": "white",
             "startlinecolor": "#2a3f5f"
            },
            "type": "carpet"
           }
          ],
          "choropleth": [
           {
            "colorbar": {
             "outlinewidth": 0,
             "ticks": ""
            },
            "type": "choropleth"
           }
          ],
          "contour": [
           {
            "colorbar": {
             "outlinewidth": 0,
             "ticks": ""
            },
            "colorscale": [
             [
              0,
              "#0d0887"
             ],
             [
              0.1111111111111111,
              "#46039f"
             ],
             [
              0.2222222222222222,
              "#7201a8"
             ],
             [
              0.3333333333333333,
              "#9c179e"
             ],
             [
              0.4444444444444444,
              "#bd3786"
             ],
             [
              0.5555555555555556,
              "#d8576b"
             ],
             [
              0.6666666666666666,
              "#ed7953"
             ],
             [
              0.7777777777777778,
              "#fb9f3a"
             ],
             [
              0.8888888888888888,
              "#fdca26"
             ],
             [
              1,
              "#f0f921"
             ]
            ],
            "type": "contour"
           }
          ],
          "contourcarpet": [
           {
            "colorbar": {
             "outlinewidth": 0,
             "ticks": ""
            },
            "type": "contourcarpet"
           }
          ],
          "heatmap": [
           {
            "colorbar": {
             "outlinewidth": 0,
             "ticks": ""
            },
            "colorscale": [
             [
              0,
              "#0d0887"
             ],
             [
              0.1111111111111111,
              "#46039f"
             ],
             [
              0.2222222222222222,
              "#7201a8"
             ],
             [
              0.3333333333333333,
              "#9c179e"
             ],
             [
              0.4444444444444444,
              "#bd3786"
             ],
             [
              0.5555555555555556,
              "#d8576b"
             ],
             [
              0.6666666666666666,
              "#ed7953"
             ],
             [
              0.7777777777777778,
              "#fb9f3a"
             ],
             [
              0.8888888888888888,
              "#fdca26"
             ],
             [
              1,
              "#f0f921"
             ]
            ],
            "type": "heatmap"
           }
          ],
          "heatmapgl": [
           {
            "colorbar": {
             "outlinewidth": 0,
             "ticks": ""
            },
            "colorscale": [
             [
              0,
              "#0d0887"
             ],
             [
              0.1111111111111111,
              "#46039f"
             ],
             [
              0.2222222222222222,
              "#7201a8"
             ],
             [
              0.3333333333333333,
              "#9c179e"
             ],
             [
              0.4444444444444444,
              "#bd3786"
             ],
             [
              0.5555555555555556,
              "#d8576b"
             ],
             [
              0.6666666666666666,
              "#ed7953"
             ],
             [
              0.7777777777777778,
              "#fb9f3a"
             ],
             [
              0.8888888888888888,
              "#fdca26"
             ],
             [
              1,
              "#f0f921"
             ]
            ],
            "type": "heatmapgl"
           }
          ],
          "histogram": [
           {
            "marker": {
             "colorbar": {
              "outlinewidth": 0,
              "ticks": ""
             }
            },
            "type": "histogram"
           }
          ],
          "histogram2d": [
           {
            "colorbar": {
             "outlinewidth": 0,
             "ticks": ""
            },
            "colorscale": [
             [
              0,
              "#0d0887"
             ],
             [
              0.1111111111111111,
              "#46039f"
             ],
             [
              0.2222222222222222,
              "#7201a8"
             ],
             [
              0.3333333333333333,
              "#9c179e"
             ],
             [
              0.4444444444444444,
              "#bd3786"
             ],
             [
              0.5555555555555556,
              "#d8576b"
             ],
             [
              0.6666666666666666,
              "#ed7953"
             ],
             [
              0.7777777777777778,
              "#fb9f3a"
             ],
             [
              0.8888888888888888,
              "#fdca26"
             ],
             [
              1,
              "#f0f921"
             ]
            ],
            "type": "histogram2d"
           }
          ],
          "histogram2dcontour": [
           {
            "colorbar": {
             "outlinewidth": 0,
             "ticks": ""
            },
            "colorscale": [
             [
              0,
              "#0d0887"
             ],
             [
              0.1111111111111111,
              "#46039f"
             ],
             [
              0.2222222222222222,
              "#7201a8"
             ],
             [
              0.3333333333333333,
              "#9c179e"
             ],
             [
              0.4444444444444444,
              "#bd3786"
             ],
             [
              0.5555555555555556,
              "#d8576b"
             ],
             [
              0.6666666666666666,
              "#ed7953"
             ],
             [
              0.7777777777777778,
              "#fb9f3a"
             ],
             [
              0.8888888888888888,
              "#fdca26"
             ],
             [
              1,
              "#f0f921"
             ]
            ],
            "type": "histogram2dcontour"
           }
          ],
          "mesh3d": [
           {
            "colorbar": {
             "outlinewidth": 0,
             "ticks": ""
            },
            "type": "mesh3d"
           }
          ],
          "parcoords": [
           {
            "line": {
             "colorbar": {
              "outlinewidth": 0,
              "ticks": ""
             }
            },
            "type": "parcoords"
           }
          ],
          "pie": [
           {
            "automargin": true,
            "type": "pie"
           }
          ],
          "scatter": [
           {
            "marker": {
             "colorbar": {
              "outlinewidth": 0,
              "ticks": ""
             }
            },
            "type": "scatter"
           }
          ],
          "scatter3d": [
           {
            "line": {
             "colorbar": {
              "outlinewidth": 0,
              "ticks": ""
             }
            },
            "marker": {
             "colorbar": {
              "outlinewidth": 0,
              "ticks": ""
             }
            },
            "type": "scatter3d"
           }
          ],
          "scattercarpet": [
           {
            "marker": {
             "colorbar": {
              "outlinewidth": 0,
              "ticks": ""
             }
            },
            "type": "scattercarpet"
           }
          ],
          "scattergeo": [
           {
            "marker": {
             "colorbar": {
              "outlinewidth": 0,
              "ticks": ""
             }
            },
            "type": "scattergeo"
           }
          ],
          "scattergl": [
           {
            "marker": {
             "colorbar": {
              "outlinewidth": 0,
              "ticks": ""
             }
            },
            "type": "scattergl"
           }
          ],
          "scattermapbox": [
           {
            "marker": {
             "colorbar": {
              "outlinewidth": 0,
              "ticks": ""
             }
            },
            "type": "scattermapbox"
           }
          ],
          "scatterpolar": [
           {
            "marker": {
             "colorbar": {
              "outlinewidth": 0,
              "ticks": ""
             }
            },
            "type": "scatterpolar"
           }
          ],
          "scatterpolargl": [
           {
            "marker": {
             "colorbar": {
              "outlinewidth": 0,
              "ticks": ""
             }
            },
            "type": "scatterpolargl"
           }
          ],
          "scatterternary": [
           {
            "marker": {
             "colorbar": {
              "outlinewidth": 0,
              "ticks": ""
             }
            },
            "type": "scatterternary"
           }
          ],
          "surface": [
           {
            "colorbar": {
             "outlinewidth": 0,
             "ticks": ""
            },
            "colorscale": [
             [
              0,
              "#0d0887"
             ],
             [
              0.1111111111111111,
              "#46039f"
             ],
             [
              0.2222222222222222,
              "#7201a8"
             ],
             [
              0.3333333333333333,
              "#9c179e"
             ],
             [
              0.4444444444444444,
              "#bd3786"
             ],
             [
              0.5555555555555556,
              "#d8576b"
             ],
             [
              0.6666666666666666,
              "#ed7953"
             ],
             [
              0.7777777777777778,
              "#fb9f3a"
             ],
             [
              0.8888888888888888,
              "#fdca26"
             ],
             [
              1,
              "#f0f921"
             ]
            ],
            "type": "surface"
           }
          ],
          "table": [
           {
            "cells": {
             "fill": {
              "color": "#EBF0F8"
             },
             "line": {
              "color": "white"
             }
            },
            "header": {
             "fill": {
              "color": "#C8D4E3"
             },
             "line": {
              "color": "white"
             }
            },
            "type": "table"
           }
          ]
         },
         "layout": {
          "annotationdefaults": {
           "arrowcolor": "#2a3f5f",
           "arrowhead": 0,
           "arrowwidth": 1
          },
          "coloraxis": {
           "colorbar": {
            "outlinewidth": 0,
            "ticks": ""
           }
          },
          "colorscale": {
           "diverging": [
            [
             0,
             "#8e0152"
            ],
            [
             0.1,
             "#c51b7d"
            ],
            [
             0.2,
             "#de77ae"
            ],
            [
             0.3,
             "#f1b6da"
            ],
            [
             0.4,
             "#fde0ef"
            ],
            [
             0.5,
             "#f7f7f7"
            ],
            [
             0.6,
             "#e6f5d0"
            ],
            [
             0.7,
             "#b8e186"
            ],
            [
             0.8,
             "#7fbc41"
            ],
            [
             0.9,
             "#4d9221"
            ],
            [
             1,
             "#276419"
            ]
           ],
           "sequential": [
            [
             0,
             "#0d0887"
            ],
            [
             0.1111111111111111,
             "#46039f"
            ],
            [
             0.2222222222222222,
             "#7201a8"
            ],
            [
             0.3333333333333333,
             "#9c179e"
            ],
            [
             0.4444444444444444,
             "#bd3786"
            ],
            [
             0.5555555555555556,
             "#d8576b"
            ],
            [
             0.6666666666666666,
             "#ed7953"
            ],
            [
             0.7777777777777778,
             "#fb9f3a"
            ],
            [
             0.8888888888888888,
             "#fdca26"
            ],
            [
             1,
             "#f0f921"
            ]
           ],
           "sequentialminus": [
            [
             0,
             "#0d0887"
            ],
            [
             0.1111111111111111,
             "#46039f"
            ],
            [
             0.2222222222222222,
             "#7201a8"
            ],
            [
             0.3333333333333333,
             "#9c179e"
            ],
            [
             0.4444444444444444,
             "#bd3786"
            ],
            [
             0.5555555555555556,
             "#d8576b"
            ],
            [
             0.6666666666666666,
             "#ed7953"
            ],
            [
             0.7777777777777778,
             "#fb9f3a"
            ],
            [
             0.8888888888888888,
             "#fdca26"
            ],
            [
             1,
             "#f0f921"
            ]
           ]
          },
          "colorway": [
           "#636efa",
           "#EF553B",
           "#00cc96",
           "#ab63fa",
           "#FFA15A",
           "#19d3f3",
           "#FF6692",
           "#B6E880",
           "#FF97FF",
           "#FECB52"
          ],
          "font": {
           "color": "#2a3f5f"
          },
          "geo": {
           "bgcolor": "white",
           "lakecolor": "white",
           "landcolor": "#E5ECF6",
           "showlakes": true,
           "showland": true,
           "subunitcolor": "white"
          },
          "hoverlabel": {
           "align": "left"
          },
          "hovermode": "closest",
          "mapbox": {
           "style": "light"
          },
          "paper_bgcolor": "white",
          "plot_bgcolor": "#E5ECF6",
          "polar": {
           "angularaxis": {
            "gridcolor": "white",
            "linecolor": "white",
            "ticks": ""
           },
           "bgcolor": "#E5ECF6",
           "radialaxis": {
            "gridcolor": "white",
            "linecolor": "white",
            "ticks": ""
           }
          },
          "scene": {
           "xaxis": {
            "backgroundcolor": "#E5ECF6",
            "gridcolor": "white",
            "gridwidth": 2,
            "linecolor": "white",
            "showbackground": true,
            "ticks": "",
            "zerolinecolor": "white"
           },
           "yaxis": {
            "backgroundcolor": "#E5ECF6",
            "gridcolor": "white",
            "gridwidth": 2,
            "linecolor": "white",
            "showbackground": true,
            "ticks": "",
            "zerolinecolor": "white"
           },
           "zaxis": {
            "backgroundcolor": "#E5ECF6",
            "gridcolor": "white",
            "gridwidth": 2,
            "linecolor": "white",
            "showbackground": true,
            "ticks": "",
            "zerolinecolor": "white"
           }
          },
          "shapedefaults": {
           "line": {
            "color": "#2a3f5f"
           }
          },
          "ternary": {
           "aaxis": {
            "gridcolor": "white",
            "linecolor": "white",
            "ticks": ""
           },
           "baxis": {
            "gridcolor": "white",
            "linecolor": "white",
            "ticks": ""
           },
           "bgcolor": "#E5ECF6",
           "caxis": {
            "gridcolor": "white",
            "linecolor": "white",
            "ticks": ""
           }
          },
          "title": {
           "x": 0.05
          },
          "xaxis": {
           "automargin": true,
           "gridcolor": "white",
           "linecolor": "white",
           "ticks": "",
           "title": {
            "standoff": 15
           },
           "zerolinecolor": "white",
           "zerolinewidth": 2
          },
          "yaxis": {
           "automargin": true,
           "gridcolor": "white",
           "linecolor": "white",
           "ticks": "",
           "title": {
            "standoff": 15
           },
           "zerolinecolor": "white",
           "zerolinewidth": 2
          }
         }
        },
        "title": {
         "text": "1h 周期信息系数"
        },
        "xaxis": {
         "anchor": "y2",
         "domain": [
          0,
          1
         ],
         "range": [
          -1,
          1
         ],
         "title": {
          "text": "IC"
         },
         "zeroline": false
        },
        "yaxis": {
         "anchor": "free",
         "domain": [
          0,
          1
         ],
         "position": 0
        }
       }
      },
      "text/html": "<div>\n        \n        \n            <div id=\"baeb2b32-7dfe-41de-aa17-d8af4f9cf279\" class=\"plotly-graph-div\" style=\"height:525px; width:100%;\"></div>\n            <script type=\"text/javascript\">\n                require([\"plotly\"], function(Plotly) {\n                    window.PLOTLYENV=window.PLOTLYENV || {};\n                    \n                if (document.getElementById(\"baeb2b32-7dfe-41de-aa17-d8af4f9cf279\")) {\n                    Plotly.newPlot(\n                        'baeb2b32-7dfe-41de-aa17-d8af4f9cf279',\n                        [{\"autobinx\": false, \"histnorm\": \"probability density\", \"legendgroup\": \"1h\", \"marker\": {\"color\": \"rgb(31, 119, 180)\"}, \"name\": \"1h\", \"opacity\": 0.7, \"type\": \"histogram\", \"x\": [0.0, 0.0, -0.4472135954999579, 0.2581988897471611, -0.4472135954999579, 0.8944271909999159, 0.0, 0.0, -0.4472135954999579, 0.2581988897471611, 0.0, 0.0, -0.4472135954999579, 0.2581988897471611, 0.2581988897471611, 0.0, -0.4472135954999579, 0.2581988897471611, 0.0, -0.7745966692414834, -0.4472135954999579, 0.0, 0.2581988897471611, 0.0, 0.0, -0.4472135954999579, 0.8944271909999159, 0.8944271909999159, 0.2581988897471611, -0.4472135954999579], \"xaxis\": \"x\", \"xbins\": {\"end\": 0.8944271909999159, \"size\": 0.25, \"start\": -0.7745966692414834}, \"yaxis\": \"y\"}, {\"legendgroup\": \"1h\", \"marker\": {\"color\": \"rgb(31, 119, 180)\"}, \"mode\": \"lines\", \"name\": \"1h\", \"showlegend\": false, \"type\": \"scatter\", \"x\": [-0.7745966692414834, -0.7712586215210006, -0.7679205738005178, -0.764582526080035, -0.7612444783595522, -0.7579064306390694, -0.7545683829185866, -0.7512303351981038, -0.747892287477621, -0.7445542397571382, -0.7412161920366555, -0.7378781443161726, -0.7345400965956899, -0.731202048875207, -0.7278640011547243, -0.7245259534342414, -0.7211879057137587, -0.7178498579932758, -0.714511810272793, -0.7111737625523102, -0.7078357148318275, -0.7044976671113446, -0.7011596193908618, -0.6978215716703791, -0.6944835239498962, -0.6911454762294135, -0.6878074285089306, -0.6844693807884479, -0.681131333067965, -0.6777932853474823, -0.6744552376269994, -0.6711171899065167, -0.6677791421860338, -0.6644410944655511, -0.6611030467450683, -0.6577649990245855, -0.6544269513041027, -0.6510889035836198, -0.6477508558631371, -0.6444128081426542, -0.6410747604221715, -0.6377367127016886, -0.6343986649812059, -0.631060617260723, -0.6277225695402403, -0.6243845218197575, -0.6210464740992747, -0.6177084263787919, -0.6143703786583091, -0.6110323309378263, -0.6076942832173435, -0.6043562354968607, -0.6010181877763778, -0.5976801400558951, -0.5943420923354122, -0.5910040446149295, -0.5876659968944467, -0.5843279491739639, -0.5809899014534812, -0.5776518537329983, -0.5743138060125155, -0.5709757582920327, -0.5676377105715499, -0.5642996628510671, -0.5609616151305843, -0.5576235674101016, -0.5542855196896187, -0.5509474719691358, -0.5476094242486531, -0.5442713765281704, -0.5409333288076875, -0.5375952810872047, -0.5342572333667219, -0.5309191856462392, -0.5275811379257563, -0.5242430902052735, -0.5209050424847907, -0.5175669947643079, -0.514228947043825, -0.5108908993233423, -0.5075528516028596, -0.5042148038823768, -0.500876756161894, -0.4975387084414112, -0.4942006607209284, -0.49086261300044554, -0.48752456527996274, -0.48418651755947995, -0.48084846983899715, -0.47751042211851435, -0.47417237439803156, -0.47083432667754876, -0.4674962789570659, -0.4641582312365831, -0.4608201835161003, -0.4574821357956176, -0.4541440880751348, -0.450806040354652, -0.4474679926341692, -0.4441299449136864, -0.4407918971932036, -0.43745384947272076, -0.43411580175223796, -0.43077775403175517, -0.42743970631127237, -0.4241016585907896, -0.4207636108703068, -0.417425563149824, -0.41408751542934114, -0.4107494677088584, -0.4074114199883756, -0.4040733722678928, -0.40073532454741, -0.3973972768269272, -0.3940592291064444, -0.3907211813859616, -0.38738313366547883, -0.384045085944996, -0.3807070382245132, -0.3773689905040304, -0.3740309427835476, -0.3706928950630648, -0.367354847342582, -0.3640167996220992, -0.3606787519016164, -0.3573407041811336, -0.3540026564606508, -0.350664608740168, -0.34732656101968523, -0.34398851329920244, -0.34065046557871964, -0.33731241785823685, -0.33397437013775405, -0.3306363224172712, -0.3272982746967884, -0.3239602269763056, -0.3206221792558228, -0.31728413153534, -0.3139460838148573, -0.3106080360943745, -0.30726998837389163, -0.30393194065340884, -0.30059389293292604, -0.29725584521244325, -0.29391779749196045, -0.29057974977147766, -0.28724170205099486, -0.28390365433051207, -0.2805656066100293, -0.2772275588895464, -0.2738895111690637, -0.27055146344858083, -0.2672134157280981, -0.26387536800761524, -0.2605373202871324, -0.25719927256664965, -0.2538612248461668, -0.25052317712568406, -0.2471851294052012, -0.24384708168471847, -0.24050903396423573, -0.23717098624375288, -0.23383293852327014, -0.2304948908027873, -0.22715684308230455, -0.2238187953618217, -0.22048074764133896, -0.2171426999208561, -0.21380465220037337, -0.2104666044798904, -0.20712855675940767, -0.20379050903892482, -0.20045246131844208, -0.19711441359795923, -0.1937763658774765, -0.19043831815699375, -0.1871002704365109, -0.18376222271602816, -0.1804241749955453, -0.17708612727506257, -0.17374807955457972, -0.17041003183409698, -0.16707198411361412, -0.16373393639313139, -0.16039588867264842, -0.15705784095216568, -0.15371979323168283, -0.1503817455112001, -0.14704369779071724, -0.1437056500702345, -0.14036760234975176, -0.1370295546292689, -0.13369150690878617, -0.13035345918830332, -0.12701541146782058, -0.12367736374733773, -0.12033931602685499, -0.11700126830637214, -0.1136632205858894, -0.11032517286540655, -0.10698712514492381, -0.10364907742444085, -0.10031102970395811, -0.09697298198347526, -0.09363493426299252, -0.09029688654250978, -0.08695883882202693, -0.08362079110154419, -0.08028274338106134, -0.0769446956605786, -0.07360664794009575, -0.07026860021961301, -0.06693055249913016, -0.06359250477864742, -0.06025445705816457, -0.05691640933768183, -0.053578361617198866, -0.05024031389671613, -0.04690226617623339, -0.043564218455750536, -0.0402261707352678, -0.036888123014784946, -0.033550075294302206, -0.030212027573819356, -0.026873979853336616, -0.023535932132853765, -0.020197884412371025, -0.016859836691888175, -0.013521788971405435, -0.010183741250922584, -0.006845693530439845, -0.003507645809956994, -0.00016959808947425437, 0.0031684496310085963, 0.006506497351491447, 0.009844545071974187, 0.013182592792457037, 0.016520640512939777, 0.019858688233422628, 0.023196735953905367, 0.026534783674388218, 0.029872831394870958, 0.03321087911535381, 0.03654892683583655, 0.0398869745563194, 0.04322502227680214, 0.04656306999728499, 0.04990111771776773, 0.05323916543825058, 0.05657721315873343, 0.05991526087921617, 0.06325330859969902, 0.06659135632018176, 0.06992940404066461, 0.07326745176114735, 0.0766054994816302, 0.07994354720211294, 0.08328159492259579, 0.08661964264307853, 0.08995769036356138, 0.09329573808404412, 0.09663378580452686, 0.09997183352500971, 0.10330988124549245, 0.1066479289659753, 0.10998597668645815, 0.113324024406941, 0.11666207212742374, 0.1200001198479066, 0.12333816756838933, 0.12667621528887218, 0.13001426300935492, 0.13335231072983778, 0.13669035845032051, 0.14002840617080337, 0.1433664538912861, 0.14670450161176884, 0.1500425493322517, 0.15338059705273444, 0.15671864477321729, 0.16005669249370014, 0.163394740214183, 0.16673278793466573, 0.17007083565514858, 0.17340888337563132, 0.17674693109611417, 0.1800849788165969, 0.18342302653707976, 0.1867610742575625, 0.19009912197804535, 0.1934371696985281, 0.19677521741901083, 0.20011326513949368, 0.20345131285997642, 0.20678936058045927, 0.210127408300942, 0.21346545602142486, 0.2168035037419077, 0.22014155146239056, 0.2234795991828733, 0.22681764690335604, 0.230155694623839, 0.23349374234432174, 0.23683179006480448, 0.24016983778528722, 0.24350788550576996, 0.24684593322625292, 0.25018398094673566, 0.2535220286672186, 0.25686007638770136, 0.2601981241081841, 0.26353617182866684, 0.2668742195491498, 0.27021226726963254, 0.2735503149901153, 0.276888362710598, 0.280226410431081, 0.2835644581515637, 0.28690250587204646, 0.2902405535925292, 0.29357860131301194, 0.2969166490334949, 0.30025469675397765, 0.3035927444744604, 0.3069307921949431, 0.3102688399154261, 0.3136068876359088, 0.31694493535639157, 0.3202829830768743, 0.32362103079735727, 0.32695907851784, 0.33029712623832275, 0.3336351739588055, 0.3369732216792882, 0.3403112693997712, 0.3436493171202539, 0.34698736484073667, 0.35032541256121963, 0.3536634602817026, 0.35700150800218533, 0.36033955572266807, 0.3636776034431508, 0.36701565116363377, 0.3703536988841165, 0.37369174660459925, 0.377029794325082, 0.38036784204556495, 0.3837058897660477, 0.38704393748653043, 0.39038198520701317, 0.3937200329274959, 0.3970580806479789, 0.4003961283684616, 0.40373417608894435, 0.4070722238094271, 0.41041027152991005, 0.4137483192503928, 0.41708636697087553, 0.4204244146913583, 0.42376246241184123, 0.427100510132324, 0.4304385578528067, 0.43377660557328945, 0.4371146532937722, 0.44045270101425515, 0.4437907487347379, 0.44712879645522063, 0.4504668441757034, 0.45380489189618656, 0.4571429396166693, 0.46048098733715204, 0.4638190350576348, 0.46715708277811774, 0.4704951304986005, 0.4738331782190832, 0.47717122593956596, 0.4805092736600489, 0.48384732138053166, 0.4871853691010144, 0.49052341682149714, 0.4938614645419799, 0.49719951226246284, 0.5005375599829456, 0.5038756077034283, 0.5072136554239111, 0.510551703144394, 0.5138897508648768, 0.5172277985853595, 0.5205658463058422, 0.5239038940263252, 0.5272419417468079, 0.5305799894672907, 0.5339180371877734, 0.5372560849082562, 0.5405941326287391, 0.5439321803492219, 0.5472702280697046, 0.5506082757901873, 0.5539463235106703, 0.557284371231153, 0.5606224189516358, 0.5639604666721187, 0.5672985143926017, 0.5706365621130844, 0.5739746098335672, 0.5773126575540499, 0.5806507052745329, 0.5839887529950156, 0.5873268007154984, 0.5906648484359811, 0.5940028961564638, 0.5973409438769468, 0.6006789915974295, 0.6040170393179123, 0.607355087038395, 0.610693134758878, 0.6140311824793607, 0.6173692301998435, 0.6207072779203262, 0.6240453256408092, 0.6273833733612919, 0.6307214210817746, 0.6340594688022574, 0.6373975165227401, 0.6407355642432231, 0.6440736119637058, 0.6474116596841886, 0.6507497074046713, 0.6540877551251543, 0.657425802845637, 0.6607638505661197, 0.6641018982866025, 0.6674399460070857, 0.6707779937275684, 0.6741160414480512, 0.6774540891685339, 0.6807921368890166, 0.6841301846094996, 0.6874682323299823, 0.6908062800504651, 0.6941443277709478, 0.6974823754914308, 0.7008204232119135, 0.7041584709323963, 0.707496518652879, 0.710834566373362, 0.7141726140938447, 0.7175106618143274, 0.7208487095348102, 0.7241867572552931, 0.7275248049757759, 0.7308628526962586, 0.7342009004167414, 0.7375389481372241, 0.740876995857707, 0.7442150435781898, 0.7475530912986725, 0.7508911390191553, 0.7542291867396382, 0.757567234460121, 0.7609052821806037, 0.7642433299010865, 0.7675813776215694, 0.7709194253420522, 0.7742574730625349, 0.7775955207830179, 0.7809335685035006, 0.7842716162239836, 0.7876096639444663, 0.790947711664949, 0.7942857593854318, 0.7976238071059147, 0.8009618548263975, 0.8042999025468802, 0.807637950267363, 0.8109759979878459, 0.8143140457083287, 0.8176520934288114, 0.8209901411492941, 0.8243281888697769, 0.8276662365902598, 0.8310042843107426, 0.8343423320312253, 0.8376803797517081, 0.841018427472191, 0.8443564751926738, 0.8476945229131565, 0.8510325706336392, 0.8543706183541222, 0.8577086660746049, 0.8610467137950877, 0.8643847615155704, 0.8677228092360534, 0.8710608569565361, 0.8743989046770189, 0.8777369523975016, 0.8810750001179846, 0.8844130478384675, 0.8877510955589503, 0.891089143279433], \"xaxis\": \"x\", \"y\": [0.16083480036629286, 0.16332589760938865, 0.16584463487210954, 0.1683911034614641, 0.17096539055808577, 0.1735675791296912, 0.17619774784461187, 0.17885597098543718, 0.18154231836280235, 0.184256855229361, 0.18699964219397636, 0.18977073513617054, 0.19257018512086946, 0.19539803831348154, 0.19825433589534872, 0.2011391139796104, 0.20405240352751772, 0.2069942302652404, 0.20996461460120466, 0.21296357154400403, 0.21599111062092374, 0.21904723579711943, 0.22213194539549272, 0.22524523201730412, 0.22838708246356806, 0.23155747765726767, 0.2347563925664381, 0.23798379612815412, 0.24123965117347218, 0.24452391435336251, 0.24783653606568215, 0.25117746038322436, 0.2545466249828956, 0.25794396107605577, 0.2613693933400729, 0.26482283985112837, 0.26830421201832333, 0.2718134145191228, 0.275350345236187, 0.27891489519563023, 0.28250694850674896, 0.28612638230326753, 0.28977306668613834, 0.29344686466794473, 0.2971476321189441, 0.3008752177147999, 0.3046294628860374, 0.30841020176927225, 0.3122172611602469, 0.31605046046872326, 0.3199096116752643, 0.3237945192899539, 0.3277049803130874, 0.33164078419787824, 0.33560171281521656, 0.33958754042052025, 0.34359803362271724, 0.3476329513553933, 0.35169204485014877, 0.3557750576121949, 0.3598817253982285, 0.36401177619662045, 0.3681649302099539, 0.37234089983994134, 0.3765393896747614, 0.3807600964788399, 0.3850027091851144, 0.3892669088898077, 0.3935523688497432, 0.397858754482232, 0.4021857233675578, 0.4065329252540892, 0.41090000206604604, 0.4152865879139447, 0.41969230910774774, 0.42411678417274096, 0.42855962386816177, 0.4330204312086004, 0.4374988014881937, 0.44199432230763147, 0.44650657360399604, 0.45103512768344833, 0.45557954925678107, 0.46013939547784977, 0.4647142159849012, 0.46930355294480525, 0.4739069411002074, 0.47852390781960874, 0.48315397315038405, 0.48779664987474464, 0.4924514435686536, 0.4971178526636971, 0.5017953685119176, 0.5064834754536082, 0.511181650888073, 0.515889365347351, 0.5206060825729022, 0.5253312595952522, 0.5300643468165932, 0.5348047880963329, 0.5395520208395861, 0.5443054760885988, 0.549064578617095, 0.553828747027536, 0.5585973938512775, 0.5633699256516105, 0.5681457431296697, 0.5729242412331946, 0.5777048092681195, 0.5824868310129763, 0.5872696848360873, 0.5920527438155225, 0.5968353758618002, 0.6016169438433012, 0.606396805714371, 0.6111743146460807, 0.6159488191596144, 0.620719663262252, 0.6254861865859153, 0.6302477245282392, 0.6350036083961335, 0.6397531655517966, 0.6444957195611444, 0.6492305903446073, 0.6539570943302622, 0.6586745446092458, 0.6633822510934133, 0.66807952067519, 0.6727656573895718, 0.6774399625782229, 0.6821017350556223, 0.6867502712772074, 0.691384865509459, 0.6960048100018782, 0.700609395160796, 0.7051979097249599, 0.7097696409428406, 0.7143238747515988, 0.7188598959576515, 0.723376988418779, 0.7278744352277051, 0.7323515188970936, 0.7368075215458905, 0.74124172508695, 0.7456534114158763, 0.7500418626010134, 0.7544063610745159, 0.7587461898244288, 0.7630606325877081, 0.7673489740441108, 0.7716105000108816, 0.7758444976381629, 0.7800502556050575, 0.7842270643162657, 0.788374216099226, 0.7924910054016792, 0.7965767289895863, 0.8006306861453159, 0.8046521788660297, 0.8086405120621853, 0.8125949937560806, 0.8165149352803575, 0.8203996514763894, 0.8242484608924725, 0.8280606859817393, 0.8318356532997173, 0.8355726937014496, 0.8392711425381012, 0.8429303398529665, 0.8465496305768013, 0.8501283647223945, 0.8536658975783044, 0.8571615899016736, 0.8606148081100468, 0.8640249244721072, 0.8673913172972559, 0.8707133711239494, 0.873990476906719, 0.8772220322017938, 0.8804074413512426, 0.8835461156655636, 0.886637473604638, 0.8896809409569724, 0.8926759510171521, 0.8956219447614296, 0.8985183710213697, 0.9013646866554803, 0.9041603567187488, 0.906904854630015, 0.9095976623371029, 0.9122382704796437, 0.9148261785495139, 0.9173608950488198, 0.9198419376453612, 0.922268833325499, 0.9246411185443669, 0.926958339373353, 0.9292200516447918, 0.9314258210937975, 0.9335752234971781, 0.9356678448093666, 0.9377032812953096, 0.9396811396602511, 0.9416010371763577, 0.9434626018061218, 0.9452654723224939, 0.9470092984256843, 0.9486937408565842, 0.9503184715067539, 0.9518831735249282, 0.9533875414199919, 0.9548312811603746, 0.956214110269826, 0.9575357579195205, 0.9587959650164573, 0.959994484288106, 0.9611310803632692, 0.9622055298491164, 0.9632176214043601, 0.9641671558085355, 0.9650539460273577, 0.9658778172741204, 0.9666386070671115, 0.9673361652830195, 0.9679703542063035, 0.968541048574507, 0.9690481356194918, 0.9694915151045757, 0.9698710993575536, 0.9701868132995927, 0.970438594469979, 0.9706263930467146, 0.9707501718629474, 0.9708099064192296, 0.970805584891601, 0.9707372081354881, 0.9706047896854235, 0.9704083557505792, 0.9701479452061221, 0.9698236095803919, 0.9694354130379065, 0.9689834323582077, 0.9684677569105513, 0.9678884886244555, 0.9672457419561241, 0.966539643850754, 0.9657703337007498, 0.9649379632998624, 0.9640426967932716, 0.9630847106236385, 0.9620641934731508, 0.9609813462015868, 0.9598363817804294, 0.958629525223057, 0.957361013511046, 0.9560310955166171, 0.9546400319212619, 0.953188095130586, 0.9516755691854089, 0.9501027496691599, 0.9484699436116134, 0.9467774693890071, 0.9450256566205878, 0.9432148460616336, 0.9413453894929991, 0.9394176496072354, 0.9374319998913355, 0.9353888245061585, 0.9332885181625866, 0.9311314859944725, 0.9289181434284315, 0.9266489160505398, 0.9243242394699969, 0.921944559179814, 0.9195103304145914, 0.9170220180054465, 0.9144800962321591, 0.9118850486725987, 0.9092373680495013, 0.9065375560746628, 0.9037861232906186, 0.9009835889098797, 0.8981304806517943, 0.8952273345771087, 0.892274694920299, 0.8892731139197468, 0.8862231516458335, 0.8831253758270278, 0.8799803616740407, 0.8767886917021275, 0.8735509555516093, 0.8702677498066935, 0.8669396778126716, 0.8635673494915713, 0.8601513811563417, 0.856692395323651, 0.8531910205253761, 0.8496478911188636, 0.8460636470960418, 0.8424389338914645, 0.8387744021893664, 0.8350707077298098, 0.8313285111140056, 0.8275484776088853, 0.8237312769510079, 0.8198775831498799, 0.8159880742907702, 0.8120634323371008, 0.8081043429324876, 0.8041114952025222, 0.8000855815563608, 0.7960272974882118, 0.7919373413787919, 0.7878164142968361, 0.7836652198007326, 0.7794844637403671, 0.7752748540592498, 0.7710371005970036, 0.7667719148922858, 0.762480009986225, 0.758162100226442, 0.7538189010717332, 0.7494511288974873, 0.745059500801908, 0.7406447344131165, 0.7362075476972035, 0.7317486587673011, 0.7272687856937423, 0.7227686463153807, 0.7182489580521332, 0.7137104377188159, 0.7091538013403353, 0.7045797639683021, 0.6999890394991289, 0.6953823404936764, 0.6907603779985078, 0.686123861368809, 0.6814734980930396, 0.6768099936193674, 0.6721340511839436, 0.6674463716410757, 0.6627476532953506, 0.658038591735762, 0.6533198796718933, 0.6485922067722029, 0.6438562595044658, 0.6391127209784164, 0.6343622707906403, 0.6296055848717529, 0.6248433353359214, 0.6200761903327591, 0.6153048139016395, 0.6105298658284699, 0.6057520015049566, 0.6009718717904047, 0.5961901228760815, 0.5914073961521848, 0.5866243280774356, 0.5818415500513383, 0.5770596882891311, 0.5722793636994551, 0.5675011917647661, 0.5627257824245191, 0.5579537399611424, 0.5531856628888289, 0.5484221438451596, 0.5436637694855789, 0.5389111203807437, 0.5341647709167551, 0.5294252891982945, 0.5246932369546657, 0.5199691694487699, 0.515253635389008, 0.5105471768441313, 0.5058503291610378, 0.5011636208855265, 0.4964875736860106, 0.491822702280195, 0.4871695143647147, 0.48252851054773993, 0.47790018428454345, 0.4732850218160282, 0.4686835021102114, 0.4640960968066575, 0.45952327016385874, 0.4549654790095499, 0.45042317269395193, 0.4458967930459299, 0.44138677433205853, 0.4368935432185788, 0.4324175187362348, 0.4279591122479694, 0.4235187274194705, 0.41909676019254466, 0.4146935987613003, 0.4103096235511238, 0.40594520720042165, 0.40160071454511426, 0.39727650260585096, 0.39297292057792993, 0.38869030982388914, 0.3844290038687516, 0.3801893283978922, 0.37597160125749934, 0.3717761324576042, 0.36760322417764685, 0.3634531707745503, 0.35932625879326946, 0.35522276697978417, 0.35114296629650316, 0.34708711994004665, 0.3430554833613713, 0.3390483042882063, 0.3350658227497584, 0.33110827110365854, 0.3271758740651062, 0.32326884873817857, 0.31938740464926296, 0.3155317437825775, 0.31170206061773886, 0.30789854216934076, 0.30412136802849665, 0.30037071040631613, 0.2966467341792651, 0.29294959693637534, 0.2892794490282585, 0.2856364336178838, 0.2820206867330779, 0.27843233732070444, 0.2748715073024813, 0.2713383116323907, 0.2678328583556427, 0.26435524866914606, 0.26090557698344663, 0.2574839309860838, 0.2540903917063302, 0.2507250335812636, 0.24738792452313213, 0.2440791259879676, 0.24079869304540297, 0.23754667444965094, 0.23432311271160197, 0.23112804417199506, 0.2279614990756204, 0.22482350164650977, 0.22171407016407244, 0.21863321704013297, 0.21558094889682777, 0.21255726664531913, 0.209562165565284, 0.20659563538513562, 0.2036576603629338, 0.20074821936794704, 0.19786728596282138, 0.19501482848631563, 0.1921908101365649, 0.18939518905482727, 0.1866279184096799, 0.1838889464816189, 0.1811782167480295, 0.17849566796848176, 0.17584123427031934, 0.17321484523449907, 0.170616425981647, 0.16804589725829014, 0.16550317552323182, 0.16298817303403218, 0.16050079793355632, 0.1580409543365604, 0.15560854241627503, 0.15320345849095712, 0.15082559511037258, 0.1484748411421807, 0.14615108185818387, 0.1438541990204144, 0.14158407096702486, 0.13934057269795305, 0.13712357596032876, 0.13493294933359642, 0.1327685583143217, 0.13063026540065542, 0.12851793017642746, 0.12643140939484046, 0.12437055706174166, 0.12233522451844318, 0.12032526052406775, 0.11834051133739293, 0.1163808207981732, 0.11444603040791362, 0.1125359794100745, 0.11065050486968256, 0.10878944175233018, 0.10695262300253978, 0.10513987962147445, 0.10335104074397346, 0.10158593371489648, 0.09984438416475606, 0.0981262160846228, 0.09643125190028294, 0.09475931254563602], \"yaxis\": \"y\"}],\n                        {\"annotations\": [{\"showarrow\": false, \"text\": \"\\u5747\\u503c 0.005 \\n \\u6807\\u51c6\\u5dee 0.441\", \"x\": 0.05, \"xref\": \"paper\", \"y\": 0.95, \"yref\": \"paper\"}], \"barmode\": \"overlay\", \"hovermode\": \"closest\", \"legend\": {\"traceorder\": \"reversed\"}, \"shapes\": [{\"line\": {\"color\": \"black\", \"dash\": \"dash\", \"width\": 2}, \"type\": \"line\", \"x0\": 0.0051247543699529064, \"x1\": 0.0051247543699529064, \"y0\": 0, \"y1\": 1, \"yref\": \"paper\"}], \"showlegend\": false, \"template\": {\"data\": {\"bar\": [{\"error_x\": {\"color\": \"#2a3f5f\"}, \"error_y\": {\"color\": \"#2a3f5f\"}, \"marker\": {\"line\": {\"color\": \"#E5ECF6\", \"width\": 0.5}}, \"type\": \"bar\"}], \"barpolar\": [{\"marker\": {\"line\": {\"color\": \"#E5ECF6\", \"width\": 0.5}}, \"type\": \"barpolar\"}], \"carpet\": [{\"aaxis\": {\"endlinecolor\": \"#2a3f5f\", \"gridcolor\": \"white\", \"linecolor\": \"white\", \"minorgridcolor\": \"white\", \"startlinecolor\": \"#2a3f5f\"}, \"baxis\": {\"endlinecolor\": \"#2a3f5f\", \"gridcolor\": \"white\", \"linecolor\": \"white\", \"minorgridcolor\": \"white\", \"startlinecolor\": \"#2a3f5f\"}, \"type\": \"carpet\"}], \"choropleth\": [{\"colorbar\": {\"outlinewidth\": 0, \"ticks\": \"\"}, \"type\": \"choropleth\"}], \"contour\": [{\"colorbar\": {\"outlinewidth\": 0, \"ticks\": \"\"}, \"colorscale\": [[0.0, \"#0d0887\"], [0.1111111111111111, \"#46039f\"], [0.2222222222222222, \"#7201a8\"], [0.3333333333333333, \"#9c179e\"], [0.4444444444444444, \"#bd3786\"], [0.5555555555555556, \"#d8576b\"], [0.6666666666666666, \"#ed7953\"], [0.7777777777777778, \"#fb9f3a\"], [0.8888888888888888, \"#fdca26\"], [1.0, \"#f0f921\"]], \"type\": \"contour\"}], \"contourcarpet\": [{\"colorbar\": {\"outlinewidth\": 0, \"ticks\": \"\"}, \"type\": \"contourcarpet\"}], \"heatmap\": [{\"colorbar\": {\"outlinewidth\": 0, \"ticks\": \"\"}, \"colorscale\": [[0.0, \"#0d0887\"], [0.1111111111111111, \"#46039f\"], [0.2222222222222222, \"#7201a8\"], [0.3333333333333333, \"#9c179e\"], [0.4444444444444444, \"#bd3786\"], [0.5555555555555556, \"#d8576b\"], [0.6666666666666666, \"#ed7953\"], [0.7777777777777778, \"#fb9f3a\"], [0.8888888888888888, \"#fdca26\"], [1.0, \"#f0f921\"]], \"type\": \"heatmap\"}], \"heatmapgl\": [{\"colorbar\": {\"outlinewidth\": 0, \"ticks\": \"\"}, \"colorscale\": [[0.0, \"#0d0887\"], [0.1111111111111111, \"#46039f\"], [0.2222222222222222, \"#7201a8\"], [0.3333333333333333, \"#9c179e\"], [0.4444444444444444, \"#bd3786\"], [0.5555555555555556, \"#d8576b\"], [0.6666666666666666, \"#ed7953\"], [0.7777777777777778, \"#fb9f3a\"], [0.8888888888888888, \"#fdca26\"], [1.0, \"#f0f921\"]], \"type\": \"heatmapgl\"}], \"histogram\": [{\"marker\": {\"colorbar\": {\"outlinewidth\": 0, \"ticks\": \"\"}}, \"type\": \"histogram\"}], \"histogram2d\": [{\"colorbar\": {\"outlinewidth\": 0, \"ticks\": \"\"}, \"colorscale\": [[0.0, \"#0d0887\"], [0.1111111111111111, \"#46039f\"], [0.2222222222222222, \"#7201a8\"], [0.3333333333333333, \"#9c179e\"], [0.4444444444444444, \"#bd3786\"], [0.5555555555555556, \"#d8576b\"], [0.6666666666666666, \"#ed7953\"], [0.7777777777777778, \"#fb9f3a\"], [0.8888888888888888, \"#fdca26\"], [1.0, \"#f0f921\"]], \"type\": \"histogram2d\"}], \"histogram2dcontour\": [{\"colorbar\": {\"outlinewidth\": 0, \"ticks\": \"\"}, \"colorscale\": [[0.0, \"#0d0887\"], [0.1111111111111111, \"#46039f\"], [0.2222222222222222, \"#7201a8\"], [0.3333333333333333, \"#9c179e\"], [0.4444444444444444, \"#bd3786\"], [0.5555555555555556, \"#d8576b\"], [0.6666666666666666, \"#ed7953\"], [0.7777777777777778, \"#fb9f3a\"], [0.8888888888888888, \"#fdca26\"], [1.0, \"#f0f921\"]], \"type\": \"histogram2dcontour\"}], \"mesh3d\": [{\"colorbar\": {\"outlinewidth\": 0, \"ticks\": \"\"}, \"type\": \"mesh3d\"}], \"parcoords\": [{\"line\": {\"colorbar\": {\"outlinewidth\": 0, \"ticks\": \"\"}}, \"type\": \"parcoords\"}], \"pie\": [{\"automargin\": true, \"type\": \"pie\"}], \"scatter\": [{\"marker\": {\"colorbar\": {\"outlinewidth\": 0, \"ticks\": \"\"}}, \"type\": \"scatter\"}], \"scatter3d\": [{\"line\": {\"colorbar\": {\"outlinewidth\": 0, \"ticks\": \"\"}}, \"marker\": {\"colorbar\": {\"outlinewidth\": 0, \"ticks\": \"\"}}, \"type\": \"scatter3d\"}], \"scattercarpet\": [{\"marker\": {\"colorbar\": {\"outlinewidth\": 0, \"ticks\": \"\"}}, \"type\": \"scattercarpet\"}], \"scattergeo\": [{\"marker\": {\"colorbar\": {\"outlinewidth\": 0, \"ticks\": \"\"}}, \"type\": \"scattergeo\"}], \"scattergl\": [{\"marker\": {\"colorbar\": {\"outlinewidth\": 0, \"ticks\": \"\"}}, \"type\": \"scattergl\"}], \"scattermapbox\": [{\"marker\": {\"colorbar\": {\"outlinewidth\": 0, \"ticks\": \"\"}}, \"type\": \"scattermapbox\"}], \"scatterpolar\": [{\"marker\": {\"colorbar\": {\"outlinewidth\": 0, \"ticks\": \"\"}}, \"type\": \"scatterpolar\"}], \"scatterpolargl\": [{\"marker\": {\"colorbar\": {\"outlinewidth\": 0, \"ticks\": \"\"}}, \"type\": \"scatterpolargl\"}], \"scatterternary\": [{\"marker\": {\"colorbar\": {\"outlinewidth\": 0, \"ticks\": \"\"}}, \"type\": \"scatterternary\"}], \"surface\": [{\"colorbar\": {\"outlinewidth\": 0, \"ticks\": \"\"}, \"colorscale\": [[0.0, \"#0d0887\"], [0.1111111111111111, \"#46039f\"], [0.2222222222222222, \"#7201a8\"], [0.3333333333333333, \"#9c179e\"], [0.4444444444444444, \"#bd3786\"], [0.5555555555555556, \"#d8576b\"], [0.6666666666666666, \"#ed7953\"], [0.7777777777777778, \"#fb9f3a\"], [0.8888888888888888, \"#fdca26\"], [1.0, \"#f0f921\"]], \"type\": \"surface\"}], \"table\": [{\"cells\": {\"fill\": {\"color\": \"#EBF0F8\"}, \"line\": {\"color\": \"white\"}}, \"header\": {\"fill\": {\"color\": \"#C8D4E3\"}, \"line\": {\"color\": \"white\"}}, \"type\": \"table\"}]}, \"layout\": {\"annotationdefaults\": {\"arrowcolor\": \"#2a3f5f\", \"arrowhead\": 0, \"arrowwidth\": 1}, \"coloraxis\": {\"colorbar\": {\"outlinewidth\": 0, \"ticks\": \"\"}}, \"colorscale\": {\"diverging\": [[0, \"#8e0152\"], [0.1, \"#c51b7d\"], [0.2, \"#de77ae\"], [0.3, \"#f1b6da\"], [0.4, \"#fde0ef\"], [0.5, \"#f7f7f7\"], [0.6, \"#e6f5d0\"], [0.7, \"#b8e186\"], [0.8, \"#7fbc41\"], [0.9, \"#4d9221\"], [1, \"#276419\"]], \"sequential\": [[0.0, \"#0d0887\"], [0.1111111111111111, \"#46039f\"], [0.2222222222222222, \"#7201a8\"], [0.3333333333333333, \"#9c179e\"], [0.4444444444444444, \"#bd3786\"], [0.5555555555555556, \"#d8576b\"], [0.6666666666666666, \"#ed7953\"], [0.7777777777777778, \"#fb9f3a\"], [0.8888888888888888, \"#fdca26\"], [1.0, \"#f0f921\"]], \"sequentialminus\": [[0.0, \"#0d0887\"], [0.1111111111111111, \"#46039f\"], [0.2222222222222222, \"#7201a8\"], [0.3333333333333333, \"#9c179e\"], [0.4444444444444444, \"#bd3786\"], [0.5555555555555556, \"#d8576b\"], [0.6666666666666666, \"#ed7953\"], [0.7777777777777778, \"#fb9f3a\"], [0.8888888888888888, \"#fdca26\"], [1.0, \"#f0f921\"]]}, \"colorway\": [\"#636efa\", \"#EF553B\", \"#00cc96\", \"#ab63fa\", \"#FFA15A\", \"#19d3f3\", \"#FF6692\", \"#B6E880\", \"#FF97FF\", \"#FECB52\"], \"font\": {\"color\": \"#2a3f5f\"}, \"geo\": {\"bgcolor\": \"white\", \"lakecolor\": \"white\", \"landcolor\": \"#E5ECF6\", \"showlakes\": true, \"showland\": true, \"subunitcolor\": \"white\"}, \"hoverlabel\": {\"align\": \"left\"}, \"hovermode\": \"closest\", \"mapbox\": {\"style\": \"light\"}, \"paper_bgcolor\": \"white\", \"plot_bgcolor\": \"#E5ECF6\", \"polar\": {\"angularaxis\": {\"gridcolor\": \"white\", \"linecolor\": \"white\", \"ticks\": \"\"}, \"bgcolor\": \"#E5ECF6\", \"radialaxis\": {\"gridcolor\": \"white\", \"linecolor\": \"white\", \"ticks\": \"\"}}, \"scene\": {\"xaxis\": {\"backgroundcolor\": \"#E5ECF6\", \"gridcolor\": \"white\", \"gridwidth\": 2, \"linecolor\": \"white\", \"showbackground\": true, \"ticks\": \"\", \"zerolinecolor\": \"white\"}, \"yaxis\": {\"backgroundcolor\": \"#E5ECF6\", \"gridcolor\": \"white\", \"gridwidth\": 2, \"linecolor\": \"white\", \"showbackground\": true, \"ticks\": \"\", \"zerolinecolor\": \"white\"}, \"zaxis\": {\"backgroundcolor\": \"#E5ECF6\", \"gridcolor\": \"white\", \"gridwidth\": 2, \"linecolor\": \"white\", \"showbackground\": true, \"ticks\": \"\", \"zerolinecolor\": \"white\"}}, \"shapedefaults\": {\"line\": {\"color\": \"#2a3f5f\"}}, \"ternary\": {\"aaxis\": {\"gridcolor\": \"white\", \"linecolor\": \"white\", \"ticks\": \"\"}, \"baxis\": {\"gridcolor\": \"white\", \"linecolor\": \"white\", \"ticks\": \"\"}, \"bgcolor\": \"#E5ECF6\", \"caxis\": {\"gridcolor\": \"white\", \"linecolor\": \"white\", \"ticks\": \"\"}}, \"title\": {\"x\": 0.05}, \"xaxis\": {\"automargin\": true, \"gridcolor\": \"white\", \"linecolor\": \"white\", \"ticks\": \"\", \"title\": {\"standoff\": 15}, \"zerolinecolor\": \"white\", \"zerolinewidth\": 2}, \"yaxis\": {\"automargin\": true, \"gridcolor\": \"white\", \"linecolor\": \"white\", \"ticks\": \"\", \"title\": {\"standoff\": 15}, \"zerolinecolor\": \"white\", \"zerolinewidth\": 2}}}, \"title\": {\"text\": \"1h \\u5468\\u671f\\u4fe1\\u606f\\u7cfb\\u6570\"}, \"xaxis\": {\"anchor\": \"y2\", \"domain\": [0.0, 1.0], \"range\": [-1, 1], \"title\": {\"text\": \"IC\"}, \"zeroline\": false}, \"yaxis\": {\"anchor\": \"free\", \"domain\": [0.0, 1], \"position\": 0.0}},\n                        {\"responsive\": true}\n                    ).then(function(){\n                            \nvar gd = document.getElementById('baeb2b32-7dfe-41de-aa17-d8af4f9cf279');\nvar x = new MutationObserver(function (mutations, observer) {{\n        var display = window.getComputedStyle(gd).display;\n        if (!display || display === 'none') {{\n            console.log([gd, 'removed!']);\n            Plotly.purge(gd);\n            observer.disconnect();\n        }}\n}});\n\n// Listen for the removal of the full notebook cells\nvar notebookContainer = gd.closest('#notebook-container');\nif (notebookContainer) {{\n    x.observe(notebookContainer, {childList: true});\n}}\n\n// Listen for the clearing of the current output cell\nvar outputEl = gd.closest('.output');\nif (outputEl) {{\n    x.observe(outputEl, {childList: true});\n}}\n\n                        })\n                };\n                });\n            </script>\n        </div>"
     },
     "metadata": {}
    }
   ],
   "source": [
    "fig"
   ]
  },
  {
   "cell_type": "code",
   "execution_count": 36,
   "metadata": {},
   "outputs": [
    {
     "output_type": "execute_result",
     "data": {
      "text/plain": "Layout({\n    'annotations': [{'showarrow': False,\n                     'text': '均值 0.005 \\n 标准差 0.441',\n                     'x': 0.05,\n                     'xref': 'paper',\n                     'y': 0.95,\n                     'yref': 'paper'}],\n    'barmode': 'overlay',\n    'hovermode': 'closest',\n    'legend': {'traceorder': 'reversed'},\n    'shapes': [{'line': {'color': 'black', 'dash': 'dash', 'width': 2},\n                'type': 'line',\n                'x0': 0.0051247543699529064,\n                'x1': 0.0051247543699529064,\n                'y0': 0,\n                'y1': 1,\n                'yref': 'paper'}],\n    'showlegend': False,\n    'template': '...',\n    'title': {'text': '1h 周期信息系数'},\n    'xaxis': {'anchor': 'y2', 'domain': [0.0, 1.0], 'range': [-1, 1], 'title': {'text': 'IC'}, 'zeroline': False},\n    'yaxis': {'anchor': 'free', 'domain': [0.0, 1], 'position': 0.0}\n})"
     },
     "metadata": {},
     "execution_count": 36
    }
   ],
   "source": [
    "fig.layout"
   ]
  },
  {
   "cell_type": "markdown",
   "metadata": {},
   "source": [
    "## `create_information_tear_sheet`"
   ]
  },
  {
   "cell_type": "code",
   "execution_count": 25,
   "metadata": {},
   "outputs": [
    {
     "output_type": "display_data",
     "data": {
      "application/vnd.plotly.v1+json": {
       "config": {
        "plotlyServerURL": "https://plot.ly"
       },
       "data": [
        {
         "cells": {
          "align": [
           "left",
           "right"
          ],
          "fill": {
           "color": "lavender"
          },
          "values": [
           [
            "IC Mean",
            "IC Std.",
            "Risk-Adjusted IC",
            "t-stat(IC)",
            "p-value(IC)",
            "IC Skew",
            "IC Kurtosis"
           ],
           [
            0.005,
            0.441,
            0.012,
            null,
            null,
            null,
            null
           ],
           [
            -0.109,
            0.5,
            -0.217,
            null,
            null,
            null,
            null
           ],
           [
            1,
            0,
            null,
            null,
            0,
            0,
            -3
           ],
           [
            1,
            0,
            null,
            null,
            0,
            0,
            -3
           ]
          ]
         },
         "header": {
          "align": [
           "left",
           "right"
          ],
          "fill": {
           "color": "paleturquoise"
          },
          "values": [
           "",
           "1h <br>",
           "3h <br>",
           "1D <br>",
           "2D <br>"
          ]
         },
         "type": "table"
        }
       ],
       "layout": {
        "template": {
         "data": {
          "bar": [
           {
            "error_x": {
             "color": "#2a3f5f"
            },
            "error_y": {
             "color": "#2a3f5f"
            },
            "marker": {
             "line": {
              "color": "#E5ECF6",
              "width": 0.5
             }
            },
            "type": "bar"
           }
          ],
          "barpolar": [
           {
            "marker": {
             "line": {
              "color": "#E5ECF6",
              "width": 0.5
             }
            },
            "type": "barpolar"
           }
          ],
          "carpet": [
           {
            "aaxis": {
             "endlinecolor": "#2a3f5f",
             "gridcolor": "white",
             "linecolor": "white",
             "minorgridcolor": "white",
             "startlinecolor": "#2a3f5f"
            },
            "baxis": {
             "endlinecolor": "#2a3f5f",
             "gridcolor": "white",
             "linecolor": "white",
             "minorgridcolor": "white",
             "startlinecolor": "#2a3f5f"
            },
            "type": "carpet"
           }
          ],
          "choropleth": [
           {
            "colorbar": {
             "outlinewidth": 0,
             "ticks": ""
            },
            "type": "choropleth"
           }
          ],
          "contour": [
           {
            "colorbar": {
             "outlinewidth": 0,
             "ticks": ""
            },
            "colorscale": [
             [
              0,
              "#0d0887"
             ],
             [
              0.1111111111111111,
              "#46039f"
             ],
             [
              0.2222222222222222,
              "#7201a8"
             ],
             [
              0.3333333333333333,
              "#9c179e"
             ],
             [
              0.4444444444444444,
              "#bd3786"
             ],
             [
              0.5555555555555556,
              "#d8576b"
             ],
             [
              0.6666666666666666,
              "#ed7953"
             ],
             [
              0.7777777777777778,
              "#fb9f3a"
             ],
             [
              0.8888888888888888,
              "#fdca26"
             ],
             [
              1,
              "#f0f921"
             ]
            ],
            "type": "contour"
           }
          ],
          "contourcarpet": [
           {
            "colorbar": {
             "outlinewidth": 0,
             "ticks": ""
            },
            "type": "contourcarpet"
           }
          ],
          "heatmap": [
           {
            "colorbar": {
             "outlinewidth": 0,
             "ticks": ""
            },
            "colorscale": [
             [
              0,
              "#0d0887"
             ],
             [
              0.1111111111111111,
              "#46039f"
             ],
             [
              0.2222222222222222,
              "#7201a8"
             ],
             [
              0.3333333333333333,
              "#9c179e"
             ],
             [
              0.4444444444444444,
              "#bd3786"
             ],
             [
              0.5555555555555556,
              "#d8576b"
             ],
             [
              0.6666666666666666,
              "#ed7953"
             ],
             [
              0.7777777777777778,
              "#fb9f3a"
             ],
             [
              0.8888888888888888,
              "#fdca26"
             ],
             [
              1,
              "#f0f921"
             ]
            ],
            "type": "heatmap"
           }
          ],
          "heatmapgl": [
           {
            "colorbar": {
             "outlinewidth": 0,
             "ticks": ""
            },
            "colorscale": [
             [
              0,
              "#0d0887"
             ],
             [
              0.1111111111111111,
              "#46039f"
             ],
             [
              0.2222222222222222,
              "#7201a8"
             ],
             [
              0.3333333333333333,
              "#9c179e"
             ],
             [
              0.4444444444444444,
              "#bd3786"
             ],
             [
              0.5555555555555556,
              "#d8576b"
             ],
             [
              0.6666666666666666,
              "#ed7953"
             ],
             [
              0.7777777777777778,
              "#fb9f3a"
             ],
             [
              0.8888888888888888,
              "#fdca26"
             ],
             [
              1,
              "#f0f921"
             ]
            ],
            "type": "heatmapgl"
           }
          ],
          "histogram": [
           {
            "marker": {
             "colorbar": {
              "outlinewidth": 0,
              "ticks": ""
             }
            },
            "type": "histogram"
           }
          ],
          "histogram2d": [
           {
            "colorbar": {
             "outlinewidth": 0,
             "ticks": ""
            },
            "colorscale": [
             [
              0,
              "#0d0887"
             ],
             [
              0.1111111111111111,
              "#46039f"
             ],
             [
              0.2222222222222222,
              "#7201a8"
             ],
             [
              0.3333333333333333,
              "#9c179e"
             ],
             [
              0.4444444444444444,
              "#bd3786"
             ],
             [
              0.5555555555555556,
              "#d8576b"
             ],
             [
              0.6666666666666666,
              "#ed7953"
             ],
             [
              0.7777777777777778,
              "#fb9f3a"
             ],
             [
              0.8888888888888888,
              "#fdca26"
             ],
             [
              1,
              "#f0f921"
             ]
            ],
            "type": "histogram2d"
           }
          ],
          "histogram2dcontour": [
           {
            "colorbar": {
             "outlinewidth": 0,
             "ticks": ""
            },
            "colorscale": [
             [
              0,
              "#0d0887"
             ],
             [
              0.1111111111111111,
              "#46039f"
             ],
             [
              0.2222222222222222,
              "#7201a8"
             ],
             [
              0.3333333333333333,
              "#9c179e"
             ],
             [
              0.4444444444444444,
              "#bd3786"
             ],
             [
              0.5555555555555556,
              "#d8576b"
             ],
             [
              0.6666666666666666,
              "#ed7953"
             ],
             [
              0.7777777777777778,
              "#fb9f3a"
             ],
             [
              0.8888888888888888,
              "#fdca26"
             ],
             [
              1,
              "#f0f921"
             ]
            ],
            "type": "histogram2dcontour"
           }
          ],
          "mesh3d": [
           {
            "colorbar": {
             "outlinewidth": 0,
             "ticks": ""
            },
            "type": "mesh3d"
           }
          ],
          "parcoords": [
           {
            "line": {
             "colorbar": {
              "outlinewidth": 0,
              "ticks": ""
             }
            },
            "type": "parcoords"
           }
          ],
          "pie": [
           {
            "automargin": true,
            "type": "pie"
           }
          ],
          "scatter": [
           {
            "marker": {
             "colorbar": {
              "outlinewidth": 0,
              "ticks": ""
             }
            },
            "type": "scatter"
           }
          ],
          "scatter3d": [
           {
            "line": {
             "colorbar": {
              "outlinewidth": 0,
              "ticks": ""
             }
            },
            "marker": {
             "colorbar": {
              "outlinewidth": 0,
              "ticks": ""
             }
            },
            "type": "scatter3d"
           }
          ],
          "scattercarpet": [
           {
            "marker": {
             "colorbar": {
              "outlinewidth": 0,
              "ticks": ""
             }
            },
            "type": "scattercarpet"
           }
          ],
          "scattergeo": [
           {
            "marker": {
             "colorbar": {
              "outlinewidth": 0,
              "ticks": ""
             }
            },
            "type": "scattergeo"
           }
          ],
          "scattergl": [
           {
            "marker": {
             "colorbar": {
              "outlinewidth": 0,
              "ticks": ""
             }
            },
            "type": "scattergl"
           }
          ],
          "scattermapbox": [
           {
            "marker": {
             "colorbar": {
              "outlinewidth": 0,
              "ticks": ""
             }
            },
            "type": "scattermapbox"
           }
          ],
          "scatterpolar": [
           {
            "marker": {
             "colorbar": {
              "outlinewidth": 0,
              "ticks": ""
             }
            },
            "type": "scatterpolar"
           }
          ],
          "scatterpolargl": [
           {
            "marker": {
             "colorbar": {
              "outlinewidth": 0,
              "ticks": ""
             }
            },
            "type": "scatterpolargl"
           }
          ],
          "scatterternary": [
           {
            "marker": {
             "colorbar": {
              "outlinewidth": 0,
              "ticks": ""
             }
            },
            "type": "scatterternary"
           }
          ],
          "surface": [
           {
            "colorbar": {
             "outlinewidth": 0,
             "ticks": ""
            },
            "colorscale": [
             [
              0,
              "#0d0887"
             ],
             [
              0.1111111111111111,
              "#46039f"
             ],
             [
              0.2222222222222222,
              "#7201a8"
             ],
             [
              0.3333333333333333,
              "#9c179e"
             ],
             [
              0.4444444444444444,
              "#bd3786"
             ],
             [
              0.5555555555555556,
              "#d8576b"
             ],
             [
              0.6666666666666666,
              "#ed7953"
             ],
             [
              0.7777777777777778,
              "#fb9f3a"
             ],
             [
              0.8888888888888888,
              "#fdca26"
             ],
             [
              1,
              "#f0f921"
             ]
            ],
            "type": "surface"
           }
          ],
          "table": [
           {
            "cells": {
             "fill": {
              "color": "#EBF0F8"
             },
             "line": {
              "color": "white"
             }
            },
            "header": {
             "fill": {
              "color": "#C8D4E3"
             },
             "line": {
              "color": "white"
             }
            },
            "type": "table"
           }
          ]
         },
         "layout": {
          "annotationdefaults": {
           "arrowcolor": "#2a3f5f",
           "arrowhead": 0,
           "arrowwidth": 1
          },
          "coloraxis": {
           "colorbar": {
            "outlinewidth": 0,
            "ticks": ""
           }
          },
          "colorscale": {
           "diverging": [
            [
             0,
             "#8e0152"
            ],
            [
             0.1,
             "#c51b7d"
            ],
            [
             0.2,
             "#de77ae"
            ],
            [
             0.3,
             "#f1b6da"
            ],
            [
             0.4,
             "#fde0ef"
            ],
            [
             0.5,
             "#f7f7f7"
            ],
            [
             0.6,
             "#e6f5d0"
            ],
            [
             0.7,
             "#b8e186"
            ],
            [
             0.8,
             "#7fbc41"
            ],
            [
             0.9,
             "#4d9221"
            ],
            [
             1,
             "#276419"
            ]
           ],
           "sequential": [
            [
             0,
             "#0d0887"
            ],
            [
             0.1111111111111111,
             "#46039f"
            ],
            [
             0.2222222222222222,
             "#7201a8"
            ],
            [
             0.3333333333333333,
             "#9c179e"
            ],
            [
             0.4444444444444444,
             "#bd3786"
            ],
            [
             0.5555555555555556,
             "#d8576b"
            ],
            [
             0.6666666666666666,
             "#ed7953"
            ],
            [
             0.7777777777777778,
             "#fb9f3a"
            ],
            [
             0.8888888888888888,
             "#fdca26"
            ],
            [
             1,
             "#f0f921"
            ]
           ],
           "sequentialminus": [
            [
             0,
             "#0d0887"
            ],
            [
             0.1111111111111111,
             "#46039f"
            ],
            [
             0.2222222222222222,
             "#7201a8"
            ],
            [
             0.3333333333333333,
             "#9c179e"
            ],
            [
             0.4444444444444444,
             "#bd3786"
            ],
            [
             0.5555555555555556,
             "#d8576b"
            ],
            [
             0.6666666666666666,
             "#ed7953"
            ],
            [
             0.7777777777777778,
             "#fb9f3a"
            ],
            [
             0.8888888888888888,
             "#fdca26"
            ],
            [
             1,
             "#f0f921"
            ]
           ]
          },
          "colorway": [
           "#636efa",
           "#EF553B",
           "#00cc96",
           "#ab63fa",
           "#FFA15A",
           "#19d3f3",
           "#FF6692",
           "#B6E880",
           "#FF97FF",
           "#FECB52"
          ],
          "font": {
           "color": "#2a3f5f"
          },
          "geo": {
           "bgcolor": "white",
           "lakecolor": "white",
           "landcolor": "#E5ECF6",
           "showlakes": true,
           "showland": true,
           "subunitcolor": "white"
          },
          "hoverlabel": {
           "align": "left"
          },
          "hovermode": "closest",
          "mapbox": {
           "style": "light"
          },
          "paper_bgcolor": "white",
          "plot_bgcolor": "#E5ECF6",
          "polar": {
           "angularaxis": {
            "gridcolor": "white",
            "linecolor": "white",
            "ticks": ""
           },
           "bgcolor": "#E5ECF6",
           "radialaxis": {
            "gridcolor": "white",
            "linecolor": "white",
            "ticks": ""
           }
          },
          "scene": {
           "xaxis": {
            "backgroundcolor": "#E5ECF6",
            "gridcolor": "white",
            "gridwidth": 2,
            "linecolor": "white",
            "showbackground": true,
            "ticks": "",
            "zerolinecolor": "white"
           },
           "yaxis": {
            "backgroundcolor": "#E5ECF6",
            "gridcolor": "white",
            "gridwidth": 2,
            "linecolor": "white",
            "showbackground": true,
            "ticks": "",
            "zerolinecolor": "white"
           },
           "zaxis": {
            "backgroundcolor": "#E5ECF6",
            "gridcolor": "white",
            "gridwidth": 2,
            "linecolor": "white",
            "showbackground": true,
            "ticks": "",
            "zerolinecolor": "white"
           }
          },
          "shapedefaults": {
           "line": {
            "color": "#2a3f5f"
           }
          },
          "ternary": {
           "aaxis": {
            "gridcolor": "white",
            "linecolor": "white",
            "ticks": ""
           },
           "baxis": {
            "gridcolor": "white",
            "linecolor": "white",
            "ticks": ""
           },
           "bgcolor": "#E5ECF6",
           "caxis": {
            "gridcolor": "white",
            "linecolor": "white",
            "ticks": ""
           }
          },
          "title": {
           "x": 0.05
          },
          "xaxis": {
           "automargin": true,
           "gridcolor": "white",
           "linecolor": "white",
           "ticks": "",
           "title": {
            "standoff": 15
           },
           "zerolinecolor": "white",
           "zerolinewidth": 2
          },
          "yaxis": {
           "automargin": true,
           "gridcolor": "white",
           "linecolor": "white",
           "ticks": "",
           "title": {
            "standoff": 15
           },
           "zerolinecolor": "white",
           "zerolinewidth": 2
          }
         }
        },
        "title": {
         "text": "信息分析"
        }
       }
      },
      "text/html": "<div>\n        \n        \n            <div id=\"b2c5ee24-7a71-4f76-8e5e-35aa79f2e048\" class=\"plotly-graph-div\" style=\"height:525px; width:100%;\"></div>\n            <script type=\"text/javascript\">\n                require([\"plotly\"], function(Plotly) {\n                    window.PLOTLYENV=window.PLOTLYENV || {};\n                    \n                if (document.getElementById(\"b2c5ee24-7a71-4f76-8e5e-35aa79f2e048\")) {\n                    Plotly.newPlot(\n                        'b2c5ee24-7a71-4f76-8e5e-35aa79f2e048',\n                        [{\"cells\": {\"align\": [\"left\", \"right\"], \"fill\": {\"color\": \"lavender\"}, \"values\": [[\"IC Mean\", \"IC Std.\", \"Risk-Adjusted IC\", \"t-stat(IC)\", \"p-value(IC)\", \"IC Skew\", \"IC Kurtosis\"], [0.005, 0.441, 0.012, null, null, null, null], [-0.109, 0.5, -0.217, null, null, null, null], [1.0, 0.0, null, null, 0.0, 0.0, -3.0], [1.0, 0.0, null, null, 0.0, 0.0, -3.0]]}, \"header\": {\"align\": [\"left\", \"right\"], \"fill\": {\"color\": \"paleturquoise\"}, \"values\": [\"\", \"1h <br>\", \"3h <br>\", \"1D <br>\", \"2D <br>\"]}, \"type\": \"table\"}],\n                        {\"template\": {\"data\": {\"bar\": [{\"error_x\": {\"color\": \"#2a3f5f\"}, \"error_y\": {\"color\": \"#2a3f5f\"}, \"marker\": {\"line\": {\"color\": \"#E5ECF6\", \"width\": 0.5}}, \"type\": \"bar\"}], \"barpolar\": [{\"marker\": {\"line\": {\"color\": \"#E5ECF6\", \"width\": 0.5}}, \"type\": \"barpolar\"}], \"carpet\": [{\"aaxis\": {\"endlinecolor\": \"#2a3f5f\", \"gridcolor\": \"white\", \"linecolor\": \"white\", \"minorgridcolor\": \"white\", \"startlinecolor\": \"#2a3f5f\"}, \"baxis\": {\"endlinecolor\": \"#2a3f5f\", \"gridcolor\": \"white\", \"linecolor\": \"white\", \"minorgridcolor\": \"white\", \"startlinecolor\": \"#2a3f5f\"}, \"type\": \"carpet\"}], \"choropleth\": [{\"colorbar\": {\"outlinewidth\": 0, \"ticks\": \"\"}, \"type\": \"choropleth\"}], \"contour\": [{\"colorbar\": {\"outlinewidth\": 0, \"ticks\": \"\"}, \"colorscale\": [[0.0, \"#0d0887\"], [0.1111111111111111, \"#46039f\"], [0.2222222222222222, \"#7201a8\"], [0.3333333333333333, \"#9c179e\"], [0.4444444444444444, \"#bd3786\"], [0.5555555555555556, \"#d8576b\"], [0.6666666666666666, \"#ed7953\"], [0.7777777777777778, \"#fb9f3a\"], [0.8888888888888888, \"#fdca26\"], [1.0, \"#f0f921\"]], \"type\": \"contour\"}], \"contourcarpet\": [{\"colorbar\": {\"outlinewidth\": 0, \"ticks\": \"\"}, \"type\": \"contourcarpet\"}], \"heatmap\": [{\"colorbar\": {\"outlinewidth\": 0, \"ticks\": \"\"}, \"colorscale\": [[0.0, \"#0d0887\"], [0.1111111111111111, \"#46039f\"], [0.2222222222222222, \"#7201a8\"], [0.3333333333333333, \"#9c179e\"], [0.4444444444444444, \"#bd3786\"], [0.5555555555555556, \"#d8576b\"], [0.6666666666666666, \"#ed7953\"], [0.7777777777777778, \"#fb9f3a\"], [0.8888888888888888, \"#fdca26\"], [1.0, \"#f0f921\"]], \"type\": \"heatmap\"}], \"heatmapgl\": [{\"colorbar\": {\"outlinewidth\": 0, \"ticks\": \"\"}, \"colorscale\": [[0.0, \"#0d0887\"], [0.1111111111111111, \"#46039f\"], [0.2222222222222222, \"#7201a8\"], [0.3333333333333333, \"#9c179e\"], [0.4444444444444444, \"#bd3786\"], [0.5555555555555556, \"#d8576b\"], [0.6666666666666666, \"#ed7953\"], [0.7777777777777778, \"#fb9f3a\"], [0.8888888888888888, \"#fdca26\"], [1.0, \"#f0f921\"]], \"type\": \"heatmapgl\"}], \"histogram\": [{\"marker\": {\"colorbar\": {\"outlinewidth\": 0, \"ticks\": \"\"}}, \"type\": \"histogram\"}], \"histogram2d\": [{\"colorbar\": {\"outlinewidth\": 0, \"ticks\": \"\"}, \"colorscale\": [[0.0, \"#0d0887\"], [0.1111111111111111, \"#46039f\"], [0.2222222222222222, \"#7201a8\"], [0.3333333333333333, \"#9c179e\"], [0.4444444444444444, \"#bd3786\"], [0.5555555555555556, \"#d8576b\"], [0.6666666666666666, \"#ed7953\"], [0.7777777777777778, \"#fb9f3a\"], [0.8888888888888888, \"#fdca26\"], [1.0, \"#f0f921\"]], \"type\": \"histogram2d\"}], \"histogram2dcontour\": [{\"colorbar\": {\"outlinewidth\": 0, \"ticks\": \"\"}, \"colorscale\": [[0.0, \"#0d0887\"], [0.1111111111111111, \"#46039f\"], [0.2222222222222222, \"#7201a8\"], [0.3333333333333333, \"#9c179e\"], [0.4444444444444444, \"#bd3786\"], [0.5555555555555556, \"#d8576b\"], [0.6666666666666666, \"#ed7953\"], [0.7777777777777778, \"#fb9f3a\"], [0.8888888888888888, \"#fdca26\"], [1.0, \"#f0f921\"]], \"type\": \"histogram2dcontour\"}], \"mesh3d\": [{\"colorbar\": {\"outlinewidth\": 0, \"ticks\": \"\"}, \"type\": \"mesh3d\"}], \"parcoords\": [{\"line\": {\"colorbar\": {\"outlinewidth\": 0, \"ticks\": \"\"}}, \"type\": \"parcoords\"}], \"pie\": [{\"automargin\": true, \"type\": \"pie\"}], \"scatter\": [{\"marker\": {\"colorbar\": {\"outlinewidth\": 0, \"ticks\": \"\"}}, \"type\": \"scatter\"}], \"scatter3d\": [{\"line\": {\"colorbar\": {\"outlinewidth\": 0, \"ticks\": \"\"}}, \"marker\": {\"colorbar\": {\"outlinewidth\": 0, \"ticks\": \"\"}}, \"type\": \"scatter3d\"}], \"scattercarpet\": [{\"marker\": {\"colorbar\": {\"outlinewidth\": 0, \"ticks\": \"\"}}, \"type\": \"scattercarpet\"}], \"scattergeo\": [{\"marker\": {\"colorbar\": {\"outlinewidth\": 0, \"ticks\": \"\"}}, \"type\": \"scattergeo\"}], \"scattergl\": [{\"marker\": {\"colorbar\": {\"outlinewidth\": 0, \"ticks\": \"\"}}, \"type\": \"scattergl\"}], \"scattermapbox\": [{\"marker\": {\"colorbar\": {\"outlinewidth\": 0, \"ticks\": \"\"}}, \"type\": \"scattermapbox\"}], \"scatterpolar\": [{\"marker\": {\"colorbar\": {\"outlinewidth\": 0, \"ticks\": \"\"}}, \"type\": \"scatterpolar\"}], \"scatterpolargl\": [{\"marker\": {\"colorbar\": {\"outlinewidth\": 0, \"ticks\": \"\"}}, \"type\": \"scatterpolargl\"}], \"scatterternary\": [{\"marker\": {\"colorbar\": {\"outlinewidth\": 0, \"ticks\": \"\"}}, \"type\": \"scatterternary\"}], \"surface\": [{\"colorbar\": {\"outlinewidth\": 0, \"ticks\": \"\"}, \"colorscale\": [[0.0, \"#0d0887\"], [0.1111111111111111, \"#46039f\"], [0.2222222222222222, \"#7201a8\"], [0.3333333333333333, \"#9c179e\"], [0.4444444444444444, \"#bd3786\"], [0.5555555555555556, \"#d8576b\"], [0.6666666666666666, \"#ed7953\"], [0.7777777777777778, \"#fb9f3a\"], [0.8888888888888888, \"#fdca26\"], [1.0, \"#f0f921\"]], \"type\": \"surface\"}], \"table\": [{\"cells\": {\"fill\": {\"color\": \"#EBF0F8\"}, \"line\": {\"color\": \"white\"}}, \"header\": {\"fill\": {\"color\": \"#C8D4E3\"}, \"line\": {\"color\": \"white\"}}, \"type\": \"table\"}]}, \"layout\": {\"annotationdefaults\": {\"arrowcolor\": \"#2a3f5f\", \"arrowhead\": 0, \"arrowwidth\": 1}, \"coloraxis\": {\"colorbar\": {\"outlinewidth\": 0, \"ticks\": \"\"}}, \"colorscale\": {\"diverging\": [[0, \"#8e0152\"], [0.1, \"#c51b7d\"], [0.2, \"#de77ae\"], [0.3, \"#f1b6da\"], [0.4, \"#fde0ef\"], [0.5, \"#f7f7f7\"], [0.6, \"#e6f5d0\"], [0.7, \"#b8e186\"], [0.8, \"#7fbc41\"], [0.9, \"#4d9221\"], [1, \"#276419\"]], \"sequential\": [[0.0, \"#0d0887\"], [0.1111111111111111, \"#46039f\"], [0.2222222222222222, \"#7201a8\"], [0.3333333333333333, \"#9c179e\"], [0.4444444444444444, \"#bd3786\"], [0.5555555555555556, \"#d8576b\"], [0.6666666666666666, \"#ed7953\"], [0.7777777777777778, \"#fb9f3a\"], [0.8888888888888888, \"#fdca26\"], [1.0, \"#f0f921\"]], \"sequentialminus\": [[0.0, \"#0d0887\"], [0.1111111111111111, \"#46039f\"], [0.2222222222222222, \"#7201a8\"], [0.3333333333333333, \"#9c179e\"], [0.4444444444444444, \"#bd3786\"], [0.5555555555555556, \"#d8576b\"], [0.6666666666666666, \"#ed7953\"], [0.7777777777777778, \"#fb9f3a\"], [0.8888888888888888, \"#fdca26\"], [1.0, \"#f0f921\"]]}, \"colorway\": [\"#636efa\", \"#EF553B\", \"#00cc96\", \"#ab63fa\", \"#FFA15A\", \"#19d3f3\", \"#FF6692\", \"#B6E880\", \"#FF97FF\", \"#FECB52\"], \"font\": {\"color\": \"#2a3f5f\"}, \"geo\": {\"bgcolor\": \"white\", \"lakecolor\": \"white\", \"landcolor\": \"#E5ECF6\", \"showlakes\": true, \"showland\": true, \"subunitcolor\": \"white\"}, \"hoverlabel\": {\"align\": \"left\"}, \"hovermode\": \"closest\", \"mapbox\": {\"style\": \"light\"}, \"paper_bgcolor\": \"white\", \"plot_bgcolor\": \"#E5ECF6\", \"polar\": {\"angularaxis\": {\"gridcolor\": \"white\", \"linecolor\": \"white\", \"ticks\": \"\"}, \"bgcolor\": \"#E5ECF6\", \"radialaxis\": {\"gridcolor\": \"white\", \"linecolor\": \"white\", \"ticks\": \"\"}}, \"scene\": {\"xaxis\": {\"backgroundcolor\": \"#E5ECF6\", \"gridcolor\": \"white\", \"gridwidth\": 2, \"linecolor\": \"white\", \"showbackground\": true, \"ticks\": \"\", \"zerolinecolor\": \"white\"}, \"yaxis\": {\"backgroundcolor\": \"#E5ECF6\", \"gridcolor\": \"white\", \"gridwidth\": 2, \"linecolor\": \"white\", \"showbackground\": true, \"ticks\": \"\", \"zerolinecolor\": \"white\"}, \"zaxis\": {\"backgroundcolor\": \"#E5ECF6\", \"gridcolor\": \"white\", \"gridwidth\": 2, \"linecolor\": \"white\", \"showbackground\": true, \"ticks\": \"\", \"zerolinecolor\": \"white\"}}, \"shapedefaults\": {\"line\": {\"color\": \"#2a3f5f\"}}, \"ternary\": {\"aaxis\": {\"gridcolor\": \"white\", \"linecolor\": \"white\", \"ticks\": \"\"}, \"baxis\": {\"gridcolor\": \"white\", \"linecolor\": \"white\", \"ticks\": \"\"}, \"bgcolor\": \"#E5ECF6\", \"caxis\": {\"gridcolor\": \"white\", \"linecolor\": \"white\", \"ticks\": \"\"}}, \"title\": {\"x\": 0.05}, \"xaxis\": {\"automargin\": true, \"gridcolor\": \"white\", \"linecolor\": \"white\", \"ticks\": \"\", \"title\": {\"standoff\": 15}, \"zerolinecolor\": \"white\", \"zerolinewidth\": 2}, \"yaxis\": {\"automargin\": true, \"gridcolor\": \"white\", \"linecolor\": \"white\", \"ticks\": \"\", \"title\": {\"standoff\": 15}, \"zerolinecolor\": \"white\", \"zerolinewidth\": 2}}}, \"title\": {\"text\": \"\\u4fe1\\u606f\\u5206\\u6790\"}},\n                        {\"responsive\": true}\n                    ).then(function(){\n                            \nvar gd = document.getElementById('b2c5ee24-7a71-4f76-8e5e-35aa79f2e048');\nvar x = new MutationObserver(function (mutations, observer) {{\n        var display = window.getComputedStyle(gd).display;\n        if (!display || display === 'none') {{\n            console.log([gd, 'removed!']);\n            Plotly.purge(gd);\n            observer.disconnect();\n        }}\n}});\n\n// Listen for the removal of the full notebook cells\nvar notebookContainer = gd.closest('#notebook-container');\nif (notebookContainer) {{\n    x.observe(notebookContainer, {childList: true});\n}}\n\n// Listen for the clearing of the current output cell\nvar outputEl = gd.closest('.output');\nif (outputEl) {{\n    x.observe(outputEl, {childList: true});\n}}\n\n                        })\n                };\n                });\n            </script>\n        </div>"
     },
     "metadata": {}
    },
    {
     "output_type": "display_data",
     "data": {
      "application/vnd.plotly.v1+json": {
       "config": {
        "plotlyServerURL": "https://plot.ly"
       },
       "data": [
        {
         "line": {
          "color": "steelblue",
          "width": 0.7
         },
         "name": "IC",
         "opacity": 0.7,
         "type": "scatter",
         "x": [
          "2015-01-15T09:30:00",
          "2015-01-16T09:30:00",
          "2015-01-17T09:30:00",
          "2015-01-18T09:30:00",
          "2015-01-19T09:30:00",
          "2015-01-20T09:30:00",
          "2015-01-21T09:30:00",
          "2015-01-22T09:30:00",
          "2015-01-23T09:30:00",
          "2015-01-24T09:30:00",
          "2015-01-25T09:30:00",
          "2015-01-26T09:30:00",
          "2015-01-27T09:30:00",
          "2015-01-28T09:30:00",
          "2015-01-29T09:30:00",
          "2015-01-30T09:30:00",
          "2015-01-31T09:30:00",
          "2015-02-01T09:30:00",
          "2015-02-02T09:30:00",
          "2015-02-03T09:30:00",
          "2015-02-04T09:30:00",
          "2015-02-05T09:30:00",
          "2015-02-06T09:30:00",
          "2015-02-07T09:30:00",
          "2015-02-08T09:30:00",
          "2015-02-09T09:30:00",
          "2015-02-10T09:30:00",
          "2015-02-11T09:30:00",
          "2015-02-12T09:30:00",
          "2015-02-13T09:30:00"
         ],
         "y": [
          0,
          null,
          -0.4472135954999579,
          0.2581988897471611,
          -0.4472135954999579,
          0.8944271909999159,
          null,
          0,
          -0.4472135954999579,
          0.2581988897471611,
          null,
          0,
          -0.4472135954999579,
          0.2581988897471611,
          0.2581988897471611,
          0,
          -0.4472135954999579,
          0.2581988897471611,
          0,
          -0.7745966692414834,
          -0.4472135954999579,
          0,
          0.2581988897471611,
          0,
          0,
          -0.4472135954999579,
          0.8944271909999159,
          0.8944271909999159,
          0.2581988897471611,
          -0.4472135954999579
         ]
        },
        {
         "line": {
          "color": "forestgreen",
          "width": 2
         },
         "name": "一个月移动平均",
         "opacity": 0.8,
         "type": "scatter",
         "x": [],
         "y": []
        },
        {
         "line": {
          "color": "black",
          "dash": "dash",
          "width": 1
         },
         "name": "基准",
         "opacity": 0.8,
         "type": "scatter",
         "x": [
          "2015-01-15T09:30:00",
          "2015-02-13T09:30:00"
         ],
         "y": [
          0,
          0
         ]
        }
       ],
       "layout": {
        "annotations": [
         {
          "font": {
           "size": 16
          },
          "showarrow": false,
          "text": "IC",
          "textangle": -90,
          "x": 0,
          "xanchor": "right",
          "xref": "paper",
          "xshift": -40,
          "y": 0.5,
          "yanchor": "middle",
          "yref": "paper"
         },
         {
          "align": "center",
          "opacity": 0.8,
          "showarrow": false,
          "text": "均值 0.005 \n 标准差 0.441",
          "x": 0.05,
          "xref": "paper",
          "y": 0.95,
          "yref": "paper"
         }
        ],
        "template": {
         "data": {
          "bar": [
           {
            "error_x": {
             "color": "#2a3f5f"
            },
            "error_y": {
             "color": "#2a3f5f"
            },
            "marker": {
             "line": {
              "color": "#E5ECF6",
              "width": 0.5
             }
            },
            "type": "bar"
           }
          ],
          "barpolar": [
           {
            "marker": {
             "line": {
              "color": "#E5ECF6",
              "width": 0.5
             }
            },
            "type": "barpolar"
           }
          ],
          "carpet": [
           {
            "aaxis": {
             "endlinecolor": "#2a3f5f",
             "gridcolor": "white",
             "linecolor": "white",
             "minorgridcolor": "white",
             "startlinecolor": "#2a3f5f"
            },
            "baxis": {
             "endlinecolor": "#2a3f5f",
             "gridcolor": "white",
             "linecolor": "white",
             "minorgridcolor": "white",
             "startlinecolor": "#2a3f5f"
            },
            "type": "carpet"
           }
          ],
          "choropleth": [
           {
            "colorbar": {
             "outlinewidth": 0,
             "ticks": ""
            },
            "type": "choropleth"
           }
          ],
          "contour": [
           {
            "colorbar": {
             "outlinewidth": 0,
             "ticks": ""
            },
            "colorscale": [
             [
              0,
              "#0d0887"
             ],
             [
              0.1111111111111111,
              "#46039f"
             ],
             [
              0.2222222222222222,
              "#7201a8"
             ],
             [
              0.3333333333333333,
              "#9c179e"
             ],
             [
              0.4444444444444444,
              "#bd3786"
             ],
             [
              0.5555555555555556,
              "#d8576b"
             ],
             [
              0.6666666666666666,
              "#ed7953"
             ],
             [
              0.7777777777777778,
              "#fb9f3a"
             ],
             [
              0.8888888888888888,
              "#fdca26"
             ],
             [
              1,
              "#f0f921"
             ]
            ],
            "type": "contour"
           }
          ],
          "contourcarpet": [
           {
            "colorbar": {
             "outlinewidth": 0,
             "ticks": ""
            },
            "type": "contourcarpet"
           }
          ],
          "heatmap": [
           {
            "colorbar": {
             "outlinewidth": 0,
             "ticks": ""
            },
            "colorscale": [
             [
              0,
              "#0d0887"
             ],
             [
              0.1111111111111111,
              "#46039f"
             ],
             [
              0.2222222222222222,
              "#7201a8"
             ],
             [
              0.3333333333333333,
              "#9c179e"
             ],
             [
              0.4444444444444444,
              "#bd3786"
             ],
             [
              0.5555555555555556,
              "#d8576b"
             ],
             [
              0.6666666666666666,
              "#ed7953"
             ],
             [
              0.7777777777777778,
              "#fb9f3a"
             ],
             [
              0.8888888888888888,
              "#fdca26"
             ],
             [
              1,
              "#f0f921"
             ]
            ],
            "type": "heatmap"
           }
          ],
          "heatmapgl": [
           {
            "colorbar": {
             "outlinewidth": 0,
             "ticks": ""
            },
            "colorscale": [
             [
              0,
              "#0d0887"
             ],
             [
              0.1111111111111111,
              "#46039f"
             ],
             [
              0.2222222222222222,
              "#7201a8"
             ],
             [
              0.3333333333333333,
              "#9c179e"
             ],
             [
              0.4444444444444444,
              "#bd3786"
             ],
             [
              0.5555555555555556,
              "#d8576b"
             ],
             [
              0.6666666666666666,
              "#ed7953"
             ],
             [
              0.7777777777777778,
              "#fb9f3a"
             ],
             [
              0.8888888888888888,
              "#fdca26"
             ],
             [
              1,
              "#f0f921"
             ]
            ],
            "type": "heatmapgl"
           }
          ],
          "histogram": [
           {
            "marker": {
             "colorbar": {
              "outlinewidth": 0,
              "ticks": ""
             }
            },
            "type": "histogram"
           }
          ],
          "histogram2d": [
           {
            "colorbar": {
             "outlinewidth": 0,
             "ticks": ""
            },
            "colorscale": [
             [
              0,
              "#0d0887"
             ],
             [
              0.1111111111111111,
              "#46039f"
             ],
             [
              0.2222222222222222,
              "#7201a8"
             ],
             [
              0.3333333333333333,
              "#9c179e"
             ],
             [
              0.4444444444444444,
              "#bd3786"
             ],
             [
              0.5555555555555556,
              "#d8576b"
             ],
             [
              0.6666666666666666,
              "#ed7953"
             ],
             [
              0.7777777777777778,
              "#fb9f3a"
             ],
             [
              0.8888888888888888,
              "#fdca26"
             ],
             [
              1,
              "#f0f921"
             ]
            ],
            "type": "histogram2d"
           }
          ],
          "histogram2dcontour": [
           {
            "colorbar": {
             "outlinewidth": 0,
             "ticks": ""
            },
            "colorscale": [
             [
              0,
              "#0d0887"
             ],
             [
              0.1111111111111111,
              "#46039f"
             ],
             [
              0.2222222222222222,
              "#7201a8"
             ],
             [
              0.3333333333333333,
              "#9c179e"
             ],
             [
              0.4444444444444444,
              "#bd3786"
             ],
             [
              0.5555555555555556,
              "#d8576b"
             ],
             [
              0.6666666666666666,
              "#ed7953"
             ],
             [
              0.7777777777777778,
              "#fb9f3a"
             ],
             [
              0.8888888888888888,
              "#fdca26"
             ],
             [
              1,
              "#f0f921"
             ]
            ],
            "type": "histogram2dcontour"
           }
          ],
          "mesh3d": [
           {
            "colorbar": {
             "outlinewidth": 0,
             "ticks": ""
            },
            "type": "mesh3d"
           }
          ],
          "parcoords": [
           {
            "line": {
             "colorbar": {
              "outlinewidth": 0,
              "ticks": ""
             }
            },
            "type": "parcoords"
           }
          ],
          "pie": [
           {
            "automargin": true,
            "type": "pie"
           }
          ],
          "scatter": [
           {
            "marker": {
             "colorbar": {
              "outlinewidth": 0,
              "ticks": ""
             }
            },
            "type": "scatter"
           }
          ],
          "scatter3d": [
           {
            "line": {
             "colorbar": {
              "outlinewidth": 0,
              "ticks": ""
             }
            },
            "marker": {
             "colorbar": {
              "outlinewidth": 0,
              "ticks": ""
             }
            },
            "type": "scatter3d"
           }
          ],
          "scattercarpet": [
           {
            "marker": {
             "colorbar": {
              "outlinewidth": 0,
              "ticks": ""
             }
            },
            "type": "scattercarpet"
           }
          ],
          "scattergeo": [
           {
            "marker": {
             "colorbar": {
              "outlinewidth": 0,
              "ticks": ""
             }
            },
            "type": "scattergeo"
           }
          ],
          "scattergl": [
           {
            "marker": {
             "colorbar": {
              "outlinewidth": 0,
              "ticks": ""
             }
            },
            "type": "scattergl"
           }
          ],
          "scattermapbox": [
           {
            "marker": {
             "colorbar": {
              "outlinewidth": 0,
              "ticks": ""
             }
            },
            "type": "scattermapbox"
           }
          ],
          "scatterpolar": [
           {
            "marker": {
             "colorbar": {
              "outlinewidth": 0,
              "ticks": ""
             }
            },
            "type": "scatterpolar"
           }
          ],
          "scatterpolargl": [
           {
            "marker": {
             "colorbar": {
              "outlinewidth": 0,
              "ticks": ""
             }
            },
            "type": "scatterpolargl"
           }
          ],
          "scatterternary": [
           {
            "marker": {
             "colorbar": {
              "outlinewidth": 0,
              "ticks": ""
             }
            },
            "type": "scatterternary"
           }
          ],
          "surface": [
           {
            "colorbar": {
             "outlinewidth": 0,
             "ticks": ""
            },
            "colorscale": [
             [
              0,
              "#0d0887"
             ],
             [
              0.1111111111111111,
              "#46039f"
             ],
             [
              0.2222222222222222,
              "#7201a8"
             ],
             [
              0.3333333333333333,
              "#9c179e"
             ],
             [
              0.4444444444444444,
              "#bd3786"
             ],
             [
              0.5555555555555556,
              "#d8576b"
             ],
             [
              0.6666666666666666,
              "#ed7953"
             ],
             [
              0.7777777777777778,
              "#fb9f3a"
             ],
             [
              0.8888888888888888,
              "#fdca26"
             ],
             [
              1,
              "#f0f921"
             ]
            ],
            "type": "surface"
           }
          ],
          "table": [
           {
            "cells": {
             "fill": {
              "color": "#EBF0F8"
             },
             "line": {
              "color": "white"
             }
            },
            "header": {
             "fill": {
              "color": "#C8D4E3"
             },
             "line": {
              "color": "white"
             }
            },
            "type": "table"
           }
          ]
         },
         "layout": {
          "annotationdefaults": {
           "arrowcolor": "#2a3f5f",
           "arrowhead": 0,
           "arrowwidth": 1
          },
          "coloraxis": {
           "colorbar": {
            "outlinewidth": 0,
            "ticks": ""
           }
          },
          "colorscale": {
           "diverging": [
            [
             0,
             "#8e0152"
            ],
            [
             0.1,
             "#c51b7d"
            ],
            [
             0.2,
             "#de77ae"
            ],
            [
             0.3,
             "#f1b6da"
            ],
            [
             0.4,
             "#fde0ef"
            ],
            [
             0.5,
             "#f7f7f7"
            ],
            [
             0.6,
             "#e6f5d0"
            ],
            [
             0.7,
             "#b8e186"
            ],
            [
             0.8,
             "#7fbc41"
            ],
            [
             0.9,
             "#4d9221"
            ],
            [
             1,
             "#276419"
            ]
           ],
           "sequential": [
            [
             0,
             "#0d0887"
            ],
            [
             0.1111111111111111,
             "#46039f"
            ],
            [
             0.2222222222222222,
             "#7201a8"
            ],
            [
             0.3333333333333333,
             "#9c179e"
            ],
            [
             0.4444444444444444,
             "#bd3786"
            ],
            [
             0.5555555555555556,
             "#d8576b"
            ],
            [
             0.6666666666666666,
             "#ed7953"
            ],
            [
             0.7777777777777778,
             "#fb9f3a"
            ],
            [
             0.8888888888888888,
             "#fdca26"
            ],
            [
             1,
             "#f0f921"
            ]
           ],
           "sequentialminus": [
            [
             0,
             "#0d0887"
            ],
            [
             0.1111111111111111,
             "#46039f"
            ],
            [
             0.2222222222222222,
             "#7201a8"
            ],
            [
             0.3333333333333333,
             "#9c179e"
            ],
            [
             0.4444444444444444,
             "#bd3786"
            ],
            [
             0.5555555555555556,
             "#d8576b"
            ],
            [
             0.6666666666666666,
             "#ed7953"
            ],
            [
             0.7777777777777778,
             "#fb9f3a"
            ],
            [
             0.8888888888888888,
             "#fdca26"
            ],
            [
             1,
             "#f0f921"
            ]
           ]
          },
          "colorway": [
           "#636efa",
           "#EF553B",
           "#00cc96",
           "#ab63fa",
           "#FFA15A",
           "#19d3f3",
           "#FF6692",
           "#B6E880",
           "#FF97FF",
           "#FECB52"
          ],
          "font": {
           "color": "#2a3f5f"
          },
          "geo": {
           "bgcolor": "white",
           "lakecolor": "white",
           "landcolor": "#E5ECF6",
           "showlakes": true,
           "showland": true,
           "subunitcolor": "white"
          },
          "hoverlabel": {
           "align": "left"
          },
          "hovermode": "closest",
          "mapbox": {
           "style": "light"
          },
          "paper_bgcolor": "white",
          "plot_bgcolor": "#E5ECF6",
          "polar": {
           "angularaxis": {
            "gridcolor": "white",
            "linecolor": "white",
            "ticks": ""
           },
           "bgcolor": "#E5ECF6",
           "radialaxis": {
            "gridcolor": "white",
            "linecolor": "white",
            "ticks": ""
           }
          },
          "scene": {
           "xaxis": {
            "backgroundcolor": "#E5ECF6",
            "gridcolor": "white",
            "gridwidth": 2,
            "linecolor": "white",
            "showbackground": true,
            "ticks": "",
            "zerolinecolor": "white"
           },
           "yaxis": {
            "backgroundcolor": "#E5ECF6",
            "gridcolor": "white",
            "gridwidth": 2,
            "linecolor": "white",
            "showbackground": true,
            "ticks": "",
            "zerolinecolor": "white"
           },
           "zaxis": {
            "backgroundcolor": "#E5ECF6",
            "gridcolor": "white",
            "gridwidth": 2,
            "linecolor": "white",
            "showbackground": true,
            "ticks": "",
            "zerolinecolor": "white"
           }
          },
          "shapedefaults": {
           "line": {
            "color": "#2a3f5f"
           }
          },
          "ternary": {
           "aaxis": {
            "gridcolor": "white",
            "linecolor": "white",
            "ticks": ""
           },
           "baxis": {
            "gridcolor": "white",
            "linecolor": "white",
            "ticks": ""
           },
           "bgcolor": "#E5ECF6",
           "caxis": {
            "gridcolor": "white",
            "linecolor": "white",
            "ticks": ""
           }
          },
          "title": {
           "x": 0.05
          },
          "xaxis": {
           "automargin": true,
           "gridcolor": "white",
           "linecolor": "white",
           "ticks": "",
           "title": {
            "standoff": 15
           },
           "zerolinecolor": "white",
           "zerolinewidth": 2
          },
          "yaxis": {
           "automargin": true,
           "gridcolor": "white",
           "linecolor": "white",
           "ticks": "",
           "title": {
            "standoff": 15
           },
           "zerolinecolor": "white",
           "zerolinewidth": 2
          }
         }
        },
        "title": {
         "text": "1h 期间预测收益率信息系数(IC)"
        },
        "xaxis": {
         "anchor": "y",
         "domain": [
          0,
          1
         ],
         "tickformat": "%m月%d日<br>%Y年"
        },
        "yaxis": {
         "anchor": "x",
         "domain": [
          0,
          1
         ],
         "range": [
          null,
          null
         ]
        }
       }
      },
      "text/html": "<div>\n        \n        \n            <div id=\"54535d6f-ff4e-4887-8fc2-65886446d22e\" class=\"plotly-graph-div\" style=\"height:525px; width:100%;\"></div>\n            <script type=\"text/javascript\">\n                require([\"plotly\"], function(Plotly) {\n                    window.PLOTLYENV=window.PLOTLYENV || {};\n                    \n                if (document.getElementById(\"54535d6f-ff4e-4887-8fc2-65886446d22e\")) {\n                    Plotly.newPlot(\n                        '54535d6f-ff4e-4887-8fc2-65886446d22e',\n                        [{\"line\": {\"color\": \"steelblue\", \"width\": 0.7}, \"name\": \"IC\", \"opacity\": 0.7, \"type\": \"scatter\", \"x\": [\"2015-01-15T09:30:00\", \"2015-01-16T09:30:00\", \"2015-01-17T09:30:00\", \"2015-01-18T09:30:00\", \"2015-01-19T09:30:00\", \"2015-01-20T09:30:00\", \"2015-01-21T09:30:00\", \"2015-01-22T09:30:00\", \"2015-01-23T09:30:00\", \"2015-01-24T09:30:00\", \"2015-01-25T09:30:00\", \"2015-01-26T09:30:00\", \"2015-01-27T09:30:00\", \"2015-01-28T09:30:00\", \"2015-01-29T09:30:00\", \"2015-01-30T09:30:00\", \"2015-01-31T09:30:00\", \"2015-02-01T09:30:00\", \"2015-02-02T09:30:00\", \"2015-02-03T09:30:00\", \"2015-02-04T09:30:00\", \"2015-02-05T09:30:00\", \"2015-02-06T09:30:00\", \"2015-02-07T09:30:00\", \"2015-02-08T09:30:00\", \"2015-02-09T09:30:00\", \"2015-02-10T09:30:00\", \"2015-02-11T09:30:00\", \"2015-02-12T09:30:00\", \"2015-02-13T09:30:00\"], \"y\": [0.0, null, -0.4472135954999579, 0.2581988897471611, -0.4472135954999579, 0.8944271909999159, null, 0.0, -0.4472135954999579, 0.2581988897471611, null, 0.0, -0.4472135954999579, 0.2581988897471611, 0.2581988897471611, 0.0, -0.4472135954999579, 0.2581988897471611, 0.0, -0.7745966692414834, -0.4472135954999579, 0.0, 0.2581988897471611, 0.0, 0.0, -0.4472135954999579, 0.8944271909999159, 0.8944271909999159, 0.2581988897471611, -0.4472135954999579]}, {\"line\": {\"color\": \"forestgreen\", \"width\": 2}, \"name\": \"\\u4e00\\u4e2a\\u6708\\u79fb\\u52a8\\u5e73\\u5747\", \"opacity\": 0.8, \"type\": \"scatter\", \"x\": [], \"y\": []}, {\"line\": {\"color\": \"black\", \"dash\": \"dash\", \"width\": 1}, \"name\": \"\\u57fa\\u51c6\", \"opacity\": 0.8, \"type\": \"scatter\", \"x\": [\"2015-01-15T09:30:00\", \"2015-02-13T09:30:00\"], \"y\": [0.0, 0.0]}],\n                        {\"annotations\": [{\"font\": {\"size\": 16}, \"showarrow\": false, \"text\": \"IC\", \"textangle\": -90, \"x\": 0, \"xanchor\": \"right\", \"xref\": \"paper\", \"xshift\": -40, \"y\": 0.5, \"yanchor\": \"middle\", \"yref\": \"paper\"}, {\"align\": \"center\", \"opacity\": 0.8, \"showarrow\": false, \"text\": \"\\u5747\\u503c 0.005 \\n \\u6807\\u51c6\\u5dee 0.441\", \"x\": 0.05, \"xref\": \"paper\", \"y\": 0.95, \"yref\": \"paper\"}], \"template\": {\"data\": {\"bar\": [{\"error_x\": {\"color\": \"#2a3f5f\"}, \"error_y\": {\"color\": \"#2a3f5f\"}, \"marker\": {\"line\": {\"color\": \"#E5ECF6\", \"width\": 0.5}}, \"type\": \"bar\"}], \"barpolar\": [{\"marker\": {\"line\": {\"color\": \"#E5ECF6\", \"width\": 0.5}}, \"type\": \"barpolar\"}], \"carpet\": [{\"aaxis\": {\"endlinecolor\": \"#2a3f5f\", \"gridcolor\": \"white\", \"linecolor\": \"white\", \"minorgridcolor\": \"white\", \"startlinecolor\": \"#2a3f5f\"}, \"baxis\": {\"endlinecolor\": \"#2a3f5f\", \"gridcolor\": \"white\", \"linecolor\": \"white\", \"minorgridcolor\": \"white\", \"startlinecolor\": \"#2a3f5f\"}, \"type\": \"carpet\"}], \"choropleth\": [{\"colorbar\": {\"outlinewidth\": 0, \"ticks\": \"\"}, \"type\": \"choropleth\"}], \"contour\": [{\"colorbar\": {\"outlinewidth\": 0, \"ticks\": \"\"}, \"colorscale\": [[0.0, \"#0d0887\"], [0.1111111111111111, \"#46039f\"], [0.2222222222222222, \"#7201a8\"], [0.3333333333333333, \"#9c179e\"], [0.4444444444444444, \"#bd3786\"], [0.5555555555555556, \"#d8576b\"], [0.6666666666666666, \"#ed7953\"], [0.7777777777777778, \"#fb9f3a\"], [0.8888888888888888, \"#fdca26\"], [1.0, \"#f0f921\"]], \"type\": \"contour\"}], \"contourcarpet\": [{\"colorbar\": {\"outlinewidth\": 0, \"ticks\": \"\"}, \"type\": \"contourcarpet\"}], \"heatmap\": [{\"colorbar\": {\"outlinewidth\": 0, \"ticks\": \"\"}, \"colorscale\": [[0.0, \"#0d0887\"], [0.1111111111111111, \"#46039f\"], [0.2222222222222222, \"#7201a8\"], [0.3333333333333333, \"#9c179e\"], [0.4444444444444444, \"#bd3786\"], [0.5555555555555556, \"#d8576b\"], [0.6666666666666666, \"#ed7953\"], [0.7777777777777778, \"#fb9f3a\"], [0.8888888888888888, \"#fdca26\"], [1.0, \"#f0f921\"]], \"type\": \"heatmap\"}], \"heatmapgl\": [{\"colorbar\": {\"outlinewidth\": 0, \"ticks\": \"\"}, \"colorscale\": [[0.0, \"#0d0887\"], [0.1111111111111111, \"#46039f\"], [0.2222222222222222, \"#7201a8\"], [0.3333333333333333, \"#9c179e\"], [0.4444444444444444, \"#bd3786\"], [0.5555555555555556, \"#d8576b\"], [0.6666666666666666, \"#ed7953\"], [0.7777777777777778, \"#fb9f3a\"], [0.8888888888888888, \"#fdca26\"], [1.0, \"#f0f921\"]], \"type\": \"heatmapgl\"}], \"histogram\": [{\"marker\": {\"colorbar\": {\"outlinewidth\": 0, \"ticks\": \"\"}}, \"type\": \"histogram\"}], \"histogram2d\": [{\"colorbar\": {\"outlinewidth\": 0, \"ticks\": \"\"}, \"colorscale\": [[0.0, \"#0d0887\"], [0.1111111111111111, \"#46039f\"], [0.2222222222222222, \"#7201a8\"], [0.3333333333333333, \"#9c179e\"], [0.4444444444444444, \"#bd3786\"], [0.5555555555555556, \"#d8576b\"], [0.6666666666666666, \"#ed7953\"], [0.7777777777777778, \"#fb9f3a\"], [0.8888888888888888, \"#fdca26\"], [1.0, \"#f0f921\"]], \"type\": \"histogram2d\"}], \"histogram2dcontour\": [{\"colorbar\": {\"outlinewidth\": 0, \"ticks\": \"\"}, \"colorscale\": [[0.0, \"#0d0887\"], [0.1111111111111111, \"#46039f\"], [0.2222222222222222, \"#7201a8\"], [0.3333333333333333, \"#9c179e\"], [0.4444444444444444, \"#bd3786\"], [0.5555555555555556, \"#d8576b\"], [0.6666666666666666, \"#ed7953\"], [0.7777777777777778, \"#fb9f3a\"], [0.8888888888888888, \"#fdca26\"], [1.0, \"#f0f921\"]], \"type\": \"histogram2dcontour\"}], \"mesh3d\": [{\"colorbar\": {\"outlinewidth\": 0, \"ticks\": \"\"}, \"type\": \"mesh3d\"}], \"parcoords\": [{\"line\": {\"colorbar\": {\"outlinewidth\": 0, \"ticks\": \"\"}}, \"type\": \"parcoords\"}], \"pie\": [{\"automargin\": true, \"type\": \"pie\"}], \"scatter\": [{\"marker\": {\"colorbar\": {\"outlinewidth\": 0, \"ticks\": \"\"}}, \"type\": \"scatter\"}], \"scatter3d\": [{\"line\": {\"colorbar\": {\"outlinewidth\": 0, \"ticks\": \"\"}}, \"marker\": {\"colorbar\": {\"outlinewidth\": 0, \"ticks\": \"\"}}, \"type\": \"scatter3d\"}], \"scattercarpet\": [{\"marker\": {\"colorbar\": {\"outlinewidth\": 0, \"ticks\": \"\"}}, \"type\": \"scattercarpet\"}], \"scattergeo\": [{\"marker\": {\"colorbar\": {\"outlinewidth\": 0, \"ticks\": \"\"}}, \"type\": \"scattergeo\"}], \"scattergl\": [{\"marker\": {\"colorbar\": {\"outlinewidth\": 0, \"ticks\": \"\"}}, \"type\": \"scattergl\"}], \"scattermapbox\": [{\"marker\": {\"colorbar\": {\"outlinewidth\": 0, \"ticks\": \"\"}}, \"type\": \"scattermapbox\"}], \"scatterpolar\": [{\"marker\": {\"colorbar\": {\"outlinewidth\": 0, \"ticks\": \"\"}}, \"type\": \"scatterpolar\"}], \"scatterpolargl\": [{\"marker\": {\"colorbar\": {\"outlinewidth\": 0, \"ticks\": \"\"}}, \"type\": \"scatterpolargl\"}], \"scatterternary\": [{\"marker\": {\"colorbar\": {\"outlinewidth\": 0, \"ticks\": \"\"}}, \"type\": \"scatterternary\"}], \"surface\": [{\"colorbar\": {\"outlinewidth\": 0, \"ticks\": \"\"}, \"colorscale\": [[0.0, \"#0d0887\"], [0.1111111111111111, \"#46039f\"], [0.2222222222222222, \"#7201a8\"], [0.3333333333333333, \"#9c179e\"], [0.4444444444444444, \"#bd3786\"], [0.5555555555555556, \"#d8576b\"], [0.6666666666666666, \"#ed7953\"], [0.7777777777777778, \"#fb9f3a\"], [0.8888888888888888, \"#fdca26\"], [1.0, \"#f0f921\"]], \"type\": \"surface\"}], \"table\": [{\"cells\": {\"fill\": {\"color\": \"#EBF0F8\"}, \"line\": {\"color\": \"white\"}}, \"header\": {\"fill\": {\"color\": \"#C8D4E3\"}, \"line\": {\"color\": \"white\"}}, \"type\": \"table\"}]}, \"layout\": {\"annotationdefaults\": {\"arrowcolor\": \"#2a3f5f\", \"arrowhead\": 0, \"arrowwidth\": 1}, \"coloraxis\": {\"colorbar\": {\"outlinewidth\": 0, \"ticks\": \"\"}}, \"colorscale\": {\"diverging\": [[0, \"#8e0152\"], [0.1, \"#c51b7d\"], [0.2, \"#de77ae\"], [0.3, \"#f1b6da\"], [0.4, \"#fde0ef\"], [0.5, \"#f7f7f7\"], [0.6, \"#e6f5d0\"], [0.7, \"#b8e186\"], [0.8, \"#7fbc41\"], [0.9, \"#4d9221\"], [1, \"#276419\"]], \"sequential\": [[0.0, \"#0d0887\"], [0.1111111111111111, \"#46039f\"], [0.2222222222222222, \"#7201a8\"], [0.3333333333333333, \"#9c179e\"], [0.4444444444444444, \"#bd3786\"], [0.5555555555555556, \"#d8576b\"], [0.6666666666666666, \"#ed7953\"], [0.7777777777777778, \"#fb9f3a\"], [0.8888888888888888, \"#fdca26\"], [1.0, \"#f0f921\"]], \"sequentialminus\": [[0.0, \"#0d0887\"], [0.1111111111111111, \"#46039f\"], [0.2222222222222222, \"#7201a8\"], [0.3333333333333333, \"#9c179e\"], [0.4444444444444444, \"#bd3786\"], [0.5555555555555556, \"#d8576b\"], [0.6666666666666666, \"#ed7953\"], [0.7777777777777778, \"#fb9f3a\"], [0.8888888888888888, \"#fdca26\"], [1.0, \"#f0f921\"]]}, \"colorway\": [\"#636efa\", \"#EF553B\", \"#00cc96\", \"#ab63fa\", \"#FFA15A\", \"#19d3f3\", \"#FF6692\", \"#B6E880\", \"#FF97FF\", \"#FECB52\"], \"font\": {\"color\": \"#2a3f5f\"}, \"geo\": {\"bgcolor\": \"white\", \"lakecolor\": \"white\", \"landcolor\": \"#E5ECF6\", \"showlakes\": true, \"showland\": true, \"subunitcolor\": \"white\"}, \"hoverlabel\": {\"align\": \"left\"}, \"hovermode\": \"closest\", \"mapbox\": {\"style\": \"light\"}, \"paper_bgcolor\": \"white\", \"plot_bgcolor\": \"#E5ECF6\", \"polar\": {\"angularaxis\": {\"gridcolor\": \"white\", \"linecolor\": \"white\", \"ticks\": \"\"}, \"bgcolor\": \"#E5ECF6\", \"radialaxis\": {\"gridcolor\": \"white\", \"linecolor\": \"white\", \"ticks\": \"\"}}, \"scene\": {\"xaxis\": {\"backgroundcolor\": \"#E5ECF6\", \"gridcolor\": \"white\", \"gridwidth\": 2, \"linecolor\": \"white\", \"showbackground\": true, \"ticks\": \"\", \"zerolinecolor\": \"white\"}, \"yaxis\": {\"backgroundcolor\": \"#E5ECF6\", \"gridcolor\": \"white\", \"gridwidth\": 2, \"linecolor\": \"white\", \"showbackground\": true, \"ticks\": \"\", \"zerolinecolor\": \"white\"}, \"zaxis\": {\"backgroundcolor\": \"#E5ECF6\", \"gridcolor\": \"white\", \"gridwidth\": 2, \"linecolor\": \"white\", \"showbackground\": true, \"ticks\": \"\", \"zerolinecolor\": \"white\"}}, \"shapedefaults\": {\"line\": {\"color\": \"#2a3f5f\"}}, \"ternary\": {\"aaxis\": {\"gridcolor\": \"white\", \"linecolor\": \"white\", \"ticks\": \"\"}, \"baxis\": {\"gridcolor\": \"white\", \"linecolor\": \"white\", \"ticks\": \"\"}, \"bgcolor\": \"#E5ECF6\", \"caxis\": {\"gridcolor\": \"white\", \"linecolor\": \"white\", \"ticks\": \"\"}}, \"title\": {\"x\": 0.05}, \"xaxis\": {\"automargin\": true, \"gridcolor\": \"white\", \"linecolor\": \"white\", \"ticks\": \"\", \"title\": {\"standoff\": 15}, \"zerolinecolor\": \"white\", \"zerolinewidth\": 2}, \"yaxis\": {\"automargin\": true, \"gridcolor\": \"white\", \"linecolor\": \"white\", \"ticks\": \"\", \"title\": {\"standoff\": 15}, \"zerolinecolor\": \"white\", \"zerolinewidth\": 2}}}, \"title\": {\"text\": \"1h \\u671f\\u95f4\\u9884\\u6d4b\\u6536\\u76ca\\u7387\\u4fe1\\u606f\\u7cfb\\u6570(IC)\"}, \"xaxis\": {\"anchor\": \"y\", \"domain\": [0.0, 1.0], \"tickformat\": \"%m\\u6708%d\\u65e5<br>%Y\\u5e74\"}, \"yaxis\": {\"anchor\": \"x\", \"domain\": [0.0, 1.0], \"range\": [null, null]}},\n                        {\"responsive\": true}\n                    ).then(function(){\n                            \nvar gd = document.getElementById('54535d6f-ff4e-4887-8fc2-65886446d22e');\nvar x = new MutationObserver(function (mutations, observer) {{\n        var display = window.getComputedStyle(gd).display;\n        if (!display || display === 'none') {{\n            console.log([gd, 'removed!']);\n            Plotly.purge(gd);\n            observer.disconnect();\n        }}\n}});\n\n// Listen for the removal of the full notebook cells\nvar notebookContainer = gd.closest('#notebook-container');\nif (notebookContainer) {{\n    x.observe(notebookContainer, {childList: true});\n}}\n\n// Listen for the clearing of the current output cell\nvar outputEl = gd.closest('.output');\nif (outputEl) {{\n    x.observe(outputEl, {childList: true});\n}}\n\n                        })\n                };\n                });\n            </script>\n        </div>"
     },
     "metadata": {}
    },
    {
     "output_type": "display_data",
     "data": {
      "application/vnd.plotly.v1+json": {
       "config": {
        "plotlyServerURL": "https://plot.ly"
       },
       "data": [
        {
         "line": {
          "color": "steelblue",
          "width": 0.7
         },
         "name": "IC",
         "opacity": 0.7,
         "type": "scatter",
         "x": [
          "2015-01-15T09:30:00",
          "2015-01-16T09:30:00",
          "2015-01-17T09:30:00",
          "2015-01-18T09:30:00",
          "2015-01-19T09:30:00",
          "2015-01-20T09:30:00",
          "2015-01-21T09:30:00",
          "2015-01-22T09:30:00",
          "2015-01-23T09:30:00",
          "2015-01-24T09:30:00",
          "2015-01-25T09:30:00",
          "2015-01-26T09:30:00",
          "2015-01-27T09:30:00",
          "2015-01-28T09:30:00",
          "2015-01-29T09:30:00",
          "2015-01-30T09:30:00",
          "2015-01-31T09:30:00",
          "2015-02-01T09:30:00",
          "2015-02-02T09:30:00",
          "2015-02-03T09:30:00",
          "2015-02-04T09:30:00",
          "2015-02-05T09:30:00",
          "2015-02-06T09:30:00",
          "2015-02-07T09:30:00",
          "2015-02-08T09:30:00",
          "2015-02-09T09:30:00",
          "2015-02-10T09:30:00",
          "2015-02-11T09:30:00",
          "2015-02-12T09:30:00",
          "2015-02-13T09:30:00"
         ],
         "y": [
          0.7745966692414834,
          0.2581988897471611,
          null,
          0.2581988897471611,
          null,
          -0.2581988897471611,
          -0.2581988897471611,
          -0.2581988897471611,
          null,
          -0.7745966692414834,
          -0.2581988897471611,
          0.2581988897471611,
          -0.316227766016838,
          -0.7745966692414834,
          -0.2581988897471611,
          null,
          0.8944271909999159,
          0.2581988897471611,
          0.2581988897471611,
          null,
          0.2581988897471611,
          -0.8944271909999159,
          -0.7745966692414834,
          0.2581988897471611,
          null,
          -0.316227766016838,
          -0.7745966692414834,
          0.2581988897471611,
          -0.316227766016838,
          null
         ]
        },
        {
         "line": {
          "color": "forestgreen",
          "width": 2
         },
         "name": "一个月移动平均",
         "opacity": 0.8,
         "type": "scatter",
         "x": [],
         "y": []
        },
        {
         "line": {
          "color": "black",
          "dash": "dash",
          "width": 1
         },
         "name": "基准",
         "opacity": 0.8,
         "type": "scatter",
         "x": [
          "2015-01-15T09:30:00",
          "2015-02-13T09:30:00"
         ],
         "y": [
          0,
          0
         ]
        }
       ],
       "layout": {
        "annotations": [
         {
          "font": {
           "size": 16
          },
          "showarrow": false,
          "text": "IC",
          "textangle": -90,
          "x": 0,
          "xanchor": "right",
          "xref": "paper",
          "xshift": -40,
          "y": 0.5,
          "yanchor": "middle",
          "yref": "paper"
         },
         {
          "align": "center",
          "opacity": 0.8,
          "showarrow": false,
          "text": "均值 -0.109 \n 标准差 0.500",
          "x": 0.05,
          "xref": "paper",
          "y": 0.95,
          "yref": "paper"
         }
        ],
        "template": {
         "data": {
          "bar": [
           {
            "error_x": {
             "color": "#2a3f5f"
            },
            "error_y": {
             "color": "#2a3f5f"
            },
            "marker": {
             "line": {
              "color": "#E5ECF6",
              "width": 0.5
             }
            },
            "type": "bar"
           }
          ],
          "barpolar": [
           {
            "marker": {
             "line": {
              "color": "#E5ECF6",
              "width": 0.5
             }
            },
            "type": "barpolar"
           }
          ],
          "carpet": [
           {
            "aaxis": {
             "endlinecolor": "#2a3f5f",
             "gridcolor": "white",
             "linecolor": "white",
             "minorgridcolor": "white",
             "startlinecolor": "#2a3f5f"
            },
            "baxis": {
             "endlinecolor": "#2a3f5f",
             "gridcolor": "white",
             "linecolor": "white",
             "minorgridcolor": "white",
             "startlinecolor": "#2a3f5f"
            },
            "type": "carpet"
           }
          ],
          "choropleth": [
           {
            "colorbar": {
             "outlinewidth": 0,
             "ticks": ""
            },
            "type": "choropleth"
           }
          ],
          "contour": [
           {
            "colorbar": {
             "outlinewidth": 0,
             "ticks": ""
            },
            "colorscale": [
             [
              0,
              "#0d0887"
             ],
             [
              0.1111111111111111,
              "#46039f"
             ],
             [
              0.2222222222222222,
              "#7201a8"
             ],
             [
              0.3333333333333333,
              "#9c179e"
             ],
             [
              0.4444444444444444,
              "#bd3786"
             ],
             [
              0.5555555555555556,
              "#d8576b"
             ],
             [
              0.6666666666666666,
              "#ed7953"
             ],
             [
              0.7777777777777778,
              "#fb9f3a"
             ],
             [
              0.8888888888888888,
              "#fdca26"
             ],
             [
              1,
              "#f0f921"
             ]
            ],
            "type": "contour"
           }
          ],
          "contourcarpet": [
           {
            "colorbar": {
             "outlinewidth": 0,
             "ticks": ""
            },
            "type": "contourcarpet"
           }
          ],
          "heatmap": [
           {
            "colorbar": {
             "outlinewidth": 0,
             "ticks": ""
            },
            "colorscale": [
             [
              0,
              "#0d0887"
             ],
             [
              0.1111111111111111,
              "#46039f"
             ],
             [
              0.2222222222222222,
              "#7201a8"
             ],
             [
              0.3333333333333333,
              "#9c179e"
             ],
             [
              0.4444444444444444,
              "#bd3786"
             ],
             [
              0.5555555555555556,
              "#d8576b"
             ],
             [
              0.6666666666666666,
              "#ed7953"
             ],
             [
              0.7777777777777778,
              "#fb9f3a"
             ],
             [
              0.8888888888888888,
              "#fdca26"
             ],
             [
              1,
              "#f0f921"
             ]
            ],
            "type": "heatmap"
           }
          ],
          "heatmapgl": [
           {
            "colorbar": {
             "outlinewidth": 0,
             "ticks": ""
            },
            "colorscale": [
             [
              0,
              "#0d0887"
             ],
             [
              0.1111111111111111,
              "#46039f"
             ],
             [
              0.2222222222222222,
              "#7201a8"
             ],
             [
              0.3333333333333333,
              "#9c179e"
             ],
             [
              0.4444444444444444,
              "#bd3786"
             ],
             [
              0.5555555555555556,
              "#d8576b"
             ],
             [
              0.6666666666666666,
              "#ed7953"
             ],
             [
              0.7777777777777778,
              "#fb9f3a"
             ],
             [
              0.8888888888888888,
              "#fdca26"
             ],
             [
              1,
              "#f0f921"
             ]
            ],
            "type": "heatmapgl"
           }
          ],
          "histogram": [
           {
            "marker": {
             "colorbar": {
              "outlinewidth": 0,
              "ticks": ""
             }
            },
            "type": "histogram"
           }
          ],
          "histogram2d": [
           {
            "colorbar": {
             "outlinewidth": 0,
             "ticks": ""
            },
            "colorscale": [
             [
              0,
              "#0d0887"
             ],
             [
              0.1111111111111111,
              "#46039f"
             ],
             [
              0.2222222222222222,
              "#7201a8"
             ],
             [
              0.3333333333333333,
              "#9c179e"
             ],
             [
              0.4444444444444444,
              "#bd3786"
             ],
             [
              0.5555555555555556,
              "#d8576b"
             ],
             [
              0.6666666666666666,
              "#ed7953"
             ],
             [
              0.7777777777777778,
              "#fb9f3a"
             ],
             [
              0.8888888888888888,
              "#fdca26"
             ],
             [
              1,
              "#f0f921"
             ]
            ],
            "type": "histogram2d"
           }
          ],
          "histogram2dcontour": [
           {
            "colorbar": {
             "outlinewidth": 0,
             "ticks": ""
            },
            "colorscale": [
             [
              0,
              "#0d0887"
             ],
             [
              0.1111111111111111,
              "#46039f"
             ],
             [
              0.2222222222222222,
              "#7201a8"
             ],
             [
              0.3333333333333333,
              "#9c179e"
             ],
             [
              0.4444444444444444,
              "#bd3786"
             ],
             [
              0.5555555555555556,
              "#d8576b"
             ],
             [
              0.6666666666666666,
              "#ed7953"
             ],
             [
              0.7777777777777778,
              "#fb9f3a"
             ],
             [
              0.8888888888888888,
              "#fdca26"
             ],
             [
              1,
              "#f0f921"
             ]
            ],
            "type": "histogram2dcontour"
           }
          ],
          "mesh3d": [
           {
            "colorbar": {
             "outlinewidth": 0,
             "ticks": ""
            },
            "type": "mesh3d"
           }
          ],
          "parcoords": [
           {
            "line": {
             "colorbar": {
              "outlinewidth": 0,
              "ticks": ""
             }
            },
            "type": "parcoords"
           }
          ],
          "pie": [
           {
            "automargin": true,
            "type": "pie"
           }
          ],
          "scatter": [
           {
            "marker": {
             "colorbar": {
              "outlinewidth": 0,
              "ticks": ""
             }
            },
            "type": "scatter"
           }
          ],
          "scatter3d": [
           {
            "line": {
             "colorbar": {
              "outlinewidth": 0,
              "ticks": ""
             }
            },
            "marker": {
             "colorbar": {
              "outlinewidth": 0,
              "ticks": ""
             }
            },
            "type": "scatter3d"
           }
          ],
          "scattercarpet": [
           {
            "marker": {
             "colorbar": {
              "outlinewidth": 0,
              "ticks": ""
             }
            },
            "type": "scattercarpet"
           }
          ],
          "scattergeo": [
           {
            "marker": {
             "colorbar": {
              "outlinewidth": 0,
              "ticks": ""
             }
            },
            "type": "scattergeo"
           }
          ],
          "scattergl": [
           {
            "marker": {
             "colorbar": {
              "outlinewidth": 0,
              "ticks": ""
             }
            },
            "type": "scattergl"
           }
          ],
          "scattermapbox": [
           {
            "marker": {
             "colorbar": {
              "outlinewidth": 0,
              "ticks": ""
             }
            },
            "type": "scattermapbox"
           }
          ],
          "scatterpolar": [
           {
            "marker": {
             "colorbar": {
              "outlinewidth": 0,
              "ticks": ""
             }
            },
            "type": "scatterpolar"
           }
          ],
          "scatterpolargl": [
           {
            "marker": {
             "colorbar": {
              "outlinewidth": 0,
              "ticks": ""
             }
            },
            "type": "scatterpolargl"
           }
          ],
          "scatterternary": [
           {
            "marker": {
             "colorbar": {
              "outlinewidth": 0,
              "ticks": ""
             }
            },
            "type": "scatterternary"
           }
          ],
          "surface": [
           {
            "colorbar": {
             "outlinewidth": 0,
             "ticks": ""
            },
            "colorscale": [
             [
              0,
              "#0d0887"
             ],
             [
              0.1111111111111111,
              "#46039f"
             ],
             [
              0.2222222222222222,
              "#7201a8"
             ],
             [
              0.3333333333333333,
              "#9c179e"
             ],
             [
              0.4444444444444444,
              "#bd3786"
             ],
             [
              0.5555555555555556,
              "#d8576b"
             ],
             [
              0.6666666666666666,
              "#ed7953"
             ],
             [
              0.7777777777777778,
              "#fb9f3a"
             ],
             [
              0.8888888888888888,
              "#fdca26"
             ],
             [
              1,
              "#f0f921"
             ]
            ],
            "type": "surface"
           }
          ],
          "table": [
           {
            "cells": {
             "fill": {
              "color": "#EBF0F8"
             },
             "line": {
              "color": "white"
             }
            },
            "header": {
             "fill": {
              "color": "#C8D4E3"
             },
             "line": {
              "color": "white"
             }
            },
            "type": "table"
           }
          ]
         },
         "layout": {
          "annotationdefaults": {
           "arrowcolor": "#2a3f5f",
           "arrowhead": 0,
           "arrowwidth": 1
          },
          "coloraxis": {
           "colorbar": {
            "outlinewidth": 0,
            "ticks": ""
           }
          },
          "colorscale": {
           "diverging": [
            [
             0,
             "#8e0152"
            ],
            [
             0.1,
             "#c51b7d"
            ],
            [
             0.2,
             "#de77ae"
            ],
            [
             0.3,
             "#f1b6da"
            ],
            [
             0.4,
             "#fde0ef"
            ],
            [
             0.5,
             "#f7f7f7"
            ],
            [
             0.6,
             "#e6f5d0"
            ],
            [
             0.7,
             "#b8e186"
            ],
            [
             0.8,
             "#7fbc41"
            ],
            [
             0.9,
             "#4d9221"
            ],
            [
             1,
             "#276419"
            ]
           ],
           "sequential": [
            [
             0,
             "#0d0887"
            ],
            [
             0.1111111111111111,
             "#46039f"
            ],
            [
             0.2222222222222222,
             "#7201a8"
            ],
            [
             0.3333333333333333,
             "#9c179e"
            ],
            [
             0.4444444444444444,
             "#bd3786"
            ],
            [
             0.5555555555555556,
             "#d8576b"
            ],
            [
             0.6666666666666666,
             "#ed7953"
            ],
            [
             0.7777777777777778,
             "#fb9f3a"
            ],
            [
             0.8888888888888888,
             "#fdca26"
            ],
            [
             1,
             "#f0f921"
            ]
           ],
           "sequentialminus": [
            [
             0,
             "#0d0887"
            ],
            [
             0.1111111111111111,
             "#46039f"
            ],
            [
             0.2222222222222222,
             "#7201a8"
            ],
            [
             0.3333333333333333,
             "#9c179e"
            ],
            [
             0.4444444444444444,
             "#bd3786"
            ],
            [
             0.5555555555555556,
             "#d8576b"
            ],
            [
             0.6666666666666666,
             "#ed7953"
            ],
            [
             0.7777777777777778,
             "#fb9f3a"
            ],
            [
             0.8888888888888888,
             "#fdca26"
            ],
            [
             1,
             "#f0f921"
            ]
           ]
          },
          "colorway": [
           "#636efa",
           "#EF553B",
           "#00cc96",
           "#ab63fa",
           "#FFA15A",
           "#19d3f3",
           "#FF6692",
           "#B6E880",
           "#FF97FF",
           "#FECB52"
          ],
          "font": {
           "color": "#2a3f5f"
          },
          "geo": {
           "bgcolor": "white",
           "lakecolor": "white",
           "landcolor": "#E5ECF6",
           "showlakes": true,
           "showland": true,
           "subunitcolor": "white"
          },
          "hoverlabel": {
           "align": "left"
          },
          "hovermode": "closest",
          "mapbox": {
           "style": "light"
          },
          "paper_bgcolor": "white",
          "plot_bgcolor": "#E5ECF6",
          "polar": {
           "angularaxis": {
            "gridcolor": "white",
            "linecolor": "white",
            "ticks": ""
           },
           "bgcolor": "#E5ECF6",
           "radialaxis": {
            "gridcolor": "white",
            "linecolor": "white",
            "ticks": ""
           }
          },
          "scene": {
           "xaxis": {
            "backgroundcolor": "#E5ECF6",
            "gridcolor": "white",
            "gridwidth": 2,
            "linecolor": "white",
            "showbackground": true,
            "ticks": "",
            "zerolinecolor": "white"
           },
           "yaxis": {
            "backgroundcolor": "#E5ECF6",
            "gridcolor": "white",
            "gridwidth": 2,
            "linecolor": "white",
            "showbackground": true,
            "ticks": "",
            "zerolinecolor": "white"
           },
           "zaxis": {
            "backgroundcolor": "#E5ECF6",
            "gridcolor": "white",
            "gridwidth": 2,
            "linecolor": "white",
            "showbackground": true,
            "ticks": "",
            "zerolinecolor": "white"
           }
          },
          "shapedefaults": {
           "line": {
            "color": "#2a3f5f"
           }
          },
          "ternary": {
           "aaxis": {
            "gridcolor": "white",
            "linecolor": "white",
            "ticks": ""
           },
           "baxis": {
            "gridcolor": "white",
            "linecolor": "white",
            "ticks": ""
           },
           "bgcolor": "#E5ECF6",
           "caxis": {
            "gridcolor": "white",
            "linecolor": "white",
            "ticks": ""
           }
          },
          "title": {
           "x": 0.05
          },
          "xaxis": {
           "automargin": true,
           "gridcolor": "white",
           "linecolor": "white",
           "ticks": "",
           "title": {
            "standoff": 15
           },
           "zerolinecolor": "white",
           "zerolinewidth": 2
          },
          "yaxis": {
           "automargin": true,
           "gridcolor": "white",
           "linecolor": "white",
           "ticks": "",
           "title": {
            "standoff": 15
           },
           "zerolinecolor": "white",
           "zerolinewidth": 2
          }
         }
        },
        "title": {
         "text": "3h 期间预测收益率信息系数(IC)"
        },
        "xaxis": {
         "anchor": "y",
         "domain": [
          0,
          1
         ],
         "tickformat": "%m月%d日<br>%Y年"
        },
        "yaxis": {
         "anchor": "x",
         "domain": [
          0,
          1
         ],
         "range": [
          null,
          null
         ]
        }
       }
      },
      "text/html": "<div>\n        \n        \n            <div id=\"ae3aea61-ef8f-410c-ba70-bedbd702b7b1\" class=\"plotly-graph-div\" style=\"height:525px; width:100%;\"></div>\n            <script type=\"text/javascript\">\n                require([\"plotly\"], function(Plotly) {\n                    window.PLOTLYENV=window.PLOTLYENV || {};\n                    \n                if (document.getElementById(\"ae3aea61-ef8f-410c-ba70-bedbd702b7b1\")) {\n                    Plotly.newPlot(\n                        'ae3aea61-ef8f-410c-ba70-bedbd702b7b1',\n                        [{\"line\": {\"color\": \"steelblue\", \"width\": 0.7}, \"name\": \"IC\", \"opacity\": 0.7, \"type\": \"scatter\", \"x\": [\"2015-01-15T09:30:00\", \"2015-01-16T09:30:00\", \"2015-01-17T09:30:00\", \"2015-01-18T09:30:00\", \"2015-01-19T09:30:00\", \"2015-01-20T09:30:00\", \"2015-01-21T09:30:00\", \"2015-01-22T09:30:00\", \"2015-01-23T09:30:00\", \"2015-01-24T09:30:00\", \"2015-01-25T09:30:00\", \"2015-01-26T09:30:00\", \"2015-01-27T09:30:00\", \"2015-01-28T09:30:00\", \"2015-01-29T09:30:00\", \"2015-01-30T09:30:00\", \"2015-01-31T09:30:00\", \"2015-02-01T09:30:00\", \"2015-02-02T09:30:00\", \"2015-02-03T09:30:00\", \"2015-02-04T09:30:00\", \"2015-02-05T09:30:00\", \"2015-02-06T09:30:00\", \"2015-02-07T09:30:00\", \"2015-02-08T09:30:00\", \"2015-02-09T09:30:00\", \"2015-02-10T09:30:00\", \"2015-02-11T09:30:00\", \"2015-02-12T09:30:00\", \"2015-02-13T09:30:00\"], \"y\": [0.7745966692414834, 0.2581988897471611, null, 0.2581988897471611, null, -0.2581988897471611, -0.2581988897471611, -0.2581988897471611, null, -0.7745966692414834, -0.2581988897471611, 0.2581988897471611, -0.316227766016838, -0.7745966692414834, -0.2581988897471611, null, 0.8944271909999159, 0.2581988897471611, 0.2581988897471611, null, 0.2581988897471611, -0.8944271909999159, -0.7745966692414834, 0.2581988897471611, null, -0.316227766016838, -0.7745966692414834, 0.2581988897471611, -0.316227766016838, null]}, {\"line\": {\"color\": \"forestgreen\", \"width\": 2}, \"name\": \"\\u4e00\\u4e2a\\u6708\\u79fb\\u52a8\\u5e73\\u5747\", \"opacity\": 0.8, \"type\": \"scatter\", \"x\": [], \"y\": []}, {\"line\": {\"color\": \"black\", \"dash\": \"dash\", \"width\": 1}, \"name\": \"\\u57fa\\u51c6\", \"opacity\": 0.8, \"type\": \"scatter\", \"x\": [\"2015-01-15T09:30:00\", \"2015-02-13T09:30:00\"], \"y\": [0.0, 0.0]}],\n                        {\"annotations\": [{\"font\": {\"size\": 16}, \"showarrow\": false, \"text\": \"IC\", \"textangle\": -90, \"x\": 0, \"xanchor\": \"right\", \"xref\": \"paper\", \"xshift\": -40, \"y\": 0.5, \"yanchor\": \"middle\", \"yref\": \"paper\"}, {\"align\": \"center\", \"opacity\": 0.8, \"showarrow\": false, \"text\": \"\\u5747\\u503c -0.109 \\n \\u6807\\u51c6\\u5dee 0.500\", \"x\": 0.05, \"xref\": \"paper\", \"y\": 0.95, \"yref\": \"paper\"}], \"template\": {\"data\": {\"bar\": [{\"error_x\": {\"color\": \"#2a3f5f\"}, \"error_y\": {\"color\": \"#2a3f5f\"}, \"marker\": {\"line\": {\"color\": \"#E5ECF6\", \"width\": 0.5}}, \"type\": \"bar\"}], \"barpolar\": [{\"marker\": {\"line\": {\"color\": \"#E5ECF6\", \"width\": 0.5}}, \"type\": \"barpolar\"}], \"carpet\": [{\"aaxis\": {\"endlinecolor\": \"#2a3f5f\", \"gridcolor\": \"white\", \"linecolor\": \"white\", \"minorgridcolor\": \"white\", \"startlinecolor\": \"#2a3f5f\"}, \"baxis\": {\"endlinecolor\": \"#2a3f5f\", \"gridcolor\": \"white\", \"linecolor\": \"white\", \"minorgridcolor\": \"white\", \"startlinecolor\": \"#2a3f5f\"}, \"type\": \"carpet\"}], \"choropleth\": [{\"colorbar\": {\"outlinewidth\": 0, \"ticks\": \"\"}, \"type\": \"choropleth\"}], \"contour\": [{\"colorbar\": {\"outlinewidth\": 0, \"ticks\": \"\"}, \"colorscale\": [[0.0, \"#0d0887\"], [0.1111111111111111, \"#46039f\"], [0.2222222222222222, \"#7201a8\"], [0.3333333333333333, \"#9c179e\"], [0.4444444444444444, \"#bd3786\"], [0.5555555555555556, \"#d8576b\"], [0.6666666666666666, \"#ed7953\"], [0.7777777777777778, \"#fb9f3a\"], [0.8888888888888888, \"#fdca26\"], [1.0, \"#f0f921\"]], \"type\": \"contour\"}], \"contourcarpet\": [{\"colorbar\": {\"outlinewidth\": 0, \"ticks\": \"\"}, \"type\": \"contourcarpet\"}], \"heatmap\": [{\"colorbar\": {\"outlinewidth\": 0, \"ticks\": \"\"}, \"colorscale\": [[0.0, \"#0d0887\"], [0.1111111111111111, \"#46039f\"], [0.2222222222222222, \"#7201a8\"], [0.3333333333333333, \"#9c179e\"], [0.4444444444444444, \"#bd3786\"], [0.5555555555555556, \"#d8576b\"], [0.6666666666666666, \"#ed7953\"], [0.7777777777777778, \"#fb9f3a\"], [0.8888888888888888, \"#fdca26\"], [1.0, \"#f0f921\"]], \"type\": \"heatmap\"}], \"heatmapgl\": [{\"colorbar\": {\"outlinewidth\": 0, \"ticks\": \"\"}, \"colorscale\": [[0.0, \"#0d0887\"], [0.1111111111111111, \"#46039f\"], [0.2222222222222222, \"#7201a8\"], [0.3333333333333333, \"#9c179e\"], [0.4444444444444444, \"#bd3786\"], [0.5555555555555556, \"#d8576b\"], [0.6666666666666666, \"#ed7953\"], [0.7777777777777778, \"#fb9f3a\"], [0.8888888888888888, \"#fdca26\"], [1.0, \"#f0f921\"]], \"type\": \"heatmapgl\"}], \"histogram\": [{\"marker\": {\"colorbar\": {\"outlinewidth\": 0, \"ticks\": \"\"}}, \"type\": \"histogram\"}], \"histogram2d\": [{\"colorbar\": {\"outlinewidth\": 0, \"ticks\": \"\"}, \"colorscale\": [[0.0, \"#0d0887\"], [0.1111111111111111, \"#46039f\"], [0.2222222222222222, \"#7201a8\"], [0.3333333333333333, \"#9c179e\"], [0.4444444444444444, \"#bd3786\"], [0.5555555555555556, \"#d8576b\"], [0.6666666666666666, \"#ed7953\"], [0.7777777777777778, \"#fb9f3a\"], [0.8888888888888888, \"#fdca26\"], [1.0, \"#f0f921\"]], \"type\": \"histogram2d\"}], \"histogram2dcontour\": [{\"colorbar\": {\"outlinewidth\": 0, \"ticks\": \"\"}, \"colorscale\": [[0.0, \"#0d0887\"], [0.1111111111111111, \"#46039f\"], [0.2222222222222222, \"#7201a8\"], [0.3333333333333333, \"#9c179e\"], [0.4444444444444444, \"#bd3786\"], [0.5555555555555556, \"#d8576b\"], [0.6666666666666666, \"#ed7953\"], [0.7777777777777778, \"#fb9f3a\"], [0.8888888888888888, \"#fdca26\"], [1.0, \"#f0f921\"]], \"type\": \"histogram2dcontour\"}], \"mesh3d\": [{\"colorbar\": {\"outlinewidth\": 0, \"ticks\": \"\"}, \"type\": \"mesh3d\"}], \"parcoords\": [{\"line\": {\"colorbar\": {\"outlinewidth\": 0, \"ticks\": \"\"}}, \"type\": \"parcoords\"}], \"pie\": [{\"automargin\": true, \"type\": \"pie\"}], \"scatter\": [{\"marker\": {\"colorbar\": {\"outlinewidth\": 0, \"ticks\": \"\"}}, \"type\": \"scatter\"}], \"scatter3d\": [{\"line\": {\"colorbar\": {\"outlinewidth\": 0, \"ticks\": \"\"}}, \"marker\": {\"colorbar\": {\"outlinewidth\": 0, \"ticks\": \"\"}}, \"type\": \"scatter3d\"}], \"scattercarpet\": [{\"marker\": {\"colorbar\": {\"outlinewidth\": 0, \"ticks\": \"\"}}, \"type\": \"scattercarpet\"}], \"scattergeo\": [{\"marker\": {\"colorbar\": {\"outlinewidth\": 0, \"ticks\": \"\"}}, \"type\": \"scattergeo\"}], \"scattergl\": [{\"marker\": {\"colorbar\": {\"outlinewidth\": 0, \"ticks\": \"\"}}, \"type\": \"scattergl\"}], \"scattermapbox\": [{\"marker\": {\"colorbar\": {\"outlinewidth\": 0, \"ticks\": \"\"}}, \"type\": \"scattermapbox\"}], \"scatterpolar\": [{\"marker\": {\"colorbar\": {\"outlinewidth\": 0, \"ticks\": \"\"}}, \"type\": \"scatterpolar\"}], \"scatterpolargl\": [{\"marker\": {\"colorbar\": {\"outlinewidth\": 0, \"ticks\": \"\"}}, \"type\": \"scatterpolargl\"}], \"scatterternary\": [{\"marker\": {\"colorbar\": {\"outlinewidth\": 0, \"ticks\": \"\"}}, \"type\": \"scatterternary\"}], \"surface\": [{\"colorbar\": {\"outlinewidth\": 0, \"ticks\": \"\"}, \"colorscale\": [[0.0, \"#0d0887\"], [0.1111111111111111, \"#46039f\"], [0.2222222222222222, \"#7201a8\"], [0.3333333333333333, \"#9c179e\"], [0.4444444444444444, \"#bd3786\"], [0.5555555555555556, \"#d8576b\"], [0.6666666666666666, \"#ed7953\"], [0.7777777777777778, \"#fb9f3a\"], [0.8888888888888888, \"#fdca26\"], [1.0, \"#f0f921\"]], \"type\": \"surface\"}], \"table\": [{\"cells\": {\"fill\": {\"color\": \"#EBF0F8\"}, \"line\": {\"color\": \"white\"}}, \"header\": {\"fill\": {\"color\": \"#C8D4E3\"}, \"line\": {\"color\": \"white\"}}, \"type\": \"table\"}]}, \"layout\": {\"annotationdefaults\": {\"arrowcolor\": \"#2a3f5f\", \"arrowhead\": 0, \"arrowwidth\": 1}, \"coloraxis\": {\"colorbar\": {\"outlinewidth\": 0, \"ticks\": \"\"}}, \"colorscale\": {\"diverging\": [[0, \"#8e0152\"], [0.1, \"#c51b7d\"], [0.2, \"#de77ae\"], [0.3, \"#f1b6da\"], [0.4, \"#fde0ef\"], [0.5, \"#f7f7f7\"], [0.6, \"#e6f5d0\"], [0.7, \"#b8e186\"], [0.8, \"#7fbc41\"], [0.9, \"#4d9221\"], [1, \"#276419\"]], \"sequential\": [[0.0, \"#0d0887\"], [0.1111111111111111, \"#46039f\"], [0.2222222222222222, \"#7201a8\"], [0.3333333333333333, \"#9c179e\"], [0.4444444444444444, \"#bd3786\"], [0.5555555555555556, \"#d8576b\"], [0.6666666666666666, \"#ed7953\"], [0.7777777777777778, \"#fb9f3a\"], [0.8888888888888888, \"#fdca26\"], [1.0, \"#f0f921\"]], \"sequentialminus\": [[0.0, \"#0d0887\"], [0.1111111111111111, \"#46039f\"], [0.2222222222222222, \"#7201a8\"], [0.3333333333333333, \"#9c179e\"], [0.4444444444444444, \"#bd3786\"], [0.5555555555555556, \"#d8576b\"], [0.6666666666666666, \"#ed7953\"], [0.7777777777777778, \"#fb9f3a\"], [0.8888888888888888, \"#fdca26\"], [1.0, \"#f0f921\"]]}, \"colorway\": [\"#636efa\", \"#EF553B\", \"#00cc96\", \"#ab63fa\", \"#FFA15A\", \"#19d3f3\", \"#FF6692\", \"#B6E880\", \"#FF97FF\", \"#FECB52\"], \"font\": {\"color\": \"#2a3f5f\"}, \"geo\": {\"bgcolor\": \"white\", \"lakecolor\": \"white\", \"landcolor\": \"#E5ECF6\", \"showlakes\": true, \"showland\": true, \"subunitcolor\": \"white\"}, \"hoverlabel\": {\"align\": \"left\"}, \"hovermode\": \"closest\", \"mapbox\": {\"style\": \"light\"}, \"paper_bgcolor\": \"white\", \"plot_bgcolor\": \"#E5ECF6\", \"polar\": {\"angularaxis\": {\"gridcolor\": \"white\", \"linecolor\": \"white\", \"ticks\": \"\"}, \"bgcolor\": \"#E5ECF6\", \"radialaxis\": {\"gridcolor\": \"white\", \"linecolor\": \"white\", \"ticks\": \"\"}}, \"scene\": {\"xaxis\": {\"backgroundcolor\": \"#E5ECF6\", \"gridcolor\": \"white\", \"gridwidth\": 2, \"linecolor\": \"white\", \"showbackground\": true, \"ticks\": \"\", \"zerolinecolor\": \"white\"}, \"yaxis\": {\"backgroundcolor\": \"#E5ECF6\", \"gridcolor\": \"white\", \"gridwidth\": 2, \"linecolor\": \"white\", \"showbackground\": true, \"ticks\": \"\", \"zerolinecolor\": \"white\"}, \"zaxis\": {\"backgroundcolor\": \"#E5ECF6\", \"gridcolor\": \"white\", \"gridwidth\": 2, \"linecolor\": \"white\", \"showbackground\": true, \"ticks\": \"\", \"zerolinecolor\": \"white\"}}, \"shapedefaults\": {\"line\": {\"color\": \"#2a3f5f\"}}, \"ternary\": {\"aaxis\": {\"gridcolor\": \"white\", \"linecolor\": \"white\", \"ticks\": \"\"}, \"baxis\": {\"gridcolor\": \"white\", \"linecolor\": \"white\", \"ticks\": \"\"}, \"bgcolor\": \"#E5ECF6\", \"caxis\": {\"gridcolor\": \"white\", \"linecolor\": \"white\", \"ticks\": \"\"}}, \"title\": {\"x\": 0.05}, \"xaxis\": {\"automargin\": true, \"gridcolor\": \"white\", \"linecolor\": \"white\", \"ticks\": \"\", \"title\": {\"standoff\": 15}, \"zerolinecolor\": \"white\", \"zerolinewidth\": 2}, \"yaxis\": {\"automargin\": true, \"gridcolor\": \"white\", \"linecolor\": \"white\", \"ticks\": \"\", \"title\": {\"standoff\": 15}, \"zerolinecolor\": \"white\", \"zerolinewidth\": 2}}}, \"title\": {\"text\": \"3h \\u671f\\u95f4\\u9884\\u6d4b\\u6536\\u76ca\\u7387\\u4fe1\\u606f\\u7cfb\\u6570(IC)\"}, \"xaxis\": {\"anchor\": \"y\", \"domain\": [0.0, 1.0], \"tickformat\": \"%m\\u6708%d\\u65e5<br>%Y\\u5e74\"}, \"yaxis\": {\"anchor\": \"x\", \"domain\": [0.0, 1.0], \"range\": [null, null]}},\n                        {\"responsive\": true}\n                    ).then(function(){\n                            \nvar gd = document.getElementById('ae3aea61-ef8f-410c-ba70-bedbd702b7b1');\nvar x = new MutationObserver(function (mutations, observer) {{\n        var display = window.getComputedStyle(gd).display;\n        if (!display || display === 'none') {{\n            console.log([gd, 'removed!']);\n            Plotly.purge(gd);\n            observer.disconnect();\n        }}\n}});\n\n// Listen for the removal of the full notebook cells\nvar notebookContainer = gd.closest('#notebook-container');\nif (notebookContainer) {{\n    x.observe(notebookContainer, {childList: true});\n}}\n\n// Listen for the clearing of the current output cell\nvar outputEl = gd.closest('.output');\nif (outputEl) {{\n    x.observe(outputEl, {childList: true});\n}}\n\n                        })\n                };\n                });\n            </script>\n        </div>"
     },
     "metadata": {}
    },
    {
     "output_type": "display_data",
     "data": {
      "application/vnd.plotly.v1+json": {
       "config": {
        "plotlyServerURL": "https://plot.ly"
       },
       "data": [
        {
         "line": {
          "color": "steelblue",
          "width": 0.7
         },
         "name": "IC",
         "opacity": 0.7,
         "type": "scatter",
         "x": [
          "2015-01-15T09:30:00",
          "2015-01-16T09:30:00",
          "2015-01-17T09:30:00",
          "2015-01-18T09:30:00",
          "2015-01-19T09:30:00",
          "2015-01-20T09:30:00",
          "2015-01-21T09:30:00",
          "2015-01-22T09:30:00",
          "2015-01-23T09:30:00",
          "2015-01-24T09:30:00",
          "2015-01-25T09:30:00",
          "2015-01-26T09:30:00",
          "2015-01-27T09:30:00",
          "2015-01-28T09:30:00",
          "2015-01-29T09:30:00",
          "2015-01-30T09:30:00",
          "2015-01-31T09:30:00",
          "2015-02-01T09:30:00",
          "2015-02-02T09:30:00",
          "2015-02-03T09:30:00",
          "2015-02-04T09:30:00",
          "2015-02-05T09:30:00",
          "2015-02-06T09:30:00",
          "2015-02-07T09:30:00",
          "2015-02-08T09:30:00",
          "2015-02-09T09:30:00",
          "2015-02-10T09:30:00",
          "2015-02-11T09:30:00",
          "2015-02-12T09:30:00",
          "2015-02-13T09:30:00"
         ],
         "y": [
          1,
          1,
          1,
          1,
          1,
          1,
          1,
          1,
          1,
          1,
          1,
          1,
          1,
          1,
          1,
          1,
          1,
          1,
          1,
          1,
          1,
          1,
          1,
          1,
          1,
          1,
          1,
          1,
          1,
          1
         ]
        },
        {
         "line": {
          "color": "forestgreen",
          "width": 2
         },
         "name": "一个月移动平均",
         "opacity": 0.8,
         "type": "scatter",
         "x": [
          "2015-02-05T09:30:00",
          "2015-02-06T09:30:00",
          "2015-02-07T09:30:00",
          "2015-02-08T09:30:00",
          "2015-02-09T09:30:00",
          "2015-02-10T09:30:00",
          "2015-02-11T09:30:00",
          "2015-02-12T09:30:00",
          "2015-02-13T09:30:00"
         ],
         "y": [
          1,
          1,
          1,
          1,
          1,
          1,
          1,
          1,
          1
         ]
        },
        {
         "line": {
          "color": "black",
          "dash": "dash",
          "width": 1
         },
         "name": "基准",
         "opacity": 0.8,
         "type": "scatter",
         "x": [
          "2015-01-15T09:30:00",
          "2015-02-13T09:30:00"
         ],
         "y": [
          0,
          0
         ]
        }
       ],
       "layout": {
        "annotations": [
         {
          "font": {
           "size": 16
          },
          "showarrow": false,
          "text": "IC",
          "textangle": -90,
          "x": 0,
          "xanchor": "right",
          "xref": "paper",
          "xshift": -40,
          "y": 0.5,
          "yanchor": "middle",
          "yref": "paper"
         },
         {
          "align": "center",
          "opacity": 0.8,
          "showarrow": false,
          "text": "均值 1.000 \n 标准差 0.000",
          "x": 0.05,
          "xref": "paper",
          "y": 0.95,
          "yref": "paper"
         }
        ],
        "template": {
         "data": {
          "bar": [
           {
            "error_x": {
             "color": "#2a3f5f"
            },
            "error_y": {
             "color": "#2a3f5f"
            },
            "marker": {
             "line": {
              "color": "#E5ECF6",
              "width": 0.5
             }
            },
            "type": "bar"
           }
          ],
          "barpolar": [
           {
            "marker": {
             "line": {
              "color": "#E5ECF6",
              "width": 0.5
             }
            },
            "type": "barpolar"
           }
          ],
          "carpet": [
           {
            "aaxis": {
             "endlinecolor": "#2a3f5f",
             "gridcolor": "white",
             "linecolor": "white",
             "minorgridcolor": "white",
             "startlinecolor": "#2a3f5f"
            },
            "baxis": {
             "endlinecolor": "#2a3f5f",
             "gridcolor": "white",
             "linecolor": "white",
             "minorgridcolor": "white",
             "startlinecolor": "#2a3f5f"
            },
            "type": "carpet"
           }
          ],
          "choropleth": [
           {
            "colorbar": {
             "outlinewidth": 0,
             "ticks": ""
            },
            "type": "choropleth"
           }
          ],
          "contour": [
           {
            "colorbar": {
             "outlinewidth": 0,
             "ticks": ""
            },
            "colorscale": [
             [
              0,
              "#0d0887"
             ],
             [
              0.1111111111111111,
              "#46039f"
             ],
             [
              0.2222222222222222,
              "#7201a8"
             ],
             [
              0.3333333333333333,
              "#9c179e"
             ],
             [
              0.4444444444444444,
              "#bd3786"
             ],
             [
              0.5555555555555556,
              "#d8576b"
             ],
             [
              0.6666666666666666,
              "#ed7953"
             ],
             [
              0.7777777777777778,
              "#fb9f3a"
             ],
             [
              0.8888888888888888,
              "#fdca26"
             ],
             [
              1,
              "#f0f921"
             ]
            ],
            "type": "contour"
           }
          ],
          "contourcarpet": [
           {
            "colorbar": {
             "outlinewidth": 0,
             "ticks": ""
            },
            "type": "contourcarpet"
           }
          ],
          "heatmap": [
           {
            "colorbar": {
             "outlinewidth": 0,
             "ticks": ""
            },
            "colorscale": [
             [
              0,
              "#0d0887"
             ],
             [
              0.1111111111111111,
              "#46039f"
             ],
             [
              0.2222222222222222,
              "#7201a8"
             ],
             [
              0.3333333333333333,
              "#9c179e"
             ],
             [
              0.4444444444444444,
              "#bd3786"
             ],
             [
              0.5555555555555556,
              "#d8576b"
             ],
             [
              0.6666666666666666,
              "#ed7953"
             ],
             [
              0.7777777777777778,
              "#fb9f3a"
             ],
             [
              0.8888888888888888,
              "#fdca26"
             ],
             [
              1,
              "#f0f921"
             ]
            ],
            "type": "heatmap"
           }
          ],
          "heatmapgl": [
           {
            "colorbar": {
             "outlinewidth": 0,
             "ticks": ""
            },
            "colorscale": [
             [
              0,
              "#0d0887"
             ],
             [
              0.1111111111111111,
              "#46039f"
             ],
             [
              0.2222222222222222,
              "#7201a8"
             ],
             [
              0.3333333333333333,
              "#9c179e"
             ],
             [
              0.4444444444444444,
              "#bd3786"
             ],
             [
              0.5555555555555556,
              "#d8576b"
             ],
             [
              0.6666666666666666,
              "#ed7953"
             ],
             [
              0.7777777777777778,
              "#fb9f3a"
             ],
             [
              0.8888888888888888,
              "#fdca26"
             ],
             [
              1,
              "#f0f921"
             ]
            ],
            "type": "heatmapgl"
           }
          ],
          "histogram": [
           {
            "marker": {
             "colorbar": {
              "outlinewidth": 0,
              "ticks": ""
             }
            },
            "type": "histogram"
           }
          ],
          "histogram2d": [
           {
            "colorbar": {
             "outlinewidth": 0,
             "ticks": ""
            },
            "colorscale": [
             [
              0,
              "#0d0887"
             ],
             [
              0.1111111111111111,
              "#46039f"
             ],
             [
              0.2222222222222222,
              "#7201a8"
             ],
             [
              0.3333333333333333,
              "#9c179e"
             ],
             [
              0.4444444444444444,
              "#bd3786"
             ],
             [
              0.5555555555555556,
              "#d8576b"
             ],
             [
              0.6666666666666666,
              "#ed7953"
             ],
             [
              0.7777777777777778,
              "#fb9f3a"
             ],
             [
              0.8888888888888888,
              "#fdca26"
             ],
             [
              1,
              "#f0f921"
             ]
            ],
            "type": "histogram2d"
           }
          ],
          "histogram2dcontour": [
           {
            "colorbar": {
             "outlinewidth": 0,
             "ticks": ""
            },
            "colorscale": [
             [
              0,
              "#0d0887"
             ],
             [
              0.1111111111111111,
              "#46039f"
             ],
             [
              0.2222222222222222,
              "#7201a8"
             ],
             [
              0.3333333333333333,
              "#9c179e"
             ],
             [
              0.4444444444444444,
              "#bd3786"
             ],
             [
              0.5555555555555556,
              "#d8576b"
             ],
             [
              0.6666666666666666,
              "#ed7953"
             ],
             [
              0.7777777777777778,
              "#fb9f3a"
             ],
             [
              0.8888888888888888,
              "#fdca26"
             ],
             [
              1,
              "#f0f921"
             ]
            ],
            "type": "histogram2dcontour"
           }
          ],
          "mesh3d": [
           {
            "colorbar": {
             "outlinewidth": 0,
             "ticks": ""
            },
            "type": "mesh3d"
           }
          ],
          "parcoords": [
           {
            "line": {
             "colorbar": {
              "outlinewidth": 0,
              "ticks": ""
             }
            },
            "type": "parcoords"
           }
          ],
          "pie": [
           {
            "automargin": true,
            "type": "pie"
           }
          ],
          "scatter": [
           {
            "marker": {
             "colorbar": {
              "outlinewidth": 0,
              "ticks": ""
             }
            },
            "type": "scatter"
           }
          ],
          "scatter3d": [
           {
            "line": {
             "colorbar": {
              "outlinewidth": 0,
              "ticks": ""
             }
            },
            "marker": {
             "colorbar": {
              "outlinewidth": 0,
              "ticks": ""
             }
            },
            "type": "scatter3d"
           }
          ],
          "scattercarpet": [
           {
            "marker": {
             "colorbar": {
              "outlinewidth": 0,
              "ticks": ""
             }
            },
            "type": "scattercarpet"
           }
          ],
          "scattergeo": [
           {
            "marker": {
             "colorbar": {
              "outlinewidth": 0,
              "ticks": ""
             }
            },
            "type": "scattergeo"
           }
          ],
          "scattergl": [
           {
            "marker": {
             "colorbar": {
              "outlinewidth": 0,
              "ticks": ""
             }
            },
            "type": "scattergl"
           }
          ],
          "scattermapbox": [
           {
            "marker": {
             "colorbar": {
              "outlinewidth": 0,
              "ticks": ""
             }
            },
            "type": "scattermapbox"
           }
          ],
          "scatterpolar": [
           {
            "marker": {
             "colorbar": {
              "outlinewidth": 0,
              "ticks": ""
             }
            },
            "type": "scatterpolar"
           }
          ],
          "scatterpolargl": [
           {
            "marker": {
             "colorbar": {
              "outlinewidth": 0,
              "ticks": ""
             }
            },
            "type": "scatterpolargl"
           }
          ],
          "scatterternary": [
           {
            "marker": {
             "colorbar": {
              "outlinewidth": 0,
              "ticks": ""
             }
            },
            "type": "scatterternary"
           }
          ],
          "surface": [
           {
            "colorbar": {
             "outlinewidth": 0,
             "ticks": ""
            },
            "colorscale": [
             [
              0,
              "#0d0887"
             ],
             [
              0.1111111111111111,
              "#46039f"
             ],
             [
              0.2222222222222222,
              "#7201a8"
             ],
             [
              0.3333333333333333,
              "#9c179e"
             ],
             [
              0.4444444444444444,
              "#bd3786"
             ],
             [
              0.5555555555555556,
              "#d8576b"
             ],
             [
              0.6666666666666666,
              "#ed7953"
             ],
             [
              0.7777777777777778,
              "#fb9f3a"
             ],
             [
              0.8888888888888888,
              "#fdca26"
             ],
             [
              1,
              "#f0f921"
             ]
            ],
            "type": "surface"
           }
          ],
          "table": [
           {
            "cells": {
             "fill": {
              "color": "#EBF0F8"
             },
             "line": {
              "color": "white"
             }
            },
            "header": {
             "fill": {
              "color": "#C8D4E3"
             },
             "line": {
              "color": "white"
             }
            },
            "type": "table"
           }
          ]
         },
         "layout": {
          "annotationdefaults": {
           "arrowcolor": "#2a3f5f",
           "arrowhead": 0,
           "arrowwidth": 1
          },
          "coloraxis": {
           "colorbar": {
            "outlinewidth": 0,
            "ticks": ""
           }
          },
          "colorscale": {
           "diverging": [
            [
             0,
             "#8e0152"
            ],
            [
             0.1,
             "#c51b7d"
            ],
            [
             0.2,
             "#de77ae"
            ],
            [
             0.3,
             "#f1b6da"
            ],
            [
             0.4,
             "#fde0ef"
            ],
            [
             0.5,
             "#f7f7f7"
            ],
            [
             0.6,
             "#e6f5d0"
            ],
            [
             0.7,
             "#b8e186"
            ],
            [
             0.8,
             "#7fbc41"
            ],
            [
             0.9,
             "#4d9221"
            ],
            [
             1,
             "#276419"
            ]
           ],
           "sequential": [
            [
             0,
             "#0d0887"
            ],
            [
             0.1111111111111111,
             "#46039f"
            ],
            [
             0.2222222222222222,
             "#7201a8"
            ],
            [
             0.3333333333333333,
             "#9c179e"
            ],
            [
             0.4444444444444444,
             "#bd3786"
            ],
            [
             0.5555555555555556,
             "#d8576b"
            ],
            [
             0.6666666666666666,
             "#ed7953"
            ],
            [
             0.7777777777777778,
             "#fb9f3a"
            ],
            [
             0.8888888888888888,
             "#fdca26"
            ],
            [
             1,
             "#f0f921"
            ]
           ],
           "sequentialminus": [
            [
             0,
             "#0d0887"
            ],
            [
             0.1111111111111111,
             "#46039f"
            ],
            [
             0.2222222222222222,
             "#7201a8"
            ],
            [
             0.3333333333333333,
             "#9c179e"
            ],
            [
             0.4444444444444444,
             "#bd3786"
            ],
            [
             0.5555555555555556,
             "#d8576b"
            ],
            [
             0.6666666666666666,
             "#ed7953"
            ],
            [
             0.7777777777777778,
             "#fb9f3a"
            ],
            [
             0.8888888888888888,
             "#fdca26"
            ],
            [
             1,
             "#f0f921"
            ]
           ]
          },
          "colorway": [
           "#636efa",
           "#EF553B",
           "#00cc96",
           "#ab63fa",
           "#FFA15A",
           "#19d3f3",
           "#FF6692",
           "#B6E880",
           "#FF97FF",
           "#FECB52"
          ],
          "font": {
           "color": "#2a3f5f"
          },
          "geo": {
           "bgcolor": "white",
           "lakecolor": "white",
           "landcolor": "#E5ECF6",
           "showlakes": true,
           "showland": true,
           "subunitcolor": "white"
          },
          "hoverlabel": {
           "align": "left"
          },
          "hovermode": "closest",
          "mapbox": {
           "style": "light"
          },
          "paper_bgcolor": "white",
          "plot_bgcolor": "#E5ECF6",
          "polar": {
           "angularaxis": {
            "gridcolor": "white",
            "linecolor": "white",
            "ticks": ""
           },
           "bgcolor": "#E5ECF6",
           "radialaxis": {
            "gridcolor": "white",
            "linecolor": "white",
            "ticks": ""
           }
          },
          "scene": {
           "xaxis": {
            "backgroundcolor": "#E5ECF6",
            "gridcolor": "white",
            "gridwidth": 2,
            "linecolor": "white",
            "showbackground": true,
            "ticks": "",
            "zerolinecolor": "white"
           },
           "yaxis": {
            "backgroundcolor": "#E5ECF6",
            "gridcolor": "white",
            "gridwidth": 2,
            "linecolor": "white",
            "showbackground": true,
            "ticks": "",
            "zerolinecolor": "white"
           },
           "zaxis": {
            "backgroundcolor": "#E5ECF6",
            "gridcolor": "white",
            "gridwidth": 2,
            "linecolor": "white",
            "showbackground": true,
            "ticks": "",
            "zerolinecolor": "white"
           }
          },
          "shapedefaults": {
           "line": {
            "color": "#2a3f5f"
           }
          },
          "ternary": {
           "aaxis": {
            "gridcolor": "white",
            "linecolor": "white",
            "ticks": ""
           },
           "baxis": {
            "gridcolor": "white",
            "linecolor": "white",
            "ticks": ""
           },
           "bgcolor": "#E5ECF6",
           "caxis": {
            "gridcolor": "white",
            "linecolor": "white",
            "ticks": ""
           }
          },
          "title": {
           "x": 0.05
          },
          "xaxis": {
           "automargin": true,
           "gridcolor": "white",
           "linecolor": "white",
           "ticks": "",
           "title": {
            "standoff": 15
           },
           "zerolinecolor": "white",
           "zerolinewidth": 2
          },
          "yaxis": {
           "automargin": true,
           "gridcolor": "white",
           "linecolor": "white",
           "ticks": "",
           "title": {
            "standoff": 15
           },
           "zerolinecolor": "white",
           "zerolinewidth": 2
          }
         }
        },
        "title": {
         "text": "1D 期间预测收益率信息系数(IC)"
        },
        "xaxis": {
         "anchor": "y",
         "domain": [
          0,
          1
         ],
         "tickformat": "%m月%d日<br>%Y年"
        },
        "yaxis": {
         "anchor": "x",
         "domain": [
          0,
          1
         ],
         "range": [
          null,
          null
         ]
        }
       }
      },
      "text/html": "<div>\n        \n        \n            <div id=\"5c16080e-26bb-4bd0-a24f-df7142ee1184\" class=\"plotly-graph-div\" style=\"height:525px; width:100%;\"></div>\n            <script type=\"text/javascript\">\n                require([\"plotly\"], function(Plotly) {\n                    window.PLOTLYENV=window.PLOTLYENV || {};\n                    \n                if (document.getElementById(\"5c16080e-26bb-4bd0-a24f-df7142ee1184\")) {\n                    Plotly.newPlot(\n                        '5c16080e-26bb-4bd0-a24f-df7142ee1184',\n                        [{\"line\": {\"color\": \"steelblue\", \"width\": 0.7}, \"name\": \"IC\", \"opacity\": 0.7, \"type\": \"scatter\", \"x\": [\"2015-01-15T09:30:00\", \"2015-01-16T09:30:00\", \"2015-01-17T09:30:00\", \"2015-01-18T09:30:00\", \"2015-01-19T09:30:00\", \"2015-01-20T09:30:00\", \"2015-01-21T09:30:00\", \"2015-01-22T09:30:00\", \"2015-01-23T09:30:00\", \"2015-01-24T09:30:00\", \"2015-01-25T09:30:00\", \"2015-01-26T09:30:00\", \"2015-01-27T09:30:00\", \"2015-01-28T09:30:00\", \"2015-01-29T09:30:00\", \"2015-01-30T09:30:00\", \"2015-01-31T09:30:00\", \"2015-02-01T09:30:00\", \"2015-02-02T09:30:00\", \"2015-02-03T09:30:00\", \"2015-02-04T09:30:00\", \"2015-02-05T09:30:00\", \"2015-02-06T09:30:00\", \"2015-02-07T09:30:00\", \"2015-02-08T09:30:00\", \"2015-02-09T09:30:00\", \"2015-02-10T09:30:00\", \"2015-02-11T09:30:00\", \"2015-02-12T09:30:00\", \"2015-02-13T09:30:00\"], \"y\": [1.0, 1.0, 1.0, 1.0, 1.0, 1.0, 1.0, 1.0, 1.0, 1.0, 1.0, 1.0, 1.0, 1.0, 1.0, 1.0, 1.0, 1.0, 1.0, 1.0, 1.0, 1.0, 1.0, 1.0, 1.0, 1.0, 1.0, 1.0, 1.0, 1.0]}, {\"line\": {\"color\": \"forestgreen\", \"width\": 2}, \"name\": \"\\u4e00\\u4e2a\\u6708\\u79fb\\u52a8\\u5e73\\u5747\", \"opacity\": 0.8, \"type\": \"scatter\", \"x\": [\"2015-02-05T09:30:00\", \"2015-02-06T09:30:00\", \"2015-02-07T09:30:00\", \"2015-02-08T09:30:00\", \"2015-02-09T09:30:00\", \"2015-02-10T09:30:00\", \"2015-02-11T09:30:00\", \"2015-02-12T09:30:00\", \"2015-02-13T09:30:00\"], \"y\": [1.0, 1.0, 1.0, 1.0, 1.0, 1.0, 1.0, 1.0, 1.0]}, {\"line\": {\"color\": \"black\", \"dash\": \"dash\", \"width\": 1}, \"name\": \"\\u57fa\\u51c6\", \"opacity\": 0.8, \"type\": \"scatter\", \"x\": [\"2015-01-15T09:30:00\", \"2015-02-13T09:30:00\"], \"y\": [0.0, 0.0]}],\n                        {\"annotations\": [{\"font\": {\"size\": 16}, \"showarrow\": false, \"text\": \"IC\", \"textangle\": -90, \"x\": 0, \"xanchor\": \"right\", \"xref\": \"paper\", \"xshift\": -40, \"y\": 0.5, \"yanchor\": \"middle\", \"yref\": \"paper\"}, {\"align\": \"center\", \"opacity\": 0.8, \"showarrow\": false, \"text\": \"\\u5747\\u503c 1.000 \\n \\u6807\\u51c6\\u5dee 0.000\", \"x\": 0.05, \"xref\": \"paper\", \"y\": 0.95, \"yref\": \"paper\"}], \"template\": {\"data\": {\"bar\": [{\"error_x\": {\"color\": \"#2a3f5f\"}, \"error_y\": {\"color\": \"#2a3f5f\"}, \"marker\": {\"line\": {\"color\": \"#E5ECF6\", \"width\": 0.5}}, \"type\": \"bar\"}], \"barpolar\": [{\"marker\": {\"line\": {\"color\": \"#E5ECF6\", \"width\": 0.5}}, \"type\": \"barpolar\"}], \"carpet\": [{\"aaxis\": {\"endlinecolor\": \"#2a3f5f\", \"gridcolor\": \"white\", \"linecolor\": \"white\", \"minorgridcolor\": \"white\", \"startlinecolor\": \"#2a3f5f\"}, \"baxis\": {\"endlinecolor\": \"#2a3f5f\", \"gridcolor\": \"white\", \"linecolor\": \"white\", \"minorgridcolor\": \"white\", \"startlinecolor\": \"#2a3f5f\"}, \"type\": \"carpet\"}], \"choropleth\": [{\"colorbar\": {\"outlinewidth\": 0, \"ticks\": \"\"}, \"type\": \"choropleth\"}], \"contour\": [{\"colorbar\": {\"outlinewidth\": 0, \"ticks\": \"\"}, \"colorscale\": [[0.0, \"#0d0887\"], [0.1111111111111111, \"#46039f\"], [0.2222222222222222, \"#7201a8\"], [0.3333333333333333, \"#9c179e\"], [0.4444444444444444, \"#bd3786\"], [0.5555555555555556, \"#d8576b\"], [0.6666666666666666, \"#ed7953\"], [0.7777777777777778, \"#fb9f3a\"], [0.8888888888888888, \"#fdca26\"], [1.0, \"#f0f921\"]], \"type\": \"contour\"}], \"contourcarpet\": [{\"colorbar\": {\"outlinewidth\": 0, \"ticks\": \"\"}, \"type\": \"contourcarpet\"}], \"heatmap\": [{\"colorbar\": {\"outlinewidth\": 0, \"ticks\": \"\"}, \"colorscale\": [[0.0, \"#0d0887\"], [0.1111111111111111, \"#46039f\"], [0.2222222222222222, \"#7201a8\"], [0.3333333333333333, \"#9c179e\"], [0.4444444444444444, \"#bd3786\"], [0.5555555555555556, \"#d8576b\"], [0.6666666666666666, \"#ed7953\"], [0.7777777777777778, \"#fb9f3a\"], [0.8888888888888888, \"#fdca26\"], [1.0, \"#f0f921\"]], \"type\": \"heatmap\"}], \"heatmapgl\": [{\"colorbar\": {\"outlinewidth\": 0, \"ticks\": \"\"}, \"colorscale\": [[0.0, \"#0d0887\"], [0.1111111111111111, \"#46039f\"], [0.2222222222222222, \"#7201a8\"], [0.3333333333333333, \"#9c179e\"], [0.4444444444444444, \"#bd3786\"], [0.5555555555555556, \"#d8576b\"], [0.6666666666666666, \"#ed7953\"], [0.7777777777777778, \"#fb9f3a\"], [0.8888888888888888, \"#fdca26\"], [1.0, \"#f0f921\"]], \"type\": \"heatmapgl\"}], \"histogram\": [{\"marker\": {\"colorbar\": {\"outlinewidth\": 0, \"ticks\": \"\"}}, \"type\": \"histogram\"}], \"histogram2d\": [{\"colorbar\": {\"outlinewidth\": 0, \"ticks\": \"\"}, \"colorscale\": [[0.0, \"#0d0887\"], [0.1111111111111111, \"#46039f\"], [0.2222222222222222, \"#7201a8\"], [0.3333333333333333, \"#9c179e\"], [0.4444444444444444, \"#bd3786\"], [0.5555555555555556, \"#d8576b\"], [0.6666666666666666, \"#ed7953\"], [0.7777777777777778, \"#fb9f3a\"], [0.8888888888888888, \"#fdca26\"], [1.0, \"#f0f921\"]], \"type\": \"histogram2d\"}], \"histogram2dcontour\": [{\"colorbar\": {\"outlinewidth\": 0, \"ticks\": \"\"}, \"colorscale\": [[0.0, \"#0d0887\"], [0.1111111111111111, \"#46039f\"], [0.2222222222222222, \"#7201a8\"], [0.3333333333333333, \"#9c179e\"], [0.4444444444444444, \"#bd3786\"], [0.5555555555555556, \"#d8576b\"], [0.6666666666666666, \"#ed7953\"], [0.7777777777777778, \"#fb9f3a\"], [0.8888888888888888, \"#fdca26\"], [1.0, \"#f0f921\"]], \"type\": \"histogram2dcontour\"}], \"mesh3d\": [{\"colorbar\": {\"outlinewidth\": 0, \"ticks\": \"\"}, \"type\": \"mesh3d\"}], \"parcoords\": [{\"line\": {\"colorbar\": {\"outlinewidth\": 0, \"ticks\": \"\"}}, \"type\": \"parcoords\"}], \"pie\": [{\"automargin\": true, \"type\": \"pie\"}], \"scatter\": [{\"marker\": {\"colorbar\": {\"outlinewidth\": 0, \"ticks\": \"\"}}, \"type\": \"scatter\"}], \"scatter3d\": [{\"line\": {\"colorbar\": {\"outlinewidth\": 0, \"ticks\": \"\"}}, \"marker\": {\"colorbar\": {\"outlinewidth\": 0, \"ticks\": \"\"}}, \"type\": \"scatter3d\"}], \"scattercarpet\": [{\"marker\": {\"colorbar\": {\"outlinewidth\": 0, \"ticks\": \"\"}}, \"type\": \"scattercarpet\"}], \"scattergeo\": [{\"marker\": {\"colorbar\": {\"outlinewidth\": 0, \"ticks\": \"\"}}, \"type\": \"scattergeo\"}], \"scattergl\": [{\"marker\": {\"colorbar\": {\"outlinewidth\": 0, \"ticks\": \"\"}}, \"type\": \"scattergl\"}], \"scattermapbox\": [{\"marker\": {\"colorbar\": {\"outlinewidth\": 0, \"ticks\": \"\"}}, \"type\": \"scattermapbox\"}], \"scatterpolar\": [{\"marker\": {\"colorbar\": {\"outlinewidth\": 0, \"ticks\": \"\"}}, \"type\": \"scatterpolar\"}], \"scatterpolargl\": [{\"marker\": {\"colorbar\": {\"outlinewidth\": 0, \"ticks\": \"\"}}, \"type\": \"scatterpolargl\"}], \"scatterternary\": [{\"marker\": {\"colorbar\": {\"outlinewidth\": 0, \"ticks\": \"\"}}, \"type\": \"scatterternary\"}], \"surface\": [{\"colorbar\": {\"outlinewidth\": 0, \"ticks\": \"\"}, \"colorscale\": [[0.0, \"#0d0887\"], [0.1111111111111111, \"#46039f\"], [0.2222222222222222, \"#7201a8\"], [0.3333333333333333, \"#9c179e\"], [0.4444444444444444, \"#bd3786\"], [0.5555555555555556, \"#d8576b\"], [0.6666666666666666, \"#ed7953\"], [0.7777777777777778, \"#fb9f3a\"], [0.8888888888888888, \"#fdca26\"], [1.0, \"#f0f921\"]], \"type\": \"surface\"}], \"table\": [{\"cells\": {\"fill\": {\"color\": \"#EBF0F8\"}, \"line\": {\"color\": \"white\"}}, \"header\": {\"fill\": {\"color\": \"#C8D4E3\"}, \"line\": {\"color\": \"white\"}}, \"type\": \"table\"}]}, \"layout\": {\"annotationdefaults\": {\"arrowcolor\": \"#2a3f5f\", \"arrowhead\": 0, \"arrowwidth\": 1}, \"coloraxis\": {\"colorbar\": {\"outlinewidth\": 0, \"ticks\": \"\"}}, \"colorscale\": {\"diverging\": [[0, \"#8e0152\"], [0.1, \"#c51b7d\"], [0.2, \"#de77ae\"], [0.3, \"#f1b6da\"], [0.4, \"#fde0ef\"], [0.5, \"#f7f7f7\"], [0.6, \"#e6f5d0\"], [0.7, \"#b8e186\"], [0.8, \"#7fbc41\"], [0.9, \"#4d9221\"], [1, \"#276419\"]], \"sequential\": [[0.0, \"#0d0887\"], [0.1111111111111111, \"#46039f\"], [0.2222222222222222, \"#7201a8\"], [0.3333333333333333, \"#9c179e\"], [0.4444444444444444, \"#bd3786\"], [0.5555555555555556, \"#d8576b\"], [0.6666666666666666, \"#ed7953\"], [0.7777777777777778, \"#fb9f3a\"], [0.8888888888888888, \"#fdca26\"], [1.0, \"#f0f921\"]], \"sequentialminus\": [[0.0, \"#0d0887\"], [0.1111111111111111, \"#46039f\"], [0.2222222222222222, \"#7201a8\"], [0.3333333333333333, \"#9c179e\"], [0.4444444444444444, \"#bd3786\"], [0.5555555555555556, \"#d8576b\"], [0.6666666666666666, \"#ed7953\"], [0.7777777777777778, \"#fb9f3a\"], [0.8888888888888888, \"#fdca26\"], [1.0, \"#f0f921\"]]}, \"colorway\": [\"#636efa\", \"#EF553B\", \"#00cc96\", \"#ab63fa\", \"#FFA15A\", \"#19d3f3\", \"#FF6692\", \"#B6E880\", \"#FF97FF\", \"#FECB52\"], \"font\": {\"color\": \"#2a3f5f\"}, \"geo\": {\"bgcolor\": \"white\", \"lakecolor\": \"white\", \"landcolor\": \"#E5ECF6\", \"showlakes\": true, \"showland\": true, \"subunitcolor\": \"white\"}, \"hoverlabel\": {\"align\": \"left\"}, \"hovermode\": \"closest\", \"mapbox\": {\"style\": \"light\"}, \"paper_bgcolor\": \"white\", \"plot_bgcolor\": \"#E5ECF6\", \"polar\": {\"angularaxis\": {\"gridcolor\": \"white\", \"linecolor\": \"white\", \"ticks\": \"\"}, \"bgcolor\": \"#E5ECF6\", \"radialaxis\": {\"gridcolor\": \"white\", \"linecolor\": \"white\", \"ticks\": \"\"}}, \"scene\": {\"xaxis\": {\"backgroundcolor\": \"#E5ECF6\", \"gridcolor\": \"white\", \"gridwidth\": 2, \"linecolor\": \"white\", \"showbackground\": true, \"ticks\": \"\", \"zerolinecolor\": \"white\"}, \"yaxis\": {\"backgroundcolor\": \"#E5ECF6\", \"gridcolor\": \"white\", \"gridwidth\": 2, \"linecolor\": \"white\", \"showbackground\": true, \"ticks\": \"\", \"zerolinecolor\": \"white\"}, \"zaxis\": {\"backgroundcolor\": \"#E5ECF6\", \"gridcolor\": \"white\", \"gridwidth\": 2, \"linecolor\": \"white\", \"showbackground\": true, \"ticks\": \"\", \"zerolinecolor\": \"white\"}}, \"shapedefaults\": {\"line\": {\"color\": \"#2a3f5f\"}}, \"ternary\": {\"aaxis\": {\"gridcolor\": \"white\", \"linecolor\": \"white\", \"ticks\": \"\"}, \"baxis\": {\"gridcolor\": \"white\", \"linecolor\": \"white\", \"ticks\": \"\"}, \"bgcolor\": \"#E5ECF6\", \"caxis\": {\"gridcolor\": \"white\", \"linecolor\": \"white\", \"ticks\": \"\"}}, \"title\": {\"x\": 0.05}, \"xaxis\": {\"automargin\": true, \"gridcolor\": \"white\", \"linecolor\": \"white\", \"ticks\": \"\", \"title\": {\"standoff\": 15}, \"zerolinecolor\": \"white\", \"zerolinewidth\": 2}, \"yaxis\": {\"automargin\": true, \"gridcolor\": \"white\", \"linecolor\": \"white\", \"ticks\": \"\", \"title\": {\"standoff\": 15}, \"zerolinecolor\": \"white\", \"zerolinewidth\": 2}}}, \"title\": {\"text\": \"1D \\u671f\\u95f4\\u9884\\u6d4b\\u6536\\u76ca\\u7387\\u4fe1\\u606f\\u7cfb\\u6570(IC)\"}, \"xaxis\": {\"anchor\": \"y\", \"domain\": [0.0, 1.0], \"tickformat\": \"%m\\u6708%d\\u65e5<br>%Y\\u5e74\"}, \"yaxis\": {\"anchor\": \"x\", \"domain\": [0.0, 1.0], \"range\": [null, null]}},\n                        {\"responsive\": true}\n                    ).then(function(){\n                            \nvar gd = document.getElementById('5c16080e-26bb-4bd0-a24f-df7142ee1184');\nvar x = new MutationObserver(function (mutations, observer) {{\n        var display = window.getComputedStyle(gd).display;\n        if (!display || display === 'none') {{\n            console.log([gd, 'removed!']);\n            Plotly.purge(gd);\n            observer.disconnect();\n        }}\n}});\n\n// Listen for the removal of the full notebook cells\nvar notebookContainer = gd.closest('#notebook-container');\nif (notebookContainer) {{\n    x.observe(notebookContainer, {childList: true});\n}}\n\n// Listen for the clearing of the current output cell\nvar outputEl = gd.closest('.output');\nif (outputEl) {{\n    x.observe(outputEl, {childList: true});\n}}\n\n                        })\n                };\n                });\n            </script>\n        </div>"
     },
     "metadata": {}
    },
    {
     "output_type": "display_data",
     "data": {
      "application/vnd.plotly.v1+json": {
       "config": {
        "plotlyServerURL": "https://plot.ly"
       },
       "data": [
        {
         "line": {
          "color": "steelblue",
          "width": 0.7
         },
         "name": "IC",
         "opacity": 0.7,
         "type": "scatter",
         "x": [
          "2015-01-15T09:30:00",
          "2015-01-16T09:30:00",
          "2015-01-17T09:30:00",
          "2015-01-18T09:30:00",
          "2015-01-19T09:30:00",
          "2015-01-20T09:30:00",
          "2015-01-21T09:30:00",
          "2015-01-22T09:30:00",
          "2015-01-23T09:30:00",
          "2015-01-24T09:30:00",
          "2015-01-25T09:30:00",
          "2015-01-26T09:30:00",
          "2015-01-27T09:30:00",
          "2015-01-28T09:30:00",
          "2015-01-29T09:30:00",
          "2015-01-30T09:30:00",
          "2015-01-31T09:30:00",
          "2015-02-01T09:30:00",
          "2015-02-02T09:30:00",
          "2015-02-03T09:30:00",
          "2015-02-04T09:30:00",
          "2015-02-05T09:30:00",
          "2015-02-06T09:30:00",
          "2015-02-07T09:30:00",
          "2015-02-08T09:30:00",
          "2015-02-09T09:30:00",
          "2015-02-10T09:30:00",
          "2015-02-11T09:30:00",
          "2015-02-12T09:30:00",
          "2015-02-13T09:30:00"
         ],
         "y": [
          1,
          1,
          1,
          1,
          1,
          1,
          1,
          1,
          1,
          1,
          1,
          1,
          1,
          1,
          1,
          1,
          1,
          1,
          1,
          1,
          1,
          1,
          1,
          1,
          1,
          1,
          1,
          1,
          1,
          1
         ]
        },
        {
         "line": {
          "color": "forestgreen",
          "width": 2
         },
         "name": "一个月移动平均",
         "opacity": 0.8,
         "type": "scatter",
         "x": [
          "2015-02-05T09:30:00",
          "2015-02-06T09:30:00",
          "2015-02-07T09:30:00",
          "2015-02-08T09:30:00",
          "2015-02-09T09:30:00",
          "2015-02-10T09:30:00",
          "2015-02-11T09:30:00",
          "2015-02-12T09:30:00",
          "2015-02-13T09:30:00"
         ],
         "y": [
          1,
          1,
          1,
          1,
          1,
          1,
          1,
          1,
          1
         ]
        },
        {
         "line": {
          "color": "black",
          "dash": "dash",
          "width": 1
         },
         "name": "基准",
         "opacity": 0.8,
         "type": "scatter",
         "x": [
          "2015-01-15T09:30:00",
          "2015-02-13T09:30:00"
         ],
         "y": [
          0,
          0
         ]
        }
       ],
       "layout": {
        "annotations": [
         {
          "font": {
           "size": 16
          },
          "showarrow": false,
          "text": "IC",
          "textangle": -90,
          "x": 0,
          "xanchor": "right",
          "xref": "paper",
          "xshift": -40,
          "y": 0.5,
          "yanchor": "middle",
          "yref": "paper"
         },
         {
          "align": "center",
          "opacity": 0.8,
          "showarrow": false,
          "text": "均值 1.000 \n 标准差 0.000",
          "x": 0.05,
          "xref": "paper",
          "y": 0.95,
          "yref": "paper"
         }
        ],
        "template": {
         "data": {
          "bar": [
           {
            "error_x": {
             "color": "#2a3f5f"
            },
            "error_y": {
             "color": "#2a3f5f"
            },
            "marker": {
             "line": {
              "color": "#E5ECF6",
              "width": 0.5
             }
            },
            "type": "bar"
           }
          ],
          "barpolar": [
           {
            "marker": {
             "line": {
              "color": "#E5ECF6",
              "width": 0.5
             }
            },
            "type": "barpolar"
           }
          ],
          "carpet": [
           {
            "aaxis": {
             "endlinecolor": "#2a3f5f",
             "gridcolor": "white",
             "linecolor": "white",
             "minorgridcolor": "white",
             "startlinecolor": "#2a3f5f"
            },
            "baxis": {
             "endlinecolor": "#2a3f5f",
             "gridcolor": "white",
             "linecolor": "white",
             "minorgridcolor": "white",
             "startlinecolor": "#2a3f5f"
            },
            "type": "carpet"
           }
          ],
          "choropleth": [
           {
            "colorbar": {
             "outlinewidth": 0,
             "ticks": ""
            },
            "type": "choropleth"
           }
          ],
          "contour": [
           {
            "colorbar": {
             "outlinewidth": 0,
             "ticks": ""
            },
            "colorscale": [
             [
              0,
              "#0d0887"
             ],
             [
              0.1111111111111111,
              "#46039f"
             ],
             [
              0.2222222222222222,
              "#7201a8"
             ],
             [
              0.3333333333333333,
              "#9c179e"
             ],
             [
              0.4444444444444444,
              "#bd3786"
             ],
             [
              0.5555555555555556,
              "#d8576b"
             ],
             [
              0.6666666666666666,
              "#ed7953"
             ],
             [
              0.7777777777777778,
              "#fb9f3a"
             ],
             [
              0.8888888888888888,
              "#fdca26"
             ],
             [
              1,
              "#f0f921"
             ]
            ],
            "type": "contour"
           }
          ],
          "contourcarpet": [
           {
            "colorbar": {
             "outlinewidth": 0,
             "ticks": ""
            },
            "type": "contourcarpet"
           }
          ],
          "heatmap": [
           {
            "colorbar": {
             "outlinewidth": 0,
             "ticks": ""
            },
            "colorscale": [
             [
              0,
              "#0d0887"
             ],
             [
              0.1111111111111111,
              "#46039f"
             ],
             [
              0.2222222222222222,
              "#7201a8"
             ],
             [
              0.3333333333333333,
              "#9c179e"
             ],
             [
              0.4444444444444444,
              "#bd3786"
             ],
             [
              0.5555555555555556,
              "#d8576b"
             ],
             [
              0.6666666666666666,
              "#ed7953"
             ],
             [
              0.7777777777777778,
              "#fb9f3a"
             ],
             [
              0.8888888888888888,
              "#fdca26"
             ],
             [
              1,
              "#f0f921"
             ]
            ],
            "type": "heatmap"
           }
          ],
          "heatmapgl": [
           {
            "colorbar": {
             "outlinewidth": 0,
             "ticks": ""
            },
            "colorscale": [
             [
              0,
              "#0d0887"
             ],
             [
              0.1111111111111111,
              "#46039f"
             ],
             [
              0.2222222222222222,
              "#7201a8"
             ],
             [
              0.3333333333333333,
              "#9c179e"
             ],
             [
              0.4444444444444444,
              "#bd3786"
             ],
             [
              0.5555555555555556,
              "#d8576b"
             ],
             [
              0.6666666666666666,
              "#ed7953"
             ],
             [
              0.7777777777777778,
              "#fb9f3a"
             ],
             [
              0.8888888888888888,
              "#fdca26"
             ],
             [
              1,
              "#f0f921"
             ]
            ],
            "type": "heatmapgl"
           }
          ],
          "histogram": [
           {
            "marker": {
             "colorbar": {
              "outlinewidth": 0,
              "ticks": ""
             }
            },
            "type": "histogram"
           }
          ],
          "histogram2d": [
           {
            "colorbar": {
             "outlinewidth": 0,
             "ticks": ""
            },
            "colorscale": [
             [
              0,
              "#0d0887"
             ],
             [
              0.1111111111111111,
              "#46039f"
             ],
             [
              0.2222222222222222,
              "#7201a8"
             ],
             [
              0.3333333333333333,
              "#9c179e"
             ],
             [
              0.4444444444444444,
              "#bd3786"
             ],
             [
              0.5555555555555556,
              "#d8576b"
             ],
             [
              0.6666666666666666,
              "#ed7953"
             ],
             [
              0.7777777777777778,
              "#fb9f3a"
             ],
             [
              0.8888888888888888,
              "#fdca26"
             ],
             [
              1,
              "#f0f921"
             ]
            ],
            "type": "histogram2d"
           }
          ],
          "histogram2dcontour": [
           {
            "colorbar": {
             "outlinewidth": 0,
             "ticks": ""
            },
            "colorscale": [
             [
              0,
              "#0d0887"
             ],
             [
              0.1111111111111111,
              "#46039f"
             ],
             [
              0.2222222222222222,
              "#7201a8"
             ],
             [
              0.3333333333333333,
              "#9c179e"
             ],
             [
              0.4444444444444444,
              "#bd3786"
             ],
             [
              0.5555555555555556,
              "#d8576b"
             ],
             [
              0.6666666666666666,
              "#ed7953"
             ],
             [
              0.7777777777777778,
              "#fb9f3a"
             ],
             [
              0.8888888888888888,
              "#fdca26"
             ],
             [
              1,
              "#f0f921"
             ]
            ],
            "type": "histogram2dcontour"
           }
          ],
          "mesh3d": [
           {
            "colorbar": {
             "outlinewidth": 0,
             "ticks": ""
            },
            "type": "mesh3d"
           }
          ],
          "parcoords": [
           {
            "line": {
             "colorbar": {
              "outlinewidth": 0,
              "ticks": ""
             }
            },
            "type": "parcoords"
           }
          ],
          "pie": [
           {
            "automargin": true,
            "type": "pie"
           }
          ],
          "scatter": [
           {
            "marker": {
             "colorbar": {
              "outlinewidth": 0,
              "ticks": ""
             }
            },
            "type": "scatter"
           }
          ],
          "scatter3d": [
           {
            "line": {
             "colorbar": {
              "outlinewidth": 0,
              "ticks": ""
             }
            },
            "marker": {
             "colorbar": {
              "outlinewidth": 0,
              "ticks": ""
             }
            },
            "type": "scatter3d"
           }
          ],
          "scattercarpet": [
           {
            "marker": {
             "colorbar": {
              "outlinewidth": 0,
              "ticks": ""
             }
            },
            "type": "scattercarpet"
           }
          ],
          "scattergeo": [
           {
            "marker": {
             "colorbar": {
              "outlinewidth": 0,
              "ticks": ""
             }
            },
            "type": "scattergeo"
           }
          ],
          "scattergl": [
           {
            "marker": {
             "colorbar": {
              "outlinewidth": 0,
              "ticks": ""
             }
            },
            "type": "scattergl"
           }
          ],
          "scattermapbox": [
           {
            "marker": {
             "colorbar": {
              "outlinewidth": 0,
              "ticks": ""
             }
            },
            "type": "scattermapbox"
           }
          ],
          "scatterpolar": [
           {
            "marker": {
             "colorbar": {
              "outlinewidth": 0,
              "ticks": ""
             }
            },
            "type": "scatterpolar"
           }
          ],
          "scatterpolargl": [
           {
            "marker": {
             "colorbar": {
              "outlinewidth": 0,
              "ticks": ""
             }
            },
            "type": "scatterpolargl"
           }
          ],
          "scatterternary": [
           {
            "marker": {
             "colorbar": {
              "outlinewidth": 0,
              "ticks": ""
             }
            },
            "type": "scatterternary"
           }
          ],
          "surface": [
           {
            "colorbar": {
             "outlinewidth": 0,
             "ticks": ""
            },
            "colorscale": [
             [
              0,
              "#0d0887"
             ],
             [
              0.1111111111111111,
              "#46039f"
             ],
             [
              0.2222222222222222,
              "#7201a8"
             ],
             [
              0.3333333333333333,
              "#9c179e"
             ],
             [
              0.4444444444444444,
              "#bd3786"
             ],
             [
              0.5555555555555556,
              "#d8576b"
             ],
             [
              0.6666666666666666,
              "#ed7953"
             ],
             [
              0.7777777777777778,
              "#fb9f3a"
             ],
             [
              0.8888888888888888,
              "#fdca26"
             ],
             [
              1,
              "#f0f921"
             ]
            ],
            "type": "surface"
           }
          ],
          "table": [
           {
            "cells": {
             "fill": {
              "color": "#EBF0F8"
             },
             "line": {
              "color": "white"
             }
            },
            "header": {
             "fill": {
              "color": "#C8D4E3"
             },
             "line": {
              "color": "white"
             }
            },
            "type": "table"
           }
          ]
         },
         "layout": {
          "annotationdefaults": {
           "arrowcolor": "#2a3f5f",
           "arrowhead": 0,
           "arrowwidth": 1
          },
          "coloraxis": {
           "colorbar": {
            "outlinewidth": 0,
            "ticks": ""
           }
          },
          "colorscale": {
           "diverging": [
            [
             0,
             "#8e0152"
            ],
            [
             0.1,
             "#c51b7d"
            ],
            [
             0.2,
             "#de77ae"
            ],
            [
             0.3,
             "#f1b6da"
            ],
            [
             0.4,
             "#fde0ef"
            ],
            [
             0.5,
             "#f7f7f7"
            ],
            [
             0.6,
             "#e6f5d0"
            ],
            [
             0.7,
             "#b8e186"
            ],
            [
             0.8,
             "#7fbc41"
            ],
            [
             0.9,
             "#4d9221"
            ],
            [
             1,
             "#276419"
            ]
           ],
           "sequential": [
            [
             0,
             "#0d0887"
            ],
            [
             0.1111111111111111,
             "#46039f"
            ],
            [
             0.2222222222222222,
             "#7201a8"
            ],
            [
             0.3333333333333333,
             "#9c179e"
            ],
            [
             0.4444444444444444,
             "#bd3786"
            ],
            [
             0.5555555555555556,
             "#d8576b"
            ],
            [
             0.6666666666666666,
             "#ed7953"
            ],
            [
             0.7777777777777778,
             "#fb9f3a"
            ],
            [
             0.8888888888888888,
             "#fdca26"
            ],
            [
             1,
             "#f0f921"
            ]
           ],
           "sequentialminus": [
            [
             0,
             "#0d0887"
            ],
            [
             0.1111111111111111,
             "#46039f"
            ],
            [
             0.2222222222222222,
             "#7201a8"
            ],
            [
             0.3333333333333333,
             "#9c179e"
            ],
            [
             0.4444444444444444,
             "#bd3786"
            ],
            [
             0.5555555555555556,
             "#d8576b"
            ],
            [
             0.6666666666666666,
             "#ed7953"
            ],
            [
             0.7777777777777778,
             "#fb9f3a"
            ],
            [
             0.8888888888888888,
             "#fdca26"
            ],
            [
             1,
             "#f0f921"
            ]
           ]
          },
          "colorway": [
           "#636efa",
           "#EF553B",
           "#00cc96",
           "#ab63fa",
           "#FFA15A",
           "#19d3f3",
           "#FF6692",
           "#B6E880",
           "#FF97FF",
           "#FECB52"
          ],
          "font": {
           "color": "#2a3f5f"
          },
          "geo": {
           "bgcolor": "white",
           "lakecolor": "white",
           "landcolor": "#E5ECF6",
           "showlakes": true,
           "showland": true,
           "subunitcolor": "white"
          },
          "hoverlabel": {
           "align": "left"
          },
          "hovermode": "closest",
          "mapbox": {
           "style": "light"
          },
          "paper_bgcolor": "white",
          "plot_bgcolor": "#E5ECF6",
          "polar": {
           "angularaxis": {
            "gridcolor": "white",
            "linecolor": "white",
            "ticks": ""
           },
           "bgcolor": "#E5ECF6",
           "radialaxis": {
            "gridcolor": "white",
            "linecolor": "white",
            "ticks": ""
           }
          },
          "scene": {
           "xaxis": {
            "backgroundcolor": "#E5ECF6",
            "gridcolor": "white",
            "gridwidth": 2,
            "linecolor": "white",
            "showbackground": true,
            "ticks": "",
            "zerolinecolor": "white"
           },
           "yaxis": {
            "backgroundcolor": "#E5ECF6",
            "gridcolor": "white",
            "gridwidth": 2,
            "linecolor": "white",
            "showbackground": true,
            "ticks": "",
            "zerolinecolor": "white"
           },
           "zaxis": {
            "backgroundcolor": "#E5ECF6",
            "gridcolor": "white",
            "gridwidth": 2,
            "linecolor": "white",
            "showbackground": true,
            "ticks": "",
            "zerolinecolor": "white"
           }
          },
          "shapedefaults": {
           "line": {
            "color": "#2a3f5f"
           }
          },
          "ternary": {
           "aaxis": {
            "gridcolor": "white",
            "linecolor": "white",
            "ticks": ""
           },
           "baxis": {
            "gridcolor": "white",
            "linecolor": "white",
            "ticks": ""
           },
           "bgcolor": "#E5ECF6",
           "caxis": {
            "gridcolor": "white",
            "linecolor": "white",
            "ticks": ""
           }
          },
          "title": {
           "x": 0.05
          },
          "xaxis": {
           "automargin": true,
           "gridcolor": "white",
           "linecolor": "white",
           "ticks": "",
           "title": {
            "standoff": 15
           },
           "zerolinecolor": "white",
           "zerolinewidth": 2
          },
          "yaxis": {
           "automargin": true,
           "gridcolor": "white",
           "linecolor": "white",
           "ticks": "",
           "title": {
            "standoff": 15
           },
           "zerolinecolor": "white",
           "zerolinewidth": 2
          }
         }
        },
        "title": {
         "text": "2D 期间预测收益率信息系数(IC)"
        },
        "xaxis": {
         "anchor": "y",
         "domain": [
          0,
          1
         ],
         "tickformat": "%m月%d日<br>%Y年"
        },
        "yaxis": {
         "anchor": "x",
         "domain": [
          0,
          1
         ],
         "range": [
          null,
          null
         ]
        }
       }
      },
      "text/html": "<div>\n        \n        \n            <div id=\"12906501-fc18-4d21-a097-525988d1c430\" class=\"plotly-graph-div\" style=\"height:525px; width:100%;\"></div>\n            <script type=\"text/javascript\">\n                require([\"plotly\"], function(Plotly) {\n                    window.PLOTLYENV=window.PLOTLYENV || {};\n                    \n                if (document.getElementById(\"12906501-fc18-4d21-a097-525988d1c430\")) {\n                    Plotly.newPlot(\n                        '12906501-fc18-4d21-a097-525988d1c430',\n                        [{\"line\": {\"color\": \"steelblue\", \"width\": 0.7}, \"name\": \"IC\", \"opacity\": 0.7, \"type\": \"scatter\", \"x\": [\"2015-01-15T09:30:00\", \"2015-01-16T09:30:00\", \"2015-01-17T09:30:00\", \"2015-01-18T09:30:00\", \"2015-01-19T09:30:00\", \"2015-01-20T09:30:00\", \"2015-01-21T09:30:00\", \"2015-01-22T09:30:00\", \"2015-01-23T09:30:00\", \"2015-01-24T09:30:00\", \"2015-01-25T09:30:00\", \"2015-01-26T09:30:00\", \"2015-01-27T09:30:00\", \"2015-01-28T09:30:00\", \"2015-01-29T09:30:00\", \"2015-01-30T09:30:00\", \"2015-01-31T09:30:00\", \"2015-02-01T09:30:00\", \"2015-02-02T09:30:00\", \"2015-02-03T09:30:00\", \"2015-02-04T09:30:00\", \"2015-02-05T09:30:00\", \"2015-02-06T09:30:00\", \"2015-02-07T09:30:00\", \"2015-02-08T09:30:00\", \"2015-02-09T09:30:00\", \"2015-02-10T09:30:00\", \"2015-02-11T09:30:00\", \"2015-02-12T09:30:00\", \"2015-02-13T09:30:00\"], \"y\": [1.0, 1.0, 1.0, 1.0, 1.0, 1.0, 1.0, 1.0, 1.0, 1.0, 1.0, 1.0, 1.0, 1.0, 1.0, 1.0, 1.0, 1.0, 1.0, 1.0, 1.0, 1.0, 1.0, 1.0, 1.0, 1.0, 1.0, 1.0, 1.0, 1.0]}, {\"line\": {\"color\": \"forestgreen\", \"width\": 2}, \"name\": \"\\u4e00\\u4e2a\\u6708\\u79fb\\u52a8\\u5e73\\u5747\", \"opacity\": 0.8, \"type\": \"scatter\", \"x\": [\"2015-02-05T09:30:00\", \"2015-02-06T09:30:00\", \"2015-02-07T09:30:00\", \"2015-02-08T09:30:00\", \"2015-02-09T09:30:00\", \"2015-02-10T09:30:00\", \"2015-02-11T09:30:00\", \"2015-02-12T09:30:00\", \"2015-02-13T09:30:00\"], \"y\": [1.0, 1.0, 1.0, 1.0, 1.0, 1.0, 1.0, 1.0, 1.0]}, {\"line\": {\"color\": \"black\", \"dash\": \"dash\", \"width\": 1}, \"name\": \"\\u57fa\\u51c6\", \"opacity\": 0.8, \"type\": \"scatter\", \"x\": [\"2015-01-15T09:30:00\", \"2015-02-13T09:30:00\"], \"y\": [0.0, 0.0]}],\n                        {\"annotations\": [{\"font\": {\"size\": 16}, \"showarrow\": false, \"text\": \"IC\", \"textangle\": -90, \"x\": 0, \"xanchor\": \"right\", \"xref\": \"paper\", \"xshift\": -40, \"y\": 0.5, \"yanchor\": \"middle\", \"yref\": \"paper\"}, {\"align\": \"center\", \"opacity\": 0.8, \"showarrow\": false, \"text\": \"\\u5747\\u503c 1.000 \\n \\u6807\\u51c6\\u5dee 0.000\", \"x\": 0.05, \"xref\": \"paper\", \"y\": 0.95, \"yref\": \"paper\"}], \"template\": {\"data\": {\"bar\": [{\"error_x\": {\"color\": \"#2a3f5f\"}, \"error_y\": {\"color\": \"#2a3f5f\"}, \"marker\": {\"line\": {\"color\": \"#E5ECF6\", \"width\": 0.5}}, \"type\": \"bar\"}], \"barpolar\": [{\"marker\": {\"line\": {\"color\": \"#E5ECF6\", \"width\": 0.5}}, \"type\": \"barpolar\"}], \"carpet\": [{\"aaxis\": {\"endlinecolor\": \"#2a3f5f\", \"gridcolor\": \"white\", \"linecolor\": \"white\", \"minorgridcolor\": \"white\", \"startlinecolor\": \"#2a3f5f\"}, \"baxis\": {\"endlinecolor\": \"#2a3f5f\", \"gridcolor\": \"white\", \"linecolor\": \"white\", \"minorgridcolor\": \"white\", \"startlinecolor\": \"#2a3f5f\"}, \"type\": \"carpet\"}], \"choropleth\": [{\"colorbar\": {\"outlinewidth\": 0, \"ticks\": \"\"}, \"type\": \"choropleth\"}], \"contour\": [{\"colorbar\": {\"outlinewidth\": 0, \"ticks\": \"\"}, \"colorscale\": [[0.0, \"#0d0887\"], [0.1111111111111111, \"#46039f\"], [0.2222222222222222, \"#7201a8\"], [0.3333333333333333, \"#9c179e\"], [0.4444444444444444, \"#bd3786\"], [0.5555555555555556, \"#d8576b\"], [0.6666666666666666, \"#ed7953\"], [0.7777777777777778, \"#fb9f3a\"], [0.8888888888888888, \"#fdca26\"], [1.0, \"#f0f921\"]], \"type\": \"contour\"}], \"contourcarpet\": [{\"colorbar\": {\"outlinewidth\": 0, \"ticks\": \"\"}, \"type\": \"contourcarpet\"}], \"heatmap\": [{\"colorbar\": {\"outlinewidth\": 0, \"ticks\": \"\"}, \"colorscale\": [[0.0, \"#0d0887\"], [0.1111111111111111, \"#46039f\"], [0.2222222222222222, \"#7201a8\"], [0.3333333333333333, \"#9c179e\"], [0.4444444444444444, \"#bd3786\"], [0.5555555555555556, \"#d8576b\"], [0.6666666666666666, \"#ed7953\"], [0.7777777777777778, \"#fb9f3a\"], [0.8888888888888888, \"#fdca26\"], [1.0, \"#f0f921\"]], \"type\": \"heatmap\"}], \"heatmapgl\": [{\"colorbar\": {\"outlinewidth\": 0, \"ticks\": \"\"}, \"colorscale\": [[0.0, \"#0d0887\"], [0.1111111111111111, \"#46039f\"], [0.2222222222222222, \"#7201a8\"], [0.3333333333333333, \"#9c179e\"], [0.4444444444444444, \"#bd3786\"], [0.5555555555555556, \"#d8576b\"], [0.6666666666666666, \"#ed7953\"], [0.7777777777777778, \"#fb9f3a\"], [0.8888888888888888, \"#fdca26\"], [1.0, \"#f0f921\"]], \"type\": \"heatmapgl\"}], \"histogram\": [{\"marker\": {\"colorbar\": {\"outlinewidth\": 0, \"ticks\": \"\"}}, \"type\": \"histogram\"}], \"histogram2d\": [{\"colorbar\": {\"outlinewidth\": 0, \"ticks\": \"\"}, \"colorscale\": [[0.0, \"#0d0887\"], [0.1111111111111111, \"#46039f\"], [0.2222222222222222, \"#7201a8\"], [0.3333333333333333, \"#9c179e\"], [0.4444444444444444, \"#bd3786\"], [0.5555555555555556, \"#d8576b\"], [0.6666666666666666, \"#ed7953\"], [0.7777777777777778, \"#fb9f3a\"], [0.8888888888888888, \"#fdca26\"], [1.0, \"#f0f921\"]], \"type\": \"histogram2d\"}], \"histogram2dcontour\": [{\"colorbar\": {\"outlinewidth\": 0, \"ticks\": \"\"}, \"colorscale\": [[0.0, \"#0d0887\"], [0.1111111111111111, \"#46039f\"], [0.2222222222222222, \"#7201a8\"], [0.3333333333333333, \"#9c179e\"], [0.4444444444444444, \"#bd3786\"], [0.5555555555555556, \"#d8576b\"], [0.6666666666666666, \"#ed7953\"], [0.7777777777777778, \"#fb9f3a\"], [0.8888888888888888, \"#fdca26\"], [1.0, \"#f0f921\"]], \"type\": \"histogram2dcontour\"}], \"mesh3d\": [{\"colorbar\": {\"outlinewidth\": 0, \"ticks\": \"\"}, \"type\": \"mesh3d\"}], \"parcoords\": [{\"line\": {\"colorbar\": {\"outlinewidth\": 0, \"ticks\": \"\"}}, \"type\": \"parcoords\"}], \"pie\": [{\"automargin\": true, \"type\": \"pie\"}], \"scatter\": [{\"marker\": {\"colorbar\": {\"outlinewidth\": 0, \"ticks\": \"\"}}, \"type\": \"scatter\"}], \"scatter3d\": [{\"line\": {\"colorbar\": {\"outlinewidth\": 0, \"ticks\": \"\"}}, \"marker\": {\"colorbar\": {\"outlinewidth\": 0, \"ticks\": \"\"}}, \"type\": \"scatter3d\"}], \"scattercarpet\": [{\"marker\": {\"colorbar\": {\"outlinewidth\": 0, \"ticks\": \"\"}}, \"type\": \"scattercarpet\"}], \"scattergeo\": [{\"marker\": {\"colorbar\": {\"outlinewidth\": 0, \"ticks\": \"\"}}, \"type\": \"scattergeo\"}], \"scattergl\": [{\"marker\": {\"colorbar\": {\"outlinewidth\": 0, \"ticks\": \"\"}}, \"type\": \"scattergl\"}], \"scattermapbox\": [{\"marker\": {\"colorbar\": {\"outlinewidth\": 0, \"ticks\": \"\"}}, \"type\": \"scattermapbox\"}], \"scatterpolar\": [{\"marker\": {\"colorbar\": {\"outlinewidth\": 0, \"ticks\": \"\"}}, \"type\": \"scatterpolar\"}], \"scatterpolargl\": [{\"marker\": {\"colorbar\": {\"outlinewidth\": 0, \"ticks\": \"\"}}, \"type\": \"scatterpolargl\"}], \"scatterternary\": [{\"marker\": {\"colorbar\": {\"outlinewidth\": 0, \"ticks\": \"\"}}, \"type\": \"scatterternary\"}], \"surface\": [{\"colorbar\": {\"outlinewidth\": 0, \"ticks\": \"\"}, \"colorscale\": [[0.0, \"#0d0887\"], [0.1111111111111111, \"#46039f\"], [0.2222222222222222, \"#7201a8\"], [0.3333333333333333, \"#9c179e\"], [0.4444444444444444, \"#bd3786\"], [0.5555555555555556, \"#d8576b\"], [0.6666666666666666, \"#ed7953\"], [0.7777777777777778, \"#fb9f3a\"], [0.8888888888888888, \"#fdca26\"], [1.0, \"#f0f921\"]], \"type\": \"surface\"}], \"table\": [{\"cells\": {\"fill\": {\"color\": \"#EBF0F8\"}, \"line\": {\"color\": \"white\"}}, \"header\": {\"fill\": {\"color\": \"#C8D4E3\"}, \"line\": {\"color\": \"white\"}}, \"type\": \"table\"}]}, \"layout\": {\"annotationdefaults\": {\"arrowcolor\": \"#2a3f5f\", \"arrowhead\": 0, \"arrowwidth\": 1}, \"coloraxis\": {\"colorbar\": {\"outlinewidth\": 0, \"ticks\": \"\"}}, \"colorscale\": {\"diverging\": [[0, \"#8e0152\"], [0.1, \"#c51b7d\"], [0.2, \"#de77ae\"], [0.3, \"#f1b6da\"], [0.4, \"#fde0ef\"], [0.5, \"#f7f7f7\"], [0.6, \"#e6f5d0\"], [0.7, \"#b8e186\"], [0.8, \"#7fbc41\"], [0.9, \"#4d9221\"], [1, \"#276419\"]], \"sequential\": [[0.0, \"#0d0887\"], [0.1111111111111111, \"#46039f\"], [0.2222222222222222, \"#7201a8\"], [0.3333333333333333, \"#9c179e\"], [0.4444444444444444, \"#bd3786\"], [0.5555555555555556, \"#d8576b\"], [0.6666666666666666, \"#ed7953\"], [0.7777777777777778, \"#fb9f3a\"], [0.8888888888888888, \"#fdca26\"], [1.0, \"#f0f921\"]], \"sequentialminus\": [[0.0, \"#0d0887\"], [0.1111111111111111, \"#46039f\"], [0.2222222222222222, \"#7201a8\"], [0.3333333333333333, \"#9c179e\"], [0.4444444444444444, \"#bd3786\"], [0.5555555555555556, \"#d8576b\"], [0.6666666666666666, \"#ed7953\"], [0.7777777777777778, \"#fb9f3a\"], [0.8888888888888888, \"#fdca26\"], [1.0, \"#f0f921\"]]}, \"colorway\": [\"#636efa\", \"#EF553B\", \"#00cc96\", \"#ab63fa\", \"#FFA15A\", \"#19d3f3\", \"#FF6692\", \"#B6E880\", \"#FF97FF\", \"#FECB52\"], \"font\": {\"color\": \"#2a3f5f\"}, \"geo\": {\"bgcolor\": \"white\", \"lakecolor\": \"white\", \"landcolor\": \"#E5ECF6\", \"showlakes\": true, \"showland\": true, \"subunitcolor\": \"white\"}, \"hoverlabel\": {\"align\": \"left\"}, \"hovermode\": \"closest\", \"mapbox\": {\"style\": \"light\"}, \"paper_bgcolor\": \"white\", \"plot_bgcolor\": \"#E5ECF6\", \"polar\": {\"angularaxis\": {\"gridcolor\": \"white\", \"linecolor\": \"white\", \"ticks\": \"\"}, \"bgcolor\": \"#E5ECF6\", \"radialaxis\": {\"gridcolor\": \"white\", \"linecolor\": \"white\", \"ticks\": \"\"}}, \"scene\": {\"xaxis\": {\"backgroundcolor\": \"#E5ECF6\", \"gridcolor\": \"white\", \"gridwidth\": 2, \"linecolor\": \"white\", \"showbackground\": true, \"ticks\": \"\", \"zerolinecolor\": \"white\"}, \"yaxis\": {\"backgroundcolor\": \"#E5ECF6\", \"gridcolor\": \"white\", \"gridwidth\": 2, \"linecolor\": \"white\", \"showbackground\": true, \"ticks\": \"\", \"zerolinecolor\": \"white\"}, \"zaxis\": {\"backgroundcolor\": \"#E5ECF6\", \"gridcolor\": \"white\", \"gridwidth\": 2, \"linecolor\": \"white\", \"showbackground\": true, \"ticks\": \"\", \"zerolinecolor\": \"white\"}}, \"shapedefaults\": {\"line\": {\"color\": \"#2a3f5f\"}}, \"ternary\": {\"aaxis\": {\"gridcolor\": \"white\", \"linecolor\": \"white\", \"ticks\": \"\"}, \"baxis\": {\"gridcolor\": \"white\", \"linecolor\": \"white\", \"ticks\": \"\"}, \"bgcolor\": \"#E5ECF6\", \"caxis\": {\"gridcolor\": \"white\", \"linecolor\": \"white\", \"ticks\": \"\"}}, \"title\": {\"x\": 0.05}, \"xaxis\": {\"automargin\": true, \"gridcolor\": \"white\", \"linecolor\": \"white\", \"ticks\": \"\", \"title\": {\"standoff\": 15}, \"zerolinecolor\": \"white\", \"zerolinewidth\": 2}, \"yaxis\": {\"automargin\": true, \"gridcolor\": \"white\", \"linecolor\": \"white\", \"ticks\": \"\", \"title\": {\"standoff\": 15}, \"zerolinecolor\": \"white\", \"zerolinewidth\": 2}}}, \"title\": {\"text\": \"2D \\u671f\\u95f4\\u9884\\u6d4b\\u6536\\u76ca\\u7387\\u4fe1\\u606f\\u7cfb\\u6570(IC)\"}, \"xaxis\": {\"anchor\": \"y\", \"domain\": [0.0, 1.0], \"tickformat\": \"%m\\u6708%d\\u65e5<br>%Y\\u5e74\"}, \"yaxis\": {\"anchor\": \"x\", \"domain\": [0.0, 1.0], \"range\": [null, null]}},\n                        {\"responsive\": true}\n                    ).then(function(){\n                            \nvar gd = document.getElementById('12906501-fc18-4d21-a097-525988d1c430');\nvar x = new MutationObserver(function (mutations, observer) {{\n        var display = window.getComputedStyle(gd).display;\n        if (!display || display === 'none') {{\n            console.log([gd, 'removed!']);\n            Plotly.purge(gd);\n            observer.disconnect();\n        }}\n}});\n\n// Listen for the removal of the full notebook cells\nvar notebookContainer = gd.closest('#notebook-container');\nif (notebookContainer) {{\n    x.observe(notebookContainer, {childList: true});\n}}\n\n// Listen for the clearing of the current output cell\nvar outputEl = gd.closest('.output');\nif (outputEl) {{\n    x.observe(outputEl, {childList: true});\n}}\n\n                        })\n                };\n                });\n            </script>\n        </div>"
     },
     "metadata": {}
    },
    {
     "output_type": "error",
     "ename": "TypeError",
     "evalue": "'NoneType' object is not subscriptable",
     "traceback": [
      "\u001b[1;31m---------------------------------------------------------------------------\u001b[0m",
      "\u001b[1;31mTypeError\u001b[0m                                 Traceback (most recent call last)",
      "\u001b[1;32m<ipython-input-25-2648a11874e3>\u001b[0m in \u001b[0;36m<module>\u001b[1;34m\u001b[0m\n\u001b[1;32m----> 1\u001b[1;33m \u001b[0mcreate_information_tear_sheet\u001b[0m\u001b[1;33m(\u001b[0m\u001b[0mfactor_data\u001b[0m\u001b[1;33m)\u001b[0m\u001b[1;33m\u001b[0m\u001b[1;33m\u001b[0m\u001b[0m\n\u001b[0m",
      "\u001b[1;32mc:\\users\\liudengfeng\\repos\\alphalens\\alphalens\\tears.py\u001b[0m in \u001b[0;36mcreate_information_tear_sheet\u001b[1;34m(factor_data, group_neutral, by_group)\u001b[0m\n\u001b[0;32m    300\u001b[0m     \u001b[1;31m# 分列绘制不同周期的IC图\u001b[0m\u001b[1;33m\u001b[0m\u001b[1;33m\u001b[0m\u001b[1;33m\u001b[0m\u001b[0m\n\u001b[0;32m    301\u001b[0m     \u001b[1;32mfor\u001b[0m \u001b[0mcol\u001b[0m \u001b[1;32min\u001b[0m \u001b[0mic\u001b[0m\u001b[1;33m.\u001b[0m\u001b[0mcolumns\u001b[0m\u001b[1;33m:\u001b[0m\u001b[1;33m\u001b[0m\u001b[1;33m\u001b[0m\u001b[0m\n\u001b[1;32m--> 302\u001b[1;33m         \u001b[0mplotting\u001b[0m\u001b[1;33m.\u001b[0m\u001b[0mplot_ic_hist_qq\u001b[0m\u001b[1;33m(\u001b[0m\u001b[0mic\u001b[0m\u001b[1;33m,\u001b[0m \u001b[0mcol\u001b[0m\u001b[1;33m)\u001b[0m\u001b[1;33m\u001b[0m\u001b[1;33m\u001b[0m\u001b[0m\n\u001b[0m\u001b[0;32m    303\u001b[0m \u001b[1;33m\u001b[0m\u001b[0m\n\u001b[0;32m    304\u001b[0m     \u001b[1;32mif\u001b[0m \u001b[1;32mnot\u001b[0m \u001b[0mby_group\u001b[0m\u001b[1;33m:\u001b[0m\u001b[1;33m\u001b[0m\u001b[1;33m\u001b[0m\u001b[0m\n",
      "\u001b[1;32mc:\\users\\liudengfeng\\repos\\alphalens\\alphalens\\plotting.py\u001b[0m in \u001b[0;36mplot_ic_hist_qq\u001b[1;34m(ic, period_num, theoretical_dist)\u001b[0m\n\u001b[0;32m    731\u001b[0m     fig.add_annotation(\n\u001b[0;32m    732\u001b[0m         \u001b[0mx\u001b[0m\u001b[1;33m=\u001b[0m\u001b[1;36m0.05\u001b[0m\u001b[1;33m*\u001b[0m\u001b[0mhist_fig\u001b[0m\u001b[1;33m.\u001b[0m\u001b[0mlayout\u001b[0m\u001b[1;33m.\u001b[0m\u001b[0mxaxis\u001b[0m\u001b[1;33m.\u001b[0m\u001b[0mrange\u001b[0m\u001b[1;33m[\u001b[0m\u001b[1;36m0\u001b[0m\u001b[1;33m]\u001b[0m\u001b[1;33m,\u001b[0m\u001b[1;33m\u001b[0m\u001b[1;33m\u001b[0m\u001b[0m\n\u001b[1;32m--> 733\u001b[1;33m         \u001b[0my\u001b[0m\u001b[1;33m=\u001b[0m\u001b[1;36m0.95\u001b[0m\u001b[1;33m*\u001b[0m\u001b[0mhist_fig\u001b[0m\u001b[1;33m.\u001b[0m\u001b[0mlayout\u001b[0m\u001b[1;33m.\u001b[0m\u001b[0myaxis\u001b[0m\u001b[1;33m.\u001b[0m\u001b[0mrange\u001b[0m\u001b[1;33m[\u001b[0m\u001b[1;36m1\u001b[0m\u001b[1;33m]\u001b[0m\u001b[1;33m,\u001b[0m\u001b[1;33m\u001b[0m\u001b[1;33m\u001b[0m\u001b[0m\n\u001b[0m\u001b[0;32m    734\u001b[0m         \u001b[1;31m# xref=\"paper\",\u001b[0m\u001b[1;33m\u001b[0m\u001b[1;33m\u001b[0m\u001b[1;33m\u001b[0m\u001b[0m\n\u001b[0;32m    735\u001b[0m         \u001b[1;31m# yref=\"paper\",\u001b[0m\u001b[1;33m\u001b[0m\u001b[1;33m\u001b[0m\u001b[1;33m\u001b[0m\u001b[0m\n",
      "\u001b[1;31mTypeError\u001b[0m: 'NoneType' object is not subscriptable"
     ]
    }
   ],
   "source": [
    "create_information_tear_sheet(factor_data)"
   ]
  },
  {
   "cell_type": "markdown",
   "metadata": {},
   "source": [
    "# `create_full_tear_sheet`"
   ]
  },
  {
   "cell_type": "code",
   "execution_count": null,
   "metadata": {
    "ExecuteTime": {
     "end_time": "2020-07-23T09:18:20.257407Z",
     "start_time": "2020-07-23T09:18:18.970411Z"
    },
    "scrolled": false
   },
   "outputs": [],
   "source": [
    "create_full_tear_sheet(factor_data, long_short=False, group_neutral=False, by_group=False)"
   ]
  },
  {
   "cell_type": "markdown",
   "metadata": {},
   "source": [
    "# `create_event_returns_tear_sheet`"
   ]
  },
  {
   "cell_type": "code",
   "execution_count": null,
   "metadata": {
    "ExecuteTime": {
     "end_time": "2020-07-23T09:18:20.273407Z",
     "start_time": "2020-07-23T09:18:20.258406Z"
    },
    "scrolled": false
   },
   "outputs": [],
   "source": [
    "# create_event_returns_tear_sheet(factor_data, prices, avgretplot=(3, 11),\n",
    "#                                 long_short=False, group_neutral=False, by_group=False)"
   ]
  },
  {
   "cell_type": "code",
   "execution_count": null,
   "metadata": {
    "ExecuteTime": {
     "end_time": "2020-07-23T09:18:20.289407Z",
     "start_time": "2020-07-23T09:18:20.274407Z"
    },
    "scrolled": true
   },
   "outputs": [],
   "source": [
    "# create_full_tear_sheet(factor_data, long_short=True, group_neutral=False, by_group=True)\n",
    "# create_event_returns_tear_sheet(factor_data, prices, avgretplot=(3, 11),\n",
    "#                                 long_short=True, group_neutral=False, by_group=True)"
   ]
  },
  {
   "cell_type": "code",
   "execution_count": null,
   "metadata": {
    "ExecuteTime": {
     "end_time": "2020-07-23T09:18:20.305406Z",
     "start_time": "2020-07-23T09:18:20.290407Z"
    },
    "scrolled": false
   },
   "outputs": [],
   "source": [
    "# create_full_tear_sheet(factor_data, long_short=True, group_neutral=True, by_group=True)\n",
    "# create_event_returns_tear_sheet(factor_data, prices, avgretplot=(3, 11),\n",
    "#                                 long_short=True, group_neutral=True, by_group=True)"
   ]
  }
 ],
 "metadata": {
  "kernelspec": {
   "display_name": "Python 3.7.7 64-bit ('zipline': conda)",
   "language": "python",
   "name": "python_defaultSpec_1595637162092"
  },
  "language_info": {
   "codemirror_mode": {
    "name": "ipython",
    "version": 3
   },
   "file_extension": ".py",
   "mimetype": "text/x-python",
   "name": "python",
   "nbconvert_exporter": "python",
   "pygments_lexer": "ipython3",
   "version": "3.7.7"
  },
  "toc": {
   "base_numbering": 1,
   "nav_menu": {},
   "number_sections": true,
   "sideBar": true,
   "skip_h1_title": false,
   "title_cell": "Table of Contents",
   "title_sidebar": "Contents",
   "toc_cell": false,
   "toc_position": {},
   "toc_section_display": true,
   "toc_window_display": true
  },
  "varInspector": {
   "cols": {
    "lenName": 16,
    "lenType": 16,
    "lenVar": 40
   },
   "kernels_config": {
    "python": {
     "delete_cmd_postfix": "",
     "delete_cmd_prefix": "del ",
     "library": "var_list.py",
     "varRefreshCmd": "print(var_dic_list())"
    },
    "r": {
     "delete_cmd_postfix": ") ",
     "delete_cmd_prefix": "rm(",
     "library": "var_list.r",
     "varRefreshCmd": "cat(var_dic_list()) "
    }
   },
   "types_to_exclude": [
    "module",
    "function",
    "builtin_function_or_method",
    "instance",
    "_Feature"
   ],
   "window_display": false
  }
 },
 "nbformat": 4,
 "nbformat_minor": 2
}